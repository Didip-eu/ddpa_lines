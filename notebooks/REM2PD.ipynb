{
 "cells": [
  {
   "cell_type": "markdown",
   "metadata": {},
   "source": [
    "# Middle High German Reference Corpus transformation"
   ]
  },
  {
   "cell_type": "code",
   "execution_count": 1,
   "metadata": {},
   "outputs": [],
   "source": [
    "from lxml import etree\n",
    "from pathlib import Path\n",
    "from pathlib import PurePosixPath\n",
    "import datetime\n",
    "import os\n",
    "import pandas as pd\n",
    "import re"
   ]
  },
  {
   "cell_type": "code",
   "execution_count": 2,
   "metadata": {},
   "outputs": [],
   "source": [
    "pd.set_option('display.max_colwidth', 0)"
   ]
  },
  {
   "cell_type": "code",
   "execution_count": 6,
   "metadata": {},
   "outputs": [],
   "source": [
    "directoryPath = \"../../../../../data/corpora/REM/rem-corralled-20161222/\"\n",
    "fileExtension = \".xml\""
   ]
  },
  {
   "cell_type": "code",
   "execution_count": 7,
   "metadata": {},
   "outputs": [],
   "source": [
    "def get_cei_files(base_dir):\n",
    "    for entry in os.scandir(base_dir):\n",
    "        if entry.is_file() and entry.name.endswith(fileExtension):\n",
    "            yield Path(entry.path)\n",
    "        elif entry.is_dir():\n",
    "            yield from get_cei_files(entry.path)\n",
    "        else:\n",
    "            continue"
   ]
  },
  {
   "cell_type": "code",
   "execution_count": 8,
   "metadata": {},
   "outputs": [],
   "source": [
    "paths = [f\"{PurePosixPath(path)}\" for path in get_cei_files(directoryPath)]"
   ]
  },
  {
   "cell_type": "code",
   "execution_count": 9,
   "metadata": {},
   "outputs": [],
   "source": [
    "lists = [\"ids\", \"names\", \"tokens\", \"topics\", \"textTypes\", \"genres\", \"languages\", \"languageTypes\", \"languageRegions\", \"languageAreas\", \"centuries\", \"dates\", \"tokens_utf\"]\n",
    "ids, names, tokens_ascii, topics, textTypes, genres, languages, languageTypes, languageRegions, languageAreas, centuries, dates, tokens_utf = ([] for i in range(len(lists)))"
   ]
  },
  {
   "cell_type": "code",
   "execution_count": 10,
   "metadata": {},
   "outputs": [],
   "source": [
    "for file in paths:\n",
    "    with open(file, \"r\", encoding=\"utf-8\") as f:\n",
    "        root = etree.parse(f).getroot()\n",
    "        ids.append(root.xpath(\"/text/@id\", smart_strings = False))\n",
    "        names.append(root.xpath(\"/text/header/text/text()\", smart_strings = False))\n",
    "        tokens_ascii.append(root.xpath(\"/text/token/tok_anno/@ascii\", smart_strings = False))\n",
    "        tokens_utf.append(root.xpath(\"/text/token/tok_anno/@utf\", smart_strings = False))\n",
    "        topics.append(root.xpath(\"/text/header/topic/text()\", smart_strings = False))\n",
    "        textTypes.append(root.xpath(\"/text/header/text-type/text()\", smart_strings = False))\n",
    "        genres.append(root.xpath(\"/text/header/genre/text()\", smart_strings = False))\n",
    "        languages.append(root.xpath(\"/text/header/language/text()\", smart_strings = False))\n",
    "        languageTypes.append(root.xpath(\"/text/header/language-type/text()\", smart_strings = False))\n",
    "        languageRegions.append(root.xpath(\"/text/header/language-region/text()\", smart_strings = False))\n",
    "        languageAreas.append(root.xpath(\"/text/header/language-area/text()\", smart_strings = False))\n",
    "        centuries.append(root.xpath(\"/text/header/time/text()\", smart_strings = False))\n",
    "        dates.append(root.xpath(\"/text/header/date/text()\", smart_strings = False))"
   ]
  },
  {
   "cell_type": "code",
   "execution_count": 11,
   "metadata": {},
   "outputs": [],
   "source": [
    "contents = list(zip(ids, names, tokens_ascii, topics, textTypes, genres, languages, languageTypes, languageRegions, languageAreas, centuries, dates, tokens_utf))\n",
    "contents_full = pd.DataFrame(contents).rename(columns={0: \"ids\", 1: \"names\", 2: \"tokens_ascii\", 3: \"topics\", 4: \"textTypes\", 5: \"genres\", 6: \"languages\", 7:\"languageTypes\", 8: \"languageRegions\", 9: \"languageAreas\", 10: \"centuries\", 11: \"dates\", 12: \"tokens_utf\"})"
   ]
  },
  {
   "cell_type": "code",
   "execution_count": 12,
   "metadata": {},
   "outputs": [],
   "source": [
    "contents_full[\"tokens_ascii_as_string\"] = contents_full[\"tokens_ascii\"].str.join(sep=\" \")\n",
    "contents_full[\"tokens_ascii_as_string\"] = [re.sub(r' . ', '. ', str(x)) for x in contents_full[\"tokens_ascii_as_string\"]]\n",
    "contents_full[\"tokens_utf_as_string\"] = contents_full[\"tokens_utf\"].str.join(sep=\" \")\n",
    "contents_full[\"tokens_utf_as_string\"] = [re.sub(r' . ', '. ', str(x)) for x in contents_full[\"tokens_utf_as_string\"]]"
   ]
  },
  {
   "cell_type": "code",
   "execution_count": 14,
   "metadata": {},
   "outputs": [],
   "source": [
    "# name output according to subcorpus\n",
    "\n",
    "timemarker = datetime.today().strftime('%Y-%m-%d-%H%M')\n",
    "contents_full.to_json(f\"../data/output/REM2CSV_{timemarker}.json\")\n",
    "contents_full.to_parquet(f\"../data/output/REM2CSV_{timemarker}.parquet\")"
   ]
  }
 ],
 "metadata": {
  "kernelspec": {
   "display_name": "Python 3.10.5 ('didip')",
   "language": "python",
   "name": "python3"
  },
  "language_info": {
   "codemirror_mode": {
    "name": "ipython",
    "version": 3
   },
   "file_extension": ".py",
   "mimetype": "text/x-python",
   "name": "python",
   "nbconvert_exporter": "python",
   "pygments_lexer": "ipython3",
   "version": "3.10.5"
  },
  "orig_nbformat": 4,
  "vscode": {
   "interpreter": {
    "hash": "1630ff8b1d0ef61a156f83efc8887c6988c096bb09158731ce1d0a82979501ad"
   }
  }
 },
 "nbformat": 4,
 "nbformat_minor": 2
}
