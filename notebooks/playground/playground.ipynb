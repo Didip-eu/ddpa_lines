{
 "cells": [
  {
   "cell_type": "markdown",
   "id": "83c290ae",
   "metadata": {},
   "source": [
    "# general"
   ]
  },
  {
   "cell_type": "markdown",
   "id": "25775a56",
   "metadata": {},
   "source": [
    "## imports"
   ]
  },
  {
   "cell_type": "code",
   "execution_count": 1,
   "id": "7e8eaaf8",
   "metadata": {},
   "outputs": [],
   "source": [
    "from lxml import etree\n",
    "from pathlib import Path\n",
    "from pathlib import PurePath\n",
    "from pathlib import PurePosixPath\n",
    "import datetime\n",
    "import hashlib\n",
    "import numpy as np\n",
    "import os\n",
    "import pandas as pd\n",
    "import pickle\n",
    "import pprint\n",
    "import random\n",
    "import requests"
   ]
  },
  {
   "cell_type": "markdown",
   "id": "e33cd4cd",
   "metadata": {},
   "source": [
    "## parameters"
   ]
  },
  {
   "cell_type": "code",
   "execution_count": 3,
   "id": "9ff90498",
   "metadata": {},
   "outputs": [],
   "source": [
    "pd.set_option('display.max_colwidth', 100)"
   ]
  },
  {
   "cell_type": "markdown",
   "id": "40911921-81c2-42ec-85d0-7d80a9ccff19",
   "metadata": {},
   "source": [
    "# create sample + URL based on xquery result"
   ]
  },
  {
   "cell_type": "code",
   "execution_count": 3,
   "id": "44edf723-642c-4e50-be30-b9db7fb316c7",
   "metadata": {},
   "outputs": [],
   "source": [
    "df = pd.read_csv('../../data/output/images_xml.csv', encoding=\"utf-8\")"
   ]
  },
  {
   "cell_type": "code",
   "execution_count": 4,
   "id": "659876a1",
   "metadata": {},
   "outputs": [
    {
     "data": {
      "text/html": [
       "<div>\n",
       "<style scoped>\n",
       "    .dataframe tbody tr th:only-of-type {\n",
       "        vertical-align: middle;\n",
       "    }\n",
       "\n",
       "    .dataframe tbody tr th {\n",
       "        vertical-align: top;\n",
       "    }\n",
       "\n",
       "    .dataframe thead th {\n",
       "        text-align: right;\n",
       "    }\n",
       "</style>\n",
       "<table border=\"1\" class=\"dataframe\">\n",
       "  <thead>\n",
       "    <tr style=\"text-align: right;\">\n",
       "      <th></th>\n",
       "      <th>atom</th>\n",
       "      <th>url</th>\n",
       "    </tr>\n",
       "  </thead>\n",
       "  <tbody>\n",
       "    <tr>\n",
       "      <th>0</th>\n",
       "      <td>tag:www.monasterium.net,2011:/charter/AT-HHStA...</td>\n",
       "      <td>http://images.monasterium.net/img/AT-OeStA-HHS...</td>\n",
       "    </tr>\n",
       "    <tr>\n",
       "      <th>1</th>\n",
       "      <td>tag:www.monasterium.net,2011:/charter/AT-HHStA...</td>\n",
       "      <td>http://images.monasterium.net/img/AT-OeStA-HHS...</td>\n",
       "    </tr>\n",
       "    <tr>\n",
       "      <th>2</th>\n",
       "      <td>tag:www.monasterium.net,2011:/charter/AT-HHStA...</td>\n",
       "      <td>http://images.monasterium.net/img/AT-OeStA-HHS...</td>\n",
       "    </tr>\n",
       "    <tr>\n",
       "      <th>3</th>\n",
       "      <td>tag:www.monasterium.net,2011:/charter/AT-HHStA...</td>\n",
       "      <td>http://images.monasterium.net/img/AT-OeStA-HHS...</td>\n",
       "    </tr>\n",
       "    <tr>\n",
       "      <th>4</th>\n",
       "      <td>tag:www.monasterium.net,2011:/charter/AT-HHStA...</td>\n",
       "      <td>http://images.monasterium.net/img/AT-OeStA-HHS...</td>\n",
       "    </tr>\n",
       "    <tr>\n",
       "      <th>...</th>\n",
       "      <td>...</td>\n",
       "      <td>...</td>\n",
       "    </tr>\n",
       "    <tr>\n",
       "      <th>815787</th>\n",
       "      <td>tag:www.monasterium.net,2011:/charter/BISANU/1...</td>\n",
       "      <td>https://images.monasterium.net/pics/858/132702...</td>\n",
       "    </tr>\n",
       "    <tr>\n",
       "      <th>815788</th>\n",
       "      <td>tag:www.monasterium.net,2011:/charter/BISANU/1...</td>\n",
       "      <td>https://images.monasterium.net/pics/858/132702...</td>\n",
       "    </tr>\n",
       "    <tr>\n",
       "      <th>815789</th>\n",
       "      <td>tag:www.monasterium.net,2011:/charter/BISANU/1...</td>\n",
       "      <td>https://images.monasterium.net/pics/858/132702...</td>\n",
       "    </tr>\n",
       "    <tr>\n",
       "      <th>815790</th>\n",
       "      <td>tag:www.monasterium.net,2011:/charter/BISANU/1...</td>\n",
       "      <td>https://images.monasterium.net/pics/858/I.._IE...</td>\n",
       "    </tr>\n",
       "    <tr>\n",
       "      <th>815791</th>\n",
       "      <td>tag:www.monasterium.net,2011:/charter/BISANU/1...</td>\n",
       "      <td>https://images.monasterium.net/pics/858/09_Jan...</td>\n",
       "    </tr>\n",
       "  </tbody>\n",
       "</table>\n",
       "<p>815792 rows × 2 columns</p>\n",
       "</div>"
      ],
      "text/plain": [
       "                                                     atom  \\\n",
       "0       tag:www.monasterium.net,2011:/charter/AT-HHStA...   \n",
       "1       tag:www.monasterium.net,2011:/charter/AT-HHStA...   \n",
       "2       tag:www.monasterium.net,2011:/charter/AT-HHStA...   \n",
       "3       tag:www.monasterium.net,2011:/charter/AT-HHStA...   \n",
       "4       tag:www.monasterium.net,2011:/charter/AT-HHStA...   \n",
       "...                                                   ...   \n",
       "815787  tag:www.monasterium.net,2011:/charter/BISANU/1...   \n",
       "815788  tag:www.monasterium.net,2011:/charter/BISANU/1...   \n",
       "815789  tag:www.monasterium.net,2011:/charter/BISANU/1...   \n",
       "815790  tag:www.monasterium.net,2011:/charter/BISANU/1...   \n",
       "815791  tag:www.monasterium.net,2011:/charter/BISANU/1...   \n",
       "\n",
       "                                                      url  \n",
       "0       http://images.monasterium.net/img/AT-OeStA-HHS...  \n",
       "1       http://images.monasterium.net/img/AT-OeStA-HHS...  \n",
       "2       http://images.monasterium.net/img/AT-OeStA-HHS...  \n",
       "3       http://images.monasterium.net/img/AT-OeStA-HHS...  \n",
       "4       http://images.monasterium.net/img/AT-OeStA-HHS...  \n",
       "...                                                   ...  \n",
       "815787  https://images.monasterium.net/pics/858/132702...  \n",
       "815788  https://images.monasterium.net/pics/858/132702...  \n",
       "815789  https://images.monasterium.net/pics/858/132702...  \n",
       "815790  https://images.monasterium.net/pics/858/I.._IE...  \n",
       "815791  https://images.monasterium.net/pics/858/09_Jan...  \n",
       "\n",
       "[815792 rows x 2 columns]"
      ]
     },
     "execution_count": 4,
     "metadata": {},
     "output_type": "execute_result"
    }
   ],
   "source": [
    "df"
   ]
  },
  {
   "cell_type": "code",
   "execution_count": null,
   "id": "ff4554db-a051-4144-b073-491928de66fb",
   "metadata": {},
   "outputs": [],
   "source": [
    "atom_series = df['atom'].drop_duplicates(keep='first', inplace=False)\n",
    "atom_series_clean = atom_series.reset_index(drop=True)\n",
    "atom_series_clean_duplicate = atom_series_clean"
   ]
  },
  {
   "cell_type": "code",
   "execution_count": null,
   "id": "244ec9dd-f3a6-40bf-afd0-2e0a3afc1eaf",
   "metadata": {},
   "outputs": [],
   "source": [
    "df_atom_url_clean = pd.concat([atom_series_clean, atom_series_clean_duplicate], axis=1)\n",
    "df_atom_url_clean.columns.values[0] = \"atomID\"\n",
    "df_atom_url_clean.columns.values[1] = \"URL\"\n",
    "df_atom_url_clean[\"parts\"] = \"\""
   ]
  },
  {
   "cell_type": "code",
   "execution_count": null,
   "id": "2de5b037-d5d4-40cb-a4a3-359d817d1fd7",
   "metadata": {},
   "outputs": [],
   "source": [
    "df_atom_url_clean.URL = df_atom_url_clean.URL.str.split('/')"
   ]
  },
  {
   "cell_type": "code",
   "execution_count": null,
   "id": "81c00761-c943-4c22-8e8b-59189c6a6fe1",
   "metadata": {},
   "outputs": [],
   "source": [
    "df_atom_url_clean['URL'].sample(n=10).head(10)"
   ]
  },
  {
   "cell_type": "code",
   "execution_count": null,
   "id": "e9e885dc-3ed0-41fd-b50d-2c642cf968a5",
   "metadata": {},
   "outputs": [],
   "source": [
    "for cell in df_atom_url_clean['URL']:\n",
    "    del cell[:2]"
   ]
  },
  {
   "cell_type": "code",
   "execution_count": null,
   "id": "b7e01dbc-4d32-40ef-a3f8-a132050aa4c1",
   "metadata": {},
   "outputs": [],
   "source": [
    "df_atom_url_parts = df_atom_url_clean\n",
    "df_atom_url_parts"
   ]
  },
  {
   "cell_type": "code",
   "execution_count": null,
   "id": "0f8f472e-1bb6-4597-8d5c-ad7776ac2bdd",
   "metadata": {},
   "outputs": [],
   "source": [
    "mom_base = \"https://www.monasterium.net/mom\"\n",
    "charter_end = \"charter\""
   ]
  },
  {
   "cell_type": "code",
   "execution_count": null,
   "id": "67ac0533-e479-4868-bf9e-90c5adf4502d",
   "metadata": {},
   "outputs": [],
   "source": [
    "df_atom_url_parts['URL'].str.len()"
   ]
  },
  {
   "cell_type": "code",
   "execution_count": null,
   "id": "3b34c6a0-816c-44b5-96f4-4f8fc48b80c2",
   "metadata": {},
   "outputs": [],
   "source": [
    "#legacy\n",
    "#noHungaricana = df[~df.url.str.contains('hungaricana')]\n",
    "#df[~df.url.str.startswith('/')]"
   ]
  },
  {
   "cell_type": "code",
   "execution_count": null,
   "id": "f08ba153-cfd4-4037-a768-e7490f6ad420",
   "metadata": {},
   "outputs": [],
   "source": [
    "charter_sample_list = []"
   ]
  },
  {
   "cell_type": "code",
   "execution_count": null,
   "id": "80ef98e0-d136-462b-88b7-78f959b38aab",
   "metadata": {},
   "outputs": [],
   "source": [
    "for cell in df_atom_url_parts['URL']:\n",
    "    if len(cell) == 3:\n",
    "        charter_sample_list.append(mom_base + \"/\" + cell[0] + \"/\" + cell[1] + \"/\" + cell[2] + \"/\" + charter_end)\n",
    "    else:\n",
    "        charter_sample_list.append(mom_base + \"/\" + cell[0] + \"/\" + cell[1] + \"/\" + charter_end)"
   ]
  },
  {
   "cell_type": "code",
   "execution_count": null,
   "id": "6d441808-1c09-4366-b456-206fc8edd0b3",
   "metadata": {},
   "outputs": [],
   "source": [
    "df = pd.Series(charter_sample_list)"
   ]
  },
  {
   "cell_type": "code",
   "execution_count": null,
   "id": "0ca83c37-3666-48ab-852b-ce07d2c90746",
   "metadata": {},
   "outputs": [],
   "source": [
    "sample = df.sample(n=1000)"
   ]
  },
  {
   "cell_type": "code",
   "execution_count": null,
   "id": "60d14995-d8e0-42dd-89ce-e888fff49e7b",
   "metadata": {},
   "outputs": [],
   "source": [
    "sample"
   ]
  },
  {
   "cell_type": "code",
   "execution_count": null,
   "id": "550d56a3-a869-4048-aae1-2a1489a9d577",
   "metadata": {},
   "outputs": [],
   "source": [
    "df.to_csv(\"../data/output/playground_sample_test.csv\", encoding=\"utf-8\", header=False, index=False)"
   ]
  },
  {
   "cell_type": "markdown",
   "id": "23507557-d529-4b6f-b62c-05640b372dec",
   "metadata": {},
   "source": [
    "# get img links from database"
   ]
  },
  {
   "cell_type": "code",
   "execution_count": null,
   "id": "20966e24-7df1-4ef8-a9b5-991d3b91d447",
   "metadata": {},
   "outputs": [],
   "source": [
    "from pathlib import PurePath\n",
    "from pathlib import Path\n",
    "from lxml import etree\n",
    "import pandas as pd"
   ]
  },
  {
   "cell_type": "code",
   "execution_count": null,
   "id": "a951fdb1-76a8-4518-a3ed-c0c154991357",
   "metadata": {},
   "outputs": [],
   "source": [
    "namespaces = {\"atom\": \"http://www.w3.org/2005/Atom\", \"cei\": \"http://www.monasterium.net/NS/cei\"}\n",
    "fileExtension = \"*.cei.xml\""
   ]
  },
  {
   "cell_type": "code",
   "execution_count": null,
   "id": "d0ce19f6",
   "metadata": {},
   "outputs": [],
   "source": [
    "charter_image_list_test = pd.read_csv(\"../data/output/charter_image_list_explodedmetadata.charter.public.csv\", encoding=\"utf-8\")"
   ]
  },
  {
   "cell_type": "code",
   "execution_count": null,
   "id": "2a7ea961",
   "metadata": {},
   "outputs": [],
   "source": [
    "charter_image_list_test"
   ]
  },
  {
   "cell_type": "markdown",
   "id": "93c30ac5-e468-458c-a5a1-1de9da07b27d",
   "metadata": {},
   "source": [
    "# get id+origImageLink+copyImageLink+hasImage(Bool) from mom dump"
   ]
  },
  {
   "cell_type": "code",
   "execution_count": 4,
   "id": "d57a8442-6875-471f-9c9f-09e3dcb53a48",
   "metadata": {},
   "outputs": [],
   "source": [
    "namespaces = {'atom': 'http://www.w3.org/2005/Atom', 'cei': 'http://www.monasterium.net/NS/cei'}\n",
    "directoryPath = \"../data/db/mom-data/metadata.charter.public\"\n",
    "fileExtension = \"*.cei.xml\""
   ]
  },
  {
   "cell_type": "code",
   "execution_count": 5,
   "id": "dcf804d9",
   "metadata": {},
   "outputs": [],
   "source": [
    "atom_id = []\n",
    "origImageLink = []\n",
    "copyImageLink = []"
   ]
  },
  {
   "cell_type": "code",
   "execution_count": null,
   "id": "9df57efd",
   "metadata": {},
   "outputs": [],
   "source": [
    "for file in Path(directoryPath).rglob(fileExtension):\n",
    "    tree = etree.parse(str(file))\n",
    "    atom_id.append(tree.xpath(\"//atom:id/text()\", namespaces = namespaces))\n",
    "    origImageLink.append(tree.xpath(\"//cei:witnessOrig/cei:figure/cei:graphic/@url\", namespaces = namespaces))\n",
    "    copyImageLink.append(tree.xpath(\"//cei:witness/cei:figure/cei:graphic/@url\", namespaces = namespaces))"
   ]
  },
  {
   "cell_type": "code",
   "execution_count": null,
   "id": "ea270e56",
   "metadata": {},
   "outputs": [],
   "source": [
    "img_contents = list(zip(atom_id, origImageLink, copyImageLink))\n",
    "img_contents_full = pd.DataFrame(img_contents).rename(columns={0: \"atom_id\", 1: \"origImageLink\", 2: \"copyImageLink\"})"
   ]
  },
  {
   "cell_type": "code",
   "execution_count": null,
   "id": "6252b651",
   "metadata": {},
   "outputs": [],
   "source": [
    "img_contents_full"
   ]
  },
  {
   "cell_type": "code",
   "execution_count": null,
   "id": "a0a21047",
   "metadata": {},
   "outputs": [],
   "source": [
    "img_contents_full['hasImage'] = [False if oi == [] and ci == [] else True for oi, ci in zip(img_contents_full.origImageLink, img_contents_full.copyImageLink)]"
   ]
  },
  {
   "cell_type": "code",
   "execution_count": null,
   "id": "61140b22",
   "metadata": {},
   "outputs": [],
   "source": [
    "img_contents_full.loc[img_contents_full[\"hasImage\"] == False]"
   ]
  },
  {
   "cell_type": "code",
   "execution_count": null,
   "id": "e383b599",
   "metadata": {},
   "outputs": [],
   "source": [
    "img_contents_full.to_csv(\"../data/output/id+origImageLink+copyImageLink+hasImage_full.csv\", encoding=\"utf-8\")"
   ]
  },
  {
   "cell_type": "code",
   "execution_count": null,
   "id": "03da4d52",
   "metadata": {},
   "outputs": [],
   "source": [
    "img_contents_full_exploded = img_contents_full.explode(\"atom_id\").explode(\"origImageLink\").explode(\"copyImageLink\")\n",
    "img_contents_full_exploded_reset = img_contents_full_exploded.reset_index(drop=True, inplace=True)\n",
    "img_contents_full_exploded_reset.to_csv(\"../data/output/id+origImageLink+copyImageLink+hasImage_exploded_full.csv\", encoding=\"utf-8\")"
   ]
  },
  {
   "cell_type": "markdown",
   "id": "696544d2",
   "metadata": {},
   "source": [
    "# get charters with images and seals"
   ]
  },
  {
   "cell_type": "code",
   "execution_count": null,
   "id": "48dcef86",
   "metadata": {},
   "outputs": [],
   "source": [
    "namespaces = {'atom': 'http://www.w3.org/2005/Atom', 'cei': 'http://www.monasterium.net/NS/cei'}\n",
    "directoryPath = \"../data/db/mom-data/metadata.charter.public\"\n",
    "fileExtension = \"*.cei.xml\""
   ]
  },
  {
   "cell_type": "code",
   "execution_count": null,
   "id": "2ff4225f",
   "metadata": {},
   "outputs": [],
   "source": [
    "atom_id = []\n",
    "origImageLink = []\n",
    "copyImageLink = []\n",
    "cei_orig_sealDesc = []\n",
    "cei_copy_sealDesc = []"
   ]
  },
  {
   "cell_type": "code",
   "execution_count": null,
   "id": "ddc8ab76",
   "metadata": {},
   "outputs": [],
   "source": [
    "for file in Path(directoryPath).rglob(fileExtension):\n",
    "    tree = etree.parse(str(file))\n",
    "    atom_id.append(tree.xpath(\"//atom:id/text()\", namespaces = namespaces))\n",
    "    origImageLink.append(tree.xpath(\"//cei:witnessOrig/cei:figure/cei:graphic/@url\", namespaces = namespaces))\n",
    "    copyImageLink.append(tree.xpath(\"//cei:witness/cei:figure/cei:graphic/@url\", namespaces = namespaces))\n",
    "    cei_orig_sealDesc.append(tree.xpath(\"//cei:witnessOrig/cei:auth/cei:sealDesc/text()\", namespaces = namespaces))\n",
    "    cei_copy_sealDesc.append(tree.xpath(\"//cei:witness/cei:auth/cei:sealDesc/text()\", namespaces = namespaces))"
   ]
  },
  {
   "cell_type": "code",
   "execution_count": null,
   "id": "029f9510",
   "metadata": {},
   "outputs": [],
   "source": [
    "id_imgLink_sealDesc = list(zip(atom_id, origImageLink, copyImageLink, cei_orig_sealDesc, cei_copy_sealDesc))\n",
    "id_imgLink_sealDesc = pd.DataFrame(id_imgLink_sealDesc).rename(columns={0: \"atom_id\", 1: \"origImageLink\", 2: \"copyImageLink\", 3: \"cei_orig_sealDesc\", 4: \"cei_copy_sealDesc\"})"
   ]
  },
  {
   "cell_type": "code",
   "execution_count": null,
   "id": "80ffa45e",
   "metadata": {},
   "outputs": [],
   "source": [
    "id_imgLink_sealDesc['hasImage'] = [False if oi == [] and ci == [] else True for oi, ci in zip(id_imgLink_sealDesc.origImageLink, id_imgLink_sealDesc.copyImageLink)]\n",
    "id_imgLink_sealDesc['hasSealDesc'] = [False if os == [] and cs == [] else True for os, cs in zip(id_imgLink_sealDesc.cei_orig_sealDesc, id_imgLink_sealDesc.cei_copy_sealDesc)]"
   ]
  },
  {
   "cell_type": "code",
   "execution_count": null,
   "id": "059ea672",
   "metadata": {},
   "outputs": [],
   "source": [
    "id_imgLink_sealDesc.loc[id_imgLink_sealDesc[\"hasImage\"] == True]"
   ]
  },
  {
   "cell_type": "code",
   "execution_count": null,
   "id": "ea03c560",
   "metadata": {},
   "outputs": [],
   "source": [
    "id_imgLink_sealDesc.to_csv(\"../data/output/seal_desc.csv\", encoding=\"utf-8\")"
   ]
  },
  {
   "cell_type": "code",
   "execution_count": null,
   "id": "bd2ce718-f7df-4a13-8da4-b52334978bb3",
   "metadata": {},
   "outputs": [],
   "source": [
    "#datetime.datetime.now().strftime(\"%D,%T\")"
   ]
  },
  {
   "cell_type": "markdown",
   "id": "cc95c5ba",
   "metadata": {},
   "source": [
    "# get urls of all images"
   ]
  },
  {
   "cell_type": "markdown",
   "id": "e9ec5e43",
   "metadata": {},
   "source": [
    "## get img paths for collection charters"
   ]
  },
  {
   "cell_type": "code",
   "execution_count": null,
   "id": "f2d751c5",
   "metadata": {},
   "outputs": [],
   "source": [
    "charter_image_list_fresh = pd.read_csv(\"../data/output/charter_image_list_explodedmetadata.charter.public.csv\", encoding=\"utf-8\")"
   ]
  },
  {
   "cell_type": "code",
   "execution_count": null,
   "id": "d27b0ec3",
   "metadata": {},
   "outputs": [],
   "source": [
    "charter_image_list = charter_image_list_fresh"
   ]
  },
  {
   "cell_type": "code",
   "execution_count": null,
   "id": "b518412a",
   "metadata": {},
   "outputs": [],
   "source": [
    "charter_image_list"
   ]
  },
  {
   "cell_type": "code",
   "execution_count": null,
   "id": "6c3d0c3e",
   "metadata": {},
   "outputs": [],
   "source": [
    "charter_imageList_badLinks = (charter_image_list[~charter_image_list.cei_graphic_ATTRIBUTE_url.str.startswith(\"http\", na=False)])[~charter_image_list.cei_graphic_ATTRIBUTE_url.isna()]\n",
    "charter_imageList_goodLinks = charter_image_list[charter_image_list.cei_graphic_ATTRIBUTE_url.str.startswith(\"http\", na=False)]\n",
    "charter_imageList_noLinks = charter_image_list[charter_image_list.cei_graphic_ATTRIBUTE_url.isna()]"
   ]
  },
  {
   "cell_type": "code",
   "execution_count": null,
   "id": "f0b34376",
   "metadata": {},
   "outputs": [],
   "source": [
    "charter_imageList_badLinks.reset_index(inplace=True, drop=True)\n",
    "charter_imageList_goodLinks.reset_index(inplace=True, drop=True)\n",
    "charter_imageList_noLinks.reset_index(inplace=True, drop=True)"
   ]
  },
  {
   "cell_type": "code",
   "execution_count": null,
   "id": "33b9bbc5",
   "metadata": {},
   "outputs": [],
   "source": [
    "print(f\"There are {len(charter_imageList_badLinks)} images with 'bad' image links.\")\n",
    "print(f\"There are {len(charter_imageList_goodLinks)} images with 'good' image links.\")\n",
    "print(f\"There are {len(charter_imageList_noLinks)} charters with 'no' image links.\")"
   ]
  },
  {
   "cell_type": "markdown",
   "id": "008f407d",
   "metadata": {},
   "source": [
    "## get links for bad image links"
   ]
  },
  {
   "cell_type": "code",
   "execution_count": null,
   "id": "718afb6c",
   "metadata": {},
   "outputs": [],
   "source": [
    "charter_imageList_badLinks[\"atom_parts\"] = charter_imageList_badLinks.atom_id.str.split('/')"
   ]
  },
  {
   "cell_type": "code",
   "execution_count": null,
   "id": "4f861930",
   "metadata": {},
   "outputs": [],
   "source": [
    "charter_imageList_badLinks_corrected = charter_imageList_badLinks"
   ]
  },
  {
   "cell_type": "code",
   "execution_count": null,
   "id": "65c71f9c",
   "metadata": {},
   "outputs": [],
   "source": [
    "for cell in charter_imageList_badLinks_corrected['atom_parts']:\n",
    "    del cell[:2]"
   ]
  },
  {
   "cell_type": "code",
   "execution_count": null,
   "id": "00f43021",
   "metadata": {},
   "outputs": [],
   "source": [
    "charter_imageList_badLinks_corrected_parted = charter_imageList_badLinks_corrected"
   ]
  },
  {
   "cell_type": "code",
   "execution_count": null,
   "id": "d14a12d9",
   "metadata": {},
   "outputs": [],
   "source": [
    "charter_imageList_badLinks_corrected_parted"
   ]
  },
  {
   "cell_type": "code",
   "execution_count": null,
   "id": "ba5dc9ea",
   "metadata": {},
   "outputs": [],
   "source": [
    "lists = [\"atom_id\", \"archive\", \"fond\", \"collection\"]\n",
    "atom_id, archive, fond, collection = ([] for i in range(len(lists)))"
   ]
  },
  {
   "cell_type": "code",
   "execution_count": null,
   "id": "0b198edd",
   "metadata": {},
   "outputs": [],
   "source": [
    "for cell in charter_imageList_badLinks_corrected_parted[\"atom_parts\"]:\n",
    "    if len(cell) == 3:\n",
    "        archive.append(cell[0])\n",
    "        fond.append(cell[1])\n",
    "        collection.append(None)\n",
    "    else:\n",
    "        archive.append(None)\n",
    "        fond.append(None)\n",
    "        collection.append(cell[0])\n",
    "\n",
    "contents = list(zip(archive, fond, collection))\n",
    "contents_df = pd.DataFrame(contents).rename(columns={0: \"archive\", 1: \"fond\", 2: \"collection\"})"
   ]
  },
  {
   "cell_type": "code",
   "execution_count": null,
   "id": "6771e004",
   "metadata": {},
   "outputs": [],
   "source": [
    "contents_df[\"atom_id\"] = charter_imageList_badLinks_corrected_parted[\"atom_id\"]"
   ]
  },
  {
   "cell_type": "code",
   "execution_count": null,
   "id": "93bb83b5",
   "metadata": {},
   "outputs": [],
   "source": [
    "contents_df"
   ]
  },
  {
   "cell_type": "code",
   "execution_count": null,
   "id": "50d19d0f",
   "metadata": {},
   "outputs": [],
   "source": [
    "new_df = pd.concat([charter_imageList_badLinks_corrected_parted, contents_df], axis=1)"
   ]
  },
  {
   "cell_type": "code",
   "execution_count": null,
   "id": "8aea06a0",
   "metadata": {},
   "outputs": [],
   "source": [
    "new_df"
   ]
  },
  {
   "cell_type": "code",
   "execution_count": null,
   "id": "1602210d",
   "metadata": {},
   "outputs": [],
   "source": [
    "newer_df = new_df.iloc[: , :-1]"
   ]
  },
  {
   "cell_type": "code",
   "execution_count": null,
   "id": "5e23dbad",
   "metadata": {},
   "outputs": [],
   "source": [
    "newer_df"
   ]
  },
  {
   "cell_type": "code",
   "execution_count": null,
   "id": "5edf5268",
   "metadata": {},
   "outputs": [],
   "source": [
    "newer_df.to_csv(\"../data/output/charters_badLinks_parted.csv\", encoding=\"utf-8\")"
   ]
  },
  {
   "cell_type": "markdown",
   "id": "2ee09ab7",
   "metadata": {},
   "source": [
    "## get collection/archive reference from all charters"
   ]
  },
  {
   "cell_type": "code",
   "execution_count": null,
   "id": "b44d2e0c",
   "metadata": {},
   "outputs": [],
   "source": [
    "charter_image_list = charter_image_list_fresh"
   ]
  },
  {
   "cell_type": "code",
   "execution_count": null,
   "id": "76aeb012",
   "metadata": {},
   "outputs": [],
   "source": [
    "charter_image_list[\"atom_parts\"] = charter_image_list.atom_id.str.split('/')"
   ]
  },
  {
   "cell_type": "code",
   "execution_count": null,
   "id": "19b2e3db",
   "metadata": {},
   "outputs": [],
   "source": [
    "charter_image_list"
   ]
  },
  {
   "cell_type": "markdown",
   "id": "3cff6510",
   "metadata": {},
   "source": [
    "## ..."
   ]
  },
  {
   "cell_type": "code",
   "execution_count": null,
   "id": "ee4bad3c",
   "metadata": {},
   "outputs": [],
   "source": [
    "charter_image_list_corrected = charter_image_list"
   ]
  },
  {
   "cell_type": "code",
   "execution_count": null,
   "id": "54e9ee05",
   "metadata": {},
   "outputs": [],
   "source": [
    "for cell in charter_image_list_corrected['atom_parts']:\n",
    "    del cell[:2]"
   ]
  },
  {
   "cell_type": "code",
   "execution_count": null,
   "id": "c1daffb5",
   "metadata": {},
   "outputs": [],
   "source": [
    "charter_image_list_corrected"
   ]
  },
  {
   "cell_type": "code",
   "execution_count": null,
   "id": "14510f40",
   "metadata": {},
   "outputs": [],
   "source": [
    "charter_image_list_corrected_parted = charter_image_list_corrected"
   ]
  },
  {
   "cell_type": "code",
   "execution_count": null,
   "id": "1d1f1842",
   "metadata": {},
   "outputs": [],
   "source": [
    "charter_image_list_corrected_parted"
   ]
  },
  {
   "cell_type": "code",
   "execution_count": null,
   "id": "66875af8",
   "metadata": {},
   "outputs": [],
   "source": [
    "lists = [\"archive\", \"fond\", \"collection\"]\n",
    "archive, fond, collection = ([] for i in range(len(lists)))"
   ]
  },
  {
   "cell_type": "code",
   "execution_count": null,
   "id": "99631afd",
   "metadata": {},
   "outputs": [],
   "source": [
    "for cell in charter_image_list_corrected_parted[\"atom_parts\"]: #this query might include an error: resulting df yields one row less than there should be? probably one has no atom-id\n",
    "    if len(cell) == 3:\n",
    "        archive.append(cell[0])\n",
    "        fond.append(cell[1])\n",
    "        collection.append(None)\n",
    "    elif len(cell) == 2:\n",
    "        archive.append(None)\n",
    "        fond.append(None)\n",
    "        collection.append(cell[0])\n",
    "    else:\n",
    "        continue\n",
    "\n",
    "contents = list(zip(archive, fond, collection))\n",
    "contents_df = pd.DataFrame(contents).rename(columns={0: \"archive\", 1: \"fond\", 2: \"collection\"})"
   ]
  },
  {
   "cell_type": "code",
   "execution_count": null,
   "id": "77a291ae",
   "metadata": {},
   "outputs": [],
   "source": [
    "contents_df"
   ]
  },
  {
   "cell_type": "code",
   "execution_count": null,
   "id": "0269dbdb",
   "metadata": {},
   "outputs": [],
   "source": [
    "contents_df[\"atom_id\"] = charter_image_list[\"atom_id\"] # da is wsl da Hund drin"
   ]
  },
  {
   "cell_type": "code",
   "execution_count": null,
   "id": "9d7b4681",
   "metadata": {},
   "outputs": [],
   "source": [
    "contents_df[\"in_archive\"] = [True if a != None else False for a in contents_df[\"archive\"]]\n",
    "contents_df[\"in_collection\"] = [True if c != None else False for c in contents_df[\"collection\"]]"
   ]
  },
  {
   "cell_type": "code",
   "execution_count": null,
   "id": "fcc43a3c",
   "metadata": {},
   "outputs": [],
   "source": [
    "contents_df.to_csv(\"../data/output/charters_parted.csv\", encoding=\"utf-8\")"
   ]
  },
  {
   "cell_type": "markdown",
   "id": "a07efbe7",
   "metadata": {},
   "source": [
    "## get collection img path and other info from collections folder "
   ]
  },
  {
   "cell_type": "code",
   "execution_count": null,
   "id": "b42f7fc7",
   "metadata": {},
   "outputs": [],
   "source": [
    "namespaces = {\"atom\": \"http://www.w3.org/2005/Atom\", \"cei\": \"http://www.monasterium.net/NS/cei\", \"xrx\": \"http://www.monasterium.net/NS/xrx\"}\n",
    "directoryPath = \"../data/db/mom-data/metadata.collection.public\"\n",
    "fileExtension = \"*.cei.xml\""
   ]
  },
  {
   "cell_type": "code",
   "execution_count": null,
   "id": "f1d24ced",
   "metadata": {},
   "outputs": [],
   "source": [
    "lists = [\"atom_id\", \"provenance\", \"country_ID\", \"country\", \"xrx_keyword\", \"sourceDesc\", \"pubPlace\", \"date\", \"image_server_address\", \"image_server_folder\" ]\n",
    "atom_id, provenance, country_ID, country, xrx_keyword, sourceDesc, pubPlace, date, image_server_address, image_server_folder = ([] for i in range(len(lists)))"
   ]
  },
  {
   "cell_type": "code",
   "execution_count": null,
   "id": "2e590756",
   "metadata": {},
   "outputs": [],
   "source": [
    "for file in Path(directoryPath).rglob(fileExtension):\n",
    "    tree = etree.parse(str(file))\n",
    "    atom_id.append(tree.xpath(\"//atom:id/text()\", namespaces = namespaces))\n",
    "    provenance.append(tree.xpath(\"//cei:provenance/@abbr\", namespaces = namespaces))\n",
    "    country_ID.append(tree.xpath(\"//cei:provenance/cei:country/@id\", namespaces = namespaces))\n",
    "    country.append(tree.xpath(\"//cei:provenance/cei:country/text()\", namespaces = namespaces))\n",
    "    xrx_keyword.append(tree.xpath(\"///xrx:keywords/xrx:keyword/text()\", namespaces = namespaces))\n",
    "    sourceDesc.append(tree.xpath(\"//cei:sourceDesc/cei:p/text()\", namespaces = namespaces))\n",
    "    pubPlace.append(tree.xpath(\"//cei:imprint/cei:pubPlace/text()\", namespaces = namespaces))\n",
    "    date.append(tree.xpath(\"//cei:imprint/cei:date/text()\", namespaces = namespaces))\n",
    "    image_server_address.append(tree.xpath(\"//cei:image_server_address/text()\", namespaces = namespaces))\n",
    "    image_server_folder.append(tree.xpath(\"//cei:image_server_folder/text()\", namespaces = namespaces))"
   ]
  },
  {
   "cell_type": "code",
   "execution_count": null,
   "id": "0b6673fc",
   "metadata": {},
   "outputs": [],
   "source": [
    "collection_data = list(zip(atom_id, provenance, country_ID, country, xrx_keyword, sourceDesc, pubPlace, date, image_server_address, image_server_folder))\n",
    "collection_data = pd.DataFrame(collection_data).rename(columns={0: \"atom_id\", 1: \"provenance\", 2: \"country_ID\", 3: \"country\", 4: \"xrx_keyword\", 5: \"sourceDesc\",  6: \"pubPlace\", 7: \"date\", 8: \"image_server_address\", 9: \"image_server_folder\"})"
   ]
  },
  {
   "cell_type": "code",
   "execution_count": null,
   "id": "46c2bd3d",
   "metadata": {},
   "outputs": [],
   "source": [
    "collection_data.to_parquet(\"../data/output/collection_data.parquet\")"
   ]
  },
  {
   "cell_type": "markdown",
   "id": "b2860030",
   "metadata": {},
   "source": [
    "## something else?"
   ]
  },
  {
   "cell_type": "code",
   "execution_count": null,
   "id": "17162d1e",
   "metadata": {},
   "outputs": [],
   "source": [
    "collection_data_1 = collection_data"
   ]
  },
  {
   "cell_type": "code",
   "execution_count": null,
   "id": "b964dca0",
   "metadata": {},
   "outputs": [],
   "source": [
    "collection_data_1[\"dir\"] = collection_data_1.explode(\"atom_id\").atom_id.str.split(\"/\")"
   ]
  },
  {
   "cell_type": "code",
   "execution_count": null,
   "id": "a32af657",
   "metadata": {},
   "outputs": [],
   "source": [
    "collection_data_1.to_csv(\"../data/output/tests/collection_data_1_slashtest.csv\", encoding=\"utf-8\")"
   ]
  },
  {
   "cell_type": "code",
   "execution_count": null,
   "id": "c93a1524",
   "metadata": {},
   "outputs": [],
   "source": [
    "collection_data_pref = collection_data_1"
   ]
  },
  {
   "cell_type": "code",
   "execution_count": null,
   "id": "a94756e7",
   "metadata": {},
   "outputs": [],
   "source": [
    "dir = []"
   ]
  },
  {
   "cell_type": "code",
   "execution_count": null,
   "id": "139240da",
   "metadata": {},
   "outputs": [],
   "source": [
    "for cell in collection_data_pref[\"dir\"]:\n",
    "    dir.append(cell[-1])"
   ]
  },
  {
   "cell_type": "code",
   "execution_count": null,
   "id": "5ef5b4a2",
   "metadata": {},
   "outputs": [],
   "source": [
    "collection_data_pref[\"dir\"] = dir"
   ]
  },
  {
   "cell_type": "code",
   "execution_count": null,
   "id": "ab957c66",
   "metadata": {},
   "outputs": [],
   "source": [
    "collection_data_pref  = collection_data_pref.filter([\"atom_id\", \"image_server_address\", \"image_server_folder\", \"dir\"])"
   ]
  },
  {
   "cell_type": "code",
   "execution_count": null,
   "id": "b31c10b4",
   "metadata": {},
   "outputs": [],
   "source": [
    "collection_data_imageLinks = collection_data_pref.explode(\"atom_id\").explode(\"image_server_address\").explode(\"image_server_folder\").explode(\"dir\") "
   ]
  },
  {
   "cell_type": "code",
   "execution_count": null,
   "id": "a6e949e0",
   "metadata": {},
   "outputs": [],
   "source": [
    "collection_data_imageLinks.rename(columns= {\"atom_id\": \"c_atom_id\"}, inplace=True)"
   ]
  },
  {
   "cell_type": "code",
   "execution_count": null,
   "id": "67452618",
   "metadata": {},
   "outputs": [],
   "source": [
    "collection_data_imageLinks.to_csv(\"../data/output/collection_data_imageLinks.csv\", encoding=\"utf-8\")"
   ]
  },
  {
   "cell_type": "markdown",
   "id": "36d53515",
   "metadata": {},
   "source": [
    "## get fond img path from archives folder"
   ]
  },
  {
   "cell_type": "code",
   "execution_count": null,
   "id": "1a98fc24",
   "metadata": {},
   "outputs": [],
   "source": [
    "namespaces = {\"atom\": \"http://www.w3.org/2005/Atom\", \"cei\": \"http://www.monasterium.net/NS/cei\", \"xrx\": \"http://www.monasterium.net/NS/xrx\", \"ead\": \"urn:isbn:1-931666-22-9\"}\n",
    "directoryPath = \"../data/db/mom-data/metadata.fond.public\"\n",
    "fileExtensionPref = \"*.preferences.xml\"\n",
    "fileExtensionEAD = \"*.ead.xml\""
   ]
  },
  {
   "cell_type": "code",
   "execution_count": null,
   "id": "cd80c2ed",
   "metadata": {},
   "outputs": [],
   "source": [
    "lists = [\"dir\", \"image_server_base_url\", \"atom_ID\", \"unit_ID\"]\n",
    "dir, image_server_base_url, atom_ID, unit_ID = ([] for i in range(len(lists))) # creates generator items instead of lists when only one is selected? how can this be used/exploited?"
   ]
  },
  {
   "cell_type": "code",
   "execution_count": null,
   "id": "65d50470",
   "metadata": {},
   "outputs": [],
   "source": [
    "for file in Path(directoryPath).rglob(fileExtensionPref):\n",
    "    dir.append(str(Path(file).parent.parent.name) + \"/\" + str(Path(file.parent.name)))\n",
    "    tree = etree.parse(str(file))\n",
    "    image_server_base_url.append(tree.xpath(\"//xrx:param[@name='image-server-base-url']/text()\", namespaces = namespaces))"
   ]
  },
  {
   "cell_type": "code",
   "execution_count": null,
   "id": "8e46359a",
   "metadata": {},
   "outputs": [],
   "source": [
    "fond_data_pref = list(zip(dir, image_server_base_url))\n",
    "fond_data_pref = pd.DataFrame(fond_data_pref).rename(columns={0: \"dir\", 1: \"image_server_base_url\"}).explode(\"image_server_base_url\")"
   ]
  },
  {
   "cell_type": "code",
   "execution_count": null,
   "id": "0be5d4ad",
   "metadata": {},
   "outputs": [],
   "source": [
    "lists = [\"dir\", \"image_server_base_url\", \"atom_ID\", \"unit_ID\"]\n",
    "dir, image_server_base_url, atom_ID, unit_ID = ([] for i in range(len(lists))) # creates generator items instead of lists when only one is selected? how can this be used/exploited?"
   ]
  },
  {
   "cell_type": "code",
   "execution_count": null,
   "id": "0465eb2a",
   "metadata": {},
   "outputs": [],
   "source": [
    "for file in Path(directoryPath).rglob(fileExtensionEAD):\n",
    "    dir.append(str(Path(file).parent.parent.name) + \"/\" + str(Path(file.parent.name)))\n",
    "    tree = etree.parse(str(file))\n",
    "    atom_ID.append(tree.xpath(\"//atom:id/text()\", namespaces = namespaces))\n",
    "    unit_ID.append(tree.xpath(\"//ead:unitid/@identifier\", namespaces = namespaces))"
   ]
  },
  {
   "cell_type": "code",
   "execution_count": null,
   "id": "114f4223",
   "metadata": {},
   "outputs": [],
   "source": [
    "fond_data_EAD = list(zip(dir, atom_ID, unit_ID))\n",
    "fond_data_EAD = pd.DataFrame(fond_data_EAD).rename(columns={0: \"dir\", 1: \"atom_ID\", 2: \"unit_ID\"}).explode(\"atom_ID\").explode(\"unit_ID\")"
   ]
  },
  {
   "cell_type": "code",
   "execution_count": null,
   "id": "91e41fe6",
   "metadata": {},
   "outputs": [],
   "source": [
    "fond_data_outer = fond_data_EAD.merge(fond_data_pref, on=\"dir\", how=\"outer\")\n",
    "fond_data_inner = fond_data_EAD.merge(fond_data_pref, on=\"dir\", how=\"inner\")"
   ]
  },
  {
   "cell_type": "code",
   "execution_count": null,
   "id": "94846dc9",
   "metadata": {},
   "outputs": [],
   "source": [
    "fond_data_outer[\"dir\"] = fond_data_outer[\"atom_ID\"].str.split(\"/\")\n",
    "\n",
    "atom_ID = []\n",
    "\n",
    "for cell in fond_data_outer[\"dir\"]:\n",
    "    atom_ID.append(f\"{(cell)[-2]}/{(cell)[-1]}\")\n",
    "\n",
    "fond_data_outer[\"dir\"] = atom_ID"
   ]
  },
  {
   "cell_type": "code",
   "execution_count": null,
   "id": "a56cdb54",
   "metadata": {},
   "outputs": [],
   "source": [
    "fond_data_imgLinks = fond_data_outer.drop([\"unit_ID\"], axis=1)[[\"atom_ID\", \"dir\", \"image_server_base_url\"]]"
   ]
  },
  {
   "cell_type": "code",
   "execution_count": null,
   "id": "14608a92",
   "metadata": {},
   "outputs": [],
   "source": [
    "fond_data_imgLinks.rename(columns={\"atom_ID\": \"f_atom_id\"}, inplace=True)"
   ]
  },
  {
   "cell_type": "code",
   "execution_count": null,
   "id": "0eee7325",
   "metadata": {},
   "outputs": [],
   "source": [
    "fond_data_imgLinks.to_csv(\"../data/output/fond_data_imgLinks.csv\", encoding=\"utf-8\")"
   ]
  },
  {
   "cell_type": "code",
   "execution_count": null,
   "id": "f2af1992",
   "metadata": {},
   "outputs": [],
   "source": [
    "fonds_without_baseURL = pd.concat([fond_data_outer,fond_data_inner]).drop_duplicates(keep=False)"
   ]
  },
  {
   "cell_type": "code",
   "execution_count": null,
   "id": "0f5ef0a7",
   "metadata": {},
   "outputs": [],
   "source": [
    "fonds_without_baseURL.to_csv(\"../data/output/fonds_without_baseURL.csv\", encoding=\"utf-8\", index=False)"
   ]
  },
  {
   "cell_type": "markdown",
   "id": "97187591",
   "metadata": {},
   "source": [
    "## build image urls for charter files"
   ]
  },
  {
   "cell_type": "code",
   "execution_count": null,
   "id": "7ee3d8af",
   "metadata": {},
   "outputs": [],
   "source": [
    "#df_fresh = pd.read_csv('../data/output/id+origImageLink+copyImageLink+hasImage_exploded_full.csv', encoding=\"utf-8\")"
   ]
  },
  {
   "cell_type": "code",
   "execution_count": null,
   "id": "75d9e92c",
   "metadata": {},
   "outputs": [],
   "source": [
    "fond_data_imgLinks = pd.read_csv(\"../data/output/fond_data_imgLinks.csv\", encoding=\"utf-8\", index_col=[0])\n",
    "collection_data_imageLinks = pd.read_csv(\"../data/output/collection_data_imageLinks.csv\", encoding=\"utf-8\", index_col=[0])"
   ]
  },
  {
   "cell_type": "code",
   "execution_count": null,
   "id": "3f9b5da8",
   "metadata": {},
   "outputs": [],
   "source": [
    "df_fresh = pd.read_csv(\"../data/output/charters_badLinks_parted.csv\", encoding=\"utf-8\", index_col=[0])"
   ]
  },
  {
   "cell_type": "code",
   "execution_count": null,
   "id": "e3b9c49f",
   "metadata": {},
   "outputs": [],
   "source": [
    "df_collection = ((df_fresh.drop([\"archive\", \"fond\"], axis=1))[df_fresh.collection.notnull()]).reset_index(drop=True)\n",
    "df_archive = ((df_fresh.drop([\"collection\"], axis=1))[df_fresh.archive.notnull()]).reset_index(drop=True)"
   ]
  },
  {
   "cell_type": "code",
   "execution_count": null,
   "id": "f79ca7b8",
   "metadata": {},
   "outputs": [],
   "source": [
    "df_collection[\"dir\"] = df_collection[\"collection\"]\n",
    "df_archive[\"dir\"] = df_archive[\"archive\"] + \"/\" + df_archive[\"fond\"]"
   ]
  },
  {
   "cell_type": "code",
   "execution_count": null,
   "id": "e0afdbc7",
   "metadata": {},
   "outputs": [],
   "source": [
    "df_collection_links = pd.merge(df_collection, collection_data_imageLinks, on=\"dir\", how=\"outer\")\n",
    "df_archive_links = pd.merge(df_archive, fond_data_imgLinks, on=\"dir\", how=\"outer\")"
   ]
  },
  {
   "cell_type": "code",
   "execution_count": null,
   "id": "deefb59d",
   "metadata": {},
   "outputs": [],
   "source": [
    "df_collection_links[\"charter_image_url\"] = \"http://\" + df_collection_links[\"image_server_address\"] + \"/\" + df_collection_links[\"image_server_folder\"] + \"/\" + df_collection_links[\"cei_graphic_ATTRIBUTE_url\"]\n",
    "df_archive_links[\"charter_image_url\"] = df_archive_links[\"image_server_base_url\"] + \"/\" + df_archive_links[\"cei_graphic_ATTRIBUTE_url\"]"
   ]
  },
  {
   "cell_type": "code",
   "execution_count": null,
   "id": "06200394",
   "metadata": {},
   "outputs": [],
   "source": [
    "df_collection_links_clean = df_collection_links.drop([\"collection\", \"dir\", \"c_atom_id\", \"atom_parts\", \"image_server_address\", \"image_server_folder\"], axis=1)\n",
    "df_archive_links_clean = df_archive_links.drop([\"archive\", \"archive\", \"fond\", \"dir\", \"f_atom_id\", \"atom_parts\", \"image_server_base_url\"], axis=1)"
   ]
  },
  {
   "cell_type": "code",
   "execution_count": null,
   "id": "3b89f062",
   "metadata": {},
   "outputs": [],
   "source": [
    "df_collection_links_clean.dropna(inplace=True)\n",
    "df_archive_links_clean.dropna(inplace=True)"
   ]
  },
  {
   "cell_type": "code",
   "execution_count": null,
   "id": "f049384b",
   "metadata": {},
   "outputs": [],
   "source": [
    "df_collection_links_clean.to_csv(\"../data/output/df_collection_links_clean.csv\", encoding=\"utf-8\")\n",
    "df_archive_links_clean.to_csv(\"../data/output/df_archive_links_clean.csv\", encoding=\"utf-8\")"
   ]
  },
  {
   "cell_type": "markdown",
   "id": "953e54cc",
   "metadata": {},
   "source": [
    "## check img urls for up down"
   ]
  },
  {
   "cell_type": "code",
   "execution_count": null,
   "id": "ddc712f6",
   "metadata": {},
   "outputs": [],
   "source": [
    "df_collection_links_clean = pd.read_csv(\"../data/output/df_collection_links_clean.csv\", encoding=\"utf-8\", index_col=[0])\n",
    "df_archive_links_clean = pd.read_csv(\"../data/output/df_archive_links_clean.csv\", encoding=\"utf-8\", index_col=[0])"
   ]
  },
  {
   "cell_type": "code",
   "execution_count": null,
   "id": "472a6104",
   "metadata": {},
   "outputs": [],
   "source": [
    "#df_archive_links_clean_test = df_archive_links_clean.sample(n=50)\n",
    "df_archive_links_clean_test = final_df.sample(n=150)"
   ]
  },
  {
   "cell_type": "code",
   "execution_count": null,
   "id": "94a93c45",
   "metadata": {},
   "outputs": [],
   "source": [
    "df_archive_links_clean_test"
   ]
  },
  {
   "cell_type": "code",
   "execution_count": null,
   "id": "70b34d69",
   "metadata": {},
   "outputs": [],
   "source": [
    "df_archive_links_clean_test_snap = df_archive_links_clean_test"
   ]
  },
  {
   "cell_type": "code",
   "execution_count": null,
   "id": "8c5470a3",
   "metadata": {},
   "outputs": [],
   "source": [
    "def get_url_status_try(url):\n",
    "    request = requests.get(url)\n",
    "    status_code = request.status_code\n",
    "    return status_code"
   ]
  },
  {
   "cell_type": "code",
   "execution_count": null,
   "id": "bf8ebefe",
   "metadata": {},
   "outputs": [],
   "source": [
    "for url in df_archive_links_clean_test_snap[\"charter_image_url\"]:\n",
    "    print(url)\n",
    "    print(get_url_status_try(url))\n",
    "    df_archive_links_clean_test_snap[\"ping_code\"] = get_url_status_try(url)\n",
    "    df_archive_links_clean_test_snap[\"ping_when\"] = datetime.datetime.now()"
   ]
  },
  {
   "cell_type": "code",
   "execution_count": null,
   "id": "8f6f67cd",
   "metadata": {},
   "outputs": [],
   "source": [
    "# def get_url_status_requests(url):\n",
    "#     if type(url) == str:\n",
    "#         url_clean = url.replace(\" \", \"%20\")\n",
    "#         request = requests.get(url_clean)\n",
    "#         status_code = request.status_code\n",
    "#         return status_code\n",
    "#     else:\n",
    "#         return \"Failed.\""
   ]
  },
  {
   "cell_type": "code",
   "execution_count": null,
   "id": "1d582c92",
   "metadata": {},
   "outputs": [],
   "source": [
    "df_archive_links_clean_test.to_csv(\"../data/output/tests/df_archive_links_clean_test.csv\", encoding=\"utf-8\")"
   ]
  },
  {
   "cell_type": "markdown",
   "id": "5d665312",
   "metadata": {},
   "source": [
    "# merge generated paths with existing ones (bad and good charters, unite!)"
   ]
  },
  {
   "cell_type": "code",
   "execution_count": null,
   "id": "708523a2",
   "metadata": {},
   "outputs": [],
   "source": [
    "df_collection_links_clean = pd.read_csv(\"../data/output/df_collection_links_clean.csv\", encoding=\"utf-8\", index_col=[0])\n",
    "df_archive_links_clean = pd.read_csv(\"../data/output/df_archive_links_clean.csv\", encoding=\"utf-8\", index_col=[0])"
   ]
  },
  {
   "cell_type": "code",
   "execution_count": null,
   "id": "ef203130",
   "metadata": {},
   "outputs": [],
   "source": [
    "charter_image_list_fresh = pd.read_csv(\"../data/output/charter_image_list_explodedmetadata.charter.public.csv\", encoding=\"utf-8\")"
   ]
  },
  {
   "cell_type": "code",
   "execution_count": null,
   "id": "b5020ebb",
   "metadata": {},
   "outputs": [],
   "source": [
    "charter_image_list = charter_image_list_fresh\n"
   ]
  },
  {
   "cell_type": "code",
   "execution_count": null,
   "id": "c6a62b69",
   "metadata": {},
   "outputs": [],
   "source": [
    "charter_image_list"
   ]
  },
  {
   "cell_type": "code",
   "execution_count": null,
   "id": "bea4e756",
   "metadata": {},
   "outputs": [],
   "source": [
    "charter_imageList_badLinks = (charter_image_list[~charter_image_list.cei_graphic_ATTRIBUTE_url.str.startswith(\"http\", na=False)])[~charter_image_list.cei_graphic_ATTRIBUTE_url.isna()]\n",
    "charter_imageList_goodLinks = charter_image_list[charter_image_list.cei_graphic_ATTRIBUTE_url.str.startswith(\"http\", na=False)]\n",
    "charter_imageList_noLinks = charter_image_list[charter_image_list.cei_graphic_ATTRIBUTE_url.isna()]"
   ]
  },
  {
   "cell_type": "code",
   "execution_count": null,
   "id": "90104cc7",
   "metadata": {},
   "outputs": [],
   "source": []
  },
  {
   "cell_type": "code",
   "execution_count": null,
   "id": "8e9e034d",
   "metadata": {},
   "outputs": [],
   "source": [
    "print(f\"There are {len(charter_imageList_badLinks)} images with 'bad' image links.\")\n",
    "print(f\"There are {len(charter_imageList_goodLinks)} images with 'good' image links.\")\n",
    "print(f\"There are {len(charter_imageList_noLinks)} charters with 'no' image links.\")"
   ]
  },
  {
   "cell_type": "code",
   "execution_count": null,
   "id": "a748ddc9",
   "metadata": {},
   "outputs": [],
   "source": [
    "df_collection_links_clean"
   ]
  },
  {
   "cell_type": "code",
   "execution_count": null,
   "id": "909634f4",
   "metadata": {},
   "outputs": [],
   "source": [
    "charter_imageList_goodLinks"
   ]
  },
  {
   "cell_type": "code",
   "execution_count": null,
   "id": "6d549668",
   "metadata": {},
   "outputs": [],
   "source": [
    "charter_imageList_goodLinks[\"charter_image_url\"] = charter_imageList_goodLinks[\"cei_graphic_ATTRIBUTE_url\"]"
   ]
  },
  {
   "cell_type": "code",
   "execution_count": null,
   "id": "564c042d",
   "metadata": {},
   "outputs": [],
   "source": [
    "charter_imageList_goodLinks.drop(columns=\"cei_graphic_ATTRIBUTE_url\", inplace=True)"
   ]
  },
  {
   "cell_type": "code",
   "execution_count": null,
   "id": "ecdeaa40",
   "metadata": {},
   "outputs": [],
   "source": [
    "charter_imageList_goodLinks"
   ]
  },
  {
   "cell_type": "code",
   "execution_count": null,
   "id": "faa81c81",
   "metadata": {},
   "outputs": [],
   "source": [
    "badCharterCorrectedMerged = pd.concat([df_collection_links_clean, df_archive_links_clean])"
   ]
  },
  {
   "cell_type": "code",
   "execution_count": null,
   "id": "9b570873",
   "metadata": {},
   "outputs": [],
   "source": [
    "badCharterCorrectedMerged"
   ]
  },
  {
   "cell_type": "code",
   "execution_count": null,
   "id": "9e737a94",
   "metadata": {},
   "outputs": [],
   "source": [
    "badCharterCorrectedMergedClean = badCharterCorrectedMerged.drop(columns=[\"cei_graphic_ATTRIBUTE_url\"])"
   ]
  },
  {
   "cell_type": "code",
   "execution_count": null,
   "id": "17457afb",
   "metadata": {},
   "outputs": [],
   "source": [
    "chartersWithImages_merged_final = charter_imageList_goodLinks.merge(badCharterCorrectedMergedClean, on=\"atom_id\", how=\"outer\")"
   ]
  },
  {
   "cell_type": "code",
   "execution_count": null,
   "id": "dc4b4c58",
   "metadata": {},
   "outputs": [],
   "source": [
    "final_df = pd.concat([charter_imageList_goodLinks, badCharterCorrectedMergedClean])"
   ]
  },
  {
   "cell_type": "code",
   "execution_count": null,
   "id": "d5f8dc26",
   "metadata": {},
   "outputs": [],
   "source": [
    "final_df.reset_index().drop()"
   ]
  },
  {
   "cell_type": "code",
   "execution_count": null,
   "metadata": {},
   "outputs": [],
   "source": [
    "final_df.reset_index(inplace=True, drop=True)"
   ]
  },
  {
   "cell_type": "code",
   "execution_count": null,
   "id": "c536ff72",
   "metadata": {},
   "outputs": [],
   "source": [
    "len(final_df.loc[final_df[\"charter_image_url\"].str.contains(\"monasterium\")])"
   ]
  },
  {
   "cell_type": "code",
   "execution_count": null,
   "id": "8a187f91",
   "metadata": {},
   "outputs": [],
   "source": [
    "test = final_df.drop_duplicates(subset=\"charter_image_url\")"
   ]
  },
  {
   "cell_type": "code",
   "execution_count": null,
   "id": "73dc97cb",
   "metadata": {},
   "outputs": [],
   "source": [
    "test.reset_index(inplace=True, drop=True)"
   ]
  },
  {
   "cell_type": "code",
   "execution_count": null,
   "id": "de3cd041",
   "metadata": {},
   "outputs": [],
   "source": [
    "difference = pd.concat([test,final_df]).drop_duplicates(keep=False)"
   ]
  },
  {
   "cell_type": "code",
   "execution_count": null,
   "id": "e39f81d6",
   "metadata": {},
   "outputs": [],
   "source": [
    "difference.reset_index(inplace=True, drop=True)"
   ]
  },
  {
   "cell_type": "code",
   "execution_count": null,
   "id": "860533d8",
   "metadata": {},
   "outputs": [],
   "source": [
    "difference"
   ]
  },
  {
   "cell_type": "code",
   "execution_count": null,
   "id": "38494f6f",
   "metadata": {},
   "outputs": [],
   "source": [
    "len(test.loc[~test[\"charter_image_url\"].str.contains(\"monasterium\")])"
   ]
  },
  {
   "cell_type": "code",
   "execution_count": null,
   "id": "04d259e4",
   "metadata": {},
   "outputs": [],
   "source": [
    "len(test.loc[test[\"charter_image_url\"].str.contains(\"monasterium\")])"
   ]
  },
  {
   "cell_type": "code",
   "execution_count": null,
   "id": "7c495185",
   "metadata": {},
   "outputs": [],
   "source": [
    "len(test.loc[~final_df[\"charter_image_url\"].str.contains(\"monasterium\")])"
   ]
  },
  {
   "cell_type": "code",
   "execution_count": null,
   "id": "4228a6a3",
   "metadata": {},
   "outputs": [],
   "source": [
    "final_df.to_csv(\"../data/output/all_charters_from_dump.csv\", encoding=\"utf-8\")"
   ]
  },
  {
   "cell_type": "markdown",
   "id": "ce6ea0ae",
   "metadata": {},
   "source": [
    "# Mapping "
   ]
  },
  {
   "cell_type": "markdown",
   "id": "f7b15542-f253-494e-836e-3472ae77756a",
   "metadata": {
    "tags": []
   },
   "source": [
    "## mapping of xml schema to dictionary-like file"
   ]
  },
  {
   "cell_type": "markdown",
   "id": "ec273ac1",
   "metadata": {},
   "source": [
    "### to-do:\n",
    "- automate xpath extraction either from files or schema instead of using third-party solution\n",
    "- find solution for exceptions when mapping automatically (goal: hierarchies of tags for use cases should be expressed in the mapping as well)"
   ]
  },
  {
   "cell_type": "code",
   "execution_count": null,
   "id": "c3040012",
   "metadata": {},
   "outputs": [],
   "source": [
    "#remove duplicate xpaths in file to map\n",
    "lines_seen = set()\n",
    "\n",
    "with open(\"../data/mapping/in.txt\", \"r\") as infile:\n",
    "    for line in infile:\n",
    "        lines_seen.add(line)\n",
    "\n",
    "with open(\"../data/mapping/out.txt\", \"w\") as outfile:\n",
    "    outfile.write(\"\".join(lines_seen))"
   ]
  },
  {
   "cell_type": "code",
   "execution_count": null,
   "id": "7490190c",
   "metadata": {},
   "outputs": [],
   "source": [
    "# exceptions = [\"cei:figure\", \"cei:graphic\", \"cei:idno\"]\n",
    "dictionary = {}\n",
    "\n",
    "with open(\"../data/mapping/out.txt\", encoding=\"utf-8\") as f:\n",
    "    lines = f.read().splitlines()\n",
    "    lines = sorted(lines, key=len)\n",
    "    for line in lines:\n",
    "        split = line.lstrip(\"/\").split(\"/\")\n",
    "        key = split[-1]\n",
    "        if key in dictionary:\n",
    "            dictionary[f\"{split[-2]}/{key}\"] = line\n",
    "        else:\n",
    "            dictionary[key] = line"
   ]
  },
  {
   "cell_type": "code",
   "execution_count": null,
   "id": "447da55f",
   "metadata": {},
   "outputs": [],
   "source": [
    "with open('../data/mapping/CEI2CSV.pkl', 'wb') as f:\n",
    "    pickle.dump(dictionary, f)"
   ]
  },
  {
   "cell_type": "markdown",
   "id": "8b101b52",
   "metadata": {},
   "source": [
    "## indexing files"
   ]
  },
  {
   "cell_type": "code",
   "execution_count": null,
   "id": "33dc4860",
   "metadata": {},
   "outputs": [],
   "source": [
    "directoryPath = \"../data/db/mom-data/metadata.charter.public\"\n",
    "fileExtension = \"*.cei.xml\""
   ]
  },
  {
   "cell_type": "code",
   "execution_count": null,
   "id": "110baa1a",
   "metadata": {},
   "outputs": [],
   "source": [
    "import hashlib\n",
    "\n",
    "def createIndex(file_to_index):\n",
    "    md5_hash = hashlib.md5()\n",
    "    with open(file_to_index, \"rb\") as file:\n",
    "        content = file.read()\n",
    "        md5_hash.update(content)\n",
    "        digest = md5_hash.hexdigest()\n",
    "        return(digest)"
   ]
  },
  {
   "cell_type": "code",
   "execution_count": null,
   "id": "9b6c5a26",
   "metadata": {},
   "outputs": [],
   "source": [
    "charter_index = {f\"{createIndex(file)}\": f\"{PurePosixPath(file)}\" for file in Path(directoryPath).rglob(fileExtension)}"
   ]
  },
  {
   "cell_type": "code",
   "execution_count": null,
   "id": "1913efca",
   "metadata": {},
   "outputs": [],
   "source": [
    "index_path = Path(\"../data/mapping/index.pkl\")\n",
    "\n",
    "with index_path.open(\"wb\") as file:\n",
    "    pickle.dump(charter_index, file, pickle.HIGHEST_PROTOCOL)"
   ]
  },
  {
   "cell_type": "code",
   "execution_count": null,
   "id": "5a67c2a8",
   "metadata": {},
   "outputs": [],
   "source": [
    "index_path = Path(\"../data/mapping/index.pkl\")\n",
    "\n",
    "with index_path.open('rb') as file:\n",
    "    image = pickle.load(file)"
   ]
  },
  {
   "cell_type": "markdown",
   "id": "ed0282be",
   "metadata": {},
   "source": [
    "### dynamic query functions to get xml data"
   ]
  },
  {
   "cell_type": "markdown",
   "id": "8112bfc4",
   "metadata": {},
   "source": [
    "in 1 function:\n",
    "- open the file\n",
    "- parse the file and make tree\n",
    "- for each field that is desired, append to respective list in dictionary an xpath expression map[field]\n",
    "\n"
   ]
  },
  {
   "cell_type": "code",
   "execution_count": null,
   "id": "f1ee5893",
   "metadata": {},
   "outputs": [],
   "source": [
    "def is_cei_attrib(entry, map):\n",
    "    if \"@\" in map.get(entry):\n",
    "        return True\n",
    "    else:\n",
    "        return False"
   ]
  },
  {
   "cell_type": "code",
   "execution_count": null,
   "id": "c917cada",
   "metadata": {},
   "outputs": [],
   "source": [
    "result = (is_cei_attrib(field, map) for field in list_dict)\n",
    "for item in result:\n",
    "    print(item)"
   ]
  },
  {
   "cell_type": "code",
   "execution_count": null,
   "id": "758b9543",
   "metadata": {},
   "outputs": [],
   "source": [
    "def append_element_to_list(element, list, map):\n",
    "    list.append(tree.xpath(f\"{map[element]}/text()\", namespaces = namespaces, smart_strings = False))"
   ]
  },
  {
   "cell_type": "code",
   "execution_count": null,
   "id": "07ebc016",
   "metadata": {},
   "outputs": [],
   "source": [
    "def append_attribute_to_list(element, list, map):\n",
    "    list.append(tree.xpath(f\"{map[element]}\", namespaces = namespaces, smart_strings = False))"
   ]
  },
  {
   "cell_type": "code",
   "execution_count": null,
   "id": "9b1bc0a1",
   "metadata": {},
   "outputs": [],
   "source": [
    "def get_elements(file, dict):\n",
    "    with open(file, \"r\", encoding=\"utf-8\") as f:\n",
    "        tree = etree.parse(f)\n",
    "        for field in field_dict:\n",
    "            field_dict[field].append(tree.xpath(f\"{map[field]}\", namespaces = namespaces, smart_strings = False))\n",
    "            return field_dict[field]"
   ]
  },
  {
   "cell_type": "code",
   "execution_count": null,
   "id": "7837ba6f",
   "metadata": {},
   "outputs": [],
   "source": [
    "field_dict = {field:[] for field in fields}\n",
    "field_dict"
   ]
  },
  {
   "cell_type": "code",
   "execution_count": null,
   "id": "54c1d4e6",
   "metadata": {},
   "outputs": [],
   "source": [
    "newFrame = pd.DataFrame.from_dict(field_dict)"
   ]
  },
  {
   "cell_type": "markdown",
   "id": "8a86a558",
   "metadata": {},
   "source": [
    "# Is a charter of a collection stemming from Google OCR?"
   ]
  },
  {
   "cell_type": "code",
   "execution_count": null,
   "id": "a7d85aab",
   "metadata": {},
   "outputs": [],
   "source": [
    "# todo: get_parentType - check whether charter is collection or archive\n",
    "# todo: get_parentID - "
   ]
  },
  {
   "cell_type": "code",
   "execution_count": null,
   "id": "5e05c752",
   "metadata": {},
   "outputs": [],
   "source": [
    "collection_data = pd.read_parquet(\"../data/output/collection_data.parquet\")"
   ]
  },
  {
   "cell_type": "code",
   "execution_count": null,
   "id": "d9c2e8f3",
   "metadata": {},
   "outputs": [],
   "source": [
    "charter_data = pd.read_parquet(\"../data/output/charters_full_2022-06-15.parquet\")"
   ]
  },
  {
   "cell_type": "code",
   "execution_count": null,
   "id": "bb9ea624",
   "metadata": {},
   "outputs": [],
   "source": [
    "charter_data[\"atom_id_split\"] = charter_data[\"atom_id\"].explode().str.split('/')"
   ]
  },
  {
   "cell_type": "code",
   "execution_count": null,
   "id": "09592dbd",
   "metadata": {},
   "outputs": [],
   "source": [
    "for cell in charter_data[\"atom_id_split\"]:\n",
    "    del cell[:2]"
   ]
  },
  {
   "cell_type": "code",
   "execution_count": null,
   "id": "359560e9",
   "metadata": {},
   "outputs": [],
   "source": [
    "lists = [\"archive\", \"fond\", \"collection\"]\n",
    "archive, fond, collection = ([] for i in range(len(lists)))\n",
    "\n",
    "for cell in charter_data[\"atom_id_split\"]:\n",
    "    if len(cell) == 3:\n",
    "        archive.append(cell[0])\n",
    "        fond.append(cell[1])\n",
    "        collection.append(None)\n",
    "    elif len(cell) == 2:\n",
    "        archive.append(None)\n",
    "        fond.append(None)\n",
    "        collection.append(cell[0])\n",
    "    else:\n",
    "        continue\n",
    "\n",
    "contents = list(zip(archive, fond, collection))\n",
    "contents_df = pd.DataFrame(contents).rename(columns={0: \"archive\", 1: \"fond\", 2: \"collection\"})"
   ]
  },
  {
   "cell_type": "code",
   "execution_count": null,
   "id": "b6ccd7c2",
   "metadata": {},
   "outputs": [],
   "source": [
    "contents_df[\"atom_id\"] = charter_data[\"atom_id\"]"
   ]
  },
  {
   "cell_type": "code",
   "execution_count": null,
   "id": "d70158d7",
   "metadata": {},
   "outputs": [],
   "source": [
    "contents_df[\"atom_id_split\"] = charter_data[\"atom_id_split\"]"
   ]
  },
  {
   "cell_type": "code",
   "execution_count": null,
   "id": "67808924",
   "metadata": {},
   "outputs": [],
   "source": [
    "contents_df.drop(columns=[\"archive\", \"fond\"], inplace=True)"
   ]
  },
  {
   "cell_type": "code",
   "execution_count": null,
   "metadata": {},
   "outputs": [],
   "source": [
    "contents_df.dropna(inplace=True)"
   ]
  },
  {
   "cell_type": "code",
   "execution_count": null,
   "id": "e23e6600",
   "metadata": {},
   "outputs": [],
   "source": [
    "contents_df.reset_index(drop=True)"
   ]
  },
  {
   "cell_type": "code",
   "execution_count": null,
   "id": "d9f3967e",
   "metadata": {},
   "outputs": [],
   "source": [
    "contents_df"
   ]
  },
  {
   "cell_type": "code",
   "execution_count": null,
   "id": "bf043173",
   "metadata": {},
   "outputs": [],
   "source": [
    "collection_data[\"collection\"] = collection_data.explode(\"atom_id\")[\"atom_id\"].str.split('/')"
   ]
  },
  {
   "cell_type": "code",
   "execution_count": null,
   "id": "b93eff73",
   "metadata": {},
   "outputs": [],
   "source": [
    "for cell in collection_data[\"collection\"]:\n",
    "    del cell[:2]"
   ]
  },
  {
   "cell_type": "code",
   "execution_count": null,
   "id": "04135190",
   "metadata": {},
   "outputs": [],
   "source": [
    "collectionsExploded = (collection_data.filter([\"collection\", \"sourceDesc\", \"xrx_keyword\"]).explode(\"sourceDesc\").explode(\"collection\").explode(\"xrx_keyword\"))"
   ]
  },
  {
   "cell_type": "code",
   "execution_count": null,
   "id": "4123ab50",
   "metadata": {},
   "outputs": [],
   "source": [
    "collectionsFromGoogle = collectionsExploded.loc[collectionsExploded[\"sourceDesc\"].str.contains(\"Google\", na=False)].reset_index(drop=True)"
   ]
  },
  {
   "cell_type": "code",
   "execution_count": null,
   "id": "10354c37",
   "metadata": {},
   "outputs": [],
   "source": [
    "collectionsFromGoogle[\"collection\"].to_csv(\"../data/output/collectionsFromGoogle.csv\", encoding=\"utf-8\")"
   ]
  },
  {
   "cell_type": "code",
   "execution_count": null,
   "id": "2c7b4086",
   "metadata": {},
   "outputs": [],
   "source": [
    "collectionChartersFromGoogle = pd.merge(contents_df, collectionsFromGoogle, how=\"inner\", on=\"collection\")"
   ]
  },
  {
   "cell_type": "code",
   "execution_count": null,
   "id": "4562f873",
   "metadata": {},
   "outputs": [],
   "source": [
    "collectionChartersFromGoogle.explode(\"atom_id\")[\"atom_id\"].to_csv(\"../data/output/collectionChartersFromGoogle.csv\", encoding=\"utf-8\")"
   ]
  },
  {
   "cell_type": "markdown",
   "id": "02e4246d",
   "metadata": {},
   "source": [
    "##    How many Czech charters are there?\n"
   ]
  },
  {
   "cell_type": "code",
   "execution_count": null,
   "id": "6fc77880",
   "metadata": {},
   "outputs": [],
   "source": [
    "charter_data = pd.read_parquet(\"../data/output/charters_full_2022-06-15.parquet\")"
   ]
  },
  {
   "cell_type": "code",
   "execution_count": null,
   "id": "89aa268e",
   "metadata": {},
   "outputs": [],
   "source": [
    "x = charter_data.explode(\"atom_id\")\n",
    "x = x[x[\"atom_id\"].str.contains(\"charter/CZ-\", na=False)]"
   ]
  },
  {
   "cell_type": "code",
   "execution_count": null,
   "id": "52aa87b6",
   "metadata": {},
   "outputs": [],
   "source": [
    "for row in charter_data[\"cei_tenor\"].sample(n=10):\n",
    "    print(row, type(row))"
   ]
  },
  {
   "cell_type": "code",
   "execution_count": null,
   "id": "5903b328",
   "metadata": {},
   "outputs": [],
   "source": [
    "for row in charter_data.explode(\"cei_tenor\")[\"cei_tenor\"].sample(n=10):\n",
    "    print(row, type(row))"
   ]
  },
  {
   "cell_type": "markdown",
   "id": "2218b8a7",
   "metadata": {},
   "source": [
    "## How many brackets in tenor tags?"
   ]
  },
  {
   "cell_type": "code",
   "execution_count": null,
   "id": "2ce56a6c",
   "metadata": {},
   "outputs": [],
   "source": [
    "charter_data_exploded = charter_data.explode(\"cei_tenor\")\n",
    "tenor_with_brackets = charter_data_exploded[charter_data_exploded[\"cei_tenor\"].str.contains(\"\\(.*\\)\", na=False, regex=True)]\n",
    "test = tenor_with_brackets.sample(n=50).explode(\"atom_id\")\n",
    "for id in test[\"atom_id\"]:\n",
    "    print(get_url(id))"
   ]
  },
  {
   "cell_type": "markdown",
   "id": "bb8afb8c",
   "metadata": {},
   "source": [
    "# dummies"
   ]
  },
  {
   "cell_type": "code",
   "execution_count": null,
   "id": "34edf9fa",
   "metadata": {},
   "outputs": [],
   "source": [
    "# dummy test list\n",
    "atom_id_list = charter_data.explode(\"atom_id\")[\"atom_id\"].to_list()"
   ]
  },
  {
   "cell_type": "code",
   "execution_count": null,
   "id": "a3854570",
   "metadata": {},
   "outputs": [],
   "source": [
    "charter_data = pd.read_parquet(\"../../../ZimLab/didip/general/general/data/output/charters_full_2022-06-15.parquet\")\n",
    "\n",
    "atom_id_list = charter_data[\"atom_id\"].explode().to_list()\n",
    "#sample = random.sample(atom_id_list, 1000)\n",
    "\n",
    "with open('../data/output/atomids.txt', 'w') as f:\n",
    "    for line in atom_id_list:\n",
    "        f.write(f\"{line}\\n\")"
   ]
  },
  {
   "cell_type": "code",
   "execution_count": null,
   "id": "122baebd",
   "metadata": {},
   "outputs": [],
   "source": [
    "atom_id_lst = []\n",
    "url_lst = []\n",
    "\n",
    "for item in atom_id_list:\n",
    "    atom_id_lst.append(item)\n",
    "    url_lst.append(get_url(item))\n",
    "\n",
    "df = list(zip(atom_id_lst, url_lst))\n",
    "df_full = pd.DataFrame(df).rename(columns={ 0:'atom_id', 1:'url'})\n",
    "\n",
    "df_full.to_csv(\"atomID+url.csv\", encoding=\"utf-8\")"
   ]
  },
  {
   "cell_type": "markdown",
   "id": "3bb57e45",
   "metadata": {},
   "source": [
    "# get origs"
   ]
  },
  {
   "cell_type": "code",
   "execution_count": 100,
   "id": "eade17c4",
   "metadata": {},
   "outputs": [
    {
     "ename": "FileNotFoundError",
     "evalue": "[Errno 2] No such file or directory: '../data/output/tests/orig&copyImagePerCharter_test.parquet'",
     "output_type": "error",
     "traceback": [
      "\u001b[0;31m---------------------------------------------------------------------------\u001b[0m",
      "\u001b[0;31mFileNotFoundError\u001b[0m                         Traceback (most recent call last)",
      "\u001b[1;32m/home/atzenhofer/code/didipcv/notebooks/playground.ipynb Cell 272\u001b[0m in \u001b[0;36m<cell line: 1>\u001b[0;34m()\u001b[0m\n\u001b[0;32m----> <a href='vscode-notebook-cell://wsl%2Bubuntu/home/atzenhofer/code/didipcv/notebooks/playground.ipynb#Y540sdnNjb2RlLXJlbW90ZQ%3D%3D?line=0'>1</a>\u001b[0m df \u001b[39m=\u001b[39m pd\u001b[39m.\u001b[39;49mread_parquet(\u001b[39m'\u001b[39;49m\u001b[39m../data/output/tests/orig&copyImagePerCharter_test.parquet\u001b[39;49m\u001b[39m'\u001b[39;49m, engine\u001b[39m=\u001b[39;49m\u001b[39m'\u001b[39;49m\u001b[39mpyarrow\u001b[39;49m\u001b[39m'\u001b[39;49m)\n",
      "File \u001b[0;32m/home/atzenhofer/.venv/didipcv/lib/python3.8/site-packages/pandas/io/parquet.py:493\u001b[0m, in \u001b[0;36mread_parquet\u001b[0;34m(path, engine, columns, storage_options, use_nullable_dtypes, **kwargs)\u001b[0m\n\u001b[1;32m    446\u001b[0m \u001b[39m\"\"\"\u001b[39;00m\n\u001b[1;32m    447\u001b[0m \u001b[39mLoad a parquet object from the file path, returning a DataFrame.\u001b[39;00m\n\u001b[1;32m    448\u001b[0m \n\u001b[0;32m   (...)\u001b[0m\n\u001b[1;32m    489\u001b[0m \u001b[39mDataFrame\u001b[39;00m\n\u001b[1;32m    490\u001b[0m \u001b[39m\"\"\"\u001b[39;00m\n\u001b[1;32m    491\u001b[0m impl \u001b[39m=\u001b[39m get_engine(engine)\n\u001b[0;32m--> 493\u001b[0m \u001b[39mreturn\u001b[39;00m impl\u001b[39m.\u001b[39;49mread(\n\u001b[1;32m    494\u001b[0m     path,\n\u001b[1;32m    495\u001b[0m     columns\u001b[39m=\u001b[39;49mcolumns,\n\u001b[1;32m    496\u001b[0m     storage_options\u001b[39m=\u001b[39;49mstorage_options,\n\u001b[1;32m    497\u001b[0m     use_nullable_dtypes\u001b[39m=\u001b[39;49muse_nullable_dtypes,\n\u001b[1;32m    498\u001b[0m     \u001b[39m*\u001b[39;49m\u001b[39m*\u001b[39;49mkwargs,\n\u001b[1;32m    499\u001b[0m )\n",
      "File \u001b[0;32m/home/atzenhofer/.venv/didipcv/lib/python3.8/site-packages/pandas/io/parquet.py:233\u001b[0m, in \u001b[0;36mPyArrowImpl.read\u001b[0;34m(self, path, columns, use_nullable_dtypes, storage_options, **kwargs)\u001b[0m\n\u001b[1;32m    230\u001b[0m \u001b[39mif\u001b[39;00m manager \u001b[39m==\u001b[39m \u001b[39m\"\u001b[39m\u001b[39marray\u001b[39m\u001b[39m\"\u001b[39m:\n\u001b[1;32m    231\u001b[0m     to_pandas_kwargs[\u001b[39m\"\u001b[39m\u001b[39msplit_blocks\u001b[39m\u001b[39m\"\u001b[39m] \u001b[39m=\u001b[39m \u001b[39mTrue\u001b[39;00m  \u001b[39m# type: ignore[assignment]\u001b[39;00m\n\u001b[0;32m--> 233\u001b[0m path_or_handle, handles, kwargs[\u001b[39m\"\u001b[39m\u001b[39mfilesystem\u001b[39m\u001b[39m\"\u001b[39m] \u001b[39m=\u001b[39m _get_path_or_handle(\n\u001b[1;32m    234\u001b[0m     path,\n\u001b[1;32m    235\u001b[0m     kwargs\u001b[39m.\u001b[39;49mpop(\u001b[39m\"\u001b[39;49m\u001b[39mfilesystem\u001b[39;49m\u001b[39m\"\u001b[39;49m, \u001b[39mNone\u001b[39;49;00m),\n\u001b[1;32m    236\u001b[0m     storage_options\u001b[39m=\u001b[39;49mstorage_options,\n\u001b[1;32m    237\u001b[0m     mode\u001b[39m=\u001b[39;49m\u001b[39m\"\u001b[39;49m\u001b[39mrb\u001b[39;49m\u001b[39m\"\u001b[39;49m,\n\u001b[1;32m    238\u001b[0m )\n\u001b[1;32m    239\u001b[0m \u001b[39mtry\u001b[39;00m:\n\u001b[1;32m    240\u001b[0m     result \u001b[39m=\u001b[39m \u001b[39mself\u001b[39m\u001b[39m.\u001b[39mapi\u001b[39m.\u001b[39mparquet\u001b[39m.\u001b[39mread_table(\n\u001b[1;32m    241\u001b[0m         path_or_handle, columns\u001b[39m=\u001b[39mcolumns, \u001b[39m*\u001b[39m\u001b[39m*\u001b[39mkwargs\n\u001b[1;32m    242\u001b[0m     )\u001b[39m.\u001b[39mto_pandas(\u001b[39m*\u001b[39m\u001b[39m*\u001b[39mto_pandas_kwargs)\n",
      "File \u001b[0;32m/home/atzenhofer/.venv/didipcv/lib/python3.8/site-packages/pandas/io/parquet.py:102\u001b[0m, in \u001b[0;36m_get_path_or_handle\u001b[0;34m(path, fs, storage_options, mode, is_dir)\u001b[0m\n\u001b[1;32m     92\u001b[0m handles \u001b[39m=\u001b[39m \u001b[39mNone\u001b[39;00m\n\u001b[1;32m     93\u001b[0m \u001b[39mif\u001b[39;00m (\n\u001b[1;32m     94\u001b[0m     \u001b[39mnot\u001b[39;00m fs\n\u001b[1;32m     95\u001b[0m     \u001b[39mand\u001b[39;00m \u001b[39mnot\u001b[39;00m is_dir\n\u001b[0;32m   (...)\u001b[0m\n\u001b[1;32m    100\u001b[0m     \u001b[39m# fsspec resources can also point to directories\u001b[39;00m\n\u001b[1;32m    101\u001b[0m     \u001b[39m# this branch is used for example when reading from non-fsspec URLs\u001b[39;00m\n\u001b[0;32m--> 102\u001b[0m     handles \u001b[39m=\u001b[39m get_handle(\n\u001b[1;32m    103\u001b[0m         path_or_handle, mode, is_text\u001b[39m=\u001b[39;49m\u001b[39mFalse\u001b[39;49;00m, storage_options\u001b[39m=\u001b[39;49mstorage_options\n\u001b[1;32m    104\u001b[0m     )\n\u001b[1;32m    105\u001b[0m     fs \u001b[39m=\u001b[39m \u001b[39mNone\u001b[39;00m\n\u001b[1;32m    106\u001b[0m     path_or_handle \u001b[39m=\u001b[39m handles\u001b[39m.\u001b[39mhandle\n",
      "File \u001b[0;32m/home/atzenhofer/.venv/didipcv/lib/python3.8/site-packages/pandas/io/common.py:795\u001b[0m, in \u001b[0;36mget_handle\u001b[0;34m(path_or_buf, mode, encoding, compression, memory_map, is_text, errors, storage_options)\u001b[0m\n\u001b[1;32m    786\u001b[0m         handle \u001b[39m=\u001b[39m \u001b[39mopen\u001b[39m(\n\u001b[1;32m    787\u001b[0m             handle,\n\u001b[1;32m    788\u001b[0m             ioargs\u001b[39m.\u001b[39mmode,\n\u001b[0;32m   (...)\u001b[0m\n\u001b[1;32m    791\u001b[0m             newline\u001b[39m=\u001b[39m\u001b[39m\"\u001b[39m\u001b[39m\"\u001b[39m,\n\u001b[1;32m    792\u001b[0m         )\n\u001b[1;32m    793\u001b[0m     \u001b[39melse\u001b[39;00m:\n\u001b[1;32m    794\u001b[0m         \u001b[39m# Binary mode\u001b[39;00m\n\u001b[0;32m--> 795\u001b[0m         handle \u001b[39m=\u001b[39m \u001b[39mopen\u001b[39;49m(handle, ioargs\u001b[39m.\u001b[39;49mmode)\n\u001b[1;32m    796\u001b[0m     handles\u001b[39m.\u001b[39mappend(handle)\n\u001b[1;32m    798\u001b[0m \u001b[39m# Convert BytesIO or file objects passed with an encoding\u001b[39;00m\n",
      "\u001b[0;31mFileNotFoundError\u001b[0m: [Errno 2] No such file or directory: '../data/output/tests/orig&copyImagePerCharter_test.parquet'"
     ]
    }
   ],
   "source": [
    "df = pd.read_parquet('../data/output/tests/orig&copyImagePerCharter_test.parquet', engine='pyarrow')\n",
    "#df = df.iloc[: , 1:]"
   ]
  },
  {
   "cell_type": "code",
   "execution_count": 85,
   "id": "913b2a8d",
   "metadata": {},
   "outputs": [],
   "source": [
    "df = df[df[\"hasImage\"] == True].reset_index(drop=True).iloc[:, :3]"
   ]
  },
  {
   "cell_type": "code",
   "execution_count": 97,
   "id": "e0506ed3",
   "metadata": {},
   "outputs": [
    {
     "data": {
      "text/html": [
       "<div>\n",
       "<style scoped>\n",
       "    .dataframe tbody tr th:only-of-type {\n",
       "        vertical-align: middle;\n",
       "    }\n",
       "\n",
       "    .dataframe tbody tr th {\n",
       "        vertical-align: top;\n",
       "    }\n",
       "\n",
       "    .dataframe thead th {\n",
       "        text-align: right;\n",
       "    }\n",
       "</style>\n",
       "<table border=\"1\" class=\"dataframe\">\n",
       "  <thead>\n",
       "    <tr style=\"text-align: right;\">\n",
       "      <th></th>\n",
       "      <th>atom_id</th>\n",
       "      <th>origImageLink</th>\n",
       "      <th>copyImageLink</th>\n",
       "    </tr>\n",
       "  </thead>\n",
       "  <tbody>\n",
       "    <tr>\n",
       "      <th>0</th>\n",
       "      <td>['tag:www.monasterium.net,2011:/charter/069622fc-5d55-4a51-8dd5-f23f30d8bf2f/0632d68f-f907-4113-...</td>\n",
       "      <td>['http://images.monasterium.net/img/IT-BSNSP/16-Napoli_monasteri_di_S_Gregorio_S_Arcangelo_a_Bai...</td>\n",
       "      <td>[]</td>\n",
       "    </tr>\n",
       "    <tr>\n",
       "      <th>1</th>\n",
       "      <td>['tag:www.monasterium.net,2011:/charter/069622fc-5d55-4a51-8dd5-f23f30d8bf2f/0e3d1203-0e72-4b17-...</td>\n",
       "      <td>['http://images.monasterium.net/img/IT-BSNSP/16-Napoli_monasteri_di_S_Gregorio_S_Arcangelo_a_Bai...</td>\n",
       "      <td>[]</td>\n",
       "    </tr>\n",
       "    <tr>\n",
       "      <th>2</th>\n",
       "      <td>['tag:www.monasterium.net,2011:/charter/069622fc-5d55-4a51-8dd5-f23f30d8bf2f/0eb5100f-8132-48fd-...</td>\n",
       "      <td>['http://images.monasterium.net/img/IT-BSNSP/16-Napoli_monasteri_di_S_Gregorio_S_Arcangelo_a_Bai...</td>\n",
       "      <td>[]</td>\n",
       "    </tr>\n",
       "    <tr>\n",
       "      <th>3</th>\n",
       "      <td>['tag:www.monasterium.net,2011:/charter/069622fc-5d55-4a51-8dd5-f23f30d8bf2f/16bfa2f5-9171-4d18-...</td>\n",
       "      <td>['http://images.monasterium.net/img/IT-BSNSP/16-Napoli_monasteri_di_S_Gregorio_S_Arcangelo_a_Bai...</td>\n",
       "      <td>[]</td>\n",
       "    </tr>\n",
       "    <tr>\n",
       "      <th>4</th>\n",
       "      <td>['tag:www.monasterium.net,2011:/charter/069622fc-5d55-4a51-8dd5-f23f30d8bf2f/16c37112-ba89-4c4c-...</td>\n",
       "      <td>['http://images.monasterium.net/img/IT-BSNSP/16-Napoli_monasteri_di_S_Gregorio_S_Arcangelo_a_Bai...</td>\n",
       "      <td>[]</td>\n",
       "    </tr>\n",
       "    <tr>\n",
       "      <th>...</th>\n",
       "      <td>...</td>\n",
       "      <td>...</td>\n",
       "      <td>...</td>\n",
       "    </tr>\n",
       "    <tr>\n",
       "      <th>478591</th>\n",
       "      <td>['tag:www.monasterium.net,2011:/charter/WirtembergischesUrkundenbuch/faf66a3f-d54b-4439-a443-65c...</td>\n",
       "      <td>[]</td>\n",
       "      <td>['00000042.png', '00000043.png']</td>\n",
       "    </tr>\n",
       "    <tr>\n",
       "      <th>478592</th>\n",
       "      <td>['tag:www.monasterium.net,2011:/charter/WirtembergischesUrkundenbuch/fb51a6c4-bde7-4df7-86c7-ee6...</td>\n",
       "      <td>[]</td>\n",
       "      <td>['00000338.png', '00000339.png', '00000340.png']</td>\n",
       "    </tr>\n",
       "    <tr>\n",
       "      <th>478593</th>\n",
       "      <td>['tag:www.monasterium.net,2011:/charter/WirtembergischesUrkundenbuch/fc9ffa72-79b1-4029-8eb5-a53...</td>\n",
       "      <td>[]</td>\n",
       "      <td>['00000149.png', '00000150.png', '00000151.png']</td>\n",
       "    </tr>\n",
       "    <tr>\n",
       "      <th>478594</th>\n",
       "      <td>['tag:www.monasterium.net,2011:/charter/WirtembergischesUrkundenbuch/fe45e235-cb7f-4ee3-ae89-6e1...</td>\n",
       "      <td>[]</td>\n",
       "      <td>['00000085.png', '00000086.png']</td>\n",
       "    </tr>\n",
       "    <tr>\n",
       "      <th>478595</th>\n",
       "      <td>['tag:www.monasterium.net,2011:/charter/WirtembergischesUrkundenbuch/ff718b7e-c66d-44c7-b3fd-ef2...</td>\n",
       "      <td>[]</td>\n",
       "      <td>['00000205.png', '00000206.png', '00000207.png']</td>\n",
       "    </tr>\n",
       "  </tbody>\n",
       "</table>\n",
       "<p>478596 rows × 3 columns</p>\n",
       "</div>"
      ],
      "text/plain": [
       "                                                                                                    atom_id  \\\n",
       "0       ['tag:www.monasterium.net,2011:/charter/069622fc-5d55-4a51-8dd5-f23f30d8bf2f/0632d68f-f907-4113-...   \n",
       "1       ['tag:www.monasterium.net,2011:/charter/069622fc-5d55-4a51-8dd5-f23f30d8bf2f/0e3d1203-0e72-4b17-...   \n",
       "2       ['tag:www.monasterium.net,2011:/charter/069622fc-5d55-4a51-8dd5-f23f30d8bf2f/0eb5100f-8132-48fd-...   \n",
       "3       ['tag:www.monasterium.net,2011:/charter/069622fc-5d55-4a51-8dd5-f23f30d8bf2f/16bfa2f5-9171-4d18-...   \n",
       "4       ['tag:www.monasterium.net,2011:/charter/069622fc-5d55-4a51-8dd5-f23f30d8bf2f/16c37112-ba89-4c4c-...   \n",
       "...                                                                                                     ...   \n",
       "478591  ['tag:www.monasterium.net,2011:/charter/WirtembergischesUrkundenbuch/faf66a3f-d54b-4439-a443-65c...   \n",
       "478592  ['tag:www.monasterium.net,2011:/charter/WirtembergischesUrkundenbuch/fb51a6c4-bde7-4df7-86c7-ee6...   \n",
       "478593  ['tag:www.monasterium.net,2011:/charter/WirtembergischesUrkundenbuch/fc9ffa72-79b1-4029-8eb5-a53...   \n",
       "478594  ['tag:www.monasterium.net,2011:/charter/WirtembergischesUrkundenbuch/fe45e235-cb7f-4ee3-ae89-6e1...   \n",
       "478595  ['tag:www.monasterium.net,2011:/charter/WirtembergischesUrkundenbuch/ff718b7e-c66d-44c7-b3fd-ef2...   \n",
       "\n",
       "                                                                                              origImageLink  \\\n",
       "0       ['http://images.monasterium.net/img/IT-BSNSP/16-Napoli_monasteri_di_S_Gregorio_S_Arcangelo_a_Bai...   \n",
       "1       ['http://images.monasterium.net/img/IT-BSNSP/16-Napoli_monasteri_di_S_Gregorio_S_Arcangelo_a_Bai...   \n",
       "2       ['http://images.monasterium.net/img/IT-BSNSP/16-Napoli_monasteri_di_S_Gregorio_S_Arcangelo_a_Bai...   \n",
       "3       ['http://images.monasterium.net/img/IT-BSNSP/16-Napoli_monasteri_di_S_Gregorio_S_Arcangelo_a_Bai...   \n",
       "4       ['http://images.monasterium.net/img/IT-BSNSP/16-Napoli_monasteri_di_S_Gregorio_S_Arcangelo_a_Bai...   \n",
       "...                                                                                                     ...   \n",
       "478591                                                                                                   []   \n",
       "478592                                                                                                   []   \n",
       "478593                                                                                                   []   \n",
       "478594                                                                                                   []   \n",
       "478595                                                                                                   []   \n",
       "\n",
       "                                           copyImageLink  \n",
       "0                                                     []  \n",
       "1                                                     []  \n",
       "2                                                     []  \n",
       "3                                                     []  \n",
       "4                                                     []  \n",
       "...                                                  ...  \n",
       "478591                  ['00000042.png', '00000043.png']  \n",
       "478592  ['00000338.png', '00000339.png', '00000340.png']  \n",
       "478593  ['00000149.png', '00000150.png', '00000151.png']  \n",
       "478594                  ['00000085.png', '00000086.png']  \n",
       "478595  ['00000205.png', '00000206.png', '00000207.png']  \n",
       "\n",
       "[478596 rows x 3 columns]"
      ]
     },
     "execution_count": 97,
     "metadata": {},
     "output_type": "execute_result"
    }
   ],
   "source": [
    "df.explode(\"origImageLink\")"
   ]
  },
  {
   "cell_type": "code",
   "execution_count": 94,
   "id": "36de13f9",
   "metadata": {},
   "outputs": [
    {
     "ename": "ValueError",
     "evalue": "('Lengths must match to compare', (478596,), (0,))",
     "output_type": "error",
     "traceback": [
      "\u001b[0;31m---------------------------------------------------------------------------\u001b[0m",
      "\u001b[0;31mValueError\u001b[0m                                Traceback (most recent call last)",
      "\u001b[1;32m/home/atzenhofer/code/didipcv/notebooks/playground.ipynb Cell 275\u001b[0m in \u001b[0;36m<cell line: 3>\u001b[0;34m()\u001b[0m\n\u001b[1;32m      <a href='vscode-notebook-cell://wsl%2Bubuntu/home/atzenhofer/code/didipcv/notebooks/playground.ipynb#Y552sdnNjb2RlLXJlbW90ZQ%3D%3D?line=0'>1</a>\u001b[0m \u001b[39m#df[\"hasOrig\"] = np.where(df[\"origImageLink\"].explode(origImageLink\") == None, False)\u001b[39;00m\n\u001b[1;32m      <a href='vscode-notebook-cell://wsl%2Bubuntu/home/atzenhofer/code/didipcv/notebooks/playground.ipynb#Y552sdnNjb2RlLXJlbW90ZQ%3D%3D?line=1'>2</a>\u001b[0m df \u001b[39m=\u001b[39m df\u001b[39m.\u001b[39mexplode(\u001b[39m\"\u001b[39m\u001b[39morigImageLink\u001b[39m\u001b[39m\"\u001b[39m)\n\u001b[0;32m----> <a href='vscode-notebook-cell://wsl%2Bubuntu/home/atzenhofer/code/didipcv/notebooks/playground.ipynb#Y552sdnNjb2RlLXJlbW90ZQ%3D%3D?line=2'>3</a>\u001b[0m df\u001b[39m.\u001b[39mloc[(df[\u001b[39m'\u001b[39;49m\u001b[39morigImageLink\u001b[39;49m\u001b[39m'\u001b[39;49m] \u001b[39m==\u001b[39;49m []), \u001b[39m\"\u001b[39m\u001b[39mhasOrig\u001b[39m\u001b[39m\"\u001b[39m] \u001b[39m=\u001b[39m \u001b[39mFalse\u001b[39;00m\n",
      "File \u001b[0;32m/home/atzenhofer/.venv/didipcv/lib/python3.8/site-packages/pandas/core/ops/common.py:70\u001b[0m, in \u001b[0;36m_unpack_zerodim_and_defer.<locals>.new_method\u001b[0;34m(self, other)\u001b[0m\n\u001b[1;32m     66\u001b[0m             \u001b[39mreturn\u001b[39;00m \u001b[39mNotImplemented\u001b[39m\n\u001b[1;32m     68\u001b[0m other \u001b[39m=\u001b[39m item_from_zerodim(other)\n\u001b[0;32m---> 70\u001b[0m \u001b[39mreturn\u001b[39;00m method(\u001b[39mself\u001b[39;49m, other)\n",
      "File \u001b[0;32m/home/atzenhofer/.venv/didipcv/lib/python3.8/site-packages/pandas/core/arraylike.py:40\u001b[0m, in \u001b[0;36mOpsMixin.__eq__\u001b[0;34m(self, other)\u001b[0m\n\u001b[1;32m     38\u001b[0m \u001b[39m@unpack_zerodim_and_defer\u001b[39m(\u001b[39m\"\u001b[39m\u001b[39m__eq__\u001b[39m\u001b[39m\"\u001b[39m)\n\u001b[1;32m     39\u001b[0m \u001b[39mdef\u001b[39;00m \u001b[39m__eq__\u001b[39m(\u001b[39mself\u001b[39m, other):\n\u001b[0;32m---> 40\u001b[0m     \u001b[39mreturn\u001b[39;00m \u001b[39mself\u001b[39;49m\u001b[39m.\u001b[39;49m_cmp_method(other, operator\u001b[39m.\u001b[39;49meq)\n",
      "File \u001b[0;32m/home/atzenhofer/.venv/didipcv/lib/python3.8/site-packages/pandas/core/series.py:5623\u001b[0m, in \u001b[0;36mSeries._cmp_method\u001b[0;34m(self, other, op)\u001b[0m\n\u001b[1;32m   5620\u001b[0m rvalues \u001b[39m=\u001b[39m extract_array(other, extract_numpy\u001b[39m=\u001b[39m\u001b[39mTrue\u001b[39;00m, extract_range\u001b[39m=\u001b[39m\u001b[39mTrue\u001b[39;00m)\n\u001b[1;32m   5622\u001b[0m \u001b[39mwith\u001b[39;00m np\u001b[39m.\u001b[39merrstate(\u001b[39mall\u001b[39m\u001b[39m=\u001b[39m\u001b[39m\"\u001b[39m\u001b[39mignore\u001b[39m\u001b[39m\"\u001b[39m):\n\u001b[0;32m-> 5623\u001b[0m     res_values \u001b[39m=\u001b[39m ops\u001b[39m.\u001b[39;49mcomparison_op(lvalues, rvalues, op)\n\u001b[1;32m   5625\u001b[0m \u001b[39mreturn\u001b[39;00m \u001b[39mself\u001b[39m\u001b[39m.\u001b[39m_construct_result(res_values, name\u001b[39m=\u001b[39mres_name)\n",
      "File \u001b[0;32m/home/atzenhofer/.venv/didipcv/lib/python3.8/site-packages/pandas/core/ops/array_ops.py:260\u001b[0m, in \u001b[0;36mcomparison_op\u001b[0;34m(left, right, op)\u001b[0m\n\u001b[1;32m    255\u001b[0m \u001b[39mif\u001b[39;00m \u001b[39misinstance\u001b[39m(rvalues, (np\u001b[39m.\u001b[39mndarray, ABCExtensionArray)):\n\u001b[1;32m    256\u001b[0m     \u001b[39m# TODO: make this treatment consistent across ops and classes.\u001b[39;00m\n\u001b[1;32m    257\u001b[0m     \u001b[39m#  We are not catching all listlikes here (e.g. frozenset, tuple)\u001b[39;00m\n\u001b[1;32m    258\u001b[0m     \u001b[39m#  The ambiguous case is object-dtype.  See GH#27803\u001b[39;00m\n\u001b[1;32m    259\u001b[0m     \u001b[39mif\u001b[39;00m \u001b[39mlen\u001b[39m(lvalues) \u001b[39m!=\u001b[39m \u001b[39mlen\u001b[39m(rvalues):\n\u001b[0;32m--> 260\u001b[0m         \u001b[39mraise\u001b[39;00m \u001b[39mValueError\u001b[39;00m(\n\u001b[1;32m    261\u001b[0m             \u001b[39m\"\u001b[39m\u001b[39mLengths must match to compare\u001b[39m\u001b[39m\"\u001b[39m, lvalues\u001b[39m.\u001b[39mshape, rvalues\u001b[39m.\u001b[39mshape\n\u001b[1;32m    262\u001b[0m         )\n\u001b[1;32m    264\u001b[0m \u001b[39mif\u001b[39;00m should_extension_dispatch(lvalues, rvalues) \u001b[39mor\u001b[39;00m (\n\u001b[1;32m    265\u001b[0m     (\u001b[39misinstance\u001b[39m(rvalues, (Timedelta, BaseOffset, Timestamp)) \u001b[39mor\u001b[39;00m right \u001b[39mis\u001b[39;00m NaT)\n\u001b[1;32m    266\u001b[0m     \u001b[39mand\u001b[39;00m \u001b[39mnot\u001b[39;00m is_object_dtype(lvalues\u001b[39m.\u001b[39mdtype)\n\u001b[1;32m    267\u001b[0m ):\n\u001b[1;32m    268\u001b[0m     \u001b[39m# Call the method on lvalues\u001b[39;00m\n\u001b[1;32m    269\u001b[0m     res_values \u001b[39m=\u001b[39m op(lvalues, rvalues)\n",
      "\u001b[0;31mValueError\u001b[0m: ('Lengths must match to compare', (478596,), (0,))"
     ]
    }
   ],
   "source": [
    "#df[\"hasOrig\"] = np.where(df[\"origImageLink\"].explode(origImageLink\") == None, False)\n",
    "df = df.explode(\"origImageLink\")\n",
    "df.loc[(df['origImageLink'] == []), \"hasOrig\"] = False\n",
    "#df.loc[(df['Space'] == 'TRUE') & (df['Threshold'] <= 0.2), 'Space_Test'] = 'Pass'"
   ]
  },
  {
   "cell_type": "code",
   "execution_count": 3,
   "id": "fa32619f",
   "metadata": {},
   "outputs": [
    {
     "data": {
      "text/plain": [
       "'https://www.monasterium.net/mom/CH-StaASG/Urkunden/Urkunden-Supplement..34/charter'"
      ]
     },
     "execution_count": 3,
     "metadata": {},
     "output_type": "execute_result"
    }
   ],
   "source": [
    "from ddp_util import chatomid_to_url\n",
    "#chatomid_to_url(\"tag:www.monasterium.net,2011:/charter/QuellenKoelnII/26770f8e-ecfe-47de-a996-983dcf74f0e5\")\n",
    "\n",
    "chatomid_to_url(\"tag:www.monasterium.net,2011:/charter/CH-StaASG/Urkunden/Urkunden-Supplement..34\")"
   ]
  }
 ],
 "metadata": {
  "kernelspec": {
   "display_name": "Python 3.8.10 ('didipcv')",
   "language": "python",
   "name": "python3"
  },
  "language_info": {
   "codemirror_mode": {
    "name": "ipython",
    "version": 3
   },
   "file_extension": ".py",
   "mimetype": "text/x-python",
   "name": "python",
   "nbconvert_exporter": "python",
   "pygments_lexer": "ipython3",
   "version": "3.8.10"
  },
  "vscode": {
   "interpreter": {
    "hash": "51de90f0d358e009ce9df81fe88f979b0f6e2c5f2b81c54b9ff289164d1b3424"
   }
  }
 },
 "nbformat": 4,
 "nbformat_minor": 5
}
