{
 "cells": [
  {
   "cell_type": "code",
   "execution_count": null,
   "metadata": {},
   "outputs": [],
   "source": [
    "# multithread\n",
    "from os import listdir\n",
    "from os.path import join\n",
    "from concurrent.futures import ProcessPoolExecutor\n",
    "from concurrent.futures import ThreadPoolExecutor\n",
    "from concurrent.futures import as_completed\n",
    "\n",
    "\n",
    "def get_xpath_result(xpath_mapping):\n",
    "    return tree.xpath(xpath_mapping, namespaces = namespaces, smart_strings = False)\n",
    "\n",
    "\n",
    "\n",
    "# load a file and return the contents\n",
    "def load_file(filepath):\n",
    "    # open the file\n",
    "    with open(filepath, 'r') as handle:\n",
    "        # return the contents\n",
    "        handle.read()\n",
    " \n",
    "# return the contents of many files\n",
    "def load_files(filepaths):\n",
    "    # create a thread pool\n",
    "    with ThreadPoolExecutor(len(filepaths)) as exe:\n",
    "        # load files\n",
    "        futures = [exe.submit(load_file, name) for name in filepaths]\n",
    "        # collect data\n",
    "        data_list = [future.result() for future in futures]\n",
    "        # return data and file paths\n",
    "        return (data_list, filepaths)\n",
    " \n",
    "# load all files in a directory into memory\n",
    "def main(path='tmp'):\n",
    "    # prepare all of the paths\n",
    "    #paths = [join(os.stat(str(path)), filepath) for filepath in listdir(os.stat(str(path)))]\n",
    "    # determine chunksize\n",
    "    n_workers = 8\n",
    "    chunksize = round(len(paths) / n_workers)\n",
    "    # create the process pool\n",
    "    with ProcessPoolExecutor(n_workers) as executor:\n",
    "        futures = list()\n",
    "        # split the load operations into chunks\n",
    "        for i in range(0, len(paths), chunksize):\n",
    "            # select a chunk of filenames\n",
    "            filepaths = paths[i:(i + chunksize)]\n",
    "            # submit the task\n",
    "            future = executor.submit(load_files, filepaths)\n",
    "            futures.append(future)\n",
    "        # process all results\n",
    "        for future in as_completed(futures):\n",
    "            # open the file and load the data\n",
    "            _, filepaths = future.result()\n",
    "            for filepath in filepaths:\n",
    "                # report progress\n",
    "                #print(f'.loaded {filepath}')\n",
    "        \n",
    "                with open(filepath, 'r', encoding='utf-8') as current:\n",
    "                    tree = etree.parse(current)\n",
    "                    root = tree.getroot()\n",
    "                    result = root[0].text\n",
    "                    #result = tree.xpath(\"//cei:graphic/@url\", namespaces=namespaces)\n",
    "                    atom_id.append(result)\n",
    "\n",
    "#RuntimeError: can't start new thread\n",
    "# main(paths_sample)"
   ]
  }
 ],
 "metadata": {
  "kernelspec": {
   "display_name": "Python 3.8.10 ('didipcv')",
   "language": "python",
   "name": "python3"
  },
  "language_info": {
   "name": "python",
   "version": "3.8.10"
  },
  "orig_nbformat": 4,
  "vscode": {
   "interpreter": {
    "hash": "51de90f0d358e009ce9df81fe88f979b0f6e2c5f2b81c54b9ff289164d1b3424"
   }
  }
 },
 "nbformat": 4,
 "nbformat_minor": 2
}
