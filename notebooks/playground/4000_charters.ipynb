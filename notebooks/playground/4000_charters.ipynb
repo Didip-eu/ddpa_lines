{
 "cells": [
  {
   "cell_type": "code",
   "execution_count": null,
   "metadata": {},
   "outputs": [],
   "source": [
    "from lxml import etree\n",
    "from pathlib import Path\n",
    "from pathlib import PurePosixPath\n",
    "from datetime import datetime\n",
    "import os\n",
    "import csv \n",
    "import pandas as pd\n",
    "import numpy as np\n",
    "import pickle\n",
    "import re\n",
    "from pprint import pprint\n",
    "from random import sample\n",
    "\n",
    "from ddp_util import chatomid_to_url, url_to_chatomid"
   ]
  },
  {
   "cell_type": "markdown",
   "metadata": {},
   "source": [
    "# load data"
   ]
  },
  {
   "cell_type": "code",
   "execution_count": null,
   "metadata": {},
   "outputs": [],
   "source": [
    "# load parquet file resulting from /notebooks/XML2PD/XML2PD.ipynyb which was generated on the respective date by parsing a Monasterium db dump (\"full20220125-1710\")\n",
    "contents_full = pd.read_parquet('../../data/output/charters_2022-09-18-2211.parquet', engine='pyarrow')"
   ]
  },
  {
   "cell_type": "code",
   "execution_count": null,
   "metadata": {},
   "outputs": [],
   "source": [
    "# load 1000 charter project sample, downloaded from GSheets\n",
    "thousand_charter_sample = pd.read_csv('../../data/in/1000charters_gsheet/1000charters_gsheet.csv', encoding='utf-8')"
   ]
  },
  {
   "cell_type": "markdown",
   "metadata": {},
   "source": [
    "# builds lists of atomids from urls (\"m\" -> 1000)"
   ]
  },
  {
   "cell_type": "code",
   "execution_count": null,
   "metadata": {},
   "outputs": [],
   "source": [
    "m_charters = thousand_charter_sample.iloc[:,2]\n",
    "m_charters"
   ]
  },
  {
   "cell_type": "code",
   "execution_count": null,
   "metadata": {},
   "outputs": [],
   "source": [
    "m_charters_list = list(m_charters)"
   ]
  },
  {
   "cell_type": "code",
   "execution_count": null,
   "metadata": {},
   "outputs": [],
   "source": [
    "m_charters_ids = [url_to_chatomid(i) for i in m_charters_list]"
   ]
  },
  {
   "cell_type": "code",
   "execution_count": null,
   "metadata": {},
   "outputs": [],
   "source": [
    "m_charters_ids"
   ]
  },
  {
   "cell_type": "markdown",
   "metadata": {},
   "source": [
    "# check difference of dataframes"
   ]
  },
  {
   "cell_type": "code",
   "execution_count": null,
   "metadata": {},
   "outputs": [],
   "source": [
    "contents_full_exploded = contents_full.explode(\"atom_id\")"
   ]
  },
  {
   "cell_type": "code",
   "execution_count": null,
   "metadata": {},
   "outputs": [],
   "source": [
    "charters_reduced = contents_full_exploded[~contents_full_exploded[\"atom_id\"].isin(m_charters_ids)]"
   ]
  },
  {
   "cell_type": "code",
   "execution_count": null,
   "metadata": {},
   "outputs": [],
   "source": [
    "print(len(contents_full_exploded))\n",
    "print(len(charters_reduced))"
   ]
  },
  {
   "cell_type": "code",
   "execution_count": null,
   "metadata": {},
   "outputs": [],
   "source": [
    "df_diff = pd.concat([charters_reduced.atom_id,contents_full_exploded.atom_id])\n",
    "df_diff_clean = df_diff.drop_duplicates(keep=False).tolist()"
   ]
  },
  {
   "cell_type": "markdown",
   "metadata": {},
   "source": [
    "# check if diff_frame == m_charters"
   ]
  },
  {
   "cell_type": "code",
   "execution_count": null,
   "metadata": {},
   "outputs": [],
   "source": [
    "m_charters_ids.sort() == df_diff_clean.sort()"
   ]
  },
  {
   "cell_type": "markdown",
   "metadata": {},
   "source": [
    "# generate new sample with fixed seed"
   ]
  },
  {
   "cell_type": "code",
   "execution_count": null,
   "metadata": {},
   "outputs": [],
   "source": [
    "new_sample = charters_reduced.sample(n=4000, random_state=50)\n",
    "new_sample"
   ]
  },
  {
   "cell_type": "markdown",
   "metadata": {},
   "source": [
    "# extend atomids of 1000 charters by 4000 charters"
   ]
  },
  {
   "cell_type": "code",
   "execution_count": null,
   "metadata": {},
   "outputs": [],
   "source": [
    "new_sample_atomids = list(new_sample.atom_id)\n",
    "atomids_5k = list(chain(m_charters_ids, new_sample_atomids))\n",
    "print(len(atomids_5k))"
   ]
  },
  {
   "cell_type": "markdown",
   "metadata": {},
   "source": [
    "# make urls"
   ]
  },
  {
   "cell_type": "code",
   "execution_count": null,
   "metadata": {},
   "outputs": [],
   "source": [
    "urls_5k = [chatomid_to_url(i) for i in atomids_5k]\n",
    "urls_4k = [chatomid_to_url(i) for i in new_sample_atomids]"
   ]
  },
  {
   "cell_type": "code",
   "execution_count": null,
   "metadata": {},
   "outputs": [],
   "source": []
  },
  {
   "cell_type": "markdown",
   "metadata": {},
   "source": [
    "# export "
   ]
  },
  {
   "cell_type": "code",
   "execution_count": null,
   "metadata": {},
   "outputs": [],
   "source": [
    "with open(f\"../../data/out/samples/urls_5k.csv\", \"w\", newline=\"\") as file:\n",
    "    writer = csv.writer(file, delimiter = \"\\n\")\n",
    "    writer.writerow(urls_5k)\n",
    "\n",
    "with open(f\"../../data/out/samples/urls_4k.csv\", \"w\", newline=\"\") as file:\n",
    "    writer = csv.writer(file, delimiter = \"\\n\")\n",
    "    writer.writerow(urls_4k)\n",
    "\n",
    "with open(f\"../../data/out/samples/atomids_5k.csv\", \"w\", newline=\"\") as file:\n",
    "    writer = csv.writer(file, delimiter = \"\\n\")\n",
    "    writer.writerow(atomids_5k)"
   ]
  },
  {
   "cell_type": "markdown",
   "metadata": {},
   "source": [
    "# Misc"
   ]
  },
  {
   "cell_type": "code",
   "execution_count": null,
   "metadata": {},
   "outputs": [],
   "source": [
    "# check amount of /HU- in samples\n",
    "m_charters_HU = thousand_charter_sample[thousand_charter_sample[\"URL \"].astype(str).str.contains(\"/HU-\")]\n",
    "new_sample_HU = new_sample[new_sample[\"atom_id\"].astype(str).str.contains(\"/HU-\")]\n",
    "\n",
    "# difference of HU % in samples\n",
    "print(f\"In the 1k charters project, the amount of /HU- charters was {round((len(m_charters_HU))/1000*100)}%; in the new one, it is {round((len(new_sample_HU))/4000*100)}%.\")"
   ]
  }
 ],
 "metadata": {
  "kernelspec": {
   "display_name": "Python 3.8.10 ('didipcv')",
   "language": "python",
   "name": "python3"
  },
  "language_info": {
   "codemirror_mode": {
    "name": "ipython",
    "version": 3
   },
   "file_extension": ".py",
   "mimetype": "text/x-python",
   "name": "python",
   "nbconvert_exporter": "python",
   "pygments_lexer": "ipython3",
   "version": "3.8.10"
  },
  "orig_nbformat": 4,
  "vscode": {
   "interpreter": {
    "hash": "51de90f0d358e009ce9df81fe88f979b0f6e2c5f2b81c54b9ff289164d1b3424"
   }
  }
 },
 "nbformat": 4,
 "nbformat_minor": 2
}
