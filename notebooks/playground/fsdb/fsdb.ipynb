{
 "cells": [
  {
   "cell_type": "code",
   "execution_count": null,
   "metadata": {},
   "outputs": [],
   "source": [
    "      # if \n",
    "        # with open('/path/to/filename.txt', mode='wt', encoding='utf-8') as myfile:\n",
    "        #     myfile.write('\\n'.join(lines))\n",
    "        # curation_path = Path(file_path).parents[1]\n",
    "        # extension = \".image_base_url.txt\"\n",
    "        # txt_files = list(curation_path.glob(f\"*{extension}\"))\n",
    "\n",
    "        # if len(txt_files) == 1:\n",
    "        #     for i in txt_files:\n",
    "        #         print(i)\n",
    "        #         with open(i, mode=\"r\", encoding=\"utf-8\") as f:\n",
    "        #             image_base_url = f.read()\n",
    "        #             print(image_base_url)\n",
    "        # else:\n",
    "        #     print(file_path)\n",
    "        #     raise ValueError(\"Too many image base urls on curation-level.\")\n",
    "\n",
    "\n",
    "\n",
    "\n",
    "        # #print(file_with_extension)\n",
    "        # # print(glob.glob(f'{parentpath}/*.{extension}'))\n",
    "        # for txt_file in parentpath.glob(f\"*.{extension}\"):\n",
    "        #     \n",
    "\n",
    "            # for img in original, copy:     \n",
    "            #     if file_with_extension:\n",
    "            #         with open(file_with_extension) as f:\n",
    "            #             print(f.readlines())\n",
    "            #     else:\n",
    "            #         print(\"not found?\")\n",
    "\n",
    "#             file_with_extension = next(pathparent.glob(f\"*{extension}\"))  # returns the file with extension or None\n",
    "#             if file_with_extension:\n",
    "#                 print(Path(file_with_extension))\n",
    "#                 #with open(file_with_extension):\n",
    "\n",
    "#             path = Path(\".\")  # current directory\n",
    "#             extension = \".txt\"\n",
    "\n",
    "#             file_with_extension = next(path.glob(f\"*{extension}\"))  # returns the file with extension or None\n",
    "#             if file_with_extension:\n",
    "# #                with open(file_with_extension):"
   ]
  },
  {
   "cell_type": "markdown",
   "metadata": {},
   "source": [
    "# Would it make sense to save a chatomid:path dict?\n",
    "Use case: we only want to build mom from some charters, but do not want to parse all cei files again"
   ]
  },
  {
   "cell_type": "code",
   "execution_count": 20,
   "metadata": {},
   "outputs": [],
   "source": [
    "full_dict = {0: \"atom0\", 1: \"atom1\", 2: \"atom2\", 3: \"atom3\"}\n",
    "selection_list = [\"atom3\", \"atom1\"]\n",
    "for key, value in full_dict.items():\n",
    "    if value in selection_list:\n",
    "        print(key, value)\n",
    "    else:\n",
    "        print(\"nope\")"
   ]
  },
  {
   "cell_type": "markdown",
   "metadata": {},
   "source": [
    "# Does this also make sense for "
   ]
  }
 ],
 "metadata": {
  "kernelspec": {
   "display_name": "Python 3.8.10 ('didipcv')",
   "language": "python",
   "name": "python3"
  },
  "language_info": {
   "codemirror_mode": {
    "name": "ipython",
    "version": 3
   },
   "file_extension": ".py",
   "mimetype": "text/x-python",
   "name": "python",
   "nbconvert_exporter": "python",
   "pygments_lexer": "ipython3",
   "version": "3.8.10"
  },
  "orig_nbformat": 4,
  "vscode": {
   "interpreter": {
    "hash": "51de90f0d358e009ce9df81fe88f979b0f6e2c5f2b81c54b9ff289164d1b3424"
   }
  }
 },
 "nbformat": 4,
 "nbformat_minor": 2
}
