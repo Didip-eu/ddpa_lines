{
 "cells": [
  {
   "cell_type": "code",
   "execution_count": 1,
   "metadata": {},
   "outputs": [],
   "source": [
    "import pandas as pd"
   ]
  },
  {
   "cell_type": "code",
   "execution_count": 2,
   "metadata": {},
   "outputs": [
    {
     "name": "stdout",
     "output_type": "stream",
     "text": [
      "0         tag:www.monasterium.net,2011:/charter/069622fc...\n",
      "1         tag:www.monasterium.net,2011:/charter/069622fc...\n",
      "2         tag:www.monasterium.net,2011:/charter/069622fc...\n",
      "3         tag:www.monasterium.net,2011:/charter/069622fc...\n",
      "4         tag:www.monasterium.net,2011:/charter/069622fc...\n",
      "                                ...                        \n",
      "659165    tag:www.monasterium.net,2011:/charter/Wirtembe...\n",
      "659166    tag:www.monasterium.net,2011:/charter/Wirtembe...\n",
      "659167    tag:www.monasterium.net,2011:/charter/Wirtembe...\n",
      "659168    tag:www.monasterium.net,2011:/charter/Wirtembe...\n",
      "659169    tag:www.monasterium.net,2011:/charter/Wirtembe...\n",
      "Name: atomid, Length: 659170, dtype: object\n"
     ]
    }
   ],
   "source": [
    "# list of all atomids\n",
    "all_df_full = pd.read_json(\"../../data/in/sampling/charters_2022-09-18-2211.json\")\n",
    "all_df = all_df_full.explode(\"atom_id\")[\"atom_id\"].rename(\"atomid\")\n",
    "print(all_df)\n",
    "all_list = all_df.to_list()"
   ]
  },
  {
   "cell_type": "code",
   "execution_count": null,
   "metadata": {},
   "outputs": [],
   "source": [
    "# create dict of md5 sum for each atomid"
   ]
  },
  {
   "cell_type": "code",
   "execution_count": 3,
   "metadata": {},
   "outputs": [],
   "source": [
    "from ddp_util import to_md5"
   ]
  },
  {
   "cell_type": "code",
   "execution_count": 4,
   "metadata": {},
   "outputs": [
    {
     "data": {
      "text/plain": [
       "0         tag:www.monasterium.net,2011:/charter/069622fc...\n",
       "1         tag:www.monasterium.net,2011:/charter/069622fc...\n",
       "2         tag:www.monasterium.net,2011:/charter/069622fc...\n",
       "3         tag:www.monasterium.net,2011:/charter/069622fc...\n",
       "4         tag:www.monasterium.net,2011:/charter/069622fc...\n",
       "                                ...                        \n",
       "659165    tag:www.monasterium.net,2011:/charter/Wirtembe...\n",
       "659166    tag:www.monasterium.net,2011:/charter/Wirtembe...\n",
       "659167    tag:www.monasterium.net,2011:/charter/Wirtembe...\n",
       "659168    tag:www.monasterium.net,2011:/charter/Wirtembe...\n",
       "659169    tag:www.monasterium.net,2011:/charter/Wirtembe...\n",
       "Name: atomid, Length: 659170, dtype: object"
      ]
     },
     "execution_count": 4,
     "metadata": {},
     "output_type": "execute_result"
    }
   ],
   "source": [
    "all_df"
   ]
  },
  {
   "cell_type": "code",
   "execution_count": 5,
   "metadata": {},
   "outputs": [],
   "source": [
    "atomid_df = all_df.to_frame()"
   ]
  },
  {
   "cell_type": "code",
   "execution_count": 6,
   "metadata": {},
   "outputs": [
    {
     "data": {
      "text/html": [
       "<div>\n",
       "<style scoped>\n",
       "    .dataframe tbody tr th:only-of-type {\n",
       "        vertical-align: middle;\n",
       "    }\n",
       "\n",
       "    .dataframe tbody tr th {\n",
       "        vertical-align: top;\n",
       "    }\n",
       "\n",
       "    .dataframe thead th {\n",
       "        text-align: right;\n",
       "    }\n",
       "</style>\n",
       "<table border=\"1\" class=\"dataframe\">\n",
       "  <thead>\n",
       "    <tr style=\"text-align: right;\">\n",
       "      <th></th>\n",
       "      <th>atomid</th>\n",
       "      <th>md5</th>\n",
       "    </tr>\n",
       "  </thead>\n",
       "  <tbody>\n",
       "    <tr>\n",
       "      <th>0</th>\n",
       "      <td>tag:www.monasterium.net,2011:/charter/069622fc...</td>\n",
       "      <td>5d56663d07d01e99f91cb2b1f82d5845</td>\n",
       "    </tr>\n",
       "    <tr>\n",
       "      <th>1</th>\n",
       "      <td>tag:www.monasterium.net,2011:/charter/069622fc...</td>\n",
       "      <td>e9b5fe1b945670419f6e4d1030069b77</td>\n",
       "    </tr>\n",
       "    <tr>\n",
       "      <th>2</th>\n",
       "      <td>tag:www.monasterium.net,2011:/charter/069622fc...</td>\n",
       "      <td>ec5575d99ffb8575daabc76e1f85fced</td>\n",
       "    </tr>\n",
       "    <tr>\n",
       "      <th>3</th>\n",
       "      <td>tag:www.monasterium.net,2011:/charter/069622fc...</td>\n",
       "      <td>e8643e0528d19234eb1d9e8b7501ca47</td>\n",
       "    </tr>\n",
       "    <tr>\n",
       "      <th>4</th>\n",
       "      <td>tag:www.monasterium.net,2011:/charter/069622fc...</td>\n",
       "      <td>b3ed6190fabb5308cd38a1c743c54703</td>\n",
       "    </tr>\n",
       "    <tr>\n",
       "      <th>...</th>\n",
       "      <td>...</td>\n",
       "      <td>...</td>\n",
       "    </tr>\n",
       "    <tr>\n",
       "      <th>659165</th>\n",
       "      <td>tag:www.monasterium.net,2011:/charter/Wirtembe...</td>\n",
       "      <td>45e1f751648ac62e4db5fda21000c9bf</td>\n",
       "    </tr>\n",
       "    <tr>\n",
       "      <th>659166</th>\n",
       "      <td>tag:www.monasterium.net,2011:/charter/Wirtembe...</td>\n",
       "      <td>9a47e4e1c52f1aa176af6b8efce86e00</td>\n",
       "    </tr>\n",
       "    <tr>\n",
       "      <th>659167</th>\n",
       "      <td>tag:www.monasterium.net,2011:/charter/Wirtembe...</td>\n",
       "      <td>665fc1ad9e0756a300a92b2120466126</td>\n",
       "    </tr>\n",
       "    <tr>\n",
       "      <th>659168</th>\n",
       "      <td>tag:www.monasterium.net,2011:/charter/Wirtembe...</td>\n",
       "      <td>ff02641173fbf86258af37cc89f99747</td>\n",
       "    </tr>\n",
       "    <tr>\n",
       "      <th>659169</th>\n",
       "      <td>tag:www.monasterium.net,2011:/charter/Wirtembe...</td>\n",
       "      <td>35dc25a18d6fe136cf4bec13132b952a</td>\n",
       "    </tr>\n",
       "  </tbody>\n",
       "</table>\n",
       "<p>659170 rows × 2 columns</p>\n",
       "</div>"
      ],
      "text/plain": [
       "                                                   atomid  \\\n",
       "0       tag:www.monasterium.net,2011:/charter/069622fc...   \n",
       "1       tag:www.monasterium.net,2011:/charter/069622fc...   \n",
       "2       tag:www.monasterium.net,2011:/charter/069622fc...   \n",
       "3       tag:www.monasterium.net,2011:/charter/069622fc...   \n",
       "4       tag:www.monasterium.net,2011:/charter/069622fc...   \n",
       "...                                                   ...   \n",
       "659165  tag:www.monasterium.net,2011:/charter/Wirtembe...   \n",
       "659166  tag:www.monasterium.net,2011:/charter/Wirtembe...   \n",
       "659167  tag:www.monasterium.net,2011:/charter/Wirtembe...   \n",
       "659168  tag:www.monasterium.net,2011:/charter/Wirtembe...   \n",
       "659169  tag:www.monasterium.net,2011:/charter/Wirtembe...   \n",
       "\n",
       "                                     md5  \n",
       "0       5d56663d07d01e99f91cb2b1f82d5845  \n",
       "1       e9b5fe1b945670419f6e4d1030069b77  \n",
       "2       ec5575d99ffb8575daabc76e1f85fced  \n",
       "3       e8643e0528d19234eb1d9e8b7501ca47  \n",
       "4       b3ed6190fabb5308cd38a1c743c54703  \n",
       "...                                  ...  \n",
       "659165  45e1f751648ac62e4db5fda21000c9bf  \n",
       "659166  9a47e4e1c52f1aa176af6b8efce86e00  \n",
       "659167  665fc1ad9e0756a300a92b2120466126  \n",
       "659168  ff02641173fbf86258af37cc89f99747  \n",
       "659169  35dc25a18d6fe136cf4bec13132b952a  \n",
       "\n",
       "[659170 rows x 2 columns]"
      ]
     },
     "execution_count": 6,
     "metadata": {},
     "output_type": "execute_result"
    }
   ],
   "source": [
    "atomid_df[\"md5\"] = atomid_df[\"atomid\"].apply(lambda x: to_md5(x))\n",
    "atomid_df"
   ]
  },
  {
   "cell_type": "code",
   "execution_count": 13,
   "metadata": {},
   "outputs": [
    {
     "data": {
      "text/plain": [
       "659170"
      ]
     },
     "execution_count": 13,
     "metadata": {},
     "output_type": "execute_result"
    }
   ],
   "source": [
    "len(list(set(atomid_df[\"md5\"])))"
   ]
  }
 ],
 "metadata": {
  "kernelspec": {
   "display_name": "Python 3.8.10 ('didipcv')",
   "language": "python",
   "name": "python3"
  },
  "language_info": {
   "codemirror_mode": {
    "name": "ipython",
    "version": 3
   },
   "file_extension": ".py",
   "mimetype": "text/x-python",
   "name": "python",
   "nbconvert_exporter": "python",
   "pygments_lexer": "ipython3",
   "version": "3.8.10"
  },
  "orig_nbformat": 4,
  "vscode": {
   "interpreter": {
    "hash": "51de90f0d358e009ce9df81fe88f979b0f6e2c5f2b81c54b9ff289164d1b3424"
   }
  }
 },
 "nbformat": 4,
 "nbformat_minor": 2
}
