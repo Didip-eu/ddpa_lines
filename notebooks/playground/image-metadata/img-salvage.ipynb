{
 "cells": [
  {
   "cell_type": "code",
   "execution_count": null,
   "metadata": {},
   "outputs": [],
   "source": [
    "import socket\n",
    "\n",
    "def get_ipv4_by_hostname(hostname):\n",
    "    # see `man getent` `/ hosts `\n",
    "    # see `man getaddrinfo`\n",
    "\n",
    "    return list(\n",
    "        i        # raw socket structure\n",
    "            [4]  # internet protocol info\n",
    "            [0]  # address\n",
    "        for i in \n",
    "        socket.getaddrinfo(\n",
    "            hostname,\n",
    "            0  # port, required\n",
    "        )\n",
    "        if i[0] is socket.AddressFamily.AF_INET  # ipv4\n",
    "\n",
    "        # ignore duplicate addresses with other socket types\n",
    "        and i[1] is socket.SocketKind.SOCK_RAW  \n",
    "    )\n",
    "\n",
    "#print(get_ipv4_by_hostname('images.monasterium.net/img/AT-DASP/Urkunden/DASP__13770322_Krems.jpg'))\n",
    "#apparently only works with websites, not mor econcrete paths\n",
    "print(get_ipv4_by_hostname('google.com'))"
   ]
  },
  {
   "cell_type": "markdown",
   "metadata": {},
   "source": [
    "# metadata from images\n",
    "using https://www.thepythoncode.com/article/extracting-image-metadata-in-python"
   ]
  },
  {
   "cell_type": "code",
   "execution_count": null,
   "metadata": {},
   "outputs": [],
   "source": [
    "from PIL import Image\n",
    "from PIL.ExifTags import TAGS"
   ]
  },
  {
   "cell_type": "code",
   "execution_count": null,
   "metadata": {},
   "outputs": [],
   "source": [
    "with Image.open(\"../../data/mom-ftp/AT-DASP/Urkunden/DASP_16920130_1_Teil1.jpg\") as img:\n",
    "    image = img"
   ]
  },
  {
   "cell_type": "code",
   "execution_count": null,
   "metadata": {},
   "outputs": [],
   "source": [
    "info_dict = {\n",
    "    \"Filename\": image.filename,\n",
    "    \"Image Size\": image.size,\n",
    "    \"Image Height\": image.height,\n",
    "    \"Image Width\": image.width,\n",
    "    \"Image Format\": image.format,\n",
    "    \"Image Mode\": image.mode,\n",
    "    \"Image is Animated\": getattr(image, \"is_animated\", False),\n",
    "    \"Frames in Image\": getattr(image, \"n_frames\", 1)\n",
    "}\n",
    "\n",
    "for label,value in info_dict.items():\n",
    "    print(f\"{label:25}: {value}\")"
   ]
  },
  {
   "cell_type": "code",
   "execution_count": null,
   "metadata": {},
   "outputs": [],
   "source": [
    "exifdata = image.getexif()"
   ]
  },
  {
   "cell_type": "code",
   "execution_count": null,
   "metadata": {},
   "outputs": [],
   "source": [
    "for tag_id in exifdata:\n",
    "    # get the tag name, instead of human unreadable tag id\n",
    "    tag = TAGS.get(tag_id, tag_id)\n",
    "    data = exifdata.get(tag_id)\n",
    "    # decode bytes \n",
    "    if isinstance(data, bytes):\n",
    "        data = data.decode()\n",
    "    print(f\"{tag:25}: {data}\")"
   ]
  }
 ],
 "metadata": {
  "kernelspec": {
   "display_name": "Python 3.8.10 ('didipcv')",
   "language": "python",
   "name": "python3"
  },
  "language_info": {
   "codemirror_mode": {
    "name": "ipython",
    "version": 3
   },
   "file_extension": ".py",
   "mimetype": "text/x-python",
   "name": "python",
   "nbconvert_exporter": "python",
   "pygments_lexer": "ipython3",
   "version": "3.8.10"
  },
  "orig_nbformat": 4,
  "vscode": {
   "interpreter": {
    "hash": "51de90f0d358e009ce9df81fe88f979b0f6e2c5f2b81c54b9ff289164d1b3424"
   }
  }
 },
 "nbformat": 4,
 "nbformat_minor": 2
}
