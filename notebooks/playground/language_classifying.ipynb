{
 "cells": [
  {
   "cell_type": "code",
   "execution_count": null,
   "metadata": {},
   "outputs": [],
   "source": [
    "import pandas as pd\n",
    "from transformers import pipeline\n",
    "from pprint import pprint"
   ]
  },
  {
   "cell_type": "code",
   "execution_count": 11,
   "metadata": {},
   "outputs": [],
   "source": [
    "df = pd.read_parquet(\"../../data/output/charters_2022-09-18-2211.parquet\")"
   ]
  },
  {
   "cell_type": "code",
   "execution_count": 14,
   "metadata": {},
   "outputs": [
    {
     "data": {
      "text/plain": [
       "'+In nomine domini dei salvatoris nostri Iuesu Christi. Anno ab incarnationis eius millesimo ducentesimo sexagesimo hoctabo. Regnante domino nostro Carulo semper | agusto Sicilie, ducatus Apulie et principatus Capue magnifico rege, alme Urbis rectore, Andegavie, Provincie et Forcalcherie | comite anno quarto, et eius dominationis civitatis  Neapolis anno quarto, die vicesimatertia mensis hopoctubris, inditione duodecima, Neapoli. Certum est | me Palermo qui nominor de Caserta, filio quondam domni Iohannis et quondam Sarracina iugalium personarum, abitator de loco qui nominatur Calbictiano, a presenti die promtissima | voluntate promcto vobis domna Sica Bulcana et domna Stephania  Protanobilissima, umilis monache de monasterio Sancti Gregorii Mioris, cui | eco [h]omine esse videor, hoc est insimul rectricis et gubernatricis de illu sanctu infirmariu ipsius monasterii, vos autem cum consensu et voluntate | de q(ua)dam domna Maria de domino Ebulo, venerabilis abbatixa ipsius monasterii domina vestra, seu et cuntas congregationes monacharum ipsius sancti et v|enerabilis vestri monasterii, quatenus vos michi meisque propriis filiis masculis, q(uos)ego abuyt de vera mea ucsore, cuntis diebus vite illo|rum dedisti ad pensione detinendum, id est integru fundu de terra pertinente suprascripti vestri infirmariu, positum vero in suprascripto loco intus illa villa | una cum fructoras suas, et cum integra medietate de integra pischina fravita, q(ue) abet due bucche, costituta in|tus et unde alia medietate de ipsa pischina da vos ad pensione detinet Daco qui nominatur Perna de suprascripto loco, et cum introitu suu et omnibus | sibi pertinentibus. Qui coheret sibi: ad una parte est aliu fundu suprascripti vestri infirmariu, q(uem) da vos ad pensione detinet suprascripto Daco qui nominatur | Perna; da secunda parte est fundu de domno Petro qui nominatur Crula; da tertia parte et quarta cum bie. Hec autem ipsu integru fundu de | terra cum suis omnibus pertinentibus, ut super legitur, da presentis illut mea meisque propriis filiis masculis, q(uos) ego abiut de | vera mea ucsore, cuntis diebus vite illorum sint potestate illut tenendi et dominandis et bene illut laborandi et pa|stenandi et fructandi qualiter meruerit, et si ibidem casa et curte facee et abere voluerimus, licentia esinde abeamus | et illut frugiare debeamus, et de ispis frugibus faciendi q(ue) voluerimus, unde nulla vos nobis esinde non queratis aut | tollatis per nllu modu. Tantummodo ego et hered mei masculi, q(uos) ego abiut de vera mea ucsore, cuntis diebus | vite illorum vobis vestrisque postera et in ipso vestro infermariu pro esinde pensione dare et aducere debeamus per omni an|nuo per Sancte Marie de agusto mense id est tari septem de auro de tari de Sicilia iusti pesati; et per omni annuo per  Natibi|tas domini nostri Iesu Christi galline quactuor bone, ut iustum fuerit, atucte intus ipso vestro monasterio asque omni a|maricationes. Et non abeatis licentia vos nec ipso vestro infirmariu nec alia quabis personas inn vestri vicibus | michi meisque propriis filiis masculis, q(uos) ego abiut da vera mea ucsore, cuntis diebus vite illorum illos | tollere nec contrare neque pro vos per vos in dominiu detindu neque per vos ad alias personas illos | dandu per nullum modum, dantews nos vobis ipsa pensione per omni annuo per suprascriptu costitutu, et adinplentes in ipsu | fundu omnibus supracriptis, qualiter superiuslegitur, et vos et posteras vestras et ipso vestro infirmariu michi meisuque propriis filiis masculi|s, q(uos) ego abiut da vera mea uscore, cuntis diebus vite illorum illos defendere debeatis da omnes omine omni|que persona asque omni data occasione; et ad vero tranxitu meto et de ipsis filiis meis masculis, q(uos) ego abuit de | vera mea ucsore, tunc ipsu fundu de terra cum suis omnibus pertinentibus, ut super legitur, et cum omne edificu, q(uod) ibidem feci|mus in vestra vestrisque posteras et de suprascripto vestro infirmariu eveniat potestate cuique illut largire volueritis, sicut continet alia | chartula recapitulata simile de ista, q(uam) voc michi esinde odie fecisti, quia ita nobis stetit. Si autem aliter fcerimus | de in omnibus suprascriptis per quobis modum aut summixas personas, tunc compono ego et heredibus meis masculis, q(uos) ego a|buit de vera mea ucsore, vobis vestrisque posteras auri solidos centum bi|santios. Et ec chartula, ut super legitur, sit firma scripta per manus Matheus Sparella scriptor dischipulus domnus Leonus Moraganus | curiale per suprascripta inditione. Oc signum manu suprascripto Palermo qui nominatur de Caserta ab eum rogatus pro eum subscripsi. | + Ego Petrus Gruccialma curiale testi subscripsi. | + Ego Nicolaus Apucefalus primarius testi subscripsi. | + Ego Leonus Moraganus curiale complevi et absolvi per suprascripta inditione. '"
      ]
     },
     "execution_count": 14,
     "metadata": {},
     "output_type": "execute_result"
    }
   ],
   "source": [
    "df.cei_tenor_joined[1]"
   ]
  },
  {
   "cell_type": "code",
   "execution_count": 2,
   "metadata": {},
   "outputs": [],
   "source": [
    "model_ckpt = \"../../models/27-finetuned-langdetect\"\n",
    "pipe = pipeline(\"text-classification\", model=model_ckpt)"
   ]
  },
  {
   "cell_type": "code",
   "execution_count": 58,
   "metadata": {},
   "outputs": [],
   "source": [
    "df_text = df[df[\"cei_tenor_joined\"].str.len() >= 30]\n",
    "df_AT = df_text[df_text[\"atom_id\"].astype(str).str.contains(\"/SK-\")]"
   ]
  },
  {
   "cell_type": "code",
   "execution_count": 62,
   "metadata": {},
   "outputs": [],
   "source": [
    "from ddp_util import chatomid_to_url"
   ]
  },
  {
   "cell_type": "code",
   "execution_count": null,
   "metadata": {},
   "outputs": [],
   "source": [
    "chatomid_to_url(639131)"
   ]
  },
  {
   "cell_type": "code",
   "execution_count": 59,
   "metadata": {},
   "outputs": [
    {
     "data": {
      "text/html": [
       "<div>\n",
       "<style scoped>\n",
       "    .dataframe tbody tr th:only-of-type {\n",
       "        vertical-align: middle;\n",
       "    }\n",
       "\n",
       "    .dataframe tbody tr th {\n",
       "        vertical-align: top;\n",
       "    }\n",
       "\n",
       "    .dataframe thead th {\n",
       "        text-align: right;\n",
       "    }\n",
       "</style>\n",
       "<table border=\"1\" class=\"dataframe\">\n",
       "  <thead>\n",
       "    <tr style=\"text-align: right;\">\n",
       "      <th></th>\n",
       "      <th>atom_id</th>\n",
       "      <th>cei_abstract_joined</th>\n",
       "      <th>cei_abstract_foreign</th>\n",
       "      <th>cei_tenor_joined</th>\n",
       "      <th>cei_pTenor</th>\n",
       "      <th>cei_placeName</th>\n",
       "      <th>cei_lang_MOM</th>\n",
       "      <th>cei_date</th>\n",
       "      <th>cei_dateRange</th>\n",
       "      <th>cei_date_ATTRIBUTE_value</th>\n",
       "      <th>cei_dateRange_ATTRIBUTE_from</th>\n",
       "      <th>cei_dateRange_ATTRIBUTE_to</th>\n",
       "      <th>cei_graphic_ATTRIBUTE_url_orig</th>\n",
       "      <th>cei_graphic_ATTRIBUTE_url_copy</th>\n",
       "    </tr>\n",
       "  </thead>\n",
       "  <tbody>\n",
       "    <tr>\n",
       "      <th>639131</th>\n",
       "      <td>[tag:www.monasterium.net,2011:/charter/SK-AMB/...</td>\n",
       "      <td>Václav a Martin Kavkovci zo Soběsúk žiadajú Br...</td>\n",
       "      <td>[]</td>\n",
       "      <td>Múdrym a opatrným purkmistrovi a konšelom i v...</td>\n",
       "      <td>[]</td>\n",
       "      <td>[Soběsuky]</td>\n",
       "      <td>[slov.]</td>\n",
       "      <td>[1456 XII 29]</td>\n",
       "      <td>[]</td>\n",
       "      <td>[14561229]</td>\n",
       "      <td>[]</td>\n",
       "      <td>[]</td>\n",
       "      <td>[SK_1120_362_MB-3114_r.JPG, SK_1120_362_MB-311...</td>\n",
       "      <td>[]</td>\n",
       "    </tr>\n",
       "    <tr>\n",
       "      <th>641900</th>\n",
       "      <td>[tag:www.monasterium.net,2011:/charter/SK-AMB/...</td>\n",
       "      <td>Vladislav II. uděluje Antoniu Farkašovi z Fa...</td>\n",
       "      <td>[]</td>\n",
       "      <td>Nos Wladislaus, Dei gracia, rex Hungarie, Bo...</td>\n",
       "      <td>[]</td>\n",
       "      <td>[Budín]</td>\n",
       "      <td>[]</td>\n",
       "      <td>[1499 V 19]</td>\n",
       "      <td>[]</td>\n",
       "      <td>[14990519]</td>\n",
       "      <td>[99999999]</td>\n",
       "      <td>[99999999]</td>\n",
       "      <td>[SK_1120_462_ZA-35_r.JPG, SK_1120_462_ZA-35_v....</td>\n",
       "      <td>[]</td>\n",
       "    </tr>\n",
       "    <tr>\n",
       "      <th>645704</th>\n",
       "      <td>[tag:www.monasterium.net,2011:/charter/SK-SNA/...</td>\n",
       "      <td>Uherský král Matyáš Korvín potvrzuje privilegi...</td>\n",
       "      <td>[]</td>\n",
       "      <td>Mathias, Dei gracia, Hungarie, Dalmacie, Crva...</td>\n",
       "      <td>[]</td>\n",
       "      <td>[]</td>\n",
       "      <td>[latinský]</td>\n",
       "      <td>[24.6.1464]</td>\n",
       "      <td>[]</td>\n",
       "      <td>[14640624]</td>\n",
       "      <td>[99999999]</td>\n",
       "      <td>[99999999]</td>\n",
       "      <td>[SK_SNA_4156_Fasc7G-Nr169_r.JPG, SK_SNA_4156_F...</td>\n",
       "      <td>[]</td>\n",
       "    </tr>\n",
       "    <tr>\n",
       "      <th>647513</th>\n",
       "      <td>[tag:www.monasterium.net,2011:/charter/SK-SNA/...</td>\n",
       "      <td>Gregor zo Štiavnice potvrdzuje, že založil svo...</td>\n",
       "      <td>[]</td>\n",
       "      <td>Ja Řehořz Ssczawnicze, známo činím tímto liste...</td>\n",
       "      <td>[]</td>\n",
       "      <td>[ Štiavnica]</td>\n",
       "      <td>[slovenský]</td>\n",
       "      <td>[12.10.1494]</td>\n",
       "      <td>[]</td>\n",
       "      <td>[14941012]</td>\n",
       "      <td>[]</td>\n",
       "      <td>[]</td>\n",
       "      <td>[SK_SNA_4201_Rod-Rakovsky-z-Rakova-a-Liptovske...</td>\n",
       "      <td>[]</td>\n",
       "    </tr>\n",
       "  </tbody>\n",
       "</table>\n",
       "</div>"
      ],
      "text/plain": [
       "                                                  atom_id  \\\n",
       "639131  [tag:www.monasterium.net,2011:/charter/SK-AMB/...   \n",
       "641900  [tag:www.monasterium.net,2011:/charter/SK-AMB/...   \n",
       "645704  [tag:www.monasterium.net,2011:/charter/SK-SNA/...   \n",
       "647513  [tag:www.monasterium.net,2011:/charter/SK-SNA/...   \n",
       "\n",
       "                                      cei_abstract_joined  \\\n",
       "639131  Václav a Martin Kavkovci zo Soběsúk žiadajú Br...   \n",
       "641900    Vladislav II. uděluje Antoniu Farkašovi z Fa...   \n",
       "645704  Uherský král Matyáš Korvín potvrzuje privilegi...   \n",
       "647513  Gregor zo Štiavnice potvrdzuje, že založil svo...   \n",
       "\n",
       "       cei_abstract_foreign  \\\n",
       "639131                   []   \n",
       "641900                   []   \n",
       "645704                   []   \n",
       "647513                   []   \n",
       "\n",
       "                                         cei_tenor_joined cei_pTenor  \\\n",
       "639131   Múdrym a opatrným purkmistrovi a konšelom i v...         []   \n",
       "641900    Nos Wladislaus, Dei gracia, rex Hungarie, Bo...         []   \n",
       "645704   Mathias, Dei gracia, Hungarie, Dalmacie, Crva...         []   \n",
       "647513  Ja Řehořz Ssczawnicze, známo činím tímto liste...         []   \n",
       "\n",
       "       cei_placeName cei_lang_MOM       cei_date cei_dateRange  \\\n",
       "639131    [Soběsuky]      [slov.]  [1456 XII 29]            []   \n",
       "641900       [Budín]           []    [1499 V 19]            []   \n",
       "645704            []   [latinský]    [24.6.1464]            []   \n",
       "647513  [ Štiavnica]  [slovenský]   [12.10.1494]            []   \n",
       "\n",
       "       cei_date_ATTRIBUTE_value cei_dateRange_ATTRIBUTE_from  \\\n",
       "639131               [14561229]                           []   \n",
       "641900               [14990519]                   [99999999]   \n",
       "645704               [14640624]                   [99999999]   \n",
       "647513               [14941012]                           []   \n",
       "\n",
       "       cei_dateRange_ATTRIBUTE_to  \\\n",
       "639131                         []   \n",
       "641900                 [99999999]   \n",
       "645704                 [99999999]   \n",
       "647513                         []   \n",
       "\n",
       "                           cei_graphic_ATTRIBUTE_url_orig  \\\n",
       "639131  [SK_1120_362_MB-3114_r.JPG, SK_1120_362_MB-311...   \n",
       "641900  [SK_1120_462_ZA-35_r.JPG, SK_1120_462_ZA-35_v....   \n",
       "645704  [SK_SNA_4156_Fasc7G-Nr169_r.JPG, SK_SNA_4156_F...   \n",
       "647513  [SK_SNA_4201_Rod-Rakovsky-z-Rakova-a-Liptovske...   \n",
       "\n",
       "       cei_graphic_ATTRIBUTE_url_copy  \n",
       "639131                             []  \n",
       "641900                             []  \n",
       "645704                             []  \n",
       "647513                             []  "
      ]
     },
     "execution_count": 59,
     "metadata": {},
     "output_type": "execute_result"
    }
   ],
   "source": [
    "df_AT"
   ]
  },
  {
   "cell_type": "code",
   "execution_count": 104,
   "metadata": {},
   "outputs": [
    {
     "name": "stdout",
     "output_type": "stream",
     "text": [
      "                                                                                              atom_id\n",
      "647513  [tag:www.monasterium.net,2011:/charter/SK-SNA/4201-RodRakovskyZRakovaALiptovskejStiavnice/44]\n"
     ]
    }
   ],
   "source": [
    "with pd.option_context('display.max_rows', 1000, 'display.max_columns', 1000):  \n",
    "    print_df = df_AT.loc[[atom_id_nr], [\"atom_id\"]]\n",
    "    print(print_df.to_string())"
   ]
  },
  {
   "cell_type": "code",
   "execution_count": 96,
   "metadata": {},
   "outputs": [
    {
     "name": "stdout",
     "output_type": "stream",
     "text": [
      "(\"[{'label': 'cs', 'score': 0.9999735355377197}] \\n\"\n",
      " '\\n'\n",
      " '                                                   atom_id\\n'\n",
      " '647513  [tag:www.monasterium.net,2011:/charter/SK-SNA/... \\n'\n",
      " '\\n'\n",
      " '  Ja Řehořz Ssczawnicze, známo činím tímto listem obecnie před všemi ktož '\n",
      " 'jej uzři a nebo čtuce slyšeti budú, že jsem zastavil panuJakuboviz '\n",
      " 'Parzizowiecz sedení bříkovské ve čtyřech zlatých. Tuto mieru, aby on to '\n",
      " 'sedení požíval dotaď, dokovadž ja jemu ty čtyři zlaté nezaplatím, a czeleny '\n",
      " 'a nebo ktož jej požívati bude, aby jemu každý rok zlatý dával. Tomu na '\n",
      " 'sviedomí a pro lepší jistotu svou vlastní pečeť sem přidaviti kázal k tomuto '\n",
      " 'listu. Dan v tu nedieli před svatýmHavlemAnno 1494.')\n"
     ]
    }
   ],
   "source": [
    "atom_id_nr = 647513\n",
    "\n",
    "with pd.option_context('display.max_rows', 1000, 'display.max_columns', 1000):  \n",
    "    pprint(f\"{pipe(df_AT.cei_tenor_joined[atom_id_nr][:512])} \\n\\n {(df_AT.loc[[atom_id_nr], ['atom_id']])} \\n\\n  {df_AT.cei_tenor_joined[atom_id_nr][:1000]}\")"
   ]
  }
 ],
 "metadata": {
  "kernelspec": {
   "display_name": "Python 3.8.10 ('didipcv')",
   "language": "python",
   "name": "python3"
  },
  "language_info": {
   "codemirror_mode": {
    "name": "ipython",
    "version": 3
   },
   "file_extension": ".py",
   "mimetype": "text/x-python",
   "name": "python",
   "nbconvert_exporter": "python",
   "pygments_lexer": "ipython3",
   "version": "3.8.10"
  },
  "orig_nbformat": 4,
  "vscode": {
   "interpreter": {
    "hash": "51de90f0d358e009ce9df81fe88f979b0f6e2c5f2b81c54b9ff289164d1b3424"
   }
  }
 },
 "nbformat": 4,
 "nbformat_minor": 2
}
