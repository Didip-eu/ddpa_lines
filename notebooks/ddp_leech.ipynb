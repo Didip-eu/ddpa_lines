{
 "cells": [
  {
   "cell_type": "markdown",
   "id": "b3d04de4",
   "metadata": {},
   "source": [
    "### Palindromes"
   ]
  },
  {
   "cell_type": "code",
   "execution_count": null,
   "id": "806f957e",
   "metadata": {},
   "outputs": [],
   "source": [
    "small_vocabulary = ['a', 'cat', 'civic', 'did', 'dont', 'gym', 'i', 'it', 'kayak', 'lemon', 'level', 'madam', 'melon', 'mom', 'my', 'no', 'nod', 'noon', 'on', 'pets', 'saw', 'spot', 'step', 'taco', 'top', 'was']"
   ]
  },
  {
   "cell_type": "markdown",
   "id": "1eadc832",
   "metadata": {},
   "source": [
    "#### Q1: What is the alphabet occuring in this vocabulary\n",
    "\n",
    "##### Answer:"
   ]
  },
  {
   "cell_type": "code",
   "execution_count": null,
   "id": "5d3f502b",
   "metadata": {},
   "outputs": [],
   "source": [
    "''.join(sorted(set(''.join(small_vocabulary))))"
   ]
  },
  {
   "cell_type": "markdown",
   "id": "46d273dd",
   "metadata": {},
   "source": [
    "#### Q2: Can we get palindome words in our vocabulary?\n",
    "\n",
    "##### Answer:"
   ]
  },
  {
   "cell_type": "code",
   "execution_count": null,
   "id": "d6bbc81d",
   "metadata": {},
   "outputs": [],
   "source": [
    "', '.join([word for word in small_vocabulary if word==word[::-1]])"
   ]
  },
  {
   "cell_type": "markdown",
   "id": "a37daf4a",
   "metadata": {},
   "source": [
    "#### Q3: Can we get all the bigram palindromes? How many are there? Can we repeat words?\n",
    "##### Answer:"
   ]
  },
  {
   "cell_type": "code",
   "execution_count": null,
   "id": "1d4c7794",
   "metadata": {},
   "outputs": [],
   "source": [
    "palindromes = []\n",
    "\n",
    "for word1 in small_vocabulary:\n",
    "    for word2 in small_vocabulary:\n",
    "        bigram = word1 + word2\n",
    "        if bigram==bigram[::-1] and word1!=word2:\n",
    "            palindromes.append(f\"{word1} {word2}\")\n",
    "\n",
    "print(palindromes)"
   ]
  },
  {
   "cell_type": "markdown",
   "id": "84025e62",
   "metadata": {},
   "source": [
    "#### Q4: What about breath first depth?\n",
    "##### Answer:"
   ]
  },
  {
   "cell_type": "code",
   "execution_count": null,
   "id": "9807520d",
   "metadata": {},
   "outputs": [],
   "source": [
    "def palindrome_generation(vocabulary, stop_after=10000000):\n",
    "    total_count = 0\n",
    "    palindrome_counter = 0\n",
    "    sentences = (tuple([]),)\n",
    "    while total_count < stop_after:\n",
    "        deeper_sentences = []\n",
    "        for sentence in sentences:\n",
    "            for word in vocabulary:\n",
    "                total_count += 1\n",
    "                new_sentence = sentence + (word,)\n",
    "                deeper_sentences.append(new_sentence)\n",
    "                sentence_str = ' '.join(new_sentence)\n",
    "                if sentence_str == sentence_str[::-1]:\n",
    "                    palindrome_counter += 1\n",
    "                    yield palindrome_counter, total_count, sentence_str\n",
    "        sentences = tuple(deeper_sentences)\n",
    "\n",
    "\n",
    "for palindrome in palindrome_generation(vocabulary=small_vocabulary, stop_after=1000000):\n",
    "    print(palindrome)"
   ]
  }
 ],
 "metadata": {
  "kernelspec": {
   "display_name": "Python 3 (ipykernel)",
   "language": "python",
   "name": "python3"
  },
  "language_info": {
   "codemirror_mode": {
    "name": "ipython",
    "version": 3
   },
   "file_extension": ".py",
   "mimetype": "text/x-python",
   "name": "python",
   "nbconvert_exporter": "python",
   "pygments_lexer": "ipython3",
   "version": "3.8.10"
  }
 },
 "nbformat": 4,
 "nbformat_minor": 5
}
