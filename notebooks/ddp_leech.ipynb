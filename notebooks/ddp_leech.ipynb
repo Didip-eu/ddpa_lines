{
 "cells": [
  {
   "cell_type": "code",
   "execution_count": null,
   "id": "b362b979",
   "metadata": {},
   "outputs": [],
   "source": []
  },
  {
   "cell_type": "code",
   "execution_count": 3,
   "id": "cd28a49c",
   "metadata": {},
   "outputs": [
    {
     "name": "stdout",
     "output_type": "stream",
     "text": [
      "https://www.monasterium.net/mom/AT-StiAStP/BlUKMaulbronn/fond\n",
      "[]\n",
      "<function get_charters_from_fond at 0x7f1028b41430>\n"
     ]
    }
   ],
   "source": [
    "import ddp_util\n",
    "import time\n",
    "import sys\n",
    "\n",
    "def get_all_charters(root=\"https://www.monasterium.net/mom/fonds\"): \n",
    "    count =0 \n",
    "    fd=open(\"/tmp/urls.txt\",\"w\") \n",
    "    t=time.time() \n",
    "    for archive_url in ddp_util.get_archive_urls(root): \n",
    "        for fond in ddp_util.get_fonds_from_archive(archive_url): \n",
    "            for charter in ddp_util.get_charters_from_fond(fond): \n",
    "                sys.stdout.flush()\n",
    "                print(f\"{int(time.time()-t)}{count} {charter}\") \n",
    "                fd.write(f\"{charter}\\n\")\n",
    "                fd.flush()\n",
    "                count=count+1"
   ]
  }
 ],
 "metadata": {
  "kernelspec": {
   "display_name": "Python 3 (ipykernel)",
   "language": "python",
   "name": "python3"
  },
  "language_info": {
   "codemirror_mode": {
    "name": "ipython",
    "version": 3
   },
   "file_extension": ".py",
   "mimetype": "text/x-python",
   "name": "python",
   "nbconvert_exporter": "python",
   "pygments_lexer": "ipython3",
   "version": "3.8.10"
  }
 },
 "nbformat": 4,
 "nbformat_minor": 5
}
