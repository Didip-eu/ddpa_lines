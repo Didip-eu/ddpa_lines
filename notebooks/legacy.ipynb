{
 "cells": [
  {
   "cell_type": "markdown",
   "id": "59bfe040-cc5c-4a10-903c-d5b4b3f085a8",
   "metadata": {},
   "source": [
    "# legacy"
   ]
  },
  {
   "cell_type": "markdown",
   "id": "911728d2-58a3-402b-9957-7a7ca62961b2",
   "metadata": {},
   "source": [
    "## get and print all xml tags (in hierarchical order) used in a xml file"
   ]
  },
  {
   "cell_type": "code",
   "execution_count": null,
   "id": "efaa580f-784d-4ae7-ac36-274de25e81c9",
   "metadata": {},
   "outputs": [],
   "source": [
    "import xml.etree.ElementTree as ET \n",
    "from pprint import pprint"
   ]
  },
  {
   "cell_type": "code",
   "execution_count": null,
   "id": "b9953a66-82c3-4cb4-8764-077bb5a0013e",
   "metadata": {},
   "outputs": [],
   "source": [
    "tree = ET.parse('filename')\n",
    "root = tree.getroot()\n",
    "\n",
    "elemList = []\n",
    "\n",
    "for elem in tree.iter():\n",
    "    elemList.append(elem.tag)\n",
    "\n",
    "elemList = list(set(elemList))\n",
    "pprint(elemList)"
   ]
  },
  {
   "cell_type": "code",
   "execution_count": null,
   "id": "b4280eb5-f351-4f0d-b6b5-a92fc6a7b1af",
   "metadata": {},
   "outputs": [],
   "source": [
    "for level_1 in root: #write function or enlongen as desired\n",
    "    print('/Level 1')\n",
    "    print(level_1)\n",
    "    for level_2 in level_1:\n",
    "        print(' / / Level 2:')\n",
    "        print(level_2)\n",
    "        for level_3 in level_2:\n",
    "            print(' / / / Level 3:')\n",
    "            print(level_3)"
   ]
  },
  {
   "cell_type": "markdown",
   "id": "e9d4dd5a-78f4-4fbc-b73e-4832244a1883",
   "metadata": {},
   "source": [
    "# get atomID and graphicURL into .csv from a collection using scandir ✔\n",
    "- without subdirectories\n",
    "- only charters with images"
   ]
  },
  {
   "cell_type": "code",
   "execution_count": null,
   "id": "18329300-aa8e-4f08-96b2-d28af44ee821",
   "metadata": {},
   "outputs": [],
   "source": [
    "import os\n",
    "import xml.etree.ElementTree as ET\n",
    "import pandas as pd\n",
    "from pathlib import PurePath"
   ]
  },
  {
   "cell_type": "code",
   "execution_count": null,
   "id": "5631c09e-8663-4f1b-aa93-0345c40041d0",
   "metadata": {},
   "outputs": [],
   "source": [
    "namespaces = {'atom': 'http://www.w3.org/2005/Atom', 'cei': 'http://www.monasterium.net/NS/cei'}\n",
    "directoryPath = '../data/db/mom-data/metadata.charter.public/BischoefeSpeyer/'\n",
    "extension = ('.cei.xml')"
   ]
  },
  {
   "cell_type": "code",
   "execution_count": null,
   "id": "01dbcfde-6087-436c-8ea6-434cf09893cf",
   "metadata": {},
   "outputs": [],
   "source": [
    "atomIDs = []\n",
    "attributes = []\n",
    "\n",
    "with os.scandir(directoryPath) as it:\n",
    "    for entry in it:\n",
    "        if entry.name.endswith(extension) and entry.is_file():\n",
    "            tree = ET.parse(entry.path)\n",
    "            root = tree.getroot()\n",
    "            for tag in root.findall('.//cei:graphic', namespaces):\n",
    "                atomID = root[0].text\n",
    "                atomIDs.append(atomID)\n",
    "                attribute = tag.attrib['url'] \n",
    "                attributes.append(attribute)"
   ]
  },
  {
   "cell_type": "code",
   "execution_count": null,
   "id": "bdac7fc5-73d5-425f-8385-feb9e8abd9d4",
   "metadata": {},
   "outputs": [],
   "source": [
    "img_list = list(zip(atomIDs, attributes))\n",
    "df = pd.DataFrame(img_list).rename(columns={0: 'atomID', 1: 'url'})\n",
    "df"
   ]
  },
  {
   "cell_type": "code",
   "execution_count": null,
   "id": "87ef6d5a-e0c8-404b-97a8-d9d97ec17144",
   "metadata": {},
   "outputs": [],
   "source": [
    "path = PurePath(directoryPath)\n",
    "pathname = path.name"
   ]
  },
  {
   "cell_type": "code",
   "execution_count": null,
   "id": "301a9224-b34f-4a0a-b63f-606d0835bfff",
   "metadata": {},
   "outputs": [],
   "source": [
    "df.to_csv(f'../data/output/{pathname}.csv', index=False)"
   ]
  },
  {
   "cell_type": "markdown",
   "id": "05716b7a-6a72-4674-a778-4adb469067f8",
   "metadata": {},
   "source": [
    "## parsing xml"
   ]
  },
  {
   "cell_type": "markdown",
   "id": "bc93bbe9-eda6-4a8d-b09d-10def2e6bee4",
   "metadata": {},
   "source": [
    "- findall-method is rather slow\n",
    "- simple iter should be fastest method but is limited in configuration options\n",
    "- iterparse is slower than others due to overhead\n",
    "- simple xpath (lxml) is best since it is both fast and easy to hdle"
   ]
  },
  {
   "cell_type": "code",
   "execution_count": null,
   "id": "47383ffb-19d9-4562-8cfb-96ae3236f60c",
   "metadata": {},
   "outputs": [],
   "source": [
    "#xpath lxml\n",
    "for file in Path(directoryPath).rglob(fileExtension):\n",
    "    tree = etree.parse(str(file))\n",
    "    for tenor in tree.xpath(\"//cei:tenor\", namespaces = namespaces):\n",
    "        tenor_contents.append(tenor.text)\n",
    "        atom_IDs.append(tree.xpath(\"//atom:id/text()\", namespaces = namespaces))\n",
    "        places.append(tree.xpath(\".//cei:placeName/text()\", namespaces = namespaces))\n",
    "        languages.append(tree.xpath(\".//cei:lang_MOM/text()\", namespaces = namespaces))"
   ]
  },
  {
   "cell_type": "code",
   "execution_count": null,
   "id": "2861f11d-1ee0-4afa-8523-044003a4cea1",
   "metadata": {},
   "outputs": [],
   "source": [
    "#findall etree\n",
    "for file in Path(directoryPath).rglob(fileExtension):\n",
    "    root = etree.parse(str(file)).getroot()\n",
    "    for tenor in root.findall(\".//cei:tenor\", namespaces):\n",
    "        tenor_contents.append(etree.tostring(tenor).decode(\"utf-8\")) # diese Zeile killt den Speicher\n",
    "        atom_IDs.append(root[0].text)\n",
    "        if root.find('.//cei:placeName', namespaces) is not None:\n",
    "            places.append(root.find('.//cei:placeName', namespaces).text)\n",
    "        elif root.find('.//cei:placeName', namespaces) is None:\n",
    "            places.append(None)\n",
    "        if root.find('.//cei:lang_MOM', namespaces) is not None:\n",
    "            languages.append(root.find('.//cei:lang_MOM', namespaces).text)\n",
    "        elif root.find('.//cei:lang_MOM', namespaces) is None:\n",
    "            languages.append(None)"
   ]
  },
  {
   "cell_type": "markdown",
   "id": "349dc1bd-6bff-4263-9359-3946fced7fe3",
   "metadata": {},
   "source": [
    "## filter by image"
   ]
  },
  {
   "cell_type": "code",
   "execution_count": null,
   "id": "0109a0c8-118a-4160-92e4-e7c428e5592b",
   "metadata": {},
   "outputs": [],
   "source": [
    "import pandas as pd\n",
    "\n",
    "#df_links = df[df['url'].str.contains(\"http://\")]\n",
    "#df_links.to_csv(f'links_{pathname}.csv', index=False)"
   ]
  },
  {
   "cell_type": "code",
   "execution_count": null,
   "id": "f09ca48f-108e-48d5-8524-e863bf17d3ef",
   "metadata": {},
   "outputs": [],
   "source": [
    "df = pd.read_csv('../data/output/metadata.charter.public.csv')"
   ]
  },
  {
   "cell_type": "code",
   "execution_count": null,
   "id": "1882ee16-de5d-444d-975c-0e3f97bdf68d",
   "metadata": {},
   "outputs": [],
   "source": [
    "df"
   ]
  },
  {
   "cell_type": "code",
   "execution_count": null,
   "id": "1ec2ad0e-c8c6-4cf4-8494-3f937f60fe6b",
   "metadata": {},
   "outputs": [],
   "source": [
    "df_withMomLinks = df[df['url'].str.contains(\"images.monasterium.net\", na=False)]\n",
    "df_withMomLinks.to_csv(f'../data/output/df_withMomLinks.csv', index=False)"
   ]
  },
  {
   "cell_type": "code",
   "execution_count": null,
   "id": "2eecde7c-a9d7-4879-ba59-d23e90bdda41",
   "metadata": {},
   "outputs": [],
   "source": [
    "df_withMomLinks"
   ]
  },
  {
   "cell_type": "markdown",
   "id": "8d83635d-43ca-4020-a5b1-0d0799ead46e",
   "metadata": {},
   "source": [
    "### add filter for no url"
   ]
  },
  {
   "cell_type": "code",
   "execution_count": null,
   "id": "ffe66db6-a3d4-4a77-9be4-79654b25e554",
   "metadata": {},
   "outputs": [],
   "source": [
    "pathname = PurePath(directoryPath).name\n",
    "df.to_csv(f'../data/output/{pathname}.csv', index=False)\n",
    "\n",
    "df_noURLs = df[df['url'].astype(bool)]\n",
    "\n",
    "df_noURLs.to_csv(f'../data/output/{pathname}_nourls.csv'\n",
    "    f'{pathname}_noURLs.csv', index=False)"
   ]
  }
 ],
 "metadata": {
  "kernelspec": {
   "display_name": "Python 3 (ipykernel)",
   "language": "python",
   "name": "python3"
  },
  "language_info": {
   "codemirror_mode": {
    "name": "ipython",
    "version": 3
   },
   "file_extension": ".py",
   "mimetype": "text/x-python",
   "name": "python",
   "nbconvert_exporter": "python",
   "pygments_lexer": "ipython3",
   "version": "3.9.7"
  }
 },
 "nbformat": 4,
 "nbformat_minor": 5
}
