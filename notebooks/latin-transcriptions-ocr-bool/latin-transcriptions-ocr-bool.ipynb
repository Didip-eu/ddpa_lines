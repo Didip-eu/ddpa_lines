{
 "cells": [
  {
   "cell_type": "code",
   "execution_count": 26,
   "metadata": {},
   "outputs": [],
   "source": [
    "import pandas as pd\n",
    "from lxml import etree\n",
    "from pathlib import Path\n",
    "from pathlib import PurePosixPath\n",
    "import os\n",
    "from tqdm import tqdm\n",
    "\n",
    "from ddp_util import decompose_chatomid\n",
    "from ddp_util import chatomid_to_url"
   ]
  },
  {
   "cell_type": "markdown",
   "metadata": {},
   "source": [
    "# Helpers"
   ]
  },
  {
   "cell_type": "code",
   "execution_count": null,
   "metadata": {},
   "outputs": [],
   "source": [
    "def explode_columns(dataframe, columns=None):\n",
    "    \"\"\"Explodes one or more pandas columns in a DataFrame so each row contains only one object.\n",
    "    \"\"\"\n",
    "    all_columns = dataframe.keys().to_list()\n",
    "    if columns is None:\n",
    "        columns = all_columns\n",
    "    for column in columns:\n",
    "        dataframe = dataframe.explode(column)\n",
    "    return dataframe\n",
    "\n",
    "def get_cei_date_value(row):\n",
    "    date = row[\"cei_date_ATTRIBUTE_value\"]\n",
    "    date_bot = row[\"cei_dateRange_ATTRIBUTE_from\"]\n",
    "    date_top = row[\"cei_dateRange_ATTRIBUTE_to\"]\n",
    "    value = next((d for d in (date, date_bot, date_top) if pd.notna(d)), None)\n",
    "    return value\n",
    "\n",
    "def is_valid_date(date_value):\n",
    "    return isinstance(date_value, str) and (\"9999\" not in date_value and \"010101\" not in date_value)"
   ]
  },
  {
   "attachments": {},
   "cell_type": "markdown",
   "metadata": {},
   "source": [
    "# Load"
   ]
  },
  {
   "cell_type": "code",
   "execution_count": 68,
   "metadata": {},
   "outputs": [],
   "source": [
    "df_raw = pd.read_json(\"../../data/output/charters_full_2022-11-22-1044.json\")"
   ]
  },
  {
   "cell_type": "code",
   "execution_count": 69,
   "metadata": {},
   "outputs": [],
   "source": [
    "# from xquery\n",
    "df_transcriptions = pd.read_xml(\"../../data/in/latin-ocr-transcriptions/latin_tenor_result.xml\")\n",
    "df_transcriptions.columns = [\"atom_id\", \"tenor\"]\n",
    "df_transcriptions[\"google_ocr\"] = True"
   ]
  },
  {
   "attachments": {},
   "cell_type": "markdown",
   "metadata": {},
   "source": [
    "# Prepare main"
   ]
  },
  {
   "cell_type": "code",
   "execution_count": 71,
   "metadata": {},
   "outputs": [],
   "source": [
    "df_prep = explode_columns(\n",
    "    df_raw, [\"atom_id\",\"cei_date_ATTRIBUTE_value\", \"cei_dateRange_ATTRIBUTE_from\", \"cei_dateRange_ATTRIBUTE_to\"]\n",
    ")\n",
    "\n",
    "df_prep = df_prep[~df_prep[\"atom_id\"].astype(str).str.contains(\"cheim\")]"
   ]
  },
  {
   "attachments": {},
   "cell_type": "markdown",
   "metadata": {},
   "source": [
    "# Which forms of Latin are there in the cei?"
   ]
  },
  {
   "cell_type": "code",
   "execution_count": null,
   "metadata": {},
   "outputs": [],
   "source": [
    "lang_list_prep = explode_columns(df_raw, [\"cei_lang_MOM\"])\n",
    "lang_list = lang_list_prep.cei_lang_MOM.value_counts().to_frame().sort_values(by=\"cei_lang_MOM\", ascending=False)\n",
    "lang_list.reset_index()[\"index\"].to_list()"
   ]
  },
  {
   "cell_type": "code",
   "execution_count": null,
   "metadata": {},
   "outputs": [
    {
     "name": "stdout",
     "output_type": "stream",
     "text": [
      "['Deutsch', 'Latin', 'dt.', 'Latein', 'lat.', 'latinsky', 'latinský', 'německy', 'deutsch', 'česky', 'nem.', 'ger', 'nemški', 'lateinisch', 'latein.', 'nemščina', 'lat. ', 'němčina', 'český', 'Német', 'nem. ', 'lat', 'latina', 'německý', 'latinščina', 'latinski', 'niederdeutsch', 'latein', 'Niederdeutsch', 'čeština', 'russisch', 'schwedisch', 'Ndt.', 'Latino', 'Lateinisch', 'Latin.', 'Hochdeutsch', 'Hdt.', 'čes.', 'dt', 'D', 'französisch', 'LAT', 'nemecký', 'j. łaciński', 'latinsky/česky', 'dt. und lat.', 'Deutsch [?]', 'česky, německy', 'talijanski i latinski', ' Latein', 'plattdeutsch', 'Französisch', 'Altserbisch.', 'francouzsky', 'lat. u. dt.', 'latinšcina', 'latinski i talijanski', 'Slavic.', 'German', 'Olasz', 'CZ', 'Latină', 'lateinisch und deutsch', 'italsky', 'latinsky, německy', 'fre', 'nemšcina', 'lat., dt.', 'něm.', 'dt. u. lat.', 'česky, latinsky', 'englisch', 'slov.', 'Deutsch, Latein', 'latinsky, (italsky)', 'německy, česky', 'Perg.', 'Français', 'F', 'română (grafie chirilică)', 'Latein und Deutsch', 'deutsch, lateinisch', 'deutsch ', 'Greek.', 'německy, latinsky', 'italienisch', 'lat., it.', 'Hungarian', 'Latein; Deutsch', 'italsko-latinsky', 'niederländisch', 'lat./dt.', 'deutsch; lateinisch', 'lat., ung.', 'talijanski', 'Deutsch/Latein', ' ', 'německy (insert latinsky)', 'S', 'spanisch', 'tschechisch', 'Altserbisch', 'deutsch?', 'ital.', 'Latein/Deutsch', 'dt./lat.', 'nem', 'Tschechisch', 'Old Slavic', 'Latin and Italian.', 'dt., lat.', 'lat./nem. ', 'deutsch / lateinisch', 'lat. Perg.', ' Das innere Hölltallehen im Navis', 'Serbisch', 'lat. - nem.', 'slovenský', 'Latină, maghiară', 'papír', 'nem,', 'latinsky, (2. insert italsky)', 'německo', 'Italian.', 'dt. Perg.', 'lat. und dt.', 'německy, latinsky, česky', 'latinsky a italsky', '?', 'latger', 'latinsky, česky', 'latino', 'latinsky a německy', 'dt-', 'Maghiară', 'Lateinisch.', 'Pap.', 'latinščina, nemščina', 'nemščina, latinščina', 'čes. b)', 'latinksy', 'nemecky', 'Holländisch', 'ger.', 'russisch; deutsch', 'deutsche Version', 'latinsky (insert česky)', 'pergamen', 'německy a latinsky', 'maďarsky', 'maďarský', 'Deutsch (bis auf die Jahreszahl)', 'latina (němčina)', 'Deutsch (?)', 'Latein, Deutsch', 'němčina, latina, čeština', 'německy, inserty latinsky, česky', 'lat./nem.', 'německý, latinský', 'Nieder-/Hochdeutsch', 'lst.', 'německý, zdobený zlatým písmem', 'hochdeutsch', 'slovenski', 'dt. II: Ausf.; dt.', 'französchisch', 'Keine Angabe.', 'čeština, němčina', 'latina, čeština', 'A1 Latein. - A2 Deutsch.', 'G', ' Deutsch ', 'lat./nem.  ', 'Lat.', '.', 'lateinisch; deutsch', 'latinský, český', 'M', 'latinský, italský', 'Lateinische Sprache', 'neměcky', 'česky (+ německý výtah)', 'česky (ověření německé)', 'překlad z češtiny z 16. st.', 'česky a latinsky', '6 folií', 'německy (překlad do němčiny, ověřený Rosenbergem z roku 1554), ověřovací klausule latinsky', 'česky; dvojlist', 'německy (1. insert česky)', 'darumbe so geben die Aussteller den Käufern und ihren Erben disen brief , . . versigilt mit ihres perchmaisters und perchherren insigiln, hern Gerungs des Choln und hern Nichlas in dem Perchhof, und mit hern Dietreichs insigil dez Vrbaetschen, zu den [58] zeiten mu/ensmaister ze Wienne, und mit hern Seyfrits insigil dez Minngangs, die diser sache gezeuge sint mit irn insigiln. ... Geben ze Wienne, nach Christes gepurt dreutzehen hundert jar, darnach in dem neununddreizgisten jar, dez naechsten suntages nach dem ostertage.', 'česky?', 'česky, Václ. listna latinsky', 'německ', 'Deutsch mit Ausnahme des lateinischen Kanzleivermerks auf der Plika rechts unten: Ad mandatum domini Imperatoris proprium.', 'Altitalienisch.', 'Latein; Unterschrift Altserbisch.', 'Die Abschrift vom 18. Jh gibt den Text in der zeitgenössischen russischslawischen Sprache wieder. In den Editionen von Miklosich und Safarik (übernommen von Novakovic in Zakonski spomenici) wurden die Formen der altserbischen Sprache des 14. Jhs. angepasst.', 'latinsky; inzerovaná listina česky', 'latinsky, (česky)', 'italsky, (latinsky)', 'čes. (překlad z latiny)', 'lat., dt. ', 'latinský, zdobený zlatými písmeny', 'Brief', 'n Braumeister Kantor', 'Deutsch mit Ausnahme des lateinischen Kanzleivermerks auf der Plika rechts unten: Ad mandatum domini Regis proprium.', 'lat.u. dt. (Insert)', 'dt.Perg.', 'latinsky/český', 'latinsky /německý/', 'něm. a)', 'česky (inserty 1. latinsky, 2. německy, 3.-4. česky)', 'německy (1. insert latinsky, v 2. insertu část česky)', 'německy (insert česky)', 'latinsky (německy)', 'latinsky, notářské ověření německé', 'latinsky (inserty německy)', 'latinsky (něm.)', 'česky /latinsky/', 'německy, inzert česky', 'papír, dvojlist', 'česka', 'česky(latinsky)', 'česky (insert latinsky)', 'srbsky', 'latinsky (4. insert česky, 5. a 6. německy)', 'rusky', 'něm. ', 'Latein?', 'německý, zdobený', 'český, německý', 'latinský, německý', 'latinsky a německy z konce 15. stol.', 'německy /zajímavý jazyk/', 'Dt.', 'latinsky, český', 'cesky', '(A) Latein. - (B) Deutsch.', 'LAT, IT', 'lat., něm. (insert)', 'lat. b)', 'lat. d)', 'dt,', 'lat. und it.', 'let.', 'Deutsch, nur die Beglaubigung durch Notar Muttinger in lateinischer Sprache.', 'německy, (latinsky)', 'česky, německy, latinsky', 'latinsky (Jan Lucemburský, Zikmund Lucemburský), německy (Václav IV.)', 'latina a čeština', 'německy (latinské a české inserty)', 'německy, insert latinsky', 'česky; část insertů latinsky; 4. insert německy', 'česky; ověřovací doložka německy', 'latinsky, italsky', 'latinsky, česky, německy', 'Deutsch mit Ausnahme der lateinischen Bestätigung des Notars Jakob Muttinger, dass die Abschrift mit dem Original wörtlich übereinstimmt.', 'Nieder-/Oberdeutsch', 'lateinsch', 'Latein/Ndt.', 'Deutsch, nur Einleitungssatz am Spiegel des Vorderdeckels, Jahresangaben S. 1r und v, 2r sowie 15r jeweils oben, und die Endsumme der Einnahmen am Spiegel des Hinterdeckels lateinisch.', 'Mndt.', 'Latein, deutsch', 'Deutsch mit Ausnahme des letzten Satzes, der auf Latein verfasst wurde.', 'Deutsch mit Ausnahme einer später vom Pfarrer in lateinischer Sprache angebrachten Randnotiz, dass der Richter die Entschuldigung nicht richtig widergab und der Beschuldigte den Pfarrer niemals aufgesucht hat, sondern in seiner Hartnäckigkeit verblieben ist.', 'deutsch und tschechisch', 'deutsch; tschechisch', 'Transumierte Urkunde latein; Beglaubigung in deutsch', 'deutsch und latein', 'Deutsch, Hinterdeckel aus einer älteren Handschrift lateinisch.', 'deutsch, lateinisches Transsumpt', 'lateinisch ', 'lateinisch, deutsch ', 'Deutsch mit Ausnahme der Schlussbemerkung: \"Ita est. Ego Petrus ut supra .. \"', 'něměcky', 'čeština, latina, trans.', 'latina, čeština, němčina', 'latina a němčina', 'niederfränkisch', 'Deutsch, die Beglaubigung des Notars Jakob Muttinger in Latein.', 'Deutsch, Beglaubigung des Notars Jakob Muttinger in Latein.', 'lat./ dt.', 'lat. u. ital.', 'lt.', 'Deutsch mit Ausnahme der lateinischen Jahresangabe: Anno Domini millesimo quadringentesimo vicesimonono am Ende der Urkunden-Abschrift und dem Kanzleivermerk rechts darunter: d(ominus) dux p(er) se ipsum im oberen Teil (gewöhnlich lautete die Formel: Ad mandatum domini ..).', 'lat. Pap.', 'dt. ', 'italienisch/lateinisch', 'englisch/lateinisch', 'deutsch/französisch', '10 Pergamentblätter in Papierumschlag', 'lateinisch/spanisch', 'Deutsch/ Latein', 'němčina-čeština-latina', 'deutsch (ripuarisch)', 'niederdeutsch; lateinisch', 'mittelniederdeutsch', 'Deutsch, mit Ausnahme der lateinischen Jahresangabe: Anno Domini millesimo quadringentesimo vicesimonono am Ende der Urkunde und dem Kanzleivermerk rechts darunter: d(ominus) dux p(er) se ipsum (gewöhnlich lautete die Formel: Ad mandatum domini ..).', 'lat. / dt.', 'Latein, Littera', 'Latein (Littera)', 'lat. (Bullatica)', 'Lateinische Einleitung des Notars Johannes, danach die Verleihung der Freiheitsrechte durch Herzog Heinrich und deren Bestätigung durch Herzog Albrecht in deutscher Sprache, der abschließende Teil wiederum lateinisch.', 'česky, insert latinsky', 'česky a německy', 'bulharsky', 'latina, němčina, čeština', 'listiny 1.-3. latinsky, 4. česky', ' Neustand', 'německy a česky', 'Spanisch', 'Or.; Papier; aufgedr. Siegel abgefallen.', 'Original: wohl Tschechisch; Deutsch', 'lat, ger', 'lat, Aufzählung der Kleinodien in deutsch', 'čes.(překlad z latiny)', 'russisch; lateinisch', 'latinščina; tiskan formular', 'nem,.', 'lateinische Version', 'angleški', '_ ostali jeziki', 'Gaming', 'latinščina; POŠK.', 'Serbian.', 'französisch ', ' Italienisch', 'latinščina / Latein', '(des Originales:) Latein; (der Übersetzung:) Deutsch', 'Italian (originally Serbian?).', 'Italian (originally Serbian).', 'nem.[dorz.]', 'Deutsche Fassung', '––', 'nem.peč.pritlač.', 'nem.,lat.', 'nem.peč. dorz.', 'nam.', ' lat./ nem. ', ' lat./nem.', 'Or.; Perg., leichter Mäusefraß; mit Siegel.', '(des Briefes von 1762:) Deutsch', 'německy (latinsky)', 'dt.;', 'ebräisch', 'Keine Angabe', 'hebräisch; Lateinisch', 'deutsch; russchis', 'arabisch / persisch / türkisch', 'Deutsch; Latein', 'singhalesisch / tamil', ' Lateinisch ', 'deutsch; scwedisch', 'Or.; Papier, 6 Bl. gebunden, Wasserschaden, unbesiegelt; Chirograph, mit Unterschrift des Sekretärs Ulrich Vischer.', 'lateinisch, deutsch', 'lat.; Chirograph', 'Or.; Papier, 4 Bl. gebunden; mit zwei Papiersiegeln.', 'Rahmenurkunde und die ersten 4 Inserte lateinisch, die letzten drei Inserte deutsch', 'Rahmenurkunde lat. Inserte teils deutsch teils lateinisch', 'Or.; Perg.;: mit besch. Marktsiegel.', 'Hebräisch', 'Insert lat.', 'Or.; Papier, Libell in Pergamentumschlag; Siegel fehlt.', 'Or.; Papier, Doppelbl.; mit drei Papiersiegeln.', 'handschriftl. Eintrag des Notars = Ortenburg-Archiv', 'a) lat. b) lat.', 'Abschrift Pap. (17. Jh.).', 'lat. + dt.', 'wohl Deutsch und Latein (?)', '. Latein', 'dt. (durch Einschnitte rechtsungültig\\n                            gemacht)', 'jetzt fehlenden Siegeln).', 'dt. (durch Einschnitt rechtsungültig\\n                            gemacht)', 'čes. ', 'lat.  ', 'nem.  ', 'nem. lat.', '(der Abschrift:) Deutsch', 'Latein+Deutsch', 'Latein und Deutsch.', 'hebräisch', '(in tschechischer Sprache)', ' Serbian', 'dt. [Vidimus] / lat. [Insert]', 'griechisch', 'dt. u. lat', 'lateinisch / polnisch', 'italsky, latinsky', 'němčina (insert lat.)', 'Deusch', 'německy (lat.)', 'chorvatsky', 'německy /citované listiny č. I - IV. latinsky/', 'česky, pouze listina č. 3 latinsky', 'česky /německy/', 'latinsky i česky', 'mitteldeutsch', '??', 'latinsky (insert čes.)', 'Siehe: Urkunde N° 90.', 'latinsky (ověř. německy)', 'česky (inserty latinsky)', 'šesky', 'česky (vidimovaná listina latinsky)', 'holandština', 'německy (?)', 'старословенски', 'de.', 'Lat. u. Deutsch.', 'Magyar', 'pritlač. Poruš.', 'lat./lat.', 'peč.pritlač.', 'Deutsche Version', 'Text in Italian, signature in Serbian.', ' Italian', 'Plattdeutsch', 'Wien St. Dorothea', 'Latin et français.', 'Altpikardisch', 'lateinisch/griechisch', 'Cseh', 'Klosterneuburg', 'latinski i talijanski jezik', 'Ungarisch', 'Greek ', 'deutsch/Latein', 'njemački', '(des Originales:) Latein, (der Übersetzung:) Deutsch', 'Latein, Deutsch, Tschechisch', 'Latină/maghiară', 'Gallego, escritura gótica cursiva.', 'Französisch und Latein', 'Français et latin', 'Français et Latin', 'Latin et français', 'Deutsch ', 'Latino;', 'Aus einem Copialbuche des Klosters Baumgartenberg vom Jahre 1311.']\n"
     ]
    }
   ],
   "source": [
    "included_languages = [\n",
    "    \"Latein\",\n",
    "    \"latein\",\n",
    "    \"Lat.\",\n",
    "    \"lat.\",\n",
    "    \"latinsky\",\n",
    "    \"latinski\",\n",
    "    \"Latin\",\n",
    "    \"latin\",\n",
    "    \"latinščina\"\n",
    "    ]"
   ]
  },
  {
   "attachments": {},
   "cell_type": "markdown",
   "metadata": {},
   "source": [
    "# Which collections contain OCR material?"
   ]
  },
  {
   "cell_type": "code",
   "execution_count": 72,
   "metadata": {},
   "outputs": [],
   "source": [
    "namespaces = {\"atom\": \"http://www.w3.org/2005/Atom\", \"cei\": \"http://www.monasterium.net/NS/cei\", \"xrx\": \"http://www.monasterium.net/NS/xrx\"}\n",
    "directoryPath = \"../../data/db/mom-data/metadata.collection.public\"\n",
    "fileExtension = \".cei.xml\""
   ]
  },
  {
   "cell_type": "code",
   "execution_count": 73,
   "metadata": {},
   "outputs": [],
   "source": [
    "def get_file_paths(directory):\n",
    "    for entry in os.scandir(directory):\n",
    "        if entry.is_file() and entry.name.endswith(fileExtension):\n",
    "            yield Path(entry.path)\n",
    "        elif entry.is_dir():\n",
    "            yield from get_file_paths(entry.path)\n",
    "        else:\n",
    "            continue"
   ]
  },
  {
   "cell_type": "code",
   "execution_count": 74,
   "metadata": {},
   "outputs": [],
   "source": [
    "paths = [f\"{PurePosixPath(path)}\" for path in get_file_paths(directoryPath)]"
   ]
  },
  {
   "cell_type": "code",
   "execution_count": 75,
   "metadata": {},
   "outputs": [],
   "source": [
    "lists = [\"atom_id\", \"sourceDesc_p\"]\n",
    "atom_id, sourceDesc_p = ([] for i in range(len(lists)))"
   ]
  },
  {
   "cell_type": "code",
   "execution_count": 76,
   "metadata": {},
   "outputs": [
    {
     "name": "stderr",
     "output_type": "stream",
     "text": [
      "100%|██████████| 195/195 [00:04<00:00, 44.76it/s]\n"
     ]
    }
   ],
   "source": [
    "for file in tqdm(paths):\n",
    "    with open(file, \"r\", encoding=\"utf-8\") as f:\n",
    "        tree = etree.parse(f)\n",
    "        atom_id.append(tree.xpath(\"/atom:entry/atom:id/text()\", namespaces = namespaces, smart_strings = False))\n",
    "        sourceDesc_p.append(tree.xpath(\"/atom:entry/atom:content/cei:cei/cei:teiHeader/cei:fileDesc/cei:sourceDesc/cei:p/text()\", namespaces = namespaces, smart_strings = False))"
   ]
  },
  {
   "cell_type": "code",
   "execution_count": 77,
   "metadata": {},
   "outputs": [],
   "source": [
    "contents = list(zip(atom_id, sourceDesc_p))\n",
    "contents_full = pd.DataFrame(contents).rename(columns={0: \"atom_id\", 1: \"sourceDesc_p\"})"
   ]
  },
  {
   "cell_type": "code",
   "execution_count": 78,
   "metadata": {},
   "outputs": [],
   "source": [
    "contents_full_exploded = explode_columns(contents_full, lists)"
   ]
  },
  {
   "cell_type": "code",
   "execution_count": 79,
   "metadata": {},
   "outputs": [],
   "source": [
    "export_inclusion_list = [\"Export aus Google Daten\"]"
   ]
  },
  {
   "cell_type": "code",
   "execution_count": 80,
   "metadata": {},
   "outputs": [],
   "source": [
    "collections_from_google = contents_full_exploded[contents_full_exploded[\"sourceDesc_p\"].isin(export_inclusion_list)].atom_id.to_list()"
   ]
  },
  {
   "attachments": {},
   "cell_type": "markdown",
   "metadata": {},
   "source": [
    "# Which charters are contained in these collections?"
   ]
  },
  {
   "cell_type": "code",
   "execution_count": 81,
   "metadata": {},
   "outputs": [],
   "source": [
    "charter_atomids_with_google_ocr = []"
   ]
  },
  {
   "cell_type": "code",
   "execution_count": 82,
   "metadata": {},
   "outputs": [],
   "source": [
    "charter_atomids_list = df_prep[\"atom_id\"].to_list()"
   ]
  },
  {
   "cell_type": "code",
   "execution_count": 83,
   "metadata": {},
   "outputs": [],
   "source": [
    "for atomid in charter_atomids_list:\n",
    "    _, _, collection_atomid = decompose_chatomid(atomid)\n",
    "    if collection_atomid in collections_from_google:\n",
    "        charter_atomids_with_google_ocr.append(atomid)"
   ]
  },
  {
   "cell_type": "code",
   "execution_count": 84,
   "metadata": {},
   "outputs": [
    {
     "data": {
      "text/plain": [
       "40534"
      ]
     },
     "execution_count": 84,
     "metadata": {},
     "output_type": "execute_result"
    }
   ],
   "source": [
    "len(charter_atomids_with_google_ocr)"
   ]
  },
  {
   "attachments": {},
   "cell_type": "markdown",
   "metadata": {},
   "source": [
    "# List charters with transcriptions"
   ]
  },
  {
   "cell_type": "code",
   "execution_count": 88,
   "metadata": {},
   "outputs": [],
   "source": [
    "# from xquery\n",
    "with open(\"../../data/in/latin-ocr-transcriptions/charters_varieties_latin_results.xml\", \"r\", encoding=\"utf-8\") as f:\n",
    "    tree = etree.parse(f)\n",
    "\n",
    "data = []\n",
    "\n",
    "for tenor in tree.xpath(\"//tenor\"):\n",
    "    atomid = tenor.get(\"atomid\")\n",
    "    text = tenor.text\n",
    "    data.append((atomid, text))\n",
    "\n",
    "charters_with_latin_transcriptions = pd.DataFrame(data, columns=[\"atom_id\", \"tenor\"])\n",
    "charters_with_latin_transcriptions[\"google_ocr\"] = False"
   ]
  },
  {
   "cell_type": "code",
   "execution_count": 89,
   "metadata": {},
   "outputs": [
    {
     "data": {
      "text/html": [
       "<div>\n",
       "<style scoped>\n",
       "    .dataframe tbody tr th:only-of-type {\n",
       "        vertical-align: middle;\n",
       "    }\n",
       "\n",
       "    .dataframe tbody tr th {\n",
       "        vertical-align: top;\n",
       "    }\n",
       "\n",
       "    .dataframe thead th {\n",
       "        text-align: right;\n",
       "    }\n",
       "</style>\n",
       "<table border=\"1\" class=\"dataframe\">\n",
       "  <thead>\n",
       "    <tr style=\"text-align: right;\">\n",
       "      <th></th>\n",
       "      <th>atom_id</th>\n",
       "      <th>tenor</th>\n",
       "      <th>google_ocr</th>\n",
       "    </tr>\n",
       "  </thead>\n",
       "  <tbody>\n",
       "  </tbody>\n",
       "</table>\n",
       "</div>"
      ],
      "text/plain": [
       "Empty DataFrame\n",
       "Columns: [atom_id, tenor, google_ocr]\n",
       "Index: []"
      ]
     },
     "execution_count": 89,
     "metadata": {},
     "output_type": "execute_result"
    }
   ],
   "source": [
    "# check if there is overlap\n",
    "charters_with_latin_transcriptions[charters_with_latin_transcriptions[\"atom_id\"].isin(charter_atomids_with_google_ocr)]"
   ]
  },
  {
   "cell_type": "code",
   "execution_count": 109,
   "metadata": {},
   "outputs": [
    {
     "name": "stdout",
     "output_type": "stream",
     "text": [
      "49784\n",
      "49784\n"
     ]
    }
   ],
   "source": [
    "# check duplicates\n",
    "df_full = pd.concat([df_transcriptions, charters_with_latin_transcriptions])\n",
    "print(len(df_full))\n",
    "lentest = df_full.atom_id.drop_duplicates(keep=\"first\")\n",
    "print(len(lentest))"
   ]
  },
  {
   "cell_type": "code",
   "execution_count": 132,
   "metadata": {},
   "outputs": [],
   "source": [
    "# merge with full\n",
    "df_merged = df_prep.merge(df_full, on=\"atom_id\")"
   ]
  },
  {
   "cell_type": "code",
   "execution_count": 133,
   "metadata": {},
   "outputs": [],
   "source": [
    "df_prep_applied = df_merged.copy()"
   ]
  },
  {
   "cell_type": "code",
   "execution_count": 134,
   "metadata": {},
   "outputs": [],
   "source": [
    "df_prep_applied[\"date_joined\"] = df_prep_applied.apply(get_cei_date_value, axis=1)\n",
    "#df_prep_filtered = df_prep_applied.loc[df_prep_applied[\"date_joined\"].apply(is_valid_date)]"
   ]
  },
  {
   "cell_type": "code",
   "execution_count": 135,
   "metadata": {},
   "outputs": [
    {
     "data": {
      "text/html": [
       "<div>\n",
       "<style scoped>\n",
       "    .dataframe tbody tr th:only-of-type {\n",
       "        vertical-align: middle;\n",
       "    }\n",
       "\n",
       "    .dataframe tbody tr th {\n",
       "        vertical-align: top;\n",
       "    }\n",
       "\n",
       "    .dataframe thead th {\n",
       "        text-align: right;\n",
       "    }\n",
       "</style>\n",
       "<table border=\"1\" class=\"dataframe\">\n",
       "  <thead>\n",
       "    <tr style=\"text-align: right;\">\n",
       "      <th></th>\n",
       "      <th>atom_id</th>\n",
       "      <th>cei_abstract_joined</th>\n",
       "      <th>cei_abstract_foreign</th>\n",
       "      <th>cei_tenor_joined</th>\n",
       "      <th>cei_pTenor</th>\n",
       "      <th>cei_placeName</th>\n",
       "      <th>cei_lang_MOM</th>\n",
       "      <th>cei_date</th>\n",
       "      <th>cei_dateRange</th>\n",
       "      <th>cei_date_ATTRIBUTE_value</th>\n",
       "      <th>cei_dateRange_ATTRIBUTE_from</th>\n",
       "      <th>cei_dateRange_ATTRIBUTE_to</th>\n",
       "      <th>cei_graphic_ATTRIBUTE_url_orig</th>\n",
       "      <th>cei_graphic_ATTRIBUTE_url_copy</th>\n",
       "      <th>tenor</th>\n",
       "      <th>google_ocr</th>\n",
       "      <th>date_joined</th>\n",
       "    </tr>\n",
       "  </thead>\n",
       "  <tbody>\n",
       "    <tr>\n",
       "      <th>0</th>\n",
       "      <td>tag:www.monasterium.net,2011:/charter/7b78733a...</td>\n",
       "      <td>Kaiser Ferdinand II weist seine zu Wien hinter...</td>\n",
       "      <td>[]</td>\n",
       "      <td>[fol.1r, rechts (Seite 1)] Ferdinand der Ander...</td>\n",
       "      <td>[]</td>\n",
       "      <td>[Prag (Cz)]</td>\n",
       "      <td>[Deutsch, Latein]</td>\n",
       "      <td>[]</td>\n",
       "      <td>[1628 Mai 16. - Mai 24.]</td>\n",
       "      <td>NaN</td>\n",
       "      <td>16280516</td>\n",
       "      <td>16280524</td>\n",
       "      <td>[https://www.dropbox.com/s/s72sqsfwpzonnam/Fer...</td>\n",
       "      <td>[]</td>\n",
       "      <td>[fol.1r, rechts (Seite 1)] Ferdinand der Ander...</td>\n",
       "      <td>False</td>\n",
       "      <td>16280516</td>\n",
       "    </tr>\n",
       "    <tr>\n",
       "      <th>1</th>\n",
       "      <td>tag:www.monasterium.net,2011:/charter/AbbayeDe...</td>\n",
       "      <td></td>\n",
       "      <td>[]</td>\n",
       "      <td>EXEMPLAR CARTE GERARDI, MORINOHL'M EPISCOPI, ...</td>\n",
       "      <td>[ EXEMPLAR CARTE GERARDI, MORINOHL'M EPISCOPI,...</td>\n",
       "      <td>[]</td>\n",
       "      <td>[]</td>\n",
       "      <td>[18 oct. 1097.]</td>\n",
       "      <td>[]</td>\n",
       "      <td>10971018</td>\n",
       "      <td>NaN</td>\n",
       "      <td>NaN</td>\n",
       "      <td>[]</td>\n",
       "      <td>[00000352.png, 00000353.png, 00000354.png]</td>\n",
       "      <td>EXEMPLAR CARTE GERARDI, MORINOHL'M EPISCOPI, D...</td>\n",
       "      <td>True</td>\n",
       "      <td>10971018</td>\n",
       "    </tr>\n",
       "    <tr>\n",
       "      <th>2</th>\n",
       "      <td>tag:www.monasterium.net,2011:/charter/AbbayeDe...</td>\n",
       "      <td></td>\n",
       "      <td>[]</td>\n",
       "      <td>Exterius vero feoda, que antecessores ejus mi...</td>\n",
       "      <td>[ Exterius vero feoda, que antecessores ejus m...</td>\n",
       "      <td>[]</td>\n",
       "      <td>[]</td>\n",
       "      <td>[]</td>\n",
       "      <td>[]</td>\n",
       "      <td>99999999</td>\n",
       "      <td>NaN</td>\n",
       "      <td>NaN</td>\n",
       "      <td>[]</td>\n",
       "      <td>[00000386.png, 00000386.png]</td>\n",
       "      <td>Exterius vero feoda, que antecessores ejus min...</td>\n",
       "      <td>True</td>\n",
       "      <td>99999999</td>\n",
       "    </tr>\n",
       "    <tr>\n",
       "      <th>3</th>\n",
       "      <td>tag:www.monasterium.net,2011:/charter/AbbayeDe...</td>\n",
       "      <td>DE EMPTIONE HARDRADI, ABBATIS, DE LONINGAHEM.</td>\n",
       "      <td>[]</td>\n",
       "      <td>XL.  Emit quoque isdem abbas Hardradus, anno ...</td>\n",
       "      <td>[ XL. ,  Emit quoque isdem abbas Hardradus, an...</td>\n",
       "      <td>[]</td>\n",
       "      <td>[]</td>\n",
       "      <td>[]</td>\n",
       "      <td>[776]</td>\n",
       "      <td>NaN</td>\n",
       "      <td>7760101</td>\n",
       "      <td>7761231</td>\n",
       "      <td>[]</td>\n",
       "      <td>[00000170.png]</td>\n",
       "      <td>XL.  Emit quoque isdem abbas Hardradus, anno v...</td>\n",
       "      <td>True</td>\n",
       "      <td>7760101</td>\n",
       "    </tr>\n",
       "    <tr>\n",
       "      <th>4</th>\n",
       "      <td>tag:www.monasterium.net,2011:/charter/AbbayeDe...</td>\n",
       "      <td></td>\n",
       "      <td>[]</td>\n",
       "      <td>LV.  DE OB1TU HILDOINI ABBATIS, ET DE EXEQUII...</td>\n",
       "      <td>[ LV. ,  DE OB1TU HILDOINI ABBATIS, ET DE EXEQ...</td>\n",
       "      <td>[]</td>\n",
       "      <td>[]</td>\n",
       "      <td>[99999999]</td>\n",
       "      <td>[]</td>\n",
       "      <td>99999999</td>\n",
       "      <td>NaN</td>\n",
       "      <td>NaN</td>\n",
       "      <td>[]</td>\n",
       "      <td>[00000232.png, 00000233.png]</td>\n",
       "      <td>LV.  DE OB1TU HILDOINI ABBATIS, ET DE EXEQUIIS...</td>\n",
       "      <td>True</td>\n",
       "      <td>99999999</td>\n",
       "    </tr>\n",
       "    <tr>\n",
       "      <th>...</th>\n",
       "      <td>...</td>\n",
       "      <td>...</td>\n",
       "      <td>...</td>\n",
       "      <td>...</td>\n",
       "      <td>...</td>\n",
       "      <td>...</td>\n",
       "      <td>...</td>\n",
       "      <td>...</td>\n",
       "      <td>...</td>\n",
       "      <td>...</td>\n",
       "      <td>...</td>\n",
       "      <td>...</td>\n",
       "      <td>...</td>\n",
       "      <td>...</td>\n",
       "      <td>...</td>\n",
       "      <td>...</td>\n",
       "      <td>...</td>\n",
       "    </tr>\n",
       "    <tr>\n",
       "      <th>49773</th>\n",
       "      <td>tag:www.monasterium.net,2011:/charter/Wirtembe...</td>\n",
       "      <td>König Konrad III. bestätigt der Kirche in Spe...</td>\n",
       "      <td>[]</td>\n",
       "      <td>CCCXIV.  In nomine sánete et individué trinit...</td>\n",
       "      <td>[ CCCXIV. ,  In nomine sánete et individué tri...</td>\n",
       "      <td>[]</td>\n",
       "      <td>[]</td>\n",
       "      <td>[99999999]</td>\n",
       "      <td>[]</td>\n",
       "      <td>99999999</td>\n",
       "      <td>NaN</td>\n",
       "      <td>NaN</td>\n",
       "      <td>[]</td>\n",
       "      <td>[00000042.png, 00000043.png]</td>\n",
       "      <td>CCCXIV.  In nomine sánete et individué trinita...</td>\n",
       "      <td>True</td>\n",
       "      <td>99999999</td>\n",
       "    </tr>\n",
       "    <tr>\n",
       "      <th>49774</th>\n",
       "      <td>tag:www.monasterium.net,2011:/charter/Wirtembe...</td>\n",
       "      <td>Kaiser Heinrich VI. nimmt das Kloster Herrena...</td>\n",
       "      <td>[]</td>\n",
       "      <td>CDXCV.  Chr. I In nomine sánete et individué ...</td>\n",
       "      <td>[ CDXCV. ,  Chr. I In nomine sánete et individ...</td>\n",
       "      <td>[]</td>\n",
       "      <td>[]</td>\n",
       "      <td>[99999999]</td>\n",
       "      <td>[]</td>\n",
       "      <td>99999999</td>\n",
       "      <td>NaN</td>\n",
       "      <td>NaN</td>\n",
       "      <td>[]</td>\n",
       "      <td>[00000338.png, 00000339.png, 00000340.png]</td>\n",
       "      <td>CDXCV.  Chr. I In nomine sánete et individué t...</td>\n",
       "      <td>True</td>\n",
       "      <td>99999999</td>\n",
       "    </tr>\n",
       "    <tr>\n",
       "      <th>49775</th>\n",
       "      <td>tag:www.monasterium.net,2011:/charter/Wirtembe...</td>\n",
       "      <td>Bischof Günther von Speier erwirbt und übergi...</td>\n",
       "      <td>[]</td>\n",
       "      <td>CCCLXVII.  1159.  ! In nominç sanctç et indiv...</td>\n",
       "      <td>[ CCCLXVII. ,  1159. ,  ! In nominç sanctç et ...</td>\n",
       "      <td>[]</td>\n",
       "      <td>[]</td>\n",
       "      <td>[99999999]</td>\n",
       "      <td>[]</td>\n",
       "      <td>99999999</td>\n",
       "      <td>NaN</td>\n",
       "      <td>NaN</td>\n",
       "      <td>[]</td>\n",
       "      <td>[00000149.png, 00000150.png, 00000151.png]</td>\n",
       "      <td>CCCLXVII.  1159.  ! In nominç sanctç et indivi...</td>\n",
       "      <td>True</td>\n",
       "      <td>99999999</td>\n",
       "    </tr>\n",
       "    <tr>\n",
       "      <th>49776</th>\n",
       "      <td>tag:www.monasterium.net,2011:/charter/Wirtembe...</td>\n",
       "      <td>Bischof Günther von Speier verordnet, dass da...</td>\n",
       "      <td>[]</td>\n",
       "      <td>CCCXXXV.  1152.  j In nomine sanctç et indivi...</td>\n",
       "      <td>[ CCCXXXV. ,  1152. ,  j In nomine sanctç et i...</td>\n",
       "      <td>[]</td>\n",
       "      <td>[]</td>\n",
       "      <td>[99999999]</td>\n",
       "      <td>[]</td>\n",
       "      <td>99999999</td>\n",
       "      <td>NaN</td>\n",
       "      <td>NaN</td>\n",
       "      <td>[]</td>\n",
       "      <td>[00000085.png, 00000086.png]</td>\n",
       "      <td>CCCXXXV.  1152.  j In nomine sanctç et individ...</td>\n",
       "      <td>True</td>\n",
       "      <td>99999999</td>\n",
       "    </tr>\n",
       "    <tr>\n",
       "      <th>49777</th>\n",
       "      <td>tag:www.monasterium.net,2011:/charter/Wirtembe...</td>\n",
       "      <td>Pabst Alexander III. nimmt das Kloster Schönt...</td>\n",
       "      <td>[]</td>\n",
       "      <td>CDVI.  ! Alexander episcopus, servus servorum...</td>\n",
       "      <td>[ CDVI. ,  ! Alexander episcopus, servus servo...</td>\n",
       "      <td>[]</td>\n",
       "      <td>[]</td>\n",
       "      <td>[99999999]</td>\n",
       "      <td>[]</td>\n",
       "      <td>99999999</td>\n",
       "      <td>NaN</td>\n",
       "      <td>NaN</td>\n",
       "      <td>[]</td>\n",
       "      <td>[00000205.png, 00000206.png, 00000207.png]</td>\n",
       "      <td>CDVI.  ! Alexander episcopus, servus servorum ...</td>\n",
       "      <td>True</td>\n",
       "      <td>99999999</td>\n",
       "    </tr>\n",
       "  </tbody>\n",
       "</table>\n",
       "<p>49778 rows × 17 columns</p>\n",
       "</div>"
      ],
      "text/plain": [
       "                                                 atom_id  \\\n",
       "0      tag:www.monasterium.net,2011:/charter/7b78733a...   \n",
       "1      tag:www.monasterium.net,2011:/charter/AbbayeDe...   \n",
       "2      tag:www.monasterium.net,2011:/charter/AbbayeDe...   \n",
       "3      tag:www.monasterium.net,2011:/charter/AbbayeDe...   \n",
       "4      tag:www.monasterium.net,2011:/charter/AbbayeDe...   \n",
       "...                                                  ...   \n",
       "49773  tag:www.monasterium.net,2011:/charter/Wirtembe...   \n",
       "49774  tag:www.monasterium.net,2011:/charter/Wirtembe...   \n",
       "49775  tag:www.monasterium.net,2011:/charter/Wirtembe...   \n",
       "49776  tag:www.monasterium.net,2011:/charter/Wirtembe...   \n",
       "49777  tag:www.monasterium.net,2011:/charter/Wirtembe...   \n",
       "\n",
       "                                     cei_abstract_joined cei_abstract_foreign  \\\n",
       "0      Kaiser Ferdinand II weist seine zu Wien hinter...                   []   \n",
       "1                                                                          []   \n",
       "2                                                                          []   \n",
       "3         DE EMPTIONE HARDRADI, ABBATIS, DE LONINGAHEM.                    []   \n",
       "4                                                                          []   \n",
       "...                                                  ...                  ...   \n",
       "49773   König Konrad III. bestätigt der Kirche in Spe...                   []   \n",
       "49774   Kaiser Heinrich VI. nimmt das Kloster Herrena...                   []   \n",
       "49775   Bischof Günther von Speier erwirbt und übergi...                   []   \n",
       "49776   Bischof Günther von Speier verordnet, dass da...                   []   \n",
       "49777   Pabst Alexander III. nimmt das Kloster Schönt...                   []   \n",
       "\n",
       "                                        cei_tenor_joined  \\\n",
       "0      [fol.1r, rechts (Seite 1)] Ferdinand der Ander...   \n",
       "1       EXEMPLAR CARTE GERARDI, MORINOHL'M EPISCOPI, ...   \n",
       "2       Exterius vero feoda, que antecessores ejus mi...   \n",
       "3       XL.  Emit quoque isdem abbas Hardradus, anno ...   \n",
       "4       LV.  DE OB1TU HILDOINI ABBATIS, ET DE EXEQUII...   \n",
       "...                                                  ...   \n",
       "49773   CCCXIV.  In nomine sánete et individué trinit...   \n",
       "49774   CDXCV.  Chr. I In nomine sánete et individué ...   \n",
       "49775   CCCLXVII.  1159.  ! In nominç sanctç et indiv...   \n",
       "49776   CCCXXXV.  1152.  j In nomine sanctç et indivi...   \n",
       "49777   CDVI.  ! Alexander episcopus, servus servorum...   \n",
       "\n",
       "                                              cei_pTenor cei_placeName  \\\n",
       "0                                                     []   [Prag (Cz)]   \n",
       "1      [ EXEMPLAR CARTE GERARDI, MORINOHL'M EPISCOPI,...            []   \n",
       "2      [ Exterius vero feoda, que antecessores ejus m...            []   \n",
       "3      [ XL. ,  Emit quoque isdem abbas Hardradus, an...            []   \n",
       "4      [ LV. ,  DE OB1TU HILDOINI ABBATIS, ET DE EXEQ...            []   \n",
       "...                                                  ...           ...   \n",
       "49773  [ CCCXIV. ,  In nomine sánete et individué tri...            []   \n",
       "49774  [ CDXCV. ,  Chr. I In nomine sánete et individ...            []   \n",
       "49775  [ CCCLXVII. ,  1159. ,  ! In nominç sanctç et ...            []   \n",
       "49776  [ CCCXXXV. ,  1152. ,  j In nomine sanctç et i...            []   \n",
       "49777  [ CDVI. ,  ! Alexander episcopus, servus servo...            []   \n",
       "\n",
       "            cei_lang_MOM         cei_date             cei_dateRange  \\\n",
       "0      [Deutsch, Latein]               []  [1628 Mai 16. - Mai 24.]   \n",
       "1                     []  [18 oct. 1097.]                        []   \n",
       "2                     []               []                        []   \n",
       "3                     []               []                     [776]   \n",
       "4                     []       [99999999]                        []   \n",
       "...                  ...              ...                       ...   \n",
       "49773                 []       [99999999]                        []   \n",
       "49774                 []       [99999999]                        []   \n",
       "49775                 []       [99999999]                        []   \n",
       "49776                 []       [99999999]                        []   \n",
       "49777                 []       [99999999]                        []   \n",
       "\n",
       "      cei_date_ATTRIBUTE_value cei_dateRange_ATTRIBUTE_from  \\\n",
       "0                          NaN                     16280516   \n",
       "1                     10971018                          NaN   \n",
       "2                     99999999                          NaN   \n",
       "3                          NaN                      7760101   \n",
       "4                     99999999                          NaN   \n",
       "...                        ...                          ...   \n",
       "49773                 99999999                          NaN   \n",
       "49774                 99999999                          NaN   \n",
       "49775                 99999999                          NaN   \n",
       "49776                 99999999                          NaN   \n",
       "49777                 99999999                          NaN   \n",
       "\n",
       "      cei_dateRange_ATTRIBUTE_to  \\\n",
       "0                       16280524   \n",
       "1                            NaN   \n",
       "2                            NaN   \n",
       "3                        7761231   \n",
       "4                            NaN   \n",
       "...                          ...   \n",
       "49773                        NaN   \n",
       "49774                        NaN   \n",
       "49775                        NaN   \n",
       "49776                        NaN   \n",
       "49777                        NaN   \n",
       "\n",
       "                          cei_graphic_ATTRIBUTE_url_orig  \\\n",
       "0      [https://www.dropbox.com/s/s72sqsfwpzonnam/Fer...   \n",
       "1                                                     []   \n",
       "2                                                     []   \n",
       "3                                                     []   \n",
       "4                                                     []   \n",
       "...                                                  ...   \n",
       "49773                                                 []   \n",
       "49774                                                 []   \n",
       "49775                                                 []   \n",
       "49776                                                 []   \n",
       "49777                                                 []   \n",
       "\n",
       "                   cei_graphic_ATTRIBUTE_url_copy  \\\n",
       "0                                              []   \n",
       "1      [00000352.png, 00000353.png, 00000354.png]   \n",
       "2                    [00000386.png, 00000386.png]   \n",
       "3                                  [00000170.png]   \n",
       "4                    [00000232.png, 00000233.png]   \n",
       "...                                           ...   \n",
       "49773                [00000042.png, 00000043.png]   \n",
       "49774  [00000338.png, 00000339.png, 00000340.png]   \n",
       "49775  [00000149.png, 00000150.png, 00000151.png]   \n",
       "49776                [00000085.png, 00000086.png]   \n",
       "49777  [00000205.png, 00000206.png, 00000207.png]   \n",
       "\n",
       "                                                   tenor  google_ocr  \\\n",
       "0      [fol.1r, rechts (Seite 1)] Ferdinand der Ander...       False   \n",
       "1      EXEMPLAR CARTE GERARDI, MORINOHL'M EPISCOPI, D...        True   \n",
       "2      Exterius vero feoda, que antecessores ejus min...        True   \n",
       "3      XL.  Emit quoque isdem abbas Hardradus, anno v...        True   \n",
       "4      LV.  DE OB1TU HILDOINI ABBATIS, ET DE EXEQUIIS...        True   \n",
       "...                                                  ...         ...   \n",
       "49773  CCCXIV.  In nomine sánete et individué trinita...        True   \n",
       "49774  CDXCV.  Chr. I In nomine sánete et individué t...        True   \n",
       "49775  CCCLXVII.  1159.  ! In nominç sanctç et indivi...        True   \n",
       "49776  CCCXXXV.  1152.  j In nomine sanctç et individ...        True   \n",
       "49777  CDVI.  ! Alexander episcopus, servus servorum ...        True   \n",
       "\n",
       "      date_joined  \n",
       "0        16280516  \n",
       "1        10971018  \n",
       "2        99999999  \n",
       "3         7760101  \n",
       "4        99999999  \n",
       "...           ...  \n",
       "49773    99999999  \n",
       "49774    99999999  \n",
       "49775    99999999  \n",
       "49776    99999999  \n",
       "49777    99999999  \n",
       "\n",
       "[49778 rows x 17 columns]"
      ]
     },
     "execution_count": 135,
     "metadata": {},
     "output_type": "execute_result"
    }
   ],
   "source": [
    "df_prep_applied"
   ]
  },
  {
   "cell_type": "code",
   "execution_count": 136,
   "metadata": {},
   "outputs": [],
   "source": [
    "df_prep_applied[\"url\"] = df_prep_applied[\"atom_id\"].apply(lambda x: chatomid_to_url(x))"
   ]
  },
  {
   "cell_type": "code",
   "execution_count": 137,
   "metadata": {},
   "outputs": [],
   "source": [
    "df_final = df_prep_applied[[\"atom_id\", \"url\", \"date_joined\", \"google_ocr\", \"tenor\"]].sort_values(\"date_joined\")"
   ]
  },
  {
   "cell_type": "code",
   "execution_count": 141,
   "metadata": {},
   "outputs": [
    {
     "data": {
      "text/html": [
       "<div>\n",
       "<style scoped>\n",
       "    .dataframe tbody tr th:only-of-type {\n",
       "        vertical-align: middle;\n",
       "    }\n",
       "\n",
       "    .dataframe tbody tr th {\n",
       "        vertical-align: top;\n",
       "    }\n",
       "\n",
       "    .dataframe thead th {\n",
       "        text-align: right;\n",
       "    }\n",
       "</style>\n",
       "<table border=\"1\" class=\"dataframe\">\n",
       "  <thead>\n",
       "    <tr style=\"text-align: right;\">\n",
       "      <th></th>\n",
       "      <th>atom_id</th>\n",
       "      <th>url</th>\n",
       "      <th>date_joined</th>\n",
       "      <th>google_ocr</th>\n",
       "      <th>tenor</th>\n",
       "    </tr>\n",
       "  </thead>\n",
       "  <tbody>\n",
       "    <tr>\n",
       "      <th>44160</th>\n",
       "      <td>tag:www.monasterium.net,2011:/charter/Urkunden...</td>\n",
       "      <td>https://www.monasterium.net/mom/UrkundenBehrII...</td>\n",
       "      <td>00010101</td>\n",
       "      <td>True</td>\n",
       "      <td>In nomine sánete et indiuidue trinitatis, Amen...</td>\n",
       "    </tr>\n",
       "    <tr>\n",
       "      <th>44097</th>\n",
       "      <td>tag:www.monasterium.net,2011:/charter/Urkunden...</td>\n",
       "      <td>https://www.monasterium.net/mom/UrkundenBehrII...</td>\n",
       "      <td>00010101</td>\n",
       "      <td>True</td>\n",
       "      <td>In nomine domini, Amen. Otto, dei gracia dux S...</td>\n",
       "    </tr>\n",
       "    <tr>\n",
       "      <th>34244</th>\n",
       "      <td>tag:www.monasterium.net,2011:/charter/QuellenK...</td>\n",
       "      <td>https://www.monasterium.net/mom/QuellenKoelnII...</td>\n",
       "      <td>00010101</td>\n",
       "      <td>True</td>\n",
       "      <td>Acta sunt hec anno domini Incarnationis mccxxx...</td>\n",
       "    </tr>\n",
       "    <tr>\n",
       "      <th>34245</th>\n",
       "      <td>tag:www.monasterium.net,2011:/charter/QuellenK...</td>\n",
       "      <td>https://www.monasterium.net/mom/QuellenKoelnII...</td>\n",
       "      <td>00010101</td>\n",
       "      <td>True</td>\n",
       "      <td>Aus einem Fascikel eines Schreinsbuches im Arc...</td>\n",
       "    </tr>\n",
       "    <tr>\n",
       "      <th>34246</th>\n",
       "      <td>tag:www.monasterium.net,2011:/charter/QuellenK...</td>\n",
       "      <td>https://www.monasterium.net/mom/QuellenKoelnII...</td>\n",
       "      <td>00010101</td>\n",
       "      <td>True</td>\n",
       "      <td>•) Das voraufgehende wie das folgende Notum ha...</td>\n",
       "    </tr>\n",
       "    <tr>\n",
       "      <th>...</th>\n",
       "      <td>...</td>\n",
       "      <td>...</td>\n",
       "      <td>...</td>\n",
       "      <td>...</td>\n",
       "      <td>...</td>\n",
       "    </tr>\n",
       "    <tr>\n",
       "      <th>22421</th>\n",
       "      <td>tag:www.monasterium.net,2011:/charter/Henneber...</td>\n",
       "      <td>https://www.monasterium.net/mom/Henneberg/4e8c...</td>\n",
       "      <td>99999999</td>\n",
       "      <td>True</td>\n",
       "      <td>GrOtfridus dei gracia episcopus Herbipolcnsis ...</td>\n",
       "    </tr>\n",
       "    <tr>\n",
       "      <th>22422</th>\n",
       "      <td>tag:www.monasterium.net,2011:/charter/Henneber...</td>\n",
       "      <td>https://www.monasterium.net/mom/Henneberg/4f0f...</td>\n",
       "      <td>99999999</td>\n",
       "      <td>True</td>\n",
       "      <td>•10. nos Bertoldus dei gracia comes de Hennenb...</td>\n",
       "    </tr>\n",
       "    <tr>\n",
       "      <th>22415</th>\n",
       "      <td>tag:www.monasterium.net,2011:/charter/Henneber...</td>\n",
       "      <td>https://www.monasterium.net/mom/Henneberg/4b7f...</td>\n",
       "      <td>99999999</td>\n",
       "      <td>True</td>\n",
       "      <td>S5. Wir Heinrich vnd Günther von gotis gnadin ...</td>\n",
       "    </tr>\n",
       "    <tr>\n",
       "      <th>49777</th>\n",
       "      <td>tag:www.monasterium.net,2011:/charter/Wirtembe...</td>\n",
       "      <td>https://www.monasterium.net/mom/Wirtembergisch...</td>\n",
       "      <td>99999999</td>\n",
       "      <td>True</td>\n",
       "      <td>CDVI.  ! Alexander episcopus, servus servorum ...</td>\n",
       "    </tr>\n",
       "    <tr>\n",
       "      <th>12255</th>\n",
       "      <td>tag:www.monasterium.net,2011:/charter/CodexDip...</td>\n",
       "      <td>https://www.monasterium.net/mom/CodexDiplomati...</td>\n",
       "      <td>None</td>\n",
       "      <td>False</td>\n",
       "      <td>+\\n    LEO episcopus servus servorum dei eccl...</td>\n",
       "    </tr>\n",
       "  </tbody>\n",
       "</table>\n",
       "<p>49778 rows × 5 columns</p>\n",
       "</div>"
      ],
      "text/plain": [
       "                                                 atom_id  \\\n",
       "44160  tag:www.monasterium.net,2011:/charter/Urkunden...   \n",
       "44097  tag:www.monasterium.net,2011:/charter/Urkunden...   \n",
       "34244  tag:www.monasterium.net,2011:/charter/QuellenK...   \n",
       "34245  tag:www.monasterium.net,2011:/charter/QuellenK...   \n",
       "34246  tag:www.monasterium.net,2011:/charter/QuellenK...   \n",
       "...                                                  ...   \n",
       "22421  tag:www.monasterium.net,2011:/charter/Henneber...   \n",
       "22422  tag:www.monasterium.net,2011:/charter/Henneber...   \n",
       "22415  tag:www.monasterium.net,2011:/charter/Henneber...   \n",
       "49777  tag:www.monasterium.net,2011:/charter/Wirtembe...   \n",
       "12255  tag:www.monasterium.net,2011:/charter/CodexDip...   \n",
       "\n",
       "                                                     url date_joined  \\\n",
       "44160  https://www.monasterium.net/mom/UrkundenBehrII...    00010101   \n",
       "44097  https://www.monasterium.net/mom/UrkundenBehrII...    00010101   \n",
       "34244  https://www.monasterium.net/mom/QuellenKoelnII...    00010101   \n",
       "34245  https://www.monasterium.net/mom/QuellenKoelnII...    00010101   \n",
       "34246  https://www.monasterium.net/mom/QuellenKoelnII...    00010101   \n",
       "...                                                  ...         ...   \n",
       "22421  https://www.monasterium.net/mom/Henneberg/4e8c...    99999999   \n",
       "22422  https://www.monasterium.net/mom/Henneberg/4f0f...    99999999   \n",
       "22415  https://www.monasterium.net/mom/Henneberg/4b7f...    99999999   \n",
       "49777  https://www.monasterium.net/mom/Wirtembergisch...    99999999   \n",
       "12255  https://www.monasterium.net/mom/CodexDiplomati...        None   \n",
       "\n",
       "       google_ocr                                              tenor  \n",
       "44160        True  In nomine sánete et indiuidue trinitatis, Amen...  \n",
       "44097        True  In nomine domini, Amen. Otto, dei gracia dux S...  \n",
       "34244        True  Acta sunt hec anno domini Incarnationis mccxxx...  \n",
       "34245        True  Aus einem Fascikel eines Schreinsbuches im Arc...  \n",
       "34246        True  •) Das voraufgehende wie das folgende Notum ha...  \n",
       "...           ...                                                ...  \n",
       "22421        True  GrOtfridus dei gracia episcopus Herbipolcnsis ...  \n",
       "22422        True  •10. nos Bertoldus dei gracia comes de Hennenb...  \n",
       "22415        True  S5. Wir Heinrich vnd Günther von gotis gnadin ...  \n",
       "49777        True  CDVI.  ! Alexander episcopus, servus servorum ...  \n",
       "12255       False   +\\n    LEO episcopus servus servorum dei eccl...  \n",
       "\n",
       "[49778 rows x 5 columns]"
      ]
     },
     "execution_count": 141,
     "metadata": {},
     "output_type": "execute_result"
    }
   ],
   "source": [
    "df_final"
   ]
  },
  {
   "cell_type": "code",
   "execution_count": 149,
   "metadata": {},
   "outputs": [],
   "source": [
    "df_final.to_json(\"../../data/out/latin-transcriptions-ocr-bool.json\")\n",
    "df_final.to_xml(\"../../data/out/latin-transcriptions-ocr-bool.xml\")"
   ]
  }
 ],
 "metadata": {
  "kernelspec": {
   "display_name": "didipcv",
   "language": "python",
   "name": "python3"
  },
  "language_info": {
   "codemirror_mode": {
    "name": "ipython",
    "version": 3
   },
   "file_extension": ".py",
   "mimetype": "text/x-python",
   "name": "python",
   "nbconvert_exporter": "python",
   "pygments_lexer": "ipython3",
   "version": "3.8.10"
  },
  "orig_nbformat": 4
 },
 "nbformat": 4,
 "nbformat_minor": 2
}
