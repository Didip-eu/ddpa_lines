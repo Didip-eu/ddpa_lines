{
 "cells": [
  {
   "cell_type": "markdown",
   "id": "59bfe040-cc5c-4a10-903c-d5b4b3f085a8",
   "metadata": {},
   "source": [
    "# legacy"
   ]
  },
  {
   "cell_type": "markdown",
   "id": "911728d2-58a3-402b-9957-7a7ca62961b2",
   "metadata": {},
   "source": [
    "## get and print all xml tags (in hierarchical order) used in a xml file"
   ]
  },
  {
   "cell_type": "code",
   "execution_count": null,
   "id": "efaa580f-784d-4ae7-ac36-274de25e81c9",
   "metadata": {},
   "outputs": [],
   "source": [
    "import xml.etree.ElementTree as ET \n",
    "from pprint import pprint"
   ]
  },
  {
   "cell_type": "code",
   "execution_count": null,
   "id": "b9953a66-82c3-4cb4-8764-077bb5a0013e",
   "metadata": {},
   "outputs": [],
   "source": [
    "tree = ET.parse('filename')\n",
    "root = tree.getroot()\n",
    "\n",
    "elemList = []\n",
    "\n",
    "for elem in tree.iter():\n",
    "    elemList.append(elem.tag)\n",
    "\n",
    "elemList = list(set(elemList))\n",
    "pprint(elemList)"
   ]
  },
  {
   "cell_type": "markdown",
   "id": "05716b7a-6a72-4674-a778-4adb469067f8",
   "metadata": {},
   "source": [
    "## parsing xml"
   ]
  },
  {
   "cell_type": "markdown",
   "id": "bc93bbe9-eda6-4a8d-b09d-10def2e6bee4",
   "metadata": {},
   "source": [
    "- findall-method is rather slow\n",
    "- simple iter should be fastest method but is limited in configuration options\n",
    "- iterparse is slower than others due to overhead\n",
    "- simple xpath (lxml) is best since it is both fast and easy to hdle"
   ]
  },
  {
   "cell_type": "code",
   "execution_count": null,
   "id": "f373bc31",
   "metadata": {},
   "outputs": [],
   "source": [
    "import xml.etree.ElementTree as ET\n",
    "from lxml import etree\n",
    "import pandas as pd\n",
    "from pathlib import Path"
   ]
  },
  {
   "cell_type": "code",
   "execution_count": null,
   "id": "5d423a76",
   "metadata": {},
   "outputs": [],
   "source": [
    "namespaces = {'atom': 'http://www.w3.org/2005/Atom', 'cei': 'http://www.monasterium.net/NS/cei'}\n",
    "directoryPath = '../data/db/mom-data/metadata.charter.public/'\n",
    "fileExtension = \"*.cei.xml\""
   ]
  },
  {
   "cell_type": "code",
   "execution_count": null,
   "id": "9d1bf5dd",
   "metadata": {},
   "outputs": [],
   "source": [
    "lists = [\"tenor_contents\", \"atom_IDs\", \"places\", \"languages\"]\n",
    "tenor_contents, atom_IDs, places, languages = ([] for i in range(len(lists)))"
   ]
  },
  {
   "cell_type": "code",
   "execution_count": null,
   "id": "47383ffb-19d9-4562-8cfb-96ae3236f60c",
   "metadata": {},
   "outputs": [],
   "source": [
    "#xpath lxml\n",
    "for file in Path(directoryPath).rglob(fileExtension):\n",
    "    tree = etree.parse(str(file))\n",
    "    for tenor in tree.xpath(\"//cei:tenor\", namespaces = namespaces):\n",
    "        tenor_contents.append(tenor.text)\n",
    "        atom_IDs.append(tree.xpath(\"//atom:id/text()\", namespaces = namespaces))\n",
    "        places.append(tree.xpath(\".//cei:placeName/text()\", namespaces = namespaces))\n",
    "        languages.append(tree.xpath(\".//cei:lang_MOM/text()\", namespaces = namespaces))"
   ]
  },
  {
   "cell_type": "code",
   "execution_count": null,
   "id": "2861f11d-1ee0-4afa-8523-044003a4cea1",
   "metadata": {},
   "outputs": [],
   "source": [
    "#findall etree\n",
    "\n",
    "for file in Path(directoryPath).rglob(fileExtension):\n",
    "    root = etree.parse(str(file)).getroot()\n",
    "    for tenor in root.findall(\".//cei:tenor\", namespaces):\n",
    "        tenor_contents.append(etree.tostring(tenor).decode(\"utf-8\")) # diese Zeile killt den Speicher\n",
    "        atom_IDs.append(root[0].text)\n",
    "        if root.find('.//cei:placeName', namespaces) is not None:\n",
    "            places.append(root.find('.//cei:placeName', namespaces).text)\n",
    "        elif root.find('.//cei:placeName', namespaces) is None:\n",
    "            places.append(None)\n",
    "        if root.find('.//cei:lang_MOM', namespaces) is not None:\n",
    "            languages.append(root.find('.//cei:lang_MOM', namespaces).text)\n",
    "        elif root.find('.//cei:lang_MOM', namespaces) is None:\n",
    "            languages.append(None)\n",
    "\n",
    "\n",
    "       # https://stackoverflow.com/questions/12964996/xpath-normalize-space\n",
    "\n",
    "        # one possible solution would be to make generators that are then linked, so linked lists for each item\n",
    "        # for element in root.iter(\"{http://www.w3.org/2005/Atom}id\"):\n",
    "        #     atom_id.append(element.text)\n",
    "        # for element in root.iter(\"{http://www.monasterium.net/NS/cei}graphic\"):\n",
    "        #     cei_graphic_ATTRIBUTE_url_copy.append(element.text)\n"
   ]
  },
  {
   "cell_type": "markdown",
   "id": "349dc1bd-6bff-4263-9359-3946fced7fe3",
   "metadata": {},
   "source": [
    "## filter by image"
   ]
  },
  {
   "cell_type": "code",
   "execution_count": null,
   "id": "0109a0c8-118a-4160-92e4-e7c428e5592b",
   "metadata": {},
   "outputs": [],
   "source": [
    "import pandas as pd\n",
    "\n",
    "#df_links = df[df['url'].str.contains(\"http://\")]\n",
    "#df_links.to_csv(f'links_{pathname}.csv', index=False)"
   ]
  },
  {
   "cell_type": "code",
   "execution_count": null,
   "id": "f09ca48f-108e-48d5-8524-e863bf17d3ef",
   "metadata": {},
   "outputs": [],
   "source": [
    "df = pd.read_csv('../data/output/metadata.charter.public.csv')"
   ]
  },
  {
   "cell_type": "code",
   "execution_count": null,
   "id": "1882ee16-de5d-444d-975c-0e3f97bdf68d",
   "metadata": {},
   "outputs": [],
   "source": [
    "df"
   ]
  },
  {
   "cell_type": "code",
   "execution_count": null,
   "id": "1ec2ad0e-c8c6-4cf4-8494-3f937f60fe6b",
   "metadata": {},
   "outputs": [],
   "source": [
    "df_withMomLinks = df[df['url'].str.contains(\"images.monasterium.net\", na=False)]\n",
    "df_withMomLinks.to_csv(f'../data/output/df_withMomLinks.csv', index=False)"
   ]
  },
  {
   "cell_type": "code",
   "execution_count": null,
   "id": "2eecde7c-a9d7-4879-ba59-d23e90bdda41",
   "metadata": {},
   "outputs": [],
   "source": [
    "df_withMomLinks"
   ]
  },
  {
   "cell_type": "markdown",
   "id": "8d83635d-43ca-4020-a5b1-0d0799ead46e",
   "metadata": {},
   "source": [
    "### add filter for no url"
   ]
  },
  {
   "cell_type": "code",
   "execution_count": null,
   "id": "ffe66db6-a3d4-4a77-9be4-79654b25e554",
   "metadata": {},
   "outputs": [],
   "source": [
    "pathname = PurePath(directoryPath).name\n",
    "df.to_csv(f'../data/output/{pathname}.csv', index=False)\n",
    "\n",
    "df_noURLs = df[df['url'].astype(bool)]\n",
    "\n",
    "df_noURLs.to_csv(f'../data/output/{pathname}_nourls.csv'\n",
    "    f'{pathname}_noURLs.csv', index=False)"
   ]
  },
  {
   "cell_type": "markdown",
   "id": "2e6c7868-501b-437b-b376-08683a31d8e0",
   "metadata": {},
   "source": [
    "# transform referential img-.xml files (plural!) into csv using lxml (relatively fast)"
   ]
  },
  {
   "cell_type": "code",
   "execution_count": null,
   "id": "16f3ec7b-d281-4b3c-9785-2314968b2e91",
   "metadata": {},
   "outputs": [],
   "source": [
    "from pathlib import PurePath\n",
    "from pathlib import Path\n",
    "from lxml import etree\n",
    "import pandas as pd"
   ]
  },
  {
   "cell_type": "code",
   "execution_count": null,
   "id": "30b91708-087b-4f84-9b7f-386321e904ed",
   "metadata": {},
   "outputs": [],
   "source": [
    "namespaces = {'atom': 'http://www.w3.org/2005/Atom', 'cei': 'http://www.monasterium.net/NS/cei'}\n",
    "directoryPath = '\\\\\\?/'+'C://Users/atzenhof/playground/data/monasterium/MOM-data/image_xmls' # path escape due to long path\n",
    "fileExtension = ('*.xml')"
   ]
  },
  {
   "cell_type": "code",
   "execution_count": null,
   "id": "37bf7a22-2be5-4959-a1cf-147064ed9efa",
   "metadata": {},
   "outputs": [],
   "source": [
    "atomIDs = []\n",
    "image_links = []\n",
    "\n",
    "for file in Path(directoryPath).rglob(fileExtension):\n",
    "    tree = etree.parse(str(file)) # requres conversion to str since lxml does not vibe with windowspath\n",
    "    root = tree.getroot()\n",
    "    for img in root.findall('.//img', namespaces):\n",
    "        atomID = img.getparent().attrib['id']\n",
    "        atomIDs.append(atomID)\n",
    "        image_link = img.attrib['src']\n",
    "        image_links.append(image_link)"
   ]
  },
  {
   "cell_type": "code",
   "execution_count": null,
   "id": "e3b768f8-3d02-4d0a-8835-8fd09b62b4c4",
   "metadata": {},
   "outputs": [],
   "source": [
    "img_list = list(zip(atomIDs, image_links))\n",
    "df = pd.DataFrame(img_list).rename(columns={0: 'atom', 1: 'url'})\n",
    "df"
   ]
  },
  {
   "cell_type": "markdown",
   "id": "9dbe3d34",
   "metadata": {},
   "source": [
    "## .xml-file(s) on images [stemming from Georg's xquery] -> .csv ✔"
   ]
  },
  {
   "cell_type": "code",
   "execution_count": null,
   "id": "f4e37955",
   "metadata": {},
   "outputs": [],
   "source": [
    "from pathlib import PurePath\n",
    "from pathlib import Path\n",
    "from lxml import etree\n",
    "import pandas as pd"
   ]
  },
  {
   "cell_type": "code",
   "execution_count": null,
   "id": "f0afabf0",
   "metadata": {},
   "outputs": [],
   "source": [
    "namespaces = {\"atom\": \"http://www.w3.org/2005/Atom\", \"cei\": \"http://www.monasterium.net/NS/cei\"}\n",
    "#directoryPath = \"../data/output\"\n",
    "directoryPath = '\\\\\\?/'+'C://Users/atzenhof/playground/GitHub/didip/data/images_xml' # path escape due to long path\n",
    "fileExtension = ('*.xml')"
   ]
  },
  {
   "cell_type": "code",
   "execution_count": null,
   "id": "11ab8044",
   "metadata": {},
   "outputs": [],
   "source": [
    "atomIDs = []\n",
    "image_links = []\n",
    "\n",
    "for file in Path(directoryPath).rglob(fileExtension):\n",
    "    tree = etree.parse(str(file)) # requres conversion to str since lxml does not vibe with windowspath\n",
    "    root = tree.getroot()\n",
    "    for img in root.findall('//img', namespaces):\n",
    "        atomID = img.getparent().attrib['id']\n",
    "        atomIDs.append(atomID)\n",
    "        image_link = img.attrib['src']\n",
    "        image_links.append(image_link)"
   ]
  },
  {
   "cell_type": "code",
   "execution_count": null,
   "id": "2142fce4",
   "metadata": {},
   "outputs": [],
   "source": [
    "img_list = list(zip(atomIDs, image_links))\n",
    "df = pd.DataFrame(img_list).rename(columns={0: 'atomID', 1: 'url'})\n",
    "df"
   ]
  },
  {
   "cell_type": "code",
   "execution_count": null,
   "id": "dc7ca5e2",
   "metadata": {},
   "outputs": [],
   "source": [
    "pathname = PurePath(directoryPath).name\n",
    "df.to_csv(f'../data/output/test_{pathname}.csv', index=False)"
   ]
  },
  {
   "cell_type": "markdown",
   "id": "3fe16419",
   "metadata": {},
   "source": [
    "## find lengths of lists"
   ]
  },
  {
   "cell_type": "code",
   "execution_count": null,
   "id": "dac3569e",
   "metadata": {},
   "outputs": [],
   "source": [
    "# def find_max_list(list):\n",
    "#     list_len = [len(i) for i in list]\n",
    "#     maxvalue = max(list_len)\n",
    "#     print(maxvalue)\n",
    "\n",
    "# info_list_list = []\n",
    "# for info_list in charter_image_list[\"atom_parts\"]:\n",
    "#     info_list_list.append(info_list)\n",
    "\n",
    "# find_max_list(info_list_list) # yields 5, means 3 without first two parts is normal"
   ]
  },
  {
   "cell_type": "markdown",
   "id": "53c517b1",
   "metadata": {},
   "source": [
    "# buggy way of checking url status"
   ]
  },
  {
   "cell_type": "code",
   "execution_count": null,
   "id": "8ba59cea",
   "metadata": {},
   "outputs": [],
   "source": [
    "#does not work well with ascii \n",
    "\n",
    "def get_url_status(url):\n",
    "    if type(url) == str:\n",
    "        url_clean = url.replace(\" \", \"%20\")\n",
    "        request = Request(url_clean, headers={\"User-Agent\": \"Mozilla\"})\n",
    "        try:\n",
    "            response = urlopen(request)\n",
    "        except HTTPError as e:\n",
    "            return(f\"Failed at {datetime.datetime.now()}: Error {e.code}\")\n",
    "        except URLError as e:\n",
    "            return(f\"Failed to reach server at {datetime.datetime.now()}. Reason: {e.reason}\")\n",
    "        else:\n",
    "            return(f\"URL was up at {datetime.datetime.now()}\")\n",
    "    else:\n",
    "        pass"
   ]
  },
  {
   "cell_type": "code",
   "execution_count": null,
   "id": "7db3e583",
   "metadata": {},
   "outputs": [],
   "source": [
    "for url in df_archive_links_clean_test[\"charter_image_url\"]:\n",
    "    print(url)\n",
    "    df_archive_links_clean_test[\"test_ping\"] = get_url_status(url)"
   ]
  },
  {
   "cell_type": "markdown",
   "id": "9a890865",
   "metadata": {},
   "source": [
    "# checking url status"
   ]
  },
  {
   "cell_type": "code",
   "execution_count": null,
   "id": "319d514c",
   "metadata": {},
   "outputs": [],
   "source": [
    "number_of_downs = 0\n",
    "list_of_downs = []\n",
    "for url in series:\n",
    "    if urllib.request.urlopen(url).getcode() == 200:\n",
    "        print(f\"{url} is up.\")\n",
    "    else:\n",
    "        print(f\"DOWN! - {url}\")\n",
    "        number_of_downs += 1\n",
    "        list_of_downs.append(url)"
   ]
  },
  {
   "cell_type": "markdown",
   "id": "e3a506d0",
   "metadata": {},
   "source": [
    "# Queries"
   ]
  },
  {
   "cell_type": "code",
   "execution_count": null,
   "id": "7a89828c",
   "metadata": {},
   "outputs": [],
   "source": [
    "import pandas as pd"
   ]
  },
  {
   "cell_type": "code",
   "execution_count": null,
   "id": "da4c8b5a",
   "metadata": {},
   "outputs": [],
   "source": [
    "df = pd.read_csv('../data/output/charter_contents_full_metadata.charter.public.csv', encoding=\"utf-8\")"
   ]
  },
  {
   "cell_type": "markdown",
   "id": "5c19021e",
   "metadata": {},
   "source": [
    "## Stuff"
   ]
  },
  {
   "cell_type": "code",
   "execution_count": null,
   "id": "faa534d3",
   "metadata": {},
   "outputs": [],
   "source": [
    "new = df.groupby(\"cei_lang_MOM\")[\"atom_id\"].count()\n",
    "new.sort_values(ascending=False)"
   ]
  },
  {
   "cell_type": "code",
   "execution_count": null,
   "id": "05e74659",
   "metadata": {},
   "outputs": [],
   "source": [
    "df_dt_tenor = (df.loc[df[\"cei_lang_MOM\"] == \"['dt.']\"]).loc[df[\"cei_tenor\"] != \"[]\"]\n",
    "df_dt_pTenor = (df.loc[df[\"cei_lang_MOM\"] == \"['dt.']\"]).loc[df[\"cei_pTenor\"] != \"[]\"]\n",
    "\n",
    "print(f\"Charters with 'dt.' in cei_lang_MOM and containing a cei_tenor: {len(df_dt_tenor)}\")\n",
    "print(f\"Charters with 'dt.' in cei_lang_MOM and containing a cei_pTenor: {len(df_dt_pTenor)}\")"
   ]
  },
  {
   "cell_type": "code",
   "execution_count": null,
   "id": "222c0afc",
   "metadata": {},
   "outputs": [],
   "source": [
    "#sorting, filtering, limiting etc\n",
    "#df.loc[df['columnname'] == 'something']\n",
    "#df.groupby('columnname')['countingtag'].count()\n",
    "#df.sort_values(ascending=False)"
   ]
  },
  {
   "cell_type": "code",
   "execution_count": null,
   "id": "13563db1",
   "metadata": {},
   "outputs": [],
   "source": [
    "# apply filter based on cell\n",
    "df['url'] = df['url'].apply(lambda x : x[1:] if x.startswith(\"/\") else x) #exclude / at start for x , fastest method"
   ]
  },
  {
   "cell_type": "code",
   "execution_count": null,
   "id": "5e8326c6",
   "metadata": {},
   "outputs": [],
   "source": [
    "# check if cell is empty list\n",
    "test = df[df[\"tag\"].astype(str) != '[]']"
   ]
  },
  {
   "cell_type": "code",
   "execution_count": null,
   "id": "b17e2f54",
   "metadata": {},
   "outputs": [],
   "source": [
    "# reset index and groupby\n",
    "charter_contents_exploded.reset_index(drop=True, inplace=True)\n",
    "charter_contents_exploded.groupby('cei_lang_MOM')['atom_id'].count().sort_values(ascending=False).head(n=20)"
   ]
  },
  {
   "cell_type": "markdown",
   "id": "f14be676",
   "metadata": {},
   "source": [
    "# filters"
   ]
  },
  {
   "cell_type": "code",
   "execution_count": null,
   "id": "e44976a6",
   "metadata": {},
   "outputs": [],
   "source": [
    "df_text = contents_full[contents_full[\"cei_tenor\"].str.len() >= 30]\n",
    "df_german = df_text[df_text[\"cei_lang_MOM\"].astype(str).str.contains(\"Deutsch\", \"dt.\")]\n",
    "df_no_latin = df_german[~df_german[\"cei_lang_MOM\"].astype(str).str.contains(\"Latein\", \"lt.\")]\n",
    "df_no_latin2 = df_no_latin[~df_no_latin[\"cei_lang_MOM\"].astype(str).str.contains(\"lateinisch\")]\n",
    "df_AT = df_no_latin2[df_no_latin2[\"atom_id\"].astype(str).str.contains(\"/AT-\")]\n",
    "df_time = df_AT.explode(\"cei_dateRange_ATTRIBUTE_from\").explode(\"cei_dateRange_ATTRIBUTE_to\").explode(\"cei_date_ATTRIBUTE_value\")\n",
    "df_mhd_top = df_time[df_time[\"cei_dateRange_ATTRIBUTE_from\"] <= \"14000000\"]\n",
    "df_mhd_bot = df_mhd_top[df_mhd_top[\"cei_dateRange_ATTRIBUTE_from\"] >= \"11000000\"]\n",
    "df_sorted = df_mhd_bot.sort_values(\"cei_dateRange_ATTRIBUTE_from\" , ascending=True)"
   ]
  },
  {
   "cell_type": "code",
   "execution_count": null,
   "id": "d273a2df",
   "metadata": {},
   "outputs": [],
   "source": [
    "# Comparisons, checks in dataframe\n",
    "df.loc[(df['Space'] == 'TRUE') & (df['Threshold'] <= 0.2), 'Space_Test'] = 'Pass'\n",
    "df.loc[(df['Space'] != 'TRUE') | (df['Threshold'] > 0.2), 'Space_Test'] = 'Fail'\n",
    "\n",
    "\n",
    "df['Space_Test'] = np.where(df['Space'],\n",
    "                   np.where(df['Threshold'] <= 0.2, 'Pass', 'Fail'),'FALSE')"
   ]
  },
  {
   "cell_type": "markdown",
   "id": "db433d7b",
   "metadata": {},
   "source": [
    "# places?"
   ]
  },
  {
   "cell_type": "code",
   "execution_count": null,
   "id": "47f48955",
   "metadata": {},
   "outputs": [],
   "source": [
    "charters_w_places = contents_full[contents_full[\"cei_placeName\"].astype(str) != '[]']\n",
    "len(charters_w_places)"
   ]
  }
 ],
 "metadata": {
  "kernelspec": {
   "display_name": "Python 3.8.10 ('didipcv')",
   "language": "python",
   "name": "python3"
  },
  "language_info": {
   "codemirror_mode": {
    "name": "ipython",
    "version": 3
   },
   "file_extension": ".py",
   "mimetype": "text/x-python",
   "name": "python",
   "nbconvert_exporter": "python",
   "pygments_lexer": "ipython3",
   "version": "3.8.10"
  },
  "vscode": {
   "interpreter": {
    "hash": "51de90f0d358e009ce9df81fe88f979b0f6e2c5f2b81c54b9ff289164d1b3424"
   }
  }
 },
 "nbformat": 4,
 "nbformat_minor": 5
}
