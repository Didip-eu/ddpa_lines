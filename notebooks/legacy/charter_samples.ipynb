{
 "cells": [
  {
   "cell_type": "markdown",
   "metadata": {},
   "source": [
    "# imports"
   ]
  },
  {
   "cell_type": "code",
   "execution_count": 77,
   "metadata": {},
   "outputs": [],
   "source": [
    "from lxml import etree\n",
    "from pathlib import Path\n",
    "from pathlib import PurePosixPath\n",
    "from datetime import datetime\n",
    "import os\n",
    "import csv \n",
    "import pandas as pd\n",
    "import numpy as np\n",
    "import pickle\n",
    "import re\n",
    "from pprint import pprint\n",
    "import random\n",
    "from itertools import chain\n",
    "\n",
    "from ddp_util import chatomid_to_url, url_to_chatomid\n",
    "\n",
    "import glob\n",
    "import ddp_util"
   ]
  },
  {
   "cell_type": "markdown",
   "metadata": {},
   "source": [
    "# including idx pickles"
   ]
  },
  {
   "cell_type": "code",
   "execution_count": 78,
   "metadata": {},
   "outputs": [],
   "source": [
    "pickles = pd.read_fwf(\"../../data/in/sampling/pickles.txt\", header=None)\n",
    "pickles_git = pd.read_fwf(\"../../data/in/sampling/pickles_git.txt\", header=None)\n",
    "\n",
    "pickles = pickles.squeeze().rename(\"pickles\")\n",
    "pickles_git = pickles_git.squeeze().rename(\"pickles_git\")\n",
    "\n",
    "pickles_list = pickles.to_list()\n",
    "pickles_list_git = pickles_git.to_list()"
   ]
  },
  {
   "cell_type": "markdown",
   "metadata": {},
   "source": [
    "# load datasets, make clean dfs and lists"
   ]
  },
  {
   "cell_type": "code",
   "execution_count": 107,
   "metadata": {},
   "outputs": [
    {
     "name": "stdout",
     "output_type": "stream",
     "text": [
      "0         tag:www.monasterium.net,2011:/charter/069622fc...\n",
      "1         tag:www.monasterium.net,2011:/charter/069622fc...\n",
      "2         tag:www.monasterium.net,2011:/charter/069622fc...\n",
      "3         tag:www.monasterium.net,2011:/charter/069622fc...\n",
      "4         tag:www.monasterium.net,2011:/charter/069622fc...\n",
      "                                ...                        \n",
      "659165    tag:www.monasterium.net,2011:/charter/Wirtembe...\n",
      "659166    tag:www.monasterium.net,2011:/charter/Wirtembe...\n",
      "659167    tag:www.monasterium.net,2011:/charter/Wirtembe...\n",
      "659168    tag:www.monasterium.net,2011:/charter/Wirtembe...\n",
      "659169    tag:www.monasterium.net,2011:/charter/Wirtembe...\n",
      "Name: atomid, Length: 659170, dtype: object\n"
     ]
    }
   ],
   "source": [
    "all_df_full = pd.read_json(\"../../data/in/sampling/charters_2022-09-18-2211.json\")\n",
    "all_df = all_df_full.explode(\"atom_id\")[\"atom_id\"].rename(\"atomid\")\n",
    "print(all_df)\n",
    "all_list = all_df.to_list()"
   ]
  },
  {
   "cell_type": "code",
   "execution_count": 108,
   "metadata": {},
   "outputs": [
    {
     "name": "stdout",
     "output_type": "stream",
     "text": [
      "0      tag:www.monasterium.net,2011:/charter/HU-MNL-D...\n",
      "1      tag:www.monasterium.net,2011:/charter/DE-BayHS...\n",
      "2      tag:www.monasterium.net,2011:/charter/AT-StiAS...\n",
      "3      tag:www.monasterium.net,2011:/charter/HU-MNL-D...\n",
      "4      tag:www.monasterium.net,2011:/charter/DE-HStAM...\n",
      "                             ...                        \n",
      "995    tag:www.monasterium.net,2011:/charter/AT-DOZA/...\n",
      "996    tag:www.monasterium.net,2011:/charter/HU-MNL-D...\n",
      "997    tag:www.monasterium.net,2011:/charter/DE-HStAM...\n",
      "998    tag:www.monasterium.net,2011:/charter/DE-BayHS...\n",
      "999    tag:www.monasterium.net,2011:/charter/AT-StiAG...\n",
      "Name: atomid, Length: 1000, dtype: object\n"
     ]
    }
   ],
   "source": [
    "m_cv_df = pd.read_csv(\"../../data/in/sampling/1000charters_gsheet.csv\", encoding=\"utf-8\")\n",
    "m_cv_df[\"atomid\"] = m_cv_df[\"URL \"].apply(lambda x : url_to_chatomid(x))\n",
    "m_cv_df = m_cv_df[\"atomid\"]\n",
    "print(m_cv_df)\n",
    "m_cv_list = m_cv_df.to_list()"
   ]
  },
  {
   "cell_type": "code",
   "execution_count": 81,
   "metadata": {},
   "outputs": [
    {
     "name": "stdout",
     "output_type": "stream",
     "text": [
      "0      tag:www.monasterium.net,2011:/charter/AT-ADG/A...\n",
      "1      tag:www.monasterium.net,2011:/charter/AT-ADG/A...\n",
      "2      tag:www.monasterium.net,2011:/charter/AT-ADG/A...\n",
      "3      tag:www.monasterium.net,2011:/charter/AT-ADG/A...\n",
      "4      tag:www.monasterium.net,2011:/charter/AT-AES/U...\n",
      "                             ...                        \n",
      "995    tag:www.monasterium.net,2011:/charter/SK-SNA/4...\n",
      "996    tag:www.monasterium.net,2011:/charter/SK-SNA/4...\n",
      "997    tag:www.monasterium.net,2011:/charter/SK-SNA/4...\n",
      "998    tag:www.monasterium.net,2011:/charter/SK-SNA/4...\n",
      "999    tag:www.monasterium.net,2011:/charter/SK-SNA/4...\n",
      "Name: atomid, Length: 1000, dtype: object\n"
     ]
    }
   ],
   "source": [
    "# load 1000 charter project sample from leech ?\n",
    "#WSL ~/data/didip/tmp/data/leech/1000_Charters ... once copied, unclear where from\n",
    "m_cv_leech_df = pd.read_fwf(\"../../data/in/sampling/atomid_list.txt\", header=None)\n",
    "m_cv_leech_df = m_cv_leech_df.squeeze().rename(\"atomid\")\n",
    "print(m_cv_leech_df)\n",
    "m_cv_leech_list = m_cv_leech_df.to_list()"
   ]
  },
  {
   "cell_type": "code",
   "execution_count": 82,
   "metadata": {},
   "outputs": [
    {
     "name": "stdout",
     "output_type": "stream",
     "text": [
      "0      tag:www.monasterium.net,2011:/charter/AT-ADG/A...\n",
      "1      tag:www.monasterium.net,2011:/charter/AT-ADG/A...\n",
      "2      tag:www.monasterium.net,2011:/charter/AT-ADG/A...\n",
      "3      tag:www.monasterium.net,2011:/charter/AT-ADG/A...\n",
      "4      tag:www.monasterium.net,2011:/charter/AT-AES/U...\n",
      "                             ...                        \n",
      "995    tag:www.monasterium.net,2011:/charter/SK-SNA/4...\n",
      "996    tag:www.monasterium.net,2011:/charter/SK-SNA/4...\n",
      "997    tag:www.monasterium.net,2011:/charter/SK-SNA/4...\n",
      "998    tag:www.monasterium.net,2011:/charter/SK-SNA/4...\n",
      "999    tag:www.monasterium.net,2011:/charter/SK-SNA/4...\n",
      "Name: atomid, Length: 1000, dtype: object\n"
     ]
    }
   ],
   "source": [
    "# load 1000 charter project sample from other leechdump\n",
    "#atzenhofer@21-PX010:/data/anguelos/monasterium/tmp/data/leech$ \n",
    "m_cv_leech_2nd_df = pd.read_fwf(\"../../data/in/sampling/atomid_list_second.txt\", header=None)\n",
    "m_cv_leech_2nd_df = m_cv_leech_2nd_df.squeeze().rename(\"atomid\")\n",
    "print(m_cv_leech_2nd_df)\n",
    "m_cv_leech_2nd_list = m_cv_leech_2nd_df.to_list()"
   ]
  },
  {
   "cell_type": "code",
   "execution_count": 83,
   "metadata": {},
   "outputs": [
    {
     "name": "stdout",
     "output_type": "stream",
     "text": [
      "0      tag:www.monasterium.net,2011:/charter/AFM/1.2.140\n",
      "1      tag:www.monasterium.net,2011:/charter/StPCanRe...\n",
      "2      tag:www.monasterium.net,2011:/charter/DEEDS/00...\n",
      "3      tag:www.monasterium.net,2011:/charter/Bischoef...\n",
      "4      tag:www.monasterium.net,2011:/charter/AFM/1.4....\n",
      "                             ...                        \n",
      "995    tag:www.monasterium.net,2011:/charter/Benedict...\n",
      "996    tag:www.monasterium.net,2011:/charter/AFM/1.4....\n",
      "997    tag:www.monasterium.net,2011:/charter/KlosterJ...\n",
      "998    tag:www.monasterium.net,2011:/charter/Merkwuer...\n",
      "999    tag:www.monasterium.net,2011:/charter/Lauresha...\n",
      "Name: atom_id, Length: 1000, dtype: object\n"
     ]
    }
   ],
   "source": [
    "# load 1000 charter NLP sample, downloaded from Unicloud\n",
    "m_nlp_df = pd.read_parquet(\"../../data/in/sampling/1000charters_nlp.parquet\", engine=\"pyarrow\")\n",
    "m_nlp_df = m_nlp_df.explode(\"atom_id\")[\"atom_id\"].reset_index(drop=True)\n",
    "print(m_nlp_df)\n",
    "m_nlp_list = m_nlp_df.to_list()"
   ]
  },
  {
   "cell_type": "markdown",
   "metadata": {},
   "source": [
    "# make list of lists for contingency"
   ]
  },
  {
   "cell_type": "code",
   "execution_count": 84,
   "metadata": {},
   "outputs": [],
   "source": [
    "lists_list = [m_nlp_list, m_cv_list, m_cv_leech_list, m_cv_leech_2nd_list]\n",
    "#lists_list = [pickles_list, pickles_list_git]"
   ]
  },
  {
   "cell_type": "markdown",
   "metadata": {},
   "source": [
    "# check differences"
   ]
  },
  {
   "cell_type": "code",
   "execution_count": 85,
   "metadata": {},
   "outputs": [],
   "source": [
    "def get_var_name(variable):\n",
    "    globals_dict = globals()\n",
    "    return [var_name for var_name in globals_dict if globals_dict[var_name] is variable]\n",
    "\n",
    "def isect(list1, list2):\n",
    "    isect = list(set(list1).intersection(set(list2)))\n",
    "    return isect\n",
    "\n",
    "def diff(list1, list2):\n",
    "    diff = list(set(list1).difference(set(list2)))\n",
    "    return diff"
   ]
  },
  {
   "cell_type": "code",
   "execution_count": 86,
   "metadata": {},
   "outputs": [
    {
     "name": "stdout",
     "output_type": "stream",
     "text": [
      "m_nlp_list has a length of 1000\n",
      "m_cv_leech_list has a length of 1000\n",
      "m_cv_leech_2nd_list has a length of 1000\n",
      "m_cv_list has a length of 1000\n",
      "\n",
      "\n",
      "m_cv_leech_list \t and \t m_nlp_list \t -> intersection of 0 and a difference of 989.\n",
      "m_cv_leech_2nd_list \t and \t m_nlp_list \t -> intersection of 0 and a difference of 989.\n",
      "m_cv_leech_2nd_list \t and \t m_cv_leech_list \t -> intersection of 989 and a difference of 0.\n",
      "m_cv_list \t and \t m_nlp_list \t -> intersection of 0 and a difference of 1000.\n",
      "m_cv_list \t and \t m_cv_leech_list \t -> intersection of 953 and a difference of 47.\n",
      "m_cv_list \t and \t m_cv_leech_2nd_list \t -> intersection of 953 and a difference of 47.\n"
     ]
    }
   ],
   "source": [
    "tab = \"\\t\"\n",
    "nl = \"\\n\"\n",
    "sorted_list = sorted(lists_list)\n",
    "\n",
    "for i in sorted_list:\n",
    "    print(f\"{(get_var_name(i))[0]} has a length of {len(i)}\") #question to self: why is get-var-name inconsistent as to the order\n",
    "\n",
    "print(nl)\n",
    "\n",
    "for i in sorted_list:\n",
    "    for j in sorted_list:\n",
    "        intersection = isect(i, j)\n",
    "        difference = diff(i, j)\n",
    "        if i == j:\n",
    "            break\n",
    "        else:\n",
    "            print(f\"{(get_var_name(i))[0]} {tab} and {tab} {(get_var_name(j)[-2])} {tab} -> intersection of {len(intersection)} and a difference of {len(difference)}.\")\n",
    "        #   print(f\"intersections: {intersection}\")\n",
    "        #   print(f\"differences: {difference}\")"
   ]
  },
  {
   "cell_type": "code",
   "execution_count": 87,
   "metadata": {},
   "outputs": [],
   "source": [
    "newlist = diff(m_cv_list, m_cv_leech_list)"
   ]
  },
  {
   "cell_type": "code",
   "execution_count": 88,
   "metadata": {},
   "outputs": [
    {
     "data": {
      "text/plain": [
       "47"
      ]
     },
     "execution_count": 88,
     "metadata": {},
     "output_type": "execute_result"
    }
   ],
   "source": [
    "len(newlist)"
   ]
  },
  {
   "cell_type": "code",
   "execution_count": 89,
   "metadata": {},
   "outputs": [],
   "source": [
    "# from co-programming w anguelos: check 1000 charter dirs\n",
    "#print(glob.glob(\"../../misc/1000_Charters/*/*/*/*json\"))\n",
    "# daniel_dirs = sorted(set([\"/\".join(f.split(\"/\")[:-1]) for f in glob.glob(\"../../misc/1000_Charters/*/*/*/*.*.json\")]))\n",
    "# daniel_atoms = [open(f\"{f}/url.txt\").read() for f in daniel_dirs]\n",
    "# daniel_atoms\n",
    "\n",
    "#print(len(daniel_atoms))\n",
    "# print(len(daniel_dirs))\n",
    "# print(set(daniel_dirs)-set())"
   ]
  },
  {
   "cell_type": "code",
   "execution_count": 90,
   "metadata": {},
   "outputs": [],
   "source": [
    "# print(chatomid_to_url(\"tag:www.monasterium.net,2011:/charter/AT-StaAR/UrkDominikanerkloster/StA_Retz%7CD%7CU1%7C1303\"))\n",
    "# print(chatomid_to_url(\"tag:www.monasterium.net,2011:/charter/AT-StaAR/UrkDominikanerkloster/StA_Retz%7CD\"))\n",
    "\n",
    "# \"tag:www.monasterium.net,2011:/charter/SK-SNA/4156-SukromnyArchivBratislavskejKapituly/636\"\n",
    "# \"tag:www.monasterium.net,2011:/charter/SK-SNA/4156-SukromnyArchivBratislavskejKapi\"\n",
    "\n",
    "#80 lengths cutoff?\n",
    "# \"tag:www.monasterium.net,2011:/charter/AT-NOeLA/HA_Seefeld-HardeggerUrk/Hardegger_\"\n",
    "\n",
    "# \"tag:www.monasterium.net,2011:/charter/SK-SNA/4156-SukromnyArchivBratislavskejKapi\""
   ]
  },
  {
   "cell_type": "markdown",
   "metadata": {},
   "source": [
    "## check set of sample atomids\n",
    "conclusion: buggy urls -> buggy atomids -> uneven number"
   ]
  },
  {
   "cell_type": "code",
   "execution_count": 91,
   "metadata": {},
   "outputs": [],
   "source": [
    "union_list = m_nlp_list + m_cv_list + m_cv_leech_list + m_cv_leech_2nd_list"
   ]
  },
  {
   "cell_type": "code",
   "execution_count": 92,
   "metadata": {},
   "outputs": [
    {
     "name": "stdout",
     "output_type": "stream",
     "text": [
      "4000\n",
      "2036\n"
     ]
    }
   ],
   "source": [
    "print(len(union_list))\n",
    "print(len(set(union_list)))"
   ]
  },
  {
   "cell_type": "markdown",
   "metadata": {},
   "source": [
    "# reduce by previous nlp and cv sample"
   ]
  },
  {
   "cell_type": "code",
   "execution_count": 114,
   "metadata": {},
   "outputs": [],
   "source": [
    "all_less_nlp = all_df[all_df.isin(m_nlp_list)]\n",
    "#all_less_cv = all_df[ (  ~(all_df.isin(m_cv_list)))   ]\n",
    "\n",
    "all_less_cv = all_df[ (  ~(all_df.isin(m_cv_list)))   ]\n",
    "all_less_nlp_cv = all_df[~all_df.isin(m_nlp_list)][~all_df.isin(m_cv_list)]"
   ]
  },
  {
   "cell_type": "code",
   "execution_count": 155,
   "metadata": {},
   "outputs": [],
   "source": [
    "\n",
    "all_df[~all_df.isin(m_nlp_list+m_cv_list)]\n",
    "l_all_df=all_df.tolist()\n",
    "\n",
    "import ddp_util\n",
    "import random\n",
    "import csv\n",
    "assert len(set(m_nlp_list))==len(set(m_cv_list))\n",
    "assert len(set(m_nlp_list+m_cv_list)) == 2000\n",
    "\n",
    "eligible_3k=list(sorted(set(l_all_df)-set(m_nlp_list+m_cv_list)))\n",
    "random.seed(1337)\n",
    "random.shuffle(eligible_3k)\n",
    "eligible_3k=sorted(eligible_3k[:3000])\n",
    "with open(\"../../misc/3000_rndCharters/3k_urls.tsv\",\"w\") as f:\n",
    "    w=csv.writer(f,delimiter=\"\\t\", dialect='unix', quoting=csv.QUOTE_NONE)\n",
    "    for n, atomid in enumerate(eligible_3k):\n",
    "        w.writerow([2000+n,atomid,ddp_util.chatomid_to_url(atomid=atomid)])\n",
    "\n",
    "\n",
    "\n",
    "\n"
   ]
  },
  {
   "cell_type": "code",
   "execution_count": 117,
   "metadata": {},
   "outputs": [
    {
     "data": {
      "text/plain": [
       "True"
      ]
     },
     "execution_count": 117,
     "metadata": {},
     "output_type": "execute_result"
    }
   ],
   "source": [
    "sorted(all_less_nlp.tolist()) == sorted(m_nlp_list)"
   ]
  },
  {
   "cell_type": "markdown",
   "metadata": {},
   "source": [
    "# get charters with tenor"
   ]
  },
  {
   "cell_type": "code",
   "execution_count": 94,
   "metadata": {},
   "outputs": [
    {
     "data": {
      "text/plain": [
       "0        tag:www.monasterium.net,2011:/charter/069622fc...\n",
       "1        tag:www.monasterium.net,2011:/charter/672f41e1...\n",
       "2        tag:www.monasterium.net,2011:/charter/672f41e1...\n",
       "3        tag:www.monasterium.net,2011:/charter/672f41e1...\n",
       "4        tag:www.monasterium.net,2011:/charter/672f41e1...\n",
       "                               ...                        \n",
       "72297    tag:www.monasterium.net,2011:/charter/Wirtembe...\n",
       "72298    tag:www.monasterium.net,2011:/charter/Wirtembe...\n",
       "72299    tag:www.monasterium.net,2011:/charter/Wirtembe...\n",
       "72300    tag:www.monasterium.net,2011:/charter/Wirtembe...\n",
       "72301    tag:www.monasterium.net,2011:/charter/Wirtembe...\n",
       "Name: atom_id, Length: 72302, dtype: object"
      ]
     },
     "execution_count": 94,
     "metadata": {},
     "output_type": "execute_result"
    }
   ],
   "source": [
    "\n",
    "all_w_tenor"
   ]
  },
  {
   "cell_type": "markdown",
   "metadata": {},
   "source": [
    "# deduce previous nlp sample from all tenors"
   ]
  },
  {
   "cell_type": "code",
   "execution_count": 95,
   "metadata": {},
   "outputs": [
    {
     "data": {
      "text/plain": [
       "0        tag:www.monasterium.net,2011:/charter/069622fc...\n",
       "1        tag:www.monasterium.net,2011:/charter/672f41e1...\n",
       "2        tag:www.monasterium.net,2011:/charter/672f41e1...\n",
       "3        tag:www.monasterium.net,2011:/charter/672f41e1...\n",
       "4        tag:www.monasterium.net,2011:/charter/672f41e1...\n",
       "                               ...                        \n",
       "72297    tag:www.monasterium.net,2011:/charter/Wirtembe...\n",
       "72298    tag:www.monasterium.net,2011:/charter/Wirtembe...\n",
       "72299    tag:www.monasterium.net,2011:/charter/Wirtembe...\n",
       "72300    tag:www.monasterium.net,2011:/charter/Wirtembe...\n",
       "72301    tag:www.monasterium.net,2011:/charter/Wirtembe...\n",
       "Name: atom_id, Length: 71265, dtype: object"
      ]
     },
     "execution_count": 95,
     "metadata": {},
     "output_type": "execute_result"
    }
   ],
   "source": [
    "all_w_tenor_reduced = all_w_tenor[~all_w_tenor.isin(m_nlp_list)][~all_w_tenor.isin(m_cv_list)]\n",
    "all_w_tenor_reduced"
   ]
  },
  {
   "cell_type": "markdown",
   "metadata": {},
   "source": [
    "# generate new 1k nlp sample"
   ]
  },
  {
   "cell_type": "code",
   "execution_count": 96,
   "metadata": {},
   "outputs": [
    {
     "data": {
      "text/plain": [
       "48351    tag:www.monasterium.net,2011:/charter/KlosterJ...\n",
       "29133    tag:www.monasterium.net,2011:/charter/CSGVI/13...\n",
       "6102     tag:www.monasterium.net,2011:/charter/AFM/1.7.647\n",
       "11901    tag:www.monasterium.net,2011:/charter/AT-StiAK...\n",
       "71673    tag:www.monasterium.net,2011:/charter/WhalleyA...\n",
       "                               ...                        \n",
       "23919    tag:www.monasterium.net,2011:/charter/CodexDip...\n",
       "21294    tag:www.monasterium.net,2011:/charter/Chronico...\n",
       "921      tag:www.monasterium.net,2011:/charter/AbteiSan...\n",
       "70296    tag:www.monasterium.net,2011:/charter/UrkVonZo...\n",
       "35172    tag:www.monasterium.net,2011:/charter/DEEDS/00...\n",
       "Name: atom_id, Length: 1000, dtype: object"
      ]
     },
     "execution_count": 96,
     "metadata": {},
     "output_type": "execute_result"
    }
   ],
   "source": [
    "new_nlp_sample = all_w_tenor_reduced.sample(n=1000, random_state=50)\n",
    "new_nlp_sample"
   ]
  },
  {
   "cell_type": "markdown",
   "metadata": {},
   "source": [
    "# deduce new nlp sample from all"
   ]
  },
  {
   "cell_type": "code",
   "execution_count": 97,
   "metadata": {},
   "outputs": [
    {
     "data": {
      "text/plain": [
       "0         tag:www.monasterium.net,2011:/charter/069622fc...\n",
       "1         tag:www.monasterium.net,2011:/charter/069622fc...\n",
       "2         tag:www.monasterium.net,2011:/charter/069622fc...\n",
       "3         tag:www.monasterium.net,2011:/charter/069622fc...\n",
       "4         tag:www.monasterium.net,2011:/charter/069622fc...\n",
       "                                ...                        \n",
       "656165    tag:www.monasterium.net,2011:/charter/Wirtembe...\n",
       "656166    tag:www.monasterium.net,2011:/charter/Wirtembe...\n",
       "656167    tag:www.monasterium.net,2011:/charter/Wirtembe...\n",
       "656168    tag:www.monasterium.net,2011:/charter/Wirtembe...\n",
       "656169    tag:www.monasterium.net,2011:/charter/Wirtembe...\n",
       "Name: atomid, Length: 656170, dtype: object"
      ]
     },
     "execution_count": 97,
     "metadata": {},
     "output_type": "execute_result"
    }
   ],
   "source": [
    "all_less_nlp_cv_nlp2 = all_less_nlp_cv[~all_less_nlp_cv.isin(new_nlp_sample)].reset_index(drop=True)\n",
    "all_less_nlp_cv_nlp2"
   ]
  },
  {
   "cell_type": "markdown",
   "metadata": {},
   "source": [
    "# generate new 3k sample"
   ]
  },
  {
   "cell_type": "code",
   "execution_count": 98,
   "metadata": {},
   "outputs": [
    {
     "data": {
      "text/plain": [
       "626651    tag:www.monasterium.net,2011:/charter/RIXIii/1...\n",
       "652177    tag:www.monasterium.net,2011:/charter/Urkunden...\n",
       "233008    tag:www.monasterium.net,2011:/charter/DE-BayHS...\n",
       "501344    tag:www.monasterium.net,2011:/charter/Illumini...\n",
       "349079    tag:www.monasterium.net,2011:/charter/HU-MNL-D...\n",
       "                                ...                        \n",
       "470024    tag:www.monasterium.net,2011:/charter/HU-MNL-D...\n",
       "234764    tag:www.monasterium.net,2011:/charter/DE-BayHS...\n",
       "23541     tag:www.monasterium.net,2011:/charter/AT-DOZA/...\n",
       "253939    tag:www.monasterium.net,2011:/charter/DE-BayHS...\n",
       "409778    tag:www.monasterium.net,2011:/charter/HU-MNL-D...\n",
       "Name: atomid, Length: 3000, dtype: object"
      ]
     },
     "execution_count": 98,
     "metadata": {},
     "output_type": "execute_result"
    }
   ],
   "source": [
    "sample_3k = all_less_nlp_cv_nlp2.sample(n=3000, random_state=50)\n",
    "sample_3k"
   ]
  },
  {
   "cell_type": "markdown",
   "metadata": {},
   "source": [
    "# deduce 3k sample"
   ]
  },
  {
   "cell_type": "code",
   "execution_count": 99,
   "metadata": {},
   "outputs": [
    {
     "data": {
      "text/plain": [
       "0         tag:www.monasterium.net,2011:/charter/069622fc...\n",
       "1         tag:www.monasterium.net,2011:/charter/069622fc...\n",
       "2         tag:www.monasterium.net,2011:/charter/069622fc...\n",
       "3         tag:www.monasterium.net,2011:/charter/069622fc...\n",
       "4         tag:www.monasterium.net,2011:/charter/069622fc...\n",
       "                                ...                        \n",
       "653165    tag:www.monasterium.net,2011:/charter/Wirtembe...\n",
       "653166    tag:www.monasterium.net,2011:/charter/Wirtembe...\n",
       "653167    tag:www.monasterium.net,2011:/charter/Wirtembe...\n",
       "653168    tag:www.monasterium.net,2011:/charter/Wirtembe...\n",
       "653169    tag:www.monasterium.net,2011:/charter/Wirtembe...\n",
       "Name: atomid, Length: 653170, dtype: object"
      ]
     },
     "execution_count": 99,
     "metadata": {},
     "output_type": "execute_result"
    }
   ],
   "source": [
    "all_less_samples = all_less_nlp_cv_nlp2[~all_less_nlp_cv_nlp2.isin(sample_3k)].reset_index(drop=True)\n",
    "all_less_samples"
   ]
  },
  {
   "cell_type": "markdown",
   "metadata": {},
   "source": [
    "# check lengths"
   ]
  },
  {
   "cell_type": "code",
   "execution_count": 100,
   "metadata": {},
   "outputs": [
    {
     "name": "stdout",
     "output_type": "stream",
     "text": [
      "659170\n",
      "658170\n",
      "658170\n",
      "657170\n",
      "656170\n",
      "653170\n"
     ]
    }
   ],
   "source": [
    "print(len(all_df))\n",
    "print(len(all_less_nlp))\n",
    "print(len(all_less_cv))\n",
    "print(len(all_less_nlp_cv))\n",
    "print(len(all_less_nlp_cv_nlp2))\n",
    "print(len(all_less_samples))"
   ]
  },
  {
   "cell_type": "markdown",
   "metadata": {},
   "source": [
    "# extend atomids of 1k charters by 3k charters; +list of new nlp"
   ]
  },
  {
   "cell_type": "code",
   "execution_count": 101,
   "metadata": {},
   "outputs": [],
   "source": [
    "atomids_3k = sample_3k.to_list()\n",
    "atomids_4k = list(chain(m_cv_list, sample_3k.to_list()))\n",
    "atomids_1k_nlp_new = new_nlp_sample.to_list()"
   ]
  },
  {
   "cell_type": "markdown",
   "metadata": {},
   "source": [
    "# urls"
   ]
  },
  {
   "cell_type": "code",
   "execution_count": 102,
   "metadata": {},
   "outputs": [],
   "source": [
    "urls_3k = [chatomid_to_url(i) for i in atomids_3k]\n",
    "urls_4k = [chatomid_to_url(i) for i in atomids_4k]\n",
    "urls_1k_nlp_new = [chatomid_to_url(i) for i in atomids_1k_nlp_new]"
   ]
  },
  {
   "cell_type": "code",
   "execution_count": 103,
   "metadata": {},
   "outputs": [],
   "source": [
    "# random.seed(a=50)\n",
    "# for i in random.sample(urls_4k, 10):\n",
    "#     print(i)\n",
    "# random.getstate()"
   ]
  },
  {
   "cell_type": "markdown",
   "metadata": {},
   "source": [
    "# export "
   ]
  },
  {
   "cell_type": "markdown",
   "metadata": {},
   "source": [
    "## urls"
   ]
  },
  {
   "cell_type": "code",
   "execution_count": 104,
   "metadata": {},
   "outputs": [],
   "source": [
    "with open(f\"../../data/out/samples/urls_3k.csv\", \"w\", newline=\"\") as file:\n",
    "    writer = csv.writer(file, delimiter = \"\\n\")\n",
    "    writer.writerow(urls_3k)\n",
    "\n",
    "with open(f\"../../data/out/samples/urls_4k.csv\", \"w\", newline=\"\") as file:\n",
    "    writer = csv.writer(file, delimiter = \"\\n\")\n",
    "    writer.writerow(urls_4k)\n",
    "\n",
    "with open(f\"../../data/out/samples/urls_1k_nlp_new.csv\", \"w\", newline=\"\") as file:\n",
    "    writer = csv.writer(file, delimiter = \"\\n\")\n",
    "    writer.writerow(urls_1k_nlp_new)"
   ]
  },
  {
   "cell_type": "markdown",
   "metadata": {},
   "source": [
    "## atomids"
   ]
  },
  {
   "cell_type": "code",
   "execution_count": 105,
   "metadata": {},
   "outputs": [],
   "source": [
    "with open(f\"../../data/out/samples/atomids_3k.csv\", \"w\", newline=\"\") as file:\n",
    "    writer = csv.writer(file, delimiter = \"\\n\")\n",
    "    writer.writerow(atomids_3k)\n",
    "\n",
    "with open(f\"../../data/out/samples/atomids_4k.csv\", \"w\", newline=\"\") as file:\n",
    "    writer = csv.writer(file, delimiter = \"\\n\")\n",
    "    writer.writerow(atomids_4k)\n",
    "\n",
    "with open(f\"../../data/out/samples/atomids_1k_nlp_new.csv\", \"w\", newline=\"\") as file:\n",
    "    writer = csv.writer(file, delimiter = \"\\n\")\n",
    "    writer.writerow(atomids_1k_nlp_new)"
   ]
  },
  {
   "cell_type": "markdown",
   "metadata": {},
   "source": [
    "# HU in samples\n",
    "says:\n",
    "In the cv 1k charters project, the amount of /HU- charters was 38.5%.\n",
    "\n",
    "In the old nlp sample, it was 0.63%.\n",
    "\n",
    "In the new nlp sample, it is 0.6%.\n",
    "\n",
    "In the new 3k one, it is 25.33%. "
   ]
  },
  {
   "cell_type": "code",
   "execution_count": 106,
   "metadata": {},
   "outputs": [
    {
     "name": "stdout",
     "output_type": "stream",
     "text": [
      "In the cv 1k charters project, the amount of /HU- charters was 38.5%.\n",
      "\n",
      "In the old nlp sample, it was 0.63%.\n",
      "\n",
      "In the new nlp sample, it is 0.6%.\n",
      "\n",
      "In the new 3k one, it is 25.33%. \n"
     ]
    }
   ],
   "source": [
    "# check amount of /HU- in samples\n",
    "n = \"\\n\"\n",
    "exploded = all_df_full.explode(\"atom_id\")\n",
    "df = exploded[exploded[\"atom_id\"].isin(m_cv_list)]\n",
    "m_cv_HU = df[df[\"atom_id\"].astype(str).str.contains(\"/HU-\")]\n",
    "\n",
    "df = exploded[exploded[\"atom_id\"].isin(m_nlp_list)]\n",
    "m_nlp_HU_old = df[df[\"atom_id\"].astype(str).str.contains(\"/HU-\")]\n",
    "\n",
    "df = exploded[exploded[\"atom_id\"].isin(new_nlp_sample.to_list())]\n",
    "m_nlp_HU_new = df[df[\"atom_id\"].astype(str).str.contains(\"/HU-\")]\n",
    "\n",
    "df = exploded[exploded[\"atom_id\"].isin(atomids_3k)]\n",
    "sample_3k_HU = df[df[\"atom_id\"].astype(str).str.contains(\"/HU-\")]\n",
    "\n",
    "# difference of HU % in samples\n",
    "print(f\"\"\"In the cv 1k charters project, the amount of /HU- charters was {round((len(m_cv_HU))/1000*100,2)}%.\n",
    "{n}In the old nlp sample, it was {round((len(m_nlp_HU_old))/3000*100,2)}%.\n",
    "{n}In the new nlp sample, it is {round((len(m_nlp_HU_new))/3000*100,2)}%.\n",
    "{n}In the new 3k one, it is {round((len(sample_3k_HU))/3000*100,2)}%. \"\"\")"
   ]
  }
 ],
 "metadata": {
  "kernelspec": {
   "display_name": "Python 3.8.10 ('didipcv')",
   "language": "python",
   "name": "python3"
  },
  "language_info": {
   "codemirror_mode": {
    "name": "ipython",
    "version": 3
   },
   "file_extension": ".py",
   "mimetype": "text/x-python",
   "name": "python",
   "nbconvert_exporter": "python",
   "pygments_lexer": "ipython3",
   "version": "3.8.10"
  },
  "orig_nbformat": 4,
  "vscode": {
   "interpreter": {
    "hash": "51de90f0d358e009ce9df81fe88f979b0f6e2c5f2b81c54b9ff289164d1b3424"
   }
  }
 },
 "nbformat": 4,
 "nbformat_minor": 2
}
