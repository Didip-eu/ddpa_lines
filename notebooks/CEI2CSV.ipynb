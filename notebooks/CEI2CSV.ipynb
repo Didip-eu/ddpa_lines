{
 "cells": [
  {
   "cell_type": "markdown",
   "id": "f7b15542-f253-494e-836e-3472ae77756a",
   "metadata": {
    "tags": []
   },
   "source": [
    "# Transformation of .xml (cei) [mom-dump] into tabular data\n",
    "## info\n",
    "- dependencies are included for each markdown section, respectively \n",
    "\n",
    "- ✔ means tested and working\n",
    "\n",
    "- 👑 means most worthy and purposeful script in given context"
   ]
  },
  {
   "cell_type": "markdown",
   "id": "941c2f3c-a4eb-4c33-81c1-e42a0b9ab4ed",
   "metadata": {},
   "source": [
    "# get and print all xml tags used in a file ✔"
   ]
  },
  {
   "cell_type": "code",
   "execution_count": null,
   "id": "c51c4b4f-f48c-4f0b-9878-993479bf7201",
   "metadata": {},
   "outputs": [],
   "source": [
    "import xml.etree.ElementTree as ET \n",
    "from pprint import pprint"
   ]
  },
  {
   "cell_type": "code",
   "execution_count": null,
   "id": "dfdb8296",
   "metadata": {},
   "outputs": [],
   "source": [
    "tree=ET.parse('../data/db/mom-data/metadata.charter.public/61ebd1f0-6e2a-4181-b3b2-ecc71ed5e013/0d2c98ff-afb5-4728-9f57-1623ad8240a3.cei.xml')\n",
    "root=tree.getroot()\n",
    "\n",
    "elemList=[]\n",
    "\n",
    "for elem in tree.iter():\n",
    "    elemList.append(elem.tag)\n",
    "\n",
    "elemList = list(set(elemList))\n",
    "pprint(elemList)"
   ]
  },
  {
   "cell_type": "markdown",
   "id": "15461b8d-b390-4827-8375-9938becc1a78",
   "metadata": {},
   "source": [
    "# get all graphic urls from a file ✔"
   ]
  },
  {
   "cell_type": "code",
   "execution_count": null,
   "id": "3a6fa5d1-e863-4deb-99d7-823135ff2d32",
   "metadata": {},
   "outputs": [],
   "source": [
    "import xml.etree.ElementTree as ET"
   ]
  },
  {
   "cell_type": "code",
   "execution_count": null,
   "id": "3b4e47fc-27a1-4c02-99bc-a463391f64ce",
   "metadata": {},
   "outputs": [],
   "source": [
    "namespaces={'atom': 'http://www.w3.org/2005/Atom', 'cei': 'http://www.monasterium.net/NS/cei'}"
   ]
  },
  {
   "cell_type": "code",
   "execution_count": null,
   "id": "e0dfd9bd-823c-4a96-91c9-81b905d8f963",
   "metadata": {},
   "outputs": [],
   "source": [
    "tree=ET.parse('../data/db/mom-data/metadata.charter.public/BischoefeSpeyer/0a4ea494-2b54-4495-a777-b214c57677f2.cei.xml')\n",
    "root=tree.getroot()"
   ]
  },
  {
   "cell_type": "code",
   "execution_count": null,
   "id": "17ce252f-09df-44c9-b5c7-70ca13eac517",
   "metadata": {},
   "outputs": [],
   "source": [
    "for tag in root.findall('.//cei:graphic', namespaces):\n",
    "    attribute = tag.attrib\n",
    "    print(attribute)"
   ]
  },
  {
   "cell_type": "markdown",
   "id": "bd0bc20d-480e-45e0-afe2-23d6bd49879a",
   "metadata": {},
   "source": [
    "# get atomID and graphicURL into pd df from a file ✔\n",
    "- only charters with images"
   ]
  },
  {
   "cell_type": "code",
   "execution_count": null,
   "id": "bd51c623-8f0e-4733-ac44-f8d03eedf816",
   "metadata": {},
   "outputs": [],
   "source": [
    "import xml.etree.ElementTree as ET\n",
    "import pandas as pd"
   ]
  },
  {
   "cell_type": "code",
   "execution_count": null,
   "id": "42a33fc9-22c2-4bf8-9e19-18e316263e4c",
   "metadata": {},
   "outputs": [],
   "source": [
    "namespaces = {'atom': 'http://www.w3.org/2005/Atom', 'cei': 'http://www.monasterium.net/NS/cei'}"
   ]
  },
  {
   "cell_type": "code",
   "execution_count": null,
   "id": "ae883351-3ad2-4615-b3f4-d52dc40a57f5",
   "metadata": {},
   "outputs": [],
   "source": [
    "tree=ET.parse('../data/db/mom-data/metadata.charter.public/BischoefeSpeyer/0a4ea494-2b54-4495-a777-b214c57677f2.cei.xml')\n",
    "root = tree.getroot()"
   ]
  },
  {
   "cell_type": "code",
   "execution_count": null,
   "id": "0e190ebe-921b-451a-a3fc-226424205b8a",
   "metadata": {},
   "outputs": [],
   "source": [
    "atomIDs = []\n",
    "attributes = []\n",
    "\n",
    "for tag in root.findall('.//cei:graphic', namespaces):\n",
    "    atomID = root[0].text\n",
    "    atomIDs.append(atomID)\n",
    "    attribute = tag.attrib['url'] \n",
    "    attributes.append(attribute)"
   ]
  },
  {
   "cell_type": "code",
   "execution_count": null,
   "id": "ef070f91-63fa-4b9a-a936-757a17bf0300",
   "metadata": {},
   "outputs": [],
   "source": [
    "img_list = list(zip(atomIDs, attributes))"
   ]
  },
  {
   "cell_type": "code",
   "execution_count": null,
   "id": "87252f07-ebb2-4a25-82d3-9fa84eb1c29d",
   "metadata": {},
   "outputs": [],
   "source": [
    "df = pd.DataFrame(img_list).rename(columns={0: 'atomID', 1: 'url'})\n",
    "df"
   ]
  },
  {
   "cell_type": "markdown",
   "id": "0d410720-fb1b-4cf6-a9c5-d38993409b80",
   "metadata": {},
   "source": [
    "# get atomID and graphicURL into .csv from a collection using scandir ✔\n",
    "- without subdirectories\n",
    "- only charters with images"
   ]
  },
  {
   "cell_type": "code",
   "execution_count": null,
   "id": "3a343e28-78ea-4d9c-a836-9895c0f54da7",
   "metadata": {},
   "outputs": [],
   "source": [
    "import os\n",
    "import xml.etree.ElementTree as ET\n",
    "import pandas as pd\n",
    "from pathlib import PurePath"
   ]
  },
  {
   "cell_type": "code",
   "execution_count": null,
   "id": "98915957-90c9-4a64-b677-b6ea746ac973",
   "metadata": {},
   "outputs": [],
   "source": [
    "namespaces = {'atom': 'http://www.w3.org/2005/Atom', 'cei': 'http://www.monasterium.net/NS/cei'}\n",
    "directoryPath = '../data/db/mom-data/metadata.charter.public/BischoefeSpeyer/'\n",
    "extension = ('.cei.xml')"
   ]
  },
  {
   "cell_type": "code",
   "execution_count": null,
   "id": "cebabe95-bb29-47a5-b37f-a38bf9f60215",
   "metadata": {},
   "outputs": [],
   "source": [
    "atomIDs = []\n",
    "attributes = []\n",
    "\n",
    "with os.scandir(directoryPath) as it:\n",
    "    for entry in it:\n",
    "        if entry.name.endswith(extension) and entry.is_file():\n",
    "            tree = ET.parse(entry.path)\n",
    "            root = tree.getroot()\n",
    "            for tag in root.findall('.//cei:graphic', namespaces):\n",
    "                atomID = root[0].text\n",
    "                atomIDs.append(atomID)\n",
    "                attribute = tag.attrib['url'] \n",
    "                attributes.append(attribute)"
   ]
  },
  {
   "cell_type": "code",
   "execution_count": null,
   "id": "5a5e4e82-ca08-422b-aea5-037c9a11aa44",
   "metadata": {},
   "outputs": [],
   "source": [
    "img_list = list(zip(atomIDs, attributes))\n",
    "df = pd.DataFrame(img_list).rename(columns={0: 'atomID', 1: 'url'})\n",
    "df"
   ]
  },
  {
   "cell_type": "code",
   "execution_count": null,
   "id": "091bb06c-2b6e-4b5c-b9fa-c48b58a77be2",
   "metadata": {},
   "outputs": [],
   "source": [
    "path = PurePath(directoryPath)\n",
    "pathname = path.name"
   ]
  },
  {
   "cell_type": "code",
   "execution_count": null,
   "id": "b247ce36-95c5-4c90-9b4c-df75dea335a0",
   "metadata": {},
   "outputs": [],
   "source": [
    "df.to_csv(f'../data/output/{pathname}.csv', index=False)"
   ]
  },
  {
   "cell_type": "markdown",
   "id": "791962b3-072a-424f-8038-70c3ae7a9a42",
   "metadata": {
    "tags": []
   },
   "source": [
    "# 👑 get atomID and graphicURL into .csv from multiple collections ✔\n",
    "- includes subdirectories\n",
    "- fast, still takes several minutes for whole mom-dump"
   ]
  },
  {
   "cell_type": "code",
   "execution_count": null,
   "id": "1fa98a6e-2fef-4f49-8a4e-915b01f17de4",
   "metadata": {},
   "outputs": [],
   "source": [
    "from pathlib import Path\n",
    "from pathlib import PurePath\n",
    "import xml.etree.ElementTree as ET\n",
    "import pandas as pd"
   ]
  },
  {
   "cell_type": "code",
   "execution_count": null,
   "id": "c27e5ca6-71c7-4457-92c4-4419f3b3288d",
   "metadata": {},
   "outputs": [],
   "source": [
    "namespaces = {'atom': 'http://www.w3.org/2005/Atom', 'cei': 'http://www.monasterium.net/NS/cei'}\n",
    "directoryPath = '\\\\\\?/'+'C://Users/atzenhof/playground/GitHub/didip/data/db/mom-data/metadata.charter.public/' # escape needed for subdirectory paths longer than system allows for\n",
    "fileExtension = ('*.cei.xml')"
   ]
  },
  {
   "cell_type": "code",
   "execution_count": null,
   "id": "99cbdd7f-54ef-465c-93f5-7f70150b84c3",
   "metadata": {},
   "outputs": [],
   "source": [
    "atomIDs = []\n",
    "attributes = []\n",
    "\n",
    "for file in Path(directoryPath).rglob(fileExtension):\n",
    "    tree = ET.parse(file) # parsing does not consider utf-8 specific symbols (such as long dash); needs postcorrection\n",
    "    root = tree.getroot()\n",
    "    for tag in root.findall('.//cei:graphic', namespaces):\n",
    "        atomID = root[0].text\n",
    "        atomIDs.append(atomID)\n",
    "        if 'url' in tag.attrib:\n",
    "            attribute = tag.attrib['url'] \n",
    "            attributes.append(attribute)\n",
    "        else:\n",
    "            continue"
   ]
  },
  {
   "cell_type": "code",
   "execution_count": null,
   "id": "a911bc20-858e-4b77-afa0-3fd70de334ee",
   "metadata": {},
   "outputs": [],
   "source": [
    "img_list = list(zip(atomIDs, attributes))\n",
    "df = pd.DataFrame(img_list).rename(columns={0: 'atomID', 1: 'url'})\n",
    "df"
   ]
  },
  {
   "cell_type": "code",
   "execution_count": null,
   "id": "6c852bab-4681-42b0-9571-3560afe5637b",
   "metadata": {},
   "outputs": [],
   "source": [
    "pathname = PurePath(directoryPath).name\n",
    "df.to_csv(f'../data/output/{pathname}.csv', index=False)\n",
    "#df_links = df[df['url'].str.contains(\"http://\")]\n",
    "#df_links.to_csv(f'links_{pathname}.csv', index=False)"
   ]
  },
  {
   "cell_type": "markdown",
   "id": "71ff29f8-6078-4740-82c7-cbe2d211d90d",
   "metadata": {},
   "source": [
    "# 👑 transform referential img-.xml file(s) into csv using lxml ✔"
   ]
  },
  {
   "cell_type": "code",
   "execution_count": null,
   "id": "25c73a72-217d-4aa8-807f-596554c2b845",
   "metadata": {},
   "outputs": [],
   "source": [
    "from pathlib import PurePath\n",
    "from pathlib import Path\n",
    "from lxml import etree #lxml since xml.etree.ElementTree does not have full xpath support (no getparent() after using find/findall())\n",
    "import pandas as pd"
   ]
  },
  {
   "cell_type": "code",
   "execution_count": null,
   "id": "d48398b5-5cc4-4d3f-a9c0-72a1a4d7d5ea",
   "metadata": {},
   "outputs": [],
   "source": [
    "namespaces = {'atom': 'http://www.w3.org/2005/Atom', 'cei': 'http://www.monasterium.net/NS/cei'}\n",
    "directoryPath = '\\\\\\?/'+'C://Users/atzenhof/playground/GitHub/didip/data/images_xml' # path escape due to long path\n",
    "fileExtension = ('*.xml')"
   ]
  },
  {
   "cell_type": "code",
   "execution_count": null,
   "id": "f6a91c6a-f1da-4198-96d4-dcac0dc73dd4",
   "metadata": {},
   "outputs": [],
   "source": [
    "atomIDs = []\n",
    "image_links = []\n",
    "\n",
    "for file in Path(directoryPath).rglob(fileExtension):\n",
    "    tree = etree.parse(str(file)) # requres conversion to str since lxml does not vibe with windowspath\n",
    "    root = tree.getroot()\n",
    "    for img in root.findall('.//img', namespaces):\n",
    "        atomID = img.getparent().attrib['id']\n",
    "        atomIDs.append(atomID)\n",
    "        image_link = img.attrib['src']\n",
    "        image_links.append(image_link)"
   ]
  },
  {
   "cell_type": "code",
   "execution_count": null,
   "id": "424c2fd2-72df-4566-a7d5-b5378d0d0c1f",
   "metadata": {},
   "outputs": [],
   "source": [
    "img_list = list(zip(atomIDs, image_links))\n",
    "df = pd.DataFrame(img_list).rename(columns={0: 'atomID', 1: 'url'})\n",
    "df"
   ]
  },
  {
   "cell_type": "code",
   "execution_count": null,
   "id": "2318d580-302d-4fba-bc19-e3f0340c3484",
   "metadata": {},
   "outputs": [],
   "source": [
    "pathname = PurePath(directoryPath).name\n",
    "df.to_csv(f'../data/output/{pathname}.csv', index=False)"
   ]
  },
  {
   "cell_type": "markdown",
   "id": "46e72cb0-4a4e-4b2c-8e25-b9046f3fb805",
   "metadata": {},
   "source": [
    "# lists atomIDs of all charters in folder [mom-dump] including images\n",
    "## to do\n",
    "- add exception for image link (if it is empty)"
   ]
  },
  {
   "cell_type": "code",
   "execution_count": 7,
   "id": "c3194a5c-8e29-483b-82da-a26b4efa79ce",
   "metadata": {},
   "outputs": [],
   "source": [
    "from pathlib import Path\n",
    "from pathlib import PurePath\n",
    "import xml.etree.ElementTree as ET\n",
    "import pandas as pd"
   ]
  },
  {
   "cell_type": "code",
   "execution_count": 8,
   "id": "aa108e30-1051-46a7-94c5-b1d5b7e11170",
   "metadata": {},
   "outputs": [],
   "source": [
    "namespaces = {'atom': 'http://www.w3.org/2005/Atom', 'cei': 'http://www.monasterium.net/NS/cei'}\n",
    "directoryPath = '\\\\\\?/'+'C://Users/atzenhof/playground/GitHub/didip/data/db_subset_for_test' # escape needed for subdirectory paths longer than system allows for\n",
    "fileExtension = ('*.cei.xml')"
   ]
  },
  {
   "cell_type": "code",
   "execution_count": 9,
   "id": "ab859573-2414-4e02-a341-78cf086bda3f",
   "metadata": {},
   "outputs": [
    {
     "name": "stdout",
     "output_type": "stream",
     "text": [
      "\\\\?/C://Users/atzenhof/playground/GitHub/didip/data/db_subset_for_test\n"
     ]
    }
   ],
   "source": [
    "print(directoryPath)"
   ]
  },
  {
   "cell_type": "code",
   "execution_count": 15,
   "id": "b1b27343-3132-4e7b-86c6-fedc7de45c95",
   "metadata": {},
   "outputs": [],
   "source": [
    "atomIDs = []\n",
    "attributes = []\n",
    "\n",
    "for file in Path(directoryPath).rglob(fileExtension):\n",
    "    tree = ET.parse(file) # parsing does not consider utf-8 specific symbols (such as long dash); needs postcorrection\n",
    "    root = tree.getroot()\n",
    "    for tag in root.findall('.//cei:graphic', namespaces):\n",
    "        atomID = root[0].text\n",
    "        atomIDs.append(atomID)\n",
    "        if 'url' in tag.attrib:\n",
    "            attribute = tag.attrib['url'] \n",
    "            attributes.append(attribute)\n",
    "        else:\n",
    "            attribute = \"\"\n",
    "            attributes.append(attribute)"
   ]
  },
  {
   "cell_type": "code",
   "execution_count": 18,
   "id": "1fd8ea8f-ed45-44bf-afe4-f7dc04909eea",
   "metadata": {},
   "outputs": [
    {
     "data": {
      "text/html": [
       "<div>\n",
       "<style scoped>\n",
       "    .dataframe tbody tr th:only-of-type {\n",
       "        vertical-align: middle;\n",
       "    }\n",
       "\n",
       "    .dataframe tbody tr th {\n",
       "        vertical-align: top;\n",
       "    }\n",
       "\n",
       "    .dataframe thead th {\n",
       "        text-align: right;\n",
       "    }\n",
       "</style>\n",
       "<table border=\"1\" class=\"dataframe\">\n",
       "  <thead>\n",
       "    <tr style=\"text-align: right;\">\n",
       "      <th></th>\n",
       "      <th>atomID</th>\n",
       "      <th>url</th>\n",
       "    </tr>\n",
       "  </thead>\n",
       "  <tbody>\n",
       "    <tr>\n",
       "      <th>0</th>\n",
       "      <td>tag:www.monasterium.net,2011:/charter/Bischoef...</td>\n",
       "      <td>00000289.png</td>\n",
       "    </tr>\n",
       "    <tr>\n",
       "      <th>1</th>\n",
       "      <td>tag:www.monasterium.net,2011:/charter/Bischoef...</td>\n",
       "      <td>00000290.png</td>\n",
       "    </tr>\n",
       "    <tr>\n",
       "      <th>2</th>\n",
       "      <td>tag:www.monasterium.net,2011:/charter/Bischoef...</td>\n",
       "      <td>00000543.png</td>\n",
       "    </tr>\n",
       "    <tr>\n",
       "      <th>3</th>\n",
       "      <td>tag:www.monasterium.net,2011:/charter/Bischoef...</td>\n",
       "      <td>00000544.png</td>\n",
       "    </tr>\n",
       "    <tr>\n",
       "      <th>4</th>\n",
       "      <td>tag:www.monasterium.net,2011:/charter/Bischoef...</td>\n",
       "      <td>00000294.png</td>\n",
       "    </tr>\n",
       "    <tr>\n",
       "      <th>...</th>\n",
       "      <td>...</td>\n",
       "      <td>...</td>\n",
       "    </tr>\n",
       "    <tr>\n",
       "      <th>12401</th>\n",
       "      <td>tag:www.monasterium.net,2011:/charter/RhenoMos...</td>\n",
       "      <td>00000337.png</td>\n",
       "    </tr>\n",
       "    <tr>\n",
       "      <th>12402</th>\n",
       "      <td>tag:www.monasterium.net,2011:/charter/RhenoMos...</td>\n",
       "      <td>00000843.png</td>\n",
       "    </tr>\n",
       "    <tr>\n",
       "      <th>12403</th>\n",
       "      <td>tag:www.monasterium.net,2011:/charter/RhenoMos...</td>\n",
       "      <td>00000557.png</td>\n",
       "    </tr>\n",
       "    <tr>\n",
       "      <th>12404</th>\n",
       "      <td>tag:www.monasterium.net,2011:/charter/RhenoMos...</td>\n",
       "      <td>00000558.png</td>\n",
       "    </tr>\n",
       "    <tr>\n",
       "      <th>12405</th>\n",
       "      <td>tag:www.monasterium.net,2011:/charter/RhenoMos...</td>\n",
       "      <td>00000559.png</td>\n",
       "    </tr>\n",
       "  </tbody>\n",
       "</table>\n",
       "<p>12406 rows × 2 columns</p>\n",
       "</div>"
      ],
      "text/plain": [
       "                                                  atomID           url\n",
       "0      tag:www.monasterium.net,2011:/charter/Bischoef...  00000289.png\n",
       "1      tag:www.monasterium.net,2011:/charter/Bischoef...  00000290.png\n",
       "2      tag:www.monasterium.net,2011:/charter/Bischoef...  00000543.png\n",
       "3      tag:www.monasterium.net,2011:/charter/Bischoef...  00000544.png\n",
       "4      tag:www.monasterium.net,2011:/charter/Bischoef...  00000294.png\n",
       "...                                                  ...           ...\n",
       "12401  tag:www.monasterium.net,2011:/charter/RhenoMos...  00000337.png\n",
       "12402  tag:www.monasterium.net,2011:/charter/RhenoMos...  00000843.png\n",
       "12403  tag:www.monasterium.net,2011:/charter/RhenoMos...  00000557.png\n",
       "12404  tag:www.monasterium.net,2011:/charter/RhenoMos...  00000558.png\n",
       "12405  tag:www.monasterium.net,2011:/charter/RhenoMos...  00000559.png\n",
       "\n",
       "[12406 rows x 2 columns]"
      ]
     },
     "execution_count": 18,
     "metadata": {},
     "output_type": "execute_result"
    }
   ],
   "source": [
    "img_list = list(zip(atomIDs, attributes))\n",
    "df = pd.DataFrame(img_list).rename(columns={0: 'atomID', 1: 'url'})\n",
    "df"
   ]
  },
  {
   "cell_type": "markdown",
   "id": "af744733-eefe-40e4-b917-e1bad8a918c4",
   "metadata": {},
   "source": [
    "bei else: continue .. 12406 rows\n",
    "\n",
    "bei else: attribute = \"\" .. 12405 rows"
   ]
  },
  {
   "cell_type": "code",
   "execution_count": 24,
   "id": "05e7b4f8-868b-4be7-a241-5f623ee2d28a",
   "metadata": {},
   "outputs": [],
   "source": [
    "pathname = PurePath(directoryPath).name\n",
    "df.to_csv(f'../data/output/{pathname}.csv', index=False)\n",
    "\n",
    "df_noURLs = df[df['url'].astype(bool)]\n",
    "\n",
    "df_noURLs.to_csv(f'../data/output/{pathname}_nourls.csv'\n",
    "    f'{pathname}_noURLs.csv', index=False)"
   ]
  }
 ],
 "metadata": {
  "kernelspec": {
   "display_name": "Python 3 (ipykernel)",
   "language": "python",
   "name": "python3"
  },
  "language_info": {
   "codemirror_mode": {
    "name": "ipython",
    "version": 3
   },
   "file_extension": ".py",
   "mimetype": "text/x-python",
   "name": "python",
   "nbconvert_exporter": "python",
   "pygments_lexer": "ipython3",
   "version": "3.9.7"
  }
 },
 "nbformat": 4,
 "nbformat_minor": 5
}
