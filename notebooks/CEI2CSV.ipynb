{
 "cells": [
  {
   "cell_type": "markdown",
   "id": "f7b15542-f253-494e-836e-3472ae77756a",
   "metadata": {
    "tags": []
   },
   "source": [
    "# Transformation of .xml into tabular data (monasterium-specific files)\n",
    "## Info\n",
    "- dependencies are included for each markdown section, respectively \n",
    "- ✔ means tested and working; 👑 means most worthy and purposeful script in given context\n",
    "- charter files refer to those in in metadata.charter.public"
   ]
  },
  {
   "cell_type": "markdown",
   "id": "941c2f3c-a4eb-4c33-81c1-e42a0b9ab4ed",
   "metadata": {},
   "source": [
    "# get and print all xml tags (in hierarchical order) used in a charter file  ✔"
   ]
  },
  {
   "cell_type": "code",
   "execution_count": 1,
   "id": "c51c4b4f-f48c-4f0b-9878-993479bf7201",
   "metadata": {},
   "outputs": [],
   "source": [
    "import xml.etree.ElementTree as ET \n",
    "from pprint import pprint"
   ]
  },
  {
   "cell_type": "code",
   "execution_count": 2,
   "id": "dfdb8296",
   "metadata": {},
   "outputs": [
    {
     "name": "stdout",
     "output_type": "stream",
     "text": [
      "['{http://www.monasterium.net/NS/cei}nota',\n",
      " '{http://www.monasterium.net/NS/cei}material',\n",
      " '{http://www.monasterium.net/NS/cei}auth',\n",
      " '{http://www.monasterium.net/NS/cei}p',\n",
      " '{http://www.monasterium.net/NS/cei}traditioForm',\n",
      " '{http://www.monasterium.net/NS/cei}lang_MOM',\n",
      " '{http://www.monasterium.net/NS/cei}index',\n",
      " '{http://www.w3.org/2005/Atom}published',\n",
      " '{http://www.monasterium.net/NS/cei}listBiblErw',\n",
      " '{http://www.w3.org/2005/Atom}link',\n",
      " '{http://www.w3.org/2005/Atom}content',\n",
      " '{http://www.monasterium.net/NS/cei}dateRange',\n",
      " '{http://www.monasterium.net/NS/cei}body',\n",
      " '{http://www.monasterium.net/NS/cei}tenor',\n",
      " '{http://www.w3.org/2007/app}draft',\n",
      " '{http://www.monasterium.net/NS/cei}figure',\n",
      " '{http://www.monasterium.net/NS/cei}chDesc',\n",
      " '{http://www.monasterium.net/NS/cei}witListPar',\n",
      " '{http://www.monasterium.net/NS/cei}sourceDescVolltext',\n",
      " '{http://www.monasterium.net/NS/cei}issued',\n",
      " '{http://www.w3.org/2005/Atom}updated',\n",
      " '{http://www.monasterium.net/NS/cei}condition',\n",
      " '{http://www.monasterium.net/NS/cei}persName',\n",
      " '{http://www.monasterium.net/NS/cei}sourceDesc',\n",
      " '{http://www.monasterium.net/NS/cei}witnessOrig',\n",
      " '{http://www.monasterium.net/NS/cei}archIdentifier',\n",
      " '{http://www.monasterium.net/NS/cei}listBiblEdition',\n",
      " '{http://www.monasterium.net/NS/cei}listBiblFaksimile',\n",
      " '{http://www.monasterium.net/NS/cei}quoteOriginaldatierung',\n",
      " '{http://www.monasterium.net/NS/cei}sourceDescRegest',\n",
      " '{http://www.monasterium.net/NS/cei}bibl',\n",
      " '{http://www.monasterium.net/NS/cei}note',\n",
      " '{http://www.monasterium.net/NS/cei}notariusDesc',\n",
      " '{http://www.monasterium.net/NS/cei}witness',\n",
      " '{http://www.monasterium.net/NS/cei}divNotes',\n",
      " '{http://www.monasterium.net/NS/cei}front',\n",
      " '{http://www.w3.org/2005/Atom}title',\n",
      " '{http://www.monasterium.net/NS/cei}sealDesc',\n",
      " '{http://www.w3.org/2005/Atom}author',\n",
      " '{http://www.monasterium.net/NS/cei}dimensions',\n",
      " '{http://www.w3.org/2005/Atom}entry',\n",
      " '{http://www.monasterium.net/NS/cei}text',\n",
      " '{http://www.monasterium.net/NS/cei}listBibl',\n",
      " '{http://www.monasterium.net/NS/cei}idno',\n",
      " '{http://www.w3.org/2005/Atom}id',\n",
      " '{http://www.monasterium.net/NS/cei}physicalDesc',\n",
      " '{http://www.w3.org/2007/app}control',\n",
      " '{http://www.monasterium.net/NS/cei}listBiblRegest',\n",
      " '{http://www.monasterium.net/NS/cei}placeName',\n",
      " '{http://www.monasterium.net/NS/cei}back',\n",
      " '{http://www.monasterium.net/NS/cei}abstract',\n",
      " '{http://www.w3.org/2005/Atom}email',\n",
      " '{http://www.monasterium.net/NS/cei}diplomaticAnalysis']\n"
     ]
    }
   ],
   "source": [
    "tree = ET.parse('../data/db/mom-data/metadata.charter.public/61ebd1f0-6e2a-4181-b3b2-ecc71ed5e013/0d2c98ff-afb5-4728-9f57-1623ad8240a3.cei.xml')\n",
    "root = tree.getroot()\n",
    "\n",
    "elemList = []\n",
    "\n",
    "for elem in tree.iter():\n",
    "    elemList.append(elem.tag)\n",
    "\n",
    "elemList = list(set(elemList))\n",
    "pprint(elemList)"
   ]
  },
  {
   "cell_type": "code",
   "execution_count": 3,
   "id": "f97003b8-d504-4769-bd3b-d1fe3f297538",
   "metadata": {},
   "outputs": [
    {
     "name": "stdout",
     "output_type": "stream",
     "text": [
      "/Level 1\n",
      "<Element '{http://www.w3.org/2005/Atom}id' at 0x000002BE6050A130>\n",
      "/Level 1\n",
      "<Element '{http://www.w3.org/2005/Atom}title' at 0x000002BE6050A1D0>\n",
      "/Level 1\n",
      "<Element '{http://www.w3.org/2005/Atom}published' at 0x000002BE6050A270>\n",
      "/Level 1\n",
      "<Element '{http://www.w3.org/2005/Atom}updated' at 0x000002BE6050A360>\n",
      "/Level 1\n",
      "<Element '{http://www.w3.org/2005/Atom}author' at 0x000002BE6050A450>\n",
      " / / Level 2:\n",
      "<Element '{http://www.w3.org/2005/Atom}email' at 0x000002BE6050A4F0>\n",
      "/Level 1\n",
      "<Element '{http://www.w3.org/2007/app}control' at 0x000002BE6050A5E0>\n",
      " / / Level 2:\n",
      "<Element '{http://www.w3.org/2007/app}draft' at 0x000002BE6050A680>\n",
      "/Level 1\n",
      "<Element '{http://www.w3.org/2005/Atom}link' at 0x000002BE6050A720>\n",
      "/Level 1\n",
      "<Element '{http://www.w3.org/2005/Atom}content' at 0x000002BE6050A7C0>\n",
      " / / Level 2:\n",
      "<Element '{http://www.monasterium.net/NS/cei}text' at 0x000002BE6050A860>\n",
      " / / / Level 3:\n",
      "<Element '{http://www.monasterium.net/NS/cei}front' at 0x000002BE6050A900>\n",
      " / / / / Level 4:\n",
      "<Element '{http://www.monasterium.net/NS/cei}sourceDesc' at 0x000002BE6050A9A0>\n",
      " / / / / / Level 5:\n",
      "<Element '{http://www.monasterium.net/NS/cei}sourceDescVolltext' at 0x000002BE6050AA40>\n",
      " / / / / / / Level 6:\n",
      "<Element '{http://www.monasterium.net/NS/cei}bibl' at 0x000002BE6050AAE0>\n",
      " / / / / / Level 5:\n",
      "<Element '{http://www.monasterium.net/NS/cei}sourceDescRegest' at 0x000002BE6050AB30>\n",
      " / / / / / / Level 6:\n",
      "<Element '{http://www.monasterium.net/NS/cei}bibl' at 0x000002BE6050AB80>\n",
      " / / / Level 3:\n",
      "<Element '{http://www.monasterium.net/NS/cei}body' at 0x000002BE6050AC20>\n",
      " / / / / Level 4:\n",
      "<Element '{http://www.monasterium.net/NS/cei}idno' at 0x000002BE6050ACC0>\n",
      " / / / / Level 4:\n",
      "<Element '{http://www.monasterium.net/NS/cei}chDesc' at 0x000002BE6050AD60>\n",
      " / / / / / Level 5:\n",
      "<Element '{http://www.monasterium.net/NS/cei}abstract' at 0x000002BE6050AE00>\n",
      " / / / / / Level 5:\n",
      "<Element '{http://www.monasterium.net/NS/cei}issued' at 0x000002BE6050AEA0>\n",
      " / / / / / / Level 6:\n",
      "<Element '{http://www.monasterium.net/NS/cei}placeName' at 0x000002BE6050AF40>\n",
      " / / / / / / Level 6:\n",
      "<Element '{http://www.monasterium.net/NS/cei}dateRange' at 0x000002BE6050C040>\n",
      " / / / / / Level 5:\n",
      "<Element '{http://www.monasterium.net/NS/cei}witnessOrig' at 0x000002BE6050C0E0>\n",
      " / / / / / / Level 6:\n",
      "<Element '{http://www.monasterium.net/NS/cei}traditioForm' at 0x000002BE6050C180>\n",
      " / / / / / / Level 6:\n",
      "<Element '{http://www.monasterium.net/NS/cei}figure' at 0x000002BE6050C220>\n",
      " / / / / / / Level 6:\n",
      "<Element '{http://www.monasterium.net/NS/cei}archIdentifier' at 0x000002BE6050C270>\n",
      " / / / / / / Level 6:\n",
      "<Element '{http://www.monasterium.net/NS/cei}physicalDesc' at 0x000002BE6050C310>\n",
      " / / / / / / Level 6:\n",
      "<Element '{http://www.monasterium.net/NS/cei}auth' at 0x000002BE6050C590>\n",
      " / / / / / / Level 6:\n",
      "<Element '{http://www.monasterium.net/NS/cei}nota' at 0x000002BE6050C770>\n",
      " / / / / / Level 5:\n",
      "<Element '{http://www.monasterium.net/NS/cei}witListPar' at 0x000002BE6050C810>\n",
      " / / / / / / Level 6:\n",
      "<Element '{http://www.monasterium.net/NS/cei}witness' at 0x000002BE6050C8B0>\n",
      " / / / / / Level 5:\n",
      "<Element '{http://www.monasterium.net/NS/cei}diplomaticAnalysis' at 0x000002BE6050CC70>\n",
      " / / / / / / Level 6:\n",
      "<Element '{http://www.monasterium.net/NS/cei}listBibl' at 0x000002BE6050CD10>\n",
      " / / / / / / Level 6:\n",
      "<Element '{http://www.monasterium.net/NS/cei}listBiblEdition' at 0x000002BE6050CDB0>\n",
      " / / / / / / Level 6:\n",
      "<Element '{http://www.monasterium.net/NS/cei}listBiblRegest' at 0x000002BE6050CE50>\n",
      " / / / / / / Level 6:\n",
      "<Element '{http://www.monasterium.net/NS/cei}listBiblFaksimile' at 0x000002BE6050CEF0>\n",
      " / / / / / / Level 6:\n",
      "<Element '{http://www.monasterium.net/NS/cei}listBiblErw' at 0x000002BE6050E040>\n",
      " / / / / / / Level 6:\n",
      "<Element '{http://www.monasterium.net/NS/cei}p' at 0x000002BE6050E130>\n",
      " / / / / / / Level 6:\n",
      "<Element '{http://www.monasterium.net/NS/cei}quoteOriginaldatierung' at 0x000002BE6050E180>\n",
      " / / / / / / Level 6:\n",
      "<Element '{http://www.monasterium.net/NS/cei}nota' at 0x000002BE6050E1D0>\n",
      " / / / / / Level 5:\n",
      "<Element '{http://www.monasterium.net/NS/cei}lang_MOM' at 0x000002BE6050E270>\n",
      " / / / / Level 4:\n",
      "<Element '{http://www.monasterium.net/NS/cei}tenor' at 0x000002BE6050E310>\n",
      " / / / Level 3:\n",
      "<Element '{http://www.monasterium.net/NS/cei}back' at 0x000002BE6050E3B0>\n",
      " / / / / Level 4:\n",
      "<Element '{http://www.monasterium.net/NS/cei}persName' at 0x000002BE6050E450>\n",
      " / / / / Level 4:\n",
      "<Element '{http://www.monasterium.net/NS/cei}placeName' at 0x000002BE6050E4A0>\n",
      " / / / / Level 4:\n",
      "<Element '{http://www.monasterium.net/NS/cei}index' at 0x000002BE6050E540>\n",
      " / / / / Level 4:\n",
      "<Element '{http://www.monasterium.net/NS/cei}divNotes' at 0x000002BE6050E5E0>\n",
      " / / / / / Level 5:\n",
      "<Element '{http://www.monasterium.net/NS/cei}note' at 0x000002BE6050E680>\n"
     ]
    }
   ],
   "source": [
    "for level_1 in root:\n",
    "    print('/Level 1')\n",
    "    print(level_1)\n",
    "    for level_2 in level_1:\n",
    "        print(' / / Level 2:')\n",
    "        print(level_2)\n",
    "        for level_3 in level_2:\n",
    "            print(' / / / Level 3:')\n",
    "            print(level_3)\n",
    "            for level_4 in level_3:\n",
    "                print(' / / / / Level 4:')\n",
    "                print(level_4)\n",
    "                for level_5 in level_4:\n",
    "                    print(' / / / / / Level 5:')\n",
    "                    print(level_5)\n",
    "                    for level_6 in level_5:\n",
    "                        print(' / / / / / / Level 6:')\n",
    "                        print(level_6)"
   ]
  },
  {
   "cell_type": "markdown",
   "id": "15461b8d-b390-4827-8375-9938becc1a78",
   "metadata": {},
   "source": [
    "# get all graphic urls from a charter file ✔"
   ]
  },
  {
   "cell_type": "code",
   "execution_count": null,
   "id": "3a6fa5d1-e863-4deb-99d7-823135ff2d32",
   "metadata": {},
   "outputs": [],
   "source": [
    "import xml.etree.ElementTree as ET"
   ]
  },
  {
   "cell_type": "code",
   "execution_count": null,
   "id": "3b4e47fc-27a1-4c02-99bc-a463391f64ce",
   "metadata": {},
   "outputs": [],
   "source": [
    "namespaces = {'atom': 'http://www.w3.org/2005/Atom', 'cei': 'http://www.monasterium.net/NS/cei'}"
   ]
  },
  {
   "cell_type": "code",
   "execution_count": null,
   "id": "e0dfd9bd-823c-4a96-91c9-81b905d8f963",
   "metadata": {},
   "outputs": [],
   "source": [
    "tree = ET.parse('../data/db/mom-data/metadata.charter.public/BischoefeSpeyer/0a4ea494-2b54-4495-a777-b214c57677f2.cei.xml')\n",
    "root = tree.getroot()"
   ]
  },
  {
   "cell_type": "code",
   "execution_count": null,
   "id": "17ce252f-09df-44c9-b5c7-70ca13eac517",
   "metadata": {},
   "outputs": [],
   "source": [
    "for tag in root.findall('.//cei:graphic', namespaces):\n",
    "    attribute = tag.attrib\n",
    "    print(attribute)"
   ]
  },
  {
   "cell_type": "markdown",
   "id": "bd0bc20d-480e-45e0-afe2-23d6bd49879a",
   "metadata": {},
   "source": [
    "# get atomID and graphicURL into pd df from a charter file ✔\n",
    "- only charters with images"
   ]
  },
  {
   "cell_type": "code",
   "execution_count": null,
   "id": "bd51c623-8f0e-4733-ac44-f8d03eedf816",
   "metadata": {},
   "outputs": [],
   "source": [
    "import xml.etree.ElementTree as ET\n",
    "import pandas as pd"
   ]
  },
  {
   "cell_type": "code",
   "execution_count": null,
   "id": "42a33fc9-22c2-4bf8-9e19-18e316263e4c",
   "metadata": {},
   "outputs": [],
   "source": [
    "namespaces = {'atom': 'http://www.w3.org/2005/Atom', 'cei': 'http://www.monasterium.net/NS/cei'}"
   ]
  },
  {
   "cell_type": "code",
   "execution_count": null,
   "id": "ae883351-3ad2-4615-b3f4-d52dc40a57f5",
   "metadata": {},
   "outputs": [],
   "source": [
    "tree = ET.parse('../data/db/mom-data/metadata.charter.public/BischoefeSpeyer/0a4ea494-2b54-4495-a777-b214c57677f2.cei.xml')\n",
    "root = tree.getroot()"
   ]
  },
  {
   "cell_type": "code",
   "execution_count": null,
   "id": "0e190ebe-921b-451a-a3fc-226424205b8a",
   "metadata": {},
   "outputs": [],
   "source": [
    "atomIDs = []\n",
    "attributes = []\n",
    "\n",
    "for tag in root.findall('.//cei:graphic', namespaces):\n",
    "    atomID = root[0].text\n",
    "    atomIDs.append(atomID)\n",
    "    attribute = tag.attrib['url'] \n",
    "    attributes.append(attribute)"
   ]
  },
  {
   "cell_type": "code",
   "execution_count": null,
   "id": "ef070f91-63fa-4b9a-a936-757a17bf0300",
   "metadata": {},
   "outputs": [],
   "source": [
    "img_list = list(zip(atomIDs, attributes))"
   ]
  },
  {
   "cell_type": "code",
   "execution_count": null,
   "id": "87252f07-ebb2-4a25-82d3-9fa84eb1c29d",
   "metadata": {},
   "outputs": [],
   "source": [
    "df = pd.DataFrame(img_list).rename(columns={0: 'atomID', 1: 'url'})\n",
    "df"
   ]
  },
  {
   "cell_type": "markdown",
   "id": "0d410720-fb1b-4cf6-a9c5-d38993409b80",
   "metadata": {},
   "source": [
    "# get atomID and graphicURL into .csv from a collection using scandir ✔\n",
    "- without subdirectories\n",
    "- only charters with images"
   ]
  },
  {
   "cell_type": "code",
   "execution_count": null,
   "id": "3a343e28-78ea-4d9c-a836-9895c0f54da7",
   "metadata": {},
   "outputs": [],
   "source": [
    "import os\n",
    "import xml.etree.ElementTree as ET\n",
    "import pandas as pd\n",
    "from pathlib import PurePath"
   ]
  },
  {
   "cell_type": "code",
   "execution_count": null,
   "id": "98915957-90c9-4a64-b677-b6ea746ac973",
   "metadata": {},
   "outputs": [],
   "source": [
    "namespaces = {'atom': 'http://www.w3.org/2005/Atom', 'cei': 'http://www.monasterium.net/NS/cei'}\n",
    "directoryPath = '../data/db/mom-data/metadata.charter.public/BischoefeSpeyer/'\n",
    "extension = ('.cei.xml')"
   ]
  },
  {
   "cell_type": "code",
   "execution_count": null,
   "id": "cebabe95-bb29-47a5-b37f-a38bf9f60215",
   "metadata": {},
   "outputs": [],
   "source": [
    "atomIDs = []\n",
    "attributes = []\n",
    "\n",
    "with os.scandir(directoryPath) as it:\n",
    "    for entry in it:\n",
    "        if entry.name.endswith(extension) and entry.is_file():\n",
    "            tree = ET.parse(entry.path)\n",
    "            root = tree.getroot()\n",
    "            for tag in root.findall('.//cei:graphic', namespaces):\n",
    "                atomID = root[0].text\n",
    "                atomIDs.append(atomID)\n",
    "                attribute = tag.attrib['url'] \n",
    "                attributes.append(attribute)"
   ]
  },
  {
   "cell_type": "code",
   "execution_count": null,
   "id": "5a5e4e82-ca08-422b-aea5-037c9a11aa44",
   "metadata": {},
   "outputs": [],
   "source": [
    "img_list = list(zip(atomIDs, attributes))\n",
    "df = pd.DataFrame(img_list).rename(columns={0: 'atomID', 1: 'url'})\n",
    "df"
   ]
  },
  {
   "cell_type": "code",
   "execution_count": null,
   "id": "091bb06c-2b6e-4b5c-b9fa-c48b58a77be2",
   "metadata": {},
   "outputs": [],
   "source": [
    "path = PurePath(directoryPath)\n",
    "pathname = path.name"
   ]
  },
  {
   "cell_type": "code",
   "execution_count": null,
   "id": "b247ce36-95c5-4c90-9b4c-df75dea335a0",
   "metadata": {},
   "outputs": [],
   "source": [
    "df.to_csv(f'../data/output/{pathname}.csv', index=False)"
   ]
  },
  {
   "cell_type": "markdown",
   "id": "791962b3-072a-424f-8038-70c3ae7a9a42",
   "metadata": {
    "tags": []
   },
   "source": [
    "# 👑 get atomID and graphicURL into .csv from multiple collections ✔\n",
    "- includes subdirectories\n",
    "- fast, still takes several minutes for whole mom-dump"
   ]
  },
  {
   "cell_type": "code",
   "execution_count": null,
   "id": "1fa98a6e-2fef-4f49-8a4e-915b01f17de4",
   "metadata": {},
   "outputs": [],
   "source": [
    "from pathlib import Path\n",
    "from pathlib import PurePath\n",
    "import xml.etree.ElementTree as ET\n",
    "import pandas as pd"
   ]
  },
  {
   "cell_type": "code",
   "execution_count": null,
   "id": "c27e5ca6-71c7-4457-92c4-4419f3b3288d",
   "metadata": {},
   "outputs": [],
   "source": [
    "namespaces = {'atom': 'http://www.w3.org/2005/Atom', 'cei': 'http://www.monasterium.net/NS/cei'}\n",
    "directoryPath = '\\\\\\?/'+'C://Users/atzenhof/playground/GitHub/didip/data/db/mom-data/metadata.charter.public/' # escape needed for subdirectory paths longer than system allows for\n",
    "fileExtension = ('*.cei.xml')"
   ]
  },
  {
   "cell_type": "code",
   "execution_count": null,
   "id": "99cbdd7f-54ef-465c-93f5-7f70150b84c3",
   "metadata": {},
   "outputs": [],
   "source": [
    "atomIDs = []\n",
    "attributes = []\n",
    "\n",
    "for file in Path(directoryPath).rglob(fileExtension):\n",
    "    tree = ET.parse(file) # parsing does not consider utf-8 specific symbols (such as long dash); needs postcorrection\n",
    "    root = tree.getroot()\n",
    "    for tag in root.findall('.//cei:graphic', namespaces):\n",
    "        atomID = root[0].text\n",
    "        atomIDs.append(atomID)\n",
    "        if 'url' in tag.attrib:\n",
    "            attribute = tag.attrib['url'] \n",
    "            attributes.append(attribute)\n",
    "        else:\n",
    "            continue"
   ]
  },
  {
   "cell_type": "code",
   "execution_count": null,
   "id": "a911bc20-858e-4b77-afa0-3fd70de334ee",
   "metadata": {},
   "outputs": [],
   "source": [
    "img_list = list(zip(atomIDs, attributes))\n",
    "df = pd.DataFrame(img_list).rename(columns={0: 'atomID', 1: 'url'})\n",
    "df"
   ]
  },
  {
   "cell_type": "code",
   "execution_count": null,
   "id": "6c852bab-4681-42b0-9571-3560afe5637b",
   "metadata": {},
   "outputs": [],
   "source": [
    "pathname = PurePath(directoryPath).name\n",
    "df.to_csv(f'../data/output/{pathname}.csv', index=False)\n",
    "#df_links = df[df['url'].str.contains(\"http://\")]\n",
    "#df_links.to_csv(f'links_{pathname}.csv', index=False)"
   ]
  },
  {
   "cell_type": "markdown",
   "id": "71ff29f8-6078-4740-82c7-cbe2d211d90d",
   "metadata": {},
   "source": [
    "# 👑 transform referential img-.xml file(s) into csv using lxml ✔"
   ]
  },
  {
   "cell_type": "code",
   "execution_count": null,
   "id": "25c73a72-217d-4aa8-807f-596554c2b845",
   "metadata": {},
   "outputs": [],
   "source": [
    "from pathlib import PurePath\n",
    "from pathlib import Path\n",
    "from lxml import etree #lxml since xml.etree.ElementTree does not have full xpath support (no getparent() after using find/findall())\n",
    "import pandas as pd"
   ]
  },
  {
   "cell_type": "code",
   "execution_count": null,
   "id": "d48398b5-5cc4-4d3f-a9c0-72a1a4d7d5ea",
   "metadata": {},
   "outputs": [],
   "source": [
    "namespaces = {'atom': 'http://www.w3.org/2005/Atom', 'cei': 'http://www.monasterium.net/NS/cei'}\n",
    "directoryPath = '\\\\\\?/'+'C://Users/atzenhof/playground/GitHub/didip/data/images_xml' # path escape due to long path\n",
    "fileExtension = ('*.xml')"
   ]
  },
  {
   "cell_type": "code",
   "execution_count": null,
   "id": "f6a91c6a-f1da-4198-96d4-dcac0dc73dd4",
   "metadata": {},
   "outputs": [],
   "source": [
    "atomIDs = []\n",
    "image_links = []\n",
    "\n",
    "for file in Path(directoryPath).rglob(fileExtension):\n",
    "    tree = etree.parse(str(file)) # requres conversion to str since lxml does not vibe with windowspath\n",
    "    root = tree.getroot()\n",
    "    for img in root.findall('.//img', namespaces):\n",
    "        atomID = img.getparent().attrib['id']\n",
    "        atomIDs.append(atomID)\n",
    "        image_link = img.attrib['src']\n",
    "        image_links.append(image_link)"
   ]
  },
  {
   "cell_type": "code",
   "execution_count": null,
   "id": "424c2fd2-72df-4566-a7d5-b5378d0d0c1f",
   "metadata": {},
   "outputs": [],
   "source": [
    "img_list = list(zip(atomIDs, image_links))\n",
    "df = pd.DataFrame(img_list).rename(columns={0: 'atomID', 1: 'url'})\n",
    "df"
   ]
  },
  {
   "cell_type": "code",
   "execution_count": null,
   "id": "2318d580-302d-4fba-bc19-e3f0340c3484",
   "metadata": {},
   "outputs": [],
   "source": [
    "pathname = PurePath(directoryPath).name\n",
    "df.to_csv(f'../data/output/{pathname}.csv', index=False)"
   ]
  },
  {
   "cell_type": "markdown",
   "id": "46e72cb0-4a4e-4b2c-8e25-b9046f3fb805",
   "metadata": {},
   "source": [
    "# lists atomIDs of all charters in folder [mom-dump] including images\n",
    "## to do\n",
    "- add exception for image link (if it is empty)"
   ]
  },
  {
   "cell_type": "code",
   "execution_count": null,
   "id": "c3194a5c-8e29-483b-82da-a26b4efa79ce",
   "metadata": {},
   "outputs": [],
   "source": [
    "from pathlib import Path\n",
    "from pathlib import PurePath\n",
    "import xml.etree.ElementTree as ET\n",
    "import pandas as pd"
   ]
  },
  {
   "cell_type": "code",
   "execution_count": null,
   "id": "aa108e30-1051-46a7-94c5-b1d5b7e11170",
   "metadata": {},
   "outputs": [],
   "source": [
    "namespaces = {'atom': 'http://www.w3.org/2005/Atom', 'cei': 'http://www.monasterium.net/NS/cei'}\n",
    "directoryPath = '\\\\\\?/'+'C://Users/atzenhof/playground/GitHub/didip/data/db_subset_for_test' # escape needed for subdirectory paths longer than system allows for\n",
    "fileExtension = ('*.cei.xml')"
   ]
  },
  {
   "cell_type": "code",
   "execution_count": null,
   "id": "ab859573-2414-4e02-a341-78cf086bda3f",
   "metadata": {},
   "outputs": [],
   "source": [
    "print(directoryPath)"
   ]
  },
  {
   "cell_type": "code",
   "execution_count": null,
   "id": "b1b27343-3132-4e7b-86c6-fedc7de45c95",
   "metadata": {},
   "outputs": [],
   "source": [
    "atomIDs = []\n",
    "attributes = []\n",
    "\n",
    "for file in Path(directoryPath).rglob(fileExtension):\n",
    "    tree = ET.parse(file) # parsing does not consider utf-8 specific symbols (such as long dash); needs postcorrection\n",
    "    root = tree.getroot()\n",
    "    for tag in root.findall('.//cei:graphic', namespaces):\n",
    "        atomID = root[0].text\n",
    "        atomIDs.append(atomID)\n",
    "        if 'url' in tag.attrib:\n",
    "            attribute = tag.attrib['url'] \n",
    "            attributes.append(attribute)\n",
    "        else:\n",
    "            attribute = \"\"\n",
    "            attributes.append(attribute)"
   ]
  },
  {
   "cell_type": "code",
   "execution_count": null,
   "id": "1fd8ea8f-ed45-44bf-afe4-f7dc04909eea",
   "metadata": {},
   "outputs": [],
   "source": [
    "img_list = list(zip(atomIDs, attributes))\n",
    "df = pd.DataFrame(img_list).rename(columns={0: 'atomID', 1: 'url'})\n",
    "df"
   ]
  },
  {
   "cell_type": "markdown",
   "id": "af744733-eefe-40e4-b917-e1bad8a918c4",
   "metadata": {},
   "source": [
    "bei else: continue .. 12406 rows\n",
    "\n",
    "bei else: attribute = \"\" .. 12405 rows"
   ]
  },
  {
   "cell_type": "code",
   "execution_count": null,
   "id": "05e7b4f8-868b-4be7-a241-5f623ee2d28a",
   "metadata": {},
   "outputs": [],
   "source": [
    "pathname = PurePath(directoryPath).name\n",
    "df.to_csv(f'../data/output/{pathname}.csv', index=False)\n",
    "\n",
    "df_noURLs = df[df['url'].astype(bool)]\n",
    "\n",
    "df_noURLs.to_csv(f'../data/output/{pathname}_nourls.csv'\n",
    "    f'{pathname}_noURLs.csv', index=False)"
   ]
  },
  {
   "cell_type": "markdown",
   "id": "cc566458-6faa-4346-8b81-1192deb95cff",
   "metadata": {},
   "source": [
    "# filter by image at monasterium"
   ]
  },
  {
   "cell_type": "code",
   "execution_count": null,
   "id": "988095af-610e-45fd-ac24-86ada2bda515",
   "metadata": {},
   "outputs": [],
   "source": [
    "import pandas as pd\n",
    "\n",
    "#df_links = df[df['url'].str.contains(\"http://\")]\n",
    "#df_links.to_csv(f'links_{pathname}.csv', index=False)"
   ]
  },
  {
   "cell_type": "code",
   "execution_count": null,
   "id": "e6e21700-70b9-4078-8b0c-212f0d78f8c6",
   "metadata": {},
   "outputs": [],
   "source": [
    "df = pd.read_csv('../data/output/metadata.charter.public.csv')"
   ]
  },
  {
   "cell_type": "code",
   "execution_count": null,
   "id": "b47119de-9f0e-4fdc-98c3-d949f064f020",
   "metadata": {},
   "outputs": [],
   "source": [
    "df"
   ]
  },
  {
   "cell_type": "code",
   "execution_count": null,
   "id": "ab6b8935-47fd-471b-86ef-dbbbf75d42cd",
   "metadata": {},
   "outputs": [],
   "source": [
    "df_withMomLinks = df[df['url'].str.contains(\"images.monasterium.net\", na=False)]\n",
    "df_withMomLinks.to_csv(f'../data/output/df_withMomLinks.csv', index=False)"
   ]
  },
  {
   "cell_type": "code",
   "execution_count": null,
   "id": "fdc7f5e3-7990-4338-9fbf-ec344d5f1dcb",
   "metadata": {},
   "outputs": [],
   "source": [
    "df_withMomLinks"
   ]
  },
  {
   "cell_type": "markdown",
   "id": "2436c36b-7187-4d4b-bb5b-b43e52231fc7",
   "metadata": {},
   "source": [
    "# transform transcriptions-ref using lxml\n",
    "\n",
    "## to do\n",
    "- important: make xpath expressions more conrete (with subdirectories)\n",
    "- for all cei:tenor strings: tenor + atom-id + issued cei date and place -> df (merge dataframe column based on row value ... google)\n",
    "- derive country (when?) from cei:placename in cei:issued"
   ]
  },
  {
   "cell_type": "code",
   "execution_count": null,
   "id": "885eb334-4eaf-4750-81a3-4c1ee6238349",
   "metadata": {},
   "outputs": [],
   "source": [
    "from pathlib import PurePath\n",
    "from pathlib import Path\n",
    "from lxml import etree #lxml since xml.etree.ElementTree does not have full xpath support (no getparent() after using find/findall())\n",
    "import pandas as pd"
   ]
  },
  {
   "cell_type": "code",
   "execution_count": null,
   "id": "908d6b75-c0c8-4e4a-ac44-7e13b278177b",
   "metadata": {},
   "outputs": [],
   "source": [
    "namespaces = {'atom': 'http://www.w3.org/2005/Atom', 'cei': 'http://www.monasterium.net/NS/cei'}\n",
    "directoryPath = '\\\\\\?/'+'C://Users/atzenhof/playground/GitHub/didip/data/db_subset_for_test/transcriptions-ref'# escape needed for subdirectory paths longer than system allows for\n",
    "fileExtension = ('*.cei.xml')"
   ]
  },
  {
   "cell_type": "code",
   "execution_count": null,
   "id": "06b850b3-0a71-41d4-bdfe-48d446ca5380",
   "metadata": {},
   "outputs": [],
   "source": [
    "tenor_contents = []\n",
    "atomIDs = []\n",
    "\n",
    "for file in Path(directoryPath).rglob(fileExtension):\n",
    "    tree = etree.parse(str(file)) # requires conversion to str since lxml does not vibe with windowspath\n",
    "    root = tree.getroot()\n",
    "    for tenor in root.findall('.//cei:tenor', namespaces):    \n",
    "        tenor_content = tenor.getchildren()\n",
    "        tenor_contents.append(tenor_content)\n",
    "        atomID = root[0].text\n",
    "        atomIDs.append(atomID)"
   ]
  },
  {
   "cell_type": "code",
   "execution_count": null,
   "id": "91a7f8c2-4915-4f06-974c-8649f371ca56",
   "metadata": {},
   "outputs": [],
   "source": [
    "tenor_list = list(zip(atomIDs, tenor_contents))\n",
    "df = pd.DataFrame(tenor_list).rename(columns={0: 'atomID', 1: 'tenor_content'})\n",
    "df"
   ]
  },
  {
   "cell_type": "code",
   "execution_count": null,
   "id": "cd2fd1d7-49fc-43ac-898f-345edf63ecdc",
   "metadata": {},
   "outputs": [],
   "source": [
    "pathname = PurePath(directoryPath).name\n",
    "df.to_csv(f'../data/output/transcriptions-ref_{pathname}.csv', index=False)"
   ]
  },
  {
   "cell_type": "markdown",
   "id": "326232ee-8351-4c14-bd60-6b3d3415c187",
   "metadata": {},
   "source": [
    "## single file"
   ]
  },
  {
   "cell_type": "code",
   "execution_count": null,
   "id": "a3c9c44c-bf6d-445b-9422-ca7fa5f68406",
   "metadata": {},
   "outputs": [],
   "source": [
    "from pathlib import PurePath\n",
    "from pathlib import Path\n",
    "from lxml import etree #lxml since xml.etree.ElementTree does not have full xpath support (no getparent() after using find/findall())\n",
    "import pandas as pd"
   ]
  },
  {
   "cell_type": "code",
   "execution_count": null,
   "id": "2071efd0-5438-432b-b899-f9bde136a740",
   "metadata": {},
   "outputs": [],
   "source": [
    "namespaces = {'atom': 'http://www.w3.org/2005/Atom', 'cei': 'http://www.monasterium.net/NS/cei'}\n",
    "file = '\\\\\\?/'+'C://Users/atzenhof/playground/GitHub/didip/data/db_subset_for_test/transcriptions-ref/1380_I_30.cei.xml'# escape needed for subdirectory paths longer than system allows for\n",
    "fileExtension = ('*.cei.xml')"
   ]
  },
  {
   "cell_type": "code",
   "execution_count": null,
   "id": "6a6dbeac-5ecd-4547-813a-6cf5f9e151ec",
   "metadata": {},
   "outputs": [],
   "source": [
    "tenor_contents = []\n",
    "atomIDs = []\n",
    "dates_custom = []\n",
    "dates_formal = []\n",
    "dates_to = []\n",
    "places = []\n",
    "languages = []\n",
    "\n",
    "tree = etree.parse(str(file)) # requires conversion to str since lxml does not vibe with windowspath\n",
    "root = tree.getroot()\n",
    "\n",
    "for tenor in root.findall('.//cei:tenor', namespaces): #or maybe for tenor in root.find('.//atom:content/cei:text/cei:body/cei:tenor', namespaces):\n",
    "    atomIDs.append(root[0].text)\n",
    "    tenor_contents.append(etree.tostring(tenor).decode('utf-8'))\n",
    "    place = root.find('.//cei:placeName', namespaces)\n",
    "    places.append(place.text)\n",
    "    language = root.find('.//cei:lang_MOM', namespaces)\n",
    "    languages.append(language.text)\n",
    "    if root.find('.//cei:date', namespaces) is not None:\n",
    "        dates_custom.append(root.find('.//cei:date', namespaces).text)\n",
    "    elif root.find('.//cei:dateRange', namespaces) is not None:\n",
    "        dates_to.append((root.find('.//cei:dateRange', namespaces).attrib['to']))\n"
   ]
  },
  {
   "cell_type": "code",
   "execution_count": null,
   "id": "f3667c88-4014-42c4-b212-a0108ab8621d",
   "metadata": {},
   "outputs": [],
   "source": []
  },
  {
   "cell_type": "code",
   "execution_count": null,
   "id": "be44dc2f-7000-444e-932d-15a03a4fae98",
   "metadata": {},
   "outputs": [],
   "source": [
    "tenor_list = list(zip(atomIDs, tenor_contents, places, languages, dates_to))\n",
    "df = pd.DataFrame(tenor_list).rename(columns={0: 'atomID', 1: 'tenor_content', 2: 'place', 3: 'language', 4: 'dates_to'})\n",
    "df"
   ]
  },
  {
   "cell_type": "markdown",
   "id": "4179dbda-f006-44b0-8a8b-1cafa6599ae9",
   "metadata": {},
   "source": [
    "## collection"
   ]
  },
  {
   "cell_type": "code",
   "execution_count": null,
   "id": "5fa43ea3-6ef6-454d-b653-075d15d60022",
   "metadata": {},
   "outputs": [],
   "source": [
    "from pathlib import PurePath\n",
    "from pathlib import Path\n",
    "from lxml import etree #lxml since xml.etree.ElementTree does not have full xpath support (no getparent() after using find/findall())\n",
    "import pandas as pd"
   ]
  },
  {
   "cell_type": "code",
   "execution_count": null,
   "id": "548e55a3-8717-479f-9514-f4c6d4c97d5c",
   "metadata": {},
   "outputs": [],
   "source": [
    "namespaces = {'atom': 'http://www.w3.org/2005/Atom', 'cei': 'http://www.monasterium.net/NS/cei'}\n",
    "directoryPath = '\\\\\\?/'+'C://Users/atzenhof/playground/GitHub/didip/data/db_subset_for_test/transcriptions-ref'# escape needed for subdirectory paths longer than system allows for\n",
    "#directoryPath = '\\\\\\?/'+'C://Users/atzenhof/playground/GitHub/didip/data/db/mom-data/metadata.charter.public'# escape needed for subdirectory paths longer than system allows forfileExtension = ('*.cei.xml')\n",
    "fileExtension = ('*.cei.xml')"
   ]
  },
  {
   "cell_type": "code",
   "execution_count": null,
   "id": "5401f021-e14c-4903-8a50-f91858f49590",
   "metadata": {},
   "outputs": [],
   "source": [
    "#\n",
    "#\n",
    "#\n",
    "# gives around 4300 results which is much less than 70000 that should be here\n",
    "\n",
    "tenor_contents = []\n",
    "atomIDs = []\n",
    "dates_custom = []\n",
    "dates_from = []\n",
    "places = []\n",
    "languages = []\n",
    "\n",
    "for file in Path(directoryPath).rglob(fileExtension):\n",
    "    tree = etree.parse(str(file)) # requires conversion to str since lxml does not vibe with windowspath\n",
    "    root = tree.getroot()\n",
    "    for tenor in root.findall('.//cei:tenor', namespaces): #or maybe for tenor in root.find('.//atom:content/cei:text/cei:body/cei:tenor', namespaces):\n",
    "        atomIDs.append(root[0].text)\n",
    "        tenor_contents.append(etree.tostring(tenor).decode('utf-8'))\n",
    "        if root.find('.//cei:placeName', namespaces) is not None:\n",
    "            places.append(root.find('.//cei:placeName', namespaces).text)\n",
    "        else:\n",
    "            continue\n",
    "        if root.find('.//cei:lang_MOM', namespaces) is not None:\n",
    "            languages.append(root.find('.//cei:lang_MOM', namespaces).text)\n",
    "        else:\n",
    "            continue\n",
    "        if root.find('.//cei:date', namespaces) is not None:\n",
    "            dates_custom.append(root.find('.//cei:date', namespaces).text) # OMG CUSTOM CEI:date IS HORRIBLE, have fun resolving VI. Kal. April. Anno dominice incarnationis M... and anno Domini Mo. CCCo. XLIIII. Ipsa die beati J...\n",
    "        else:\n",
    "            continue"
   ]
  },
  {
   "cell_type": "code",
   "execution_count": null,
   "id": "b8470c8a-77cd-43e2-8c1b-2d1fb2009553",
   "metadata": {},
   "outputs": [],
   "source": [
    "tenor_list = list(zip(atomIDs, tenor_contents, places, languages, dates_custom))\n",
    "df = pd.DataFrame(tenor_list).rename(columns={0: 'atomID', 1: 'tenor_content', 2: 'place', 3: 'language', 4: 'dates_from'})\n",
    "df"
   ]
  },
  {
   "cell_type": "markdown",
   "id": "aa2c6585-5347-4c3e-a4d9-1e02a387fdc8",
   "metadata": {},
   "source": [
    "# Attempt2 - reworked"
   ]
  },
  {
   "cell_type": "code",
   "execution_count": 5,
   "id": "3e6118a5-17eb-48d9-960b-fd1d78389e62",
   "metadata": {},
   "outputs": [],
   "source": [
    "from pathlib import PurePath\n",
    "from pathlib import Path\n",
    "from lxml import etree #lxml since xml.etree.ElementTree does not have full xpath support (no getparent() after using find/findall())\n",
    "import pandas as pd"
   ]
  },
  {
   "cell_type": "code",
   "execution_count": 9,
   "id": "0430a62f-45b7-413c-817f-c5863fbb6593",
   "metadata": {},
   "outputs": [],
   "source": [
    "namespaces = {'atom': 'http://www.w3.org/2005/Atom', 'cei': 'http://www.monasterium.net/NS/cei'}\n",
    "#directoryPath = '\\\\\\?/'+'C://Users/atzenhof/playground/GitHub/didip/data/db_subset_for_test/transcriptions-ref'# escape needed for subdirectory paths longer than system allows for\n",
    "directoryPath = '\\\\\\?/'+'C://Users/atzenhof/playground/GitHub/didip/data/db/mom-data/metadata.charter.public'# escape needed for subdirectory paths longer than system allows forfileExtension = ('*.cei.xml')\n",
    "fileExtension = ('*.cei.xml')"
   ]
  },
  {
   "cell_type": "code",
   "execution_count": 17,
   "id": "bf34bc50-44e4-459c-a475-2cb8e121cff4",
   "metadata": {},
   "outputs": [],
   "source": [
    "# takes 5-10min\n",
    "atomIDs = []\n",
    "tenor_contents = []\n",
    "places = []\n",
    "languages = []\n",
    "dates_custom = []\n",
    "dates_normalized = []\n",
    "dates_range = []\n",
    "dates_from = []\n",
    "dates_to = []\n",
    "\n",
    "for file in Path(directoryPath).rglob(fileExtension):\n",
    "    tree = etree.parse(str(file)) # requires conversion to str since lxml does not vibe with windowspath\n",
    "    root = tree.getroot()\n",
    "    for tenor in root.findall('.//cei:tenor', namespaces):\n",
    "        atomIDs.append(root[0].text)\n",
    "        tenor_contents.append(etree.tostring(tenor).decode('utf-8'))\n",
    "        if root.find('.//cei:placeName', namespaces) is not None:\n",
    "            places.append(root.find('.//cei:placeName', namespaces).text)\n",
    "        elif root.find('.//cei:placeName', namespaces) is None:\n",
    "            places.append(None)\n",
    "        if root.find('.//cei:lang_MOM', namespaces) is not None:\n",
    "            languages.append(root.find('.//cei:lang_MOM', namespaces).text)\n",
    "        elif root.find('.//cei:lang_MOM', namespaces) is None:\n",
    "            languages.append(None)\n",
    "        if root.find('.//cei:date', namespaces) is not None:\n",
    "            dates_custom.append(root.find('.//cei:date', namespaces).text)# OMG CUSTOM CEI:date IS HORRIBLE, have fun resolving VI. Kal. April. Anno dominice incarnationis M... or anno Domini Mo. CCCo. XLIIII. Ipsa die beati J...\n",
    "        elif root.find('.//cei:date', namespaces) is None:\n",
    "            dates_custom.append(None)\n",
    "        # if root.find('.//cei:date[@value]', namespaces) is not None:\n",
    "        #     dates_normalized.append(root.find('.//cei:date', namespaces).attrib['value'])\n",
    "        # elif root.find('.//cei:date[@value]', namespaces) is None:\n",
    "        #     dates_normalized.append(None)\n",
    "        if root.find('.//cei:dateRange', namespaces) is not None:\n",
    "            dates_range.append(root.find('.//cei:dateRange', namespaces).text)\n",
    "        elif root.find('.//cei:dateRange', namespaces) is None:\n",
    "            dates_range.append(None)\n",
    "        # if root.find('.//cei:dateRange[@from]', namespaces) is not None:\n",
    "        #     dates_from.append(root.find('.//cei:dateRange', namespaces).attrib['from'])\n",
    "        # elif root.find('.//cei:dateRange[@from]', namespaces) is None:\n",
    "        #     dates_from.append(None)\n",
    "        # if root.find('.//cei:dateRange[@to]', namespaces) is not None:\n",
    "        #     dates_to.append(root.find('.//cei:dateRange', namespaces).attrib['to'])\n",
    "        # elif root.find('.//cei:dateRange[@to]', namespaces) is None:\n",
    "        #     dates_to.append(None)"
   ]
  },
  {
   "cell_type": "code",
   "execution_count": null,
   "id": "cd0f9a4b-604a-47ce-8f7d-12e46b4340e3",
   "metadata": {},
   "outputs": [],
   "source": [
    "#error für date value attribut ab AT-KLA\n",
    "#error für dateRange from attribut ab AT-StiAR\n",
    "#error für dateRange to attribut ab AT-StiAR"
   ]
  },
  {
   "cell_type": "code",
   "execution_count": 19,
   "id": "c3168155-4dfb-4c97-98f3-8832f724371e",
   "metadata": {},
   "outputs": [
    {
     "data": {
      "text/html": [
       "<div>\n",
       "<style scoped>\n",
       "    .dataframe tbody tr th:only-of-type {\n",
       "        vertical-align: middle;\n",
       "    }\n",
       "\n",
       "    .dataframe tbody tr th {\n",
       "        vertical-align: top;\n",
       "    }\n",
       "\n",
       "    .dataframe thead th {\n",
       "        text-align: right;\n",
       "    }\n",
       "</style>\n",
       "<table border=\"1\" class=\"dataframe\">\n",
       "  <thead>\n",
       "    <tr style=\"text-align: right;\">\n",
       "      <th></th>\n",
       "      <th>atomID</th>\n",
       "      <th>tenor_content</th>\n",
       "      <th>place</th>\n",
       "      <th>language</th>\n",
       "      <th>dates_custom</th>\n",
       "      <th>dates_normalized</th>\n",
       "    </tr>\n",
       "  </thead>\n",
       "  <tbody>\n",
       "    <tr>\n",
       "      <th>0</th>\n",
       "      <td>tag:www.monasterium.net,2011:/charter/069622fc...</td>\n",
       "      <td>&lt;cei:tenor xmlns:cei=\"http://www.monasterium.n...</td>\n",
       "      <td>Napoli</td>\n",
       "      <td>None</td>\n",
       "      <td>None</td>\n",
       "      <td>1578 agosto 29</td>\n",
       "    </tr>\n",
       "    <tr>\n",
       "      <th>1</th>\n",
       "      <td>tag:www.monasterium.net,2011:/charter/069622fc...</td>\n",
       "      <td>&lt;cei:tenor xmlns:cei=\"http://www.monasterium.n...</td>\n",
       "      <td>Napoli</td>\n",
       "      <td>None</td>\n",
       "      <td>None</td>\n",
       "      <td>1268 ottobre 23</td>\n",
       "    </tr>\n",
       "    <tr>\n",
       "      <th>2</th>\n",
       "      <td>tag:www.monasterium.net,2011:/charter/069622fc...</td>\n",
       "      <td>&lt;cei:tenor xmlns:cei=\"http://www.monasterium.n...</td>\n",
       "      <td>Napoli</td>\n",
       "      <td>None</td>\n",
       "      <td>None</td>\n",
       "      <td>1127 febbraio 16</td>\n",
       "    </tr>\n",
       "    <tr>\n",
       "      <th>3</th>\n",
       "      <td>tag:www.monasterium.net,2011:/charter/069622fc...</td>\n",
       "      <td>&lt;cei:tenor xmlns:cei=\"http://www.monasterium.n...</td>\n",
       "      <td>Napoli</td>\n",
       "      <td>None</td>\n",
       "      <td>None</td>\n",
       "      <td>1518 marzo 3</td>\n",
       "    </tr>\n",
       "    <tr>\n",
       "      <th>4</th>\n",
       "      <td>tag:www.monasterium.net,2011:/charter/069622fc...</td>\n",
       "      <td>&lt;cei:tenor xmlns:cei=\"http://www.monasterium.n...</td>\n",
       "      <td>Napoli</td>\n",
       "      <td>None</td>\n",
       "      <td>None</td>\n",
       "      <td>1559 settembre 11</td>\n",
       "    </tr>\n",
       "    <tr>\n",
       "      <th>...</th>\n",
       "      <td>...</td>\n",
       "      <td>...</td>\n",
       "      <td>...</td>\n",
       "      <td>...</td>\n",
       "      <td>...</td>\n",
       "      <td>...</td>\n",
       "    </tr>\n",
       "    <tr>\n",
       "      <th>89528</th>\n",
       "      <td>tag:www.monasterium.net,2011:/charter/Wirtembe...</td>\n",
       "      <td>&lt;cei:tenor xmlns:cei=\"http://www.monasterium.n...</td>\n",
       "      <td>None</td>\n",
       "      <td>None</td>\n",
       "      <td>99999999</td>\n",
       "      <td>None</td>\n",
       "    </tr>\n",
       "    <tr>\n",
       "      <th>89529</th>\n",
       "      <td>tag:www.monasterium.net,2011:/charter/Wirtembe...</td>\n",
       "      <td>&lt;cei:tenor xmlns:cei=\"http://www.monasterium.n...</td>\n",
       "      <td>None</td>\n",
       "      <td>None</td>\n",
       "      <td>99999999</td>\n",
       "      <td>None</td>\n",
       "    </tr>\n",
       "    <tr>\n",
       "      <th>89530</th>\n",
       "      <td>tag:www.monasterium.net,2011:/charter/Wirtembe...</td>\n",
       "      <td>&lt;cei:tenor xmlns:cei=\"http://www.monasterium.n...</td>\n",
       "      <td>None</td>\n",
       "      <td>None</td>\n",
       "      <td>99999999</td>\n",
       "      <td>None</td>\n",
       "    </tr>\n",
       "    <tr>\n",
       "      <th>89531</th>\n",
       "      <td>tag:www.monasterium.net,2011:/charter/Wirtembe...</td>\n",
       "      <td>&lt;cei:tenor xmlns:cei=\"http://www.monasterium.n...</td>\n",
       "      <td>None</td>\n",
       "      <td>None</td>\n",
       "      <td>99999999</td>\n",
       "      <td>None</td>\n",
       "    </tr>\n",
       "    <tr>\n",
       "      <th>89532</th>\n",
       "      <td>tag:www.monasterium.net,2011:/charter/Wirtembe...</td>\n",
       "      <td>&lt;cei:tenor xmlns:cei=\"http://www.monasterium.n...</td>\n",
       "      <td>None</td>\n",
       "      <td>None</td>\n",
       "      <td>99999999</td>\n",
       "      <td>None</td>\n",
       "    </tr>\n",
       "  </tbody>\n",
       "</table>\n",
       "<p>89533 rows × 6 columns</p>\n",
       "</div>"
      ],
      "text/plain": [
       "                                                  atomID  \\\n",
       "0      tag:www.monasterium.net,2011:/charter/069622fc...   \n",
       "1      tag:www.monasterium.net,2011:/charter/069622fc...   \n",
       "2      tag:www.monasterium.net,2011:/charter/069622fc...   \n",
       "3      tag:www.monasterium.net,2011:/charter/069622fc...   \n",
       "4      tag:www.monasterium.net,2011:/charter/069622fc...   \n",
       "...                                                  ...   \n",
       "89528  tag:www.monasterium.net,2011:/charter/Wirtembe...   \n",
       "89529  tag:www.monasterium.net,2011:/charter/Wirtembe...   \n",
       "89530  tag:www.monasterium.net,2011:/charter/Wirtembe...   \n",
       "89531  tag:www.monasterium.net,2011:/charter/Wirtembe...   \n",
       "89532  tag:www.monasterium.net,2011:/charter/Wirtembe...   \n",
       "\n",
       "                                           tenor_content   place language  \\\n",
       "0      <cei:tenor xmlns:cei=\"http://www.monasterium.n...  Napoli     None   \n",
       "1      <cei:tenor xmlns:cei=\"http://www.monasterium.n...  Napoli     None   \n",
       "2      <cei:tenor xmlns:cei=\"http://www.monasterium.n...  Napoli     None   \n",
       "3      <cei:tenor xmlns:cei=\"http://www.monasterium.n...  Napoli     None   \n",
       "4      <cei:tenor xmlns:cei=\"http://www.monasterium.n...  Napoli     None   \n",
       "...                                                  ...     ...      ...   \n",
       "89528  <cei:tenor xmlns:cei=\"http://www.monasterium.n...    None     None   \n",
       "89529  <cei:tenor xmlns:cei=\"http://www.monasterium.n...    None     None   \n",
       "89530  <cei:tenor xmlns:cei=\"http://www.monasterium.n...    None     None   \n",
       "89531  <cei:tenor xmlns:cei=\"http://www.monasterium.n...    None     None   \n",
       "89532  <cei:tenor xmlns:cei=\"http://www.monasterium.n...    None     None   \n",
       "\n",
       "      dates_custom   dates_normalized  \n",
       "0             None     1578 agosto 29  \n",
       "1             None    1268 ottobre 23  \n",
       "2             None   1127 febbraio 16  \n",
       "3             None       1518 marzo 3  \n",
       "4             None  1559 settembre 11  \n",
       "...            ...                ...  \n",
       "89528     99999999               None  \n",
       "89529     99999999               None  \n",
       "89530     99999999               None  \n",
       "89531     99999999               None  \n",
       "89532     99999999               None  \n",
       "\n",
       "[89533 rows x 6 columns]"
      ]
     },
     "execution_count": 19,
     "metadata": {},
     "output_type": "execute_result"
    }
   ],
   "source": [
    "tenor_list = list(zip(atomIDs, tenor_contents, places, languages, dates_custom, dates_range))\n",
    "df = pd.DataFrame(tenor_list).rename(columns={0: 'atomID', 1: 'tenor_content', 2: 'place', 3: 'language', 4: 'dates_custom', 5: 'dates_normalized', 6: 'dates_range', 7: 'dates_from', 8: 'dates_to'})\n",
    "df"
   ]
  },
  {
   "cell_type": "code",
   "execution_count": null,
   "id": "53072c1e-b107-4dac-bc1e-ad1e97979008",
   "metadata": {},
   "outputs": [],
   "source": [
    "pathname = PurePath(directoryPath).name\n",
    "df.to_csv(f'../data/output/transcriptions_{pathname}.csv', index=False)"
   ]
  },
  {
   "cell_type": "code",
   "execution_count": 6,
   "id": "b55bf5e6-0c4d-4651-9a5d-eba8e3636c8e",
   "metadata": {},
   "outputs": [],
   "source": [
    "df = pd.read_csv('../data/output/transcriptions_metadata.charter.public.csv')"
   ]
  },
  {
   "cell_type": "code",
   "execution_count": 10,
   "id": "eda189ec-c1cc-4c6e-9070-a96060dc8c7a",
   "metadata": {},
   "outputs": [
    {
     "data": {
      "text/html": [
       "<div>\n",
       "<style scoped>\n",
       "    .dataframe tbody tr th:only-of-type {\n",
       "        vertical-align: middle;\n",
       "    }\n",
       "\n",
       "    .dataframe tbody tr th {\n",
       "        vertical-align: top;\n",
       "    }\n",
       "\n",
       "    .dataframe thead th {\n",
       "        text-align: right;\n",
       "    }\n",
       "</style>\n",
       "<table border=\"1\" class=\"dataframe\">\n",
       "  <thead>\n",
       "    <tr style=\"text-align: right;\">\n",
       "      <th></th>\n",
       "      <th>atomID</th>\n",
       "      <th>tenor_content</th>\n",
       "      <th>place</th>\n",
       "      <th>language</th>\n",
       "      <th>dates_custom</th>\n",
       "      <th>dates_normalized</th>\n",
       "    </tr>\n",
       "  </thead>\n",
       "  <tbody>\n",
       "    <tr>\n",
       "      <th>0</th>\n",
       "      <td>tag:www.monasterium.net,2011:/charter/AggOCart...</td>\n",
       "      <td>&lt;cei:tenor xmlns:cei=\"http://www.monasterium.n...</td>\n",
       "      <td>Rom</td>\n",
       "      <td>Latein</td>\n",
       "      <td>14. März 1287</td>\n",
       "      <td>NaN</td>\n",
       "    </tr>\n",
       "    <tr>\n",
       "      <th>1</th>\n",
       "      <td>tag:www.monasterium.net,2011:/charter/AggOCart...</td>\n",
       "      <td>&lt;cei:tenor xmlns:cei=\"http://www.monasterium.n...</td>\n",
       "      <td>Avignon</td>\n",
       "      <td>Latein</td>\n",
       "      <td>4. Juli 1318</td>\n",
       "      <td>NaN</td>\n",
       "    </tr>\n",
       "    <tr>\n",
       "      <th>2</th>\n",
       "      <td>tag:www.monasterium.net,2011:/charter/AggOCart...</td>\n",
       "      <td>&lt;cei:tenor xmlns:cei=\"http://www.monasterium.n...</td>\n",
       "      <td>Rom</td>\n",
       "      <td>Latein</td>\n",
       "      <td>3. April 1319</td>\n",
       "      <td>NaN</td>\n",
       "    </tr>\n",
       "    <tr>\n",
       "      <th>3</th>\n",
       "      <td>tag:www.monasterium.net,2011:/charter/AggOCart...</td>\n",
       "      <td>&lt;cei:tenor xmlns:cei=\"http://www.monasterium.n...</td>\n",
       "      <td>Wyenna</td>\n",
       "      <td>Latein</td>\n",
       "      <td>NaN</td>\n",
       "      <td>8. Apr. 1378 - 28. Apr. 1383</td>\n",
       "    </tr>\n",
       "    <tr>\n",
       "      <th>4</th>\n",
       "      <td>tag:www.monasterium.net,2011:/charter/AggOCart...</td>\n",
       "      <td>&lt;cei:tenor xmlns:cei=\"http://www.monasterium.n...</td>\n",
       "      <td>Aggsbach</td>\n",
       "      <td>Latein</td>\n",
       "      <td>12. Februar 1380</td>\n",
       "      <td>NaN</td>\n",
       "    </tr>\n",
       "    <tr>\n",
       "      <th>...</th>\n",
       "      <td>...</td>\n",
       "      <td>...</td>\n",
       "      <td>...</td>\n",
       "      <td>...</td>\n",
       "      <td>...</td>\n",
       "      <td>...</td>\n",
       "    </tr>\n",
       "    <tr>\n",
       "      <th>7851</th>\n",
       "      <td>tag:www.monasterium.net,2011:/charter/WaldCanR...</td>\n",
       "      <td>&lt;cei:tenor xmlns:cei=\"http://www.monasterium.n...</td>\n",
       "      <td>Wien (Wienne)</td>\n",
       "      <td>Latein</td>\n",
       "      <td>NaN</td>\n",
       "      <td>24. März 1359</td>\n",
       "    </tr>\n",
       "    <tr>\n",
       "      <th>7852</th>\n",
       "      <td>tag:www.monasterium.net,2011:/charter/WaldCanR...</td>\n",
       "      <td>&lt;cei:tenor xmlns:cei=\"http://www.monasterium.n...</td>\n",
       "      <td>Rom</td>\n",
       "      <td>Latein</td>\n",
       "      <td>NaN</td>\n",
       "      <td>13. Februar 1378</td>\n",
       "    </tr>\n",
       "    <tr>\n",
       "      <th>7853</th>\n",
       "      <td>tag:www.monasterium.net,2011:/charter/WaldCanR...</td>\n",
       "      <td>&lt;cei:tenor xmlns:cei=\"http://www.monasterium.n...</td>\n",
       "      <td>Wien</td>\n",
       "      <td>Latein</td>\n",
       "      <td>NaN</td>\n",
       "      <td>10. November 1378</td>\n",
       "    </tr>\n",
       "    <tr>\n",
       "      <th>7854</th>\n",
       "      <td>tag:www.monasterium.net,2011:/charter/WaldCanR...</td>\n",
       "      <td>&lt;cei:tenor xmlns:cei=\"http://www.monasterium.n...</td>\n",
       "      <td>Wittingau</td>\n",
       "      <td>Latein</td>\n",
       "      <td>NaN</td>\n",
       "      <td>4. Juni 1396</td>\n",
       "    </tr>\n",
       "    <tr>\n",
       "      <th>7855</th>\n",
       "      <td>tag:www.monasterium.net,2011:/charter/WaldCanR...</td>\n",
       "      <td>&lt;cei:tenor xmlns:cei=\"http://www.monasterium.n...</td>\n",
       "      <td>Rom</td>\n",
       "      <td>Latein</td>\n",
       "      <td>NaN</td>\n",
       "      <td>27. Jänner 1399</td>\n",
       "    </tr>\n",
       "  </tbody>\n",
       "</table>\n",
       "<p>7856 rows × 6 columns</p>\n",
       "</div>"
      ],
      "text/plain": [
       "                                                 atomID  \\\n",
       "0     tag:www.monasterium.net,2011:/charter/AggOCart...   \n",
       "1     tag:www.monasterium.net,2011:/charter/AggOCart...   \n",
       "2     tag:www.monasterium.net,2011:/charter/AggOCart...   \n",
       "3     tag:www.monasterium.net,2011:/charter/AggOCart...   \n",
       "4     tag:www.monasterium.net,2011:/charter/AggOCart...   \n",
       "...                                                 ...   \n",
       "7851  tag:www.monasterium.net,2011:/charter/WaldCanR...   \n",
       "7852  tag:www.monasterium.net,2011:/charter/WaldCanR...   \n",
       "7853  tag:www.monasterium.net,2011:/charter/WaldCanR...   \n",
       "7854  tag:www.monasterium.net,2011:/charter/WaldCanR...   \n",
       "7855  tag:www.monasterium.net,2011:/charter/WaldCanR...   \n",
       "\n",
       "                                          tenor_content          place  \\\n",
       "0     <cei:tenor xmlns:cei=\"http://www.monasterium.n...            Rom   \n",
       "1     <cei:tenor xmlns:cei=\"http://www.monasterium.n...        Avignon   \n",
       "2     <cei:tenor xmlns:cei=\"http://www.monasterium.n...            Rom   \n",
       "3     <cei:tenor xmlns:cei=\"http://www.monasterium.n...         Wyenna   \n",
       "4     <cei:tenor xmlns:cei=\"http://www.monasterium.n...       Aggsbach   \n",
       "...                                                 ...            ...   \n",
       "7851  <cei:tenor xmlns:cei=\"http://www.monasterium.n...  Wien (Wienne)   \n",
       "7852  <cei:tenor xmlns:cei=\"http://www.monasterium.n...            Rom   \n",
       "7853  <cei:tenor xmlns:cei=\"http://www.monasterium.n...           Wien   \n",
       "7854  <cei:tenor xmlns:cei=\"http://www.monasterium.n...      Wittingau   \n",
       "7855  <cei:tenor xmlns:cei=\"http://www.monasterium.n...            Rom   \n",
       "\n",
       "     language      dates_custom              dates_normalized  \n",
       "0      Latein     14. März 1287                           NaN  \n",
       "1      Latein      4. Juli 1318                           NaN  \n",
       "2      Latein     3. April 1319                           NaN  \n",
       "3      Latein               NaN  8. Apr. 1378 - 28. Apr. 1383  \n",
       "4      Latein  12. Februar 1380                           NaN  \n",
       "...       ...               ...                           ...  \n",
       "7851   Latein               NaN                 24. März 1359  \n",
       "7852   Latein               NaN              13. Februar 1378  \n",
       "7853   Latein               NaN             10. November 1378  \n",
       "7854   Latein               NaN                  4. Juni 1396  \n",
       "7855   Latein               NaN               27. Jänner 1399  \n",
       "\n",
       "[7856 rows x 6 columns]"
      ]
     },
     "execution_count": 10,
     "metadata": {},
     "output_type": "execute_result"
    }
   ],
   "source": [
    "df_language = df.loc[df['language'] == 'Latein']\n",
    "df_language.reset_index(drop=True, inplace=True)\n",
    "df_language"
   ]
  },
  {
   "cell_type": "code",
   "execution_count": 11,
   "id": "1c699ed1-d225-4fd2-94c5-9dfcb07c06d6",
   "metadata": {},
   "outputs": [],
   "source": [
    "charter_by_language = df.groupby(\"language\")[\"atomID\"].count()\n",
    "charter_by_place = df.groupby(\"place\")[\"atomID\"].count()"
   ]
  },
  {
   "cell_type": "code",
   "execution_count": 16,
   "id": "e2577773-bb7e-413b-882e-d53322bcc921",
   "metadata": {},
   "outputs": [
    {
     "data": {
      "text/plain": [
       "place\n",
       "Wien                     2188\n",
       "o. O.                    1517\n",
       "St. Gallen               1026\n",
       "Konstanz                  582\n",
       "Rom                       469\n",
       "                         ... \n",
       "Kolín (Colonia)             1\n",
       "Kolín                       1\n",
       "Kojetín                     1\n",
       "Koetweig                    1\n",
       "„apud Briderichingen“       1\n",
       "Name: atomID, Length: 5847, dtype: int64"
      ]
     },
     "execution_count": 16,
     "metadata": {},
     "output_type": "execute_result"
    }
   ],
   "source": [
    "charter_by_place.sort_values(ascending=False)\n",
    "#print(...to_string())"
   ]
  },
  {
   "cell_type": "code",
   "execution_count": 19,
   "id": "43cd9c00-5b71-4242-9e9c-849cfcbe1be2",
   "metadata": {},
   "outputs": [
    {
     "data": {
      "text/plain": [
       "language\n",
       "Deutsch                12425\n",
       "Latein                  7856\n",
       "lat.                    2932\n",
       "deutsch                  190\n",
       "Niederdeutsch            163\n",
       "                       ...  \n",
       "Latein, deutsch            1\n",
       "Latein, Deutsch            1\n",
       "Latein+Deutsch             1\n",
       "Latein und Deutsch.        1\n",
       "Nieder-/Oberdeutsch        1\n",
       "Name: atomID, Length: 91, dtype: int64"
      ]
     },
     "execution_count": 19,
     "metadata": {},
     "output_type": "execute_result"
    }
   ],
   "source": [
    "charter_by_language.sort_values(ascending=False)"
   ]
  },
  {
   "cell_type": "code",
   "execution_count": 20,
   "id": "6363a051-2742-4bce-9f6e-1f5a584270bd",
   "metadata": {},
   "outputs": [],
   "source": []
  },
  {
   "cell_type": "markdown",
   "id": "e43e5d5b-9d7b-433f-b930-739a7daf1a9b",
   "metadata": {},
   "source": [
    "# to do\n",
    "- fix redundancies in iteration; use iterator and maybe memory clearing\n",
    "- make distinction between pTenor and Tenor (so either there are multiple ptenors that are to be concatenated or there is one single tenor)\n",
    "- normalize (with regex) years based on multiple date tags given in the data dump\n",
    "- write dynamic code that distinguishes between tags and attributes (using lists, making it easier to choose elements that are desired; see https://stackoverflow.com/questions/23999801/creating-multiple-lists)\n",
    "- create somewhat normalized and performant mapping between element names in cei and csv/dict (e.g. tenor_content for cei:tenor/ptenor etc.)"
   ]
  }
 ],
 "metadata": {
  "kernelspec": {
   "display_name": "Python 3 (ipykernel)",
   "language": "python",
   "name": "python3"
  },
  "language_info": {
   "codemirror_mode": {
    "name": "ipython",
    "version": 3
   },
   "file_extension": ".py",
   "mimetype": "text/x-python",
   "name": "python",
   "nbconvert_exporter": "python",
   "pygments_lexer": "ipython3",
   "version": "3.9.7"
  }
 },
 "nbformat": 4,
 "nbformat_minor": 5
}
