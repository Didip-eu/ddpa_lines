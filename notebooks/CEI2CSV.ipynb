{
 "cells": [
  {
   "cell_type": "markdown",
   "id": "f7b15542-f253-494e-836e-3472ae77756a",
   "metadata": {
    "tags": []
   },
   "source": [
    "# Transformation of cei.xml into tabular data (monasterium-files)"
   ]
  },
  {
   "cell_type": "markdown",
   "id": "791962b3-072a-424f-8038-70c3ae7a9a42",
   "metadata": {
    "tags": []
   },
   "source": [
    "# 👑 get atomID and graphicURL into .csv from (all) collections ✔\n",
    "- includes subdirectories\n",
    "- fast, still takes several minutes for whole mom-dump"
   ]
  },
  {
   "cell_type": "code",
   "execution_count": null,
   "id": "1fa98a6e-2fef-4f49-8a4e-915b01f17de4",
   "metadata": {},
   "outputs": [],
   "source": [
    "from pathlib import Path\n",
    "from pathlib import PurePath\n",
    "import xml.etree.ElementTree as ET\n",
    "import pandas as pd"
   ]
  },
  {
   "cell_type": "code",
   "execution_count": null,
   "id": "c27e5ca6-71c7-4457-92c4-4419f3b3288d",
   "metadata": {},
   "outputs": [],
   "source": [
    "namespaces = {'atom': 'http://www.w3.org/2005/Atom', 'cei': 'http://www.monasterium.net/NS/cei'}\n",
    "directoryPath = '\\\\\\?/'+'C://Users/atzenhof/playground/GitHub/didip/data/db/mom-data/metadata.charter.public/' # escape needed for subdirectory paths longer than system allows for\n",
    "fileExtension = ('*.cei.xml')"
   ]
  },
  {
   "cell_type": "code",
   "execution_count": null,
   "id": "99cbdd7f-54ef-465c-93f5-7f70150b84c3",
   "metadata": {},
   "outputs": [],
   "source": [
    "atomIDs = []\n",
    "attributes = []\n",
    "\n",
    "for file in Path(directoryPath).rglob(fileExtension):\n",
    "    tree = ET.parse(file) # parsing does not consider utf-8 specific symbols (such as long dash); needs postcorrection\n",
    "    root = tree.getroot()\n",
    "    for tag in root.findall('.//cei:graphic', namespaces):\n",
    "        atomID = root[0].text\n",
    "        atomIDs.append(atomID)\n",
    "        if 'url' in tag.attrib:\n",
    "            attribute = tag.attrib['url'] \n",
    "            attributes.append(attribute)\n",
    "        else:\n",
    "            continue"
   ]
  },
  {
   "cell_type": "code",
   "execution_count": null,
   "id": "a911bc20-858e-4b77-afa0-3fd70de334ee",
   "metadata": {},
   "outputs": [],
   "source": [
    "img_list = list(zip(atomIDs, attributes))\n",
    "df = pd.DataFrame(img_list).rename(columns={0: 'atomID', 1: 'url'})\n",
    "df"
   ]
  },
  {
   "cell_type": "code",
   "execution_count": null,
   "id": "6c852bab-4681-42b0-9571-3560afe5637b",
   "metadata": {},
   "outputs": [],
   "source": [
    "pathname = PurePath(directoryPath).name\n",
    "df.to_csv(f'../data/output/{pathname}.csv', index=False)\n",
    "#df_links = df[df['url'].str.contains(\"http://\")]\n",
    "#df_links.to_csv(f'links_{pathname}.csv', index=False)"
   ]
  },
  {
   "cell_type": "markdown",
   "id": "71ff29f8-6078-4740-82c7-cbe2d211d90d",
   "metadata": {},
   "source": [
    "# 👑 transform referential img-.xml file(s) into csv using lxml ✔"
   ]
  },
  {
   "cell_type": "code",
   "execution_count": null,
   "id": "25c73a72-217d-4aa8-807f-596554c2b845",
   "metadata": {},
   "outputs": [],
   "source": [
    "from pathlib import PurePath\n",
    "from pathlib import Path\n",
    "from lxml import etree #lxml since xml.etree.ElementTree does not have full xpath support (no getparent() after using find/findall())\n",
    "import pandas as pd"
   ]
  },
  {
   "cell_type": "code",
   "execution_count": null,
   "id": "d48398b5-5cc4-4d3f-a9c0-72a1a4d7d5ea",
   "metadata": {},
   "outputs": [],
   "source": [
    "namespaces = {'atom': 'http://www.w3.org/2005/Atom', 'cei': 'http://www.monasterium.net/NS/cei'}\n",
    "directoryPath = '\\\\\\?/'+'C://Users/atzenhof/playground/GitHub/didip/data/images_xml' # path escape due to long path\n",
    "fileExtension = ('*.xml')"
   ]
  },
  {
   "cell_type": "code",
   "execution_count": null,
   "id": "f6a91c6a-f1da-4198-96d4-dcac0dc73dd4",
   "metadata": {},
   "outputs": [],
   "source": [
    "atomIDs = []\n",
    "image_links = []\n",
    "\n",
    "for file in Path(directoryPath).rglob(fileExtension):\n",
    "    tree = etree.parse(str(file)) # requres conversion to str since lxml does not vibe with windowspath\n",
    "    root = tree.getroot()\n",
    "    for img in root.findall('.//img', namespaces):\n",
    "        atomID = img.getparent().attrib['id']\n",
    "        atomIDs.append(atomID)\n",
    "        image_link = img.attrib['src']\n",
    "        image_links.append(image_link)"
   ]
  },
  {
   "cell_type": "code",
   "execution_count": null,
   "id": "424c2fd2-72df-4566-a7d5-b5378d0d0c1f",
   "metadata": {},
   "outputs": [],
   "source": [
    "img_list = list(zip(atomIDs, image_links))\n",
    "df = pd.DataFrame(img_list).rename(columns={0: 'atomID', 1: 'url'})\n",
    "df"
   ]
  },
  {
   "cell_type": "code",
   "execution_count": null,
   "id": "2318d580-302d-4fba-bc19-e3f0340c3484",
   "metadata": {},
   "outputs": [],
   "source": [
    "pathname = PurePath(directoryPath).name\n",
    "df.to_csv(f'../data/output/{pathname}.csv', index=False)"
   ]
  },
  {
   "cell_type": "markdown",
   "id": "46e72cb0-4a4e-4b2c-8e25-b9046f3fb805",
   "metadata": {},
   "source": [
    "# lists atomIDs of all charters in folder [mom-dump] including images\n",
    "## to do\n",
    "- add exception for image link (if it is empty)"
   ]
  },
  {
   "cell_type": "code",
   "execution_count": null,
   "id": "c3194a5c-8e29-483b-82da-a26b4efa79ce",
   "metadata": {},
   "outputs": [],
   "source": [
    "from pathlib import Path\n",
    "from pathlib import PurePath\n",
    "import xml.etree.ElementTree as ET\n",
    "import pandas as pd"
   ]
  },
  {
   "cell_type": "code",
   "execution_count": null,
   "id": "aa108e30-1051-46a7-94c5-b1d5b7e11170",
   "metadata": {},
   "outputs": [],
   "source": [
    "namespaces = {'atom': 'http://www.w3.org/2005/Atom', 'cei': 'http://www.monasterium.net/NS/cei'}\n",
    "directoryPath = '\\\\\\?/'+'C://Users/atzenhof/playground/GitHub/didip/data/db_subset_for_test' # escape needed for subdirectory paths longer than system allows for\n",
    "fileExtension = ('*.cei.xml')"
   ]
  },
  {
   "cell_type": "code",
   "execution_count": null,
   "id": "ab859573-2414-4e02-a341-78cf086bda3f",
   "metadata": {},
   "outputs": [],
   "source": [
    "print(directoryPath)"
   ]
  },
  {
   "cell_type": "code",
   "execution_count": null,
   "id": "b1b27343-3132-4e7b-86c6-fedc7de45c95",
   "metadata": {},
   "outputs": [],
   "source": [
    "atomIDs = []\n",
    "attributes = []\n",
    "\n",
    "for file in Path(directoryPath).rglob(fileExtension):\n",
    "    tree = ET.parse(file) # parsing does not consider utf-8 specific symbols (such as long dash); needs postcorrection\n",
    "    root = tree.getroot()\n",
    "    for tag in root.findall('.//cei:graphic', namespaces):\n",
    "        atomID = root[0].text\n",
    "        atomIDs.append(atomID)\n",
    "        if 'url' in tag.attrib:\n",
    "            attribute = tag.attrib['url'] \n",
    "            attributes.append(attribute)\n",
    "        else:\n",
    "            attribute = \"\"\n",
    "            attributes.append(attribute)"
   ]
  },
  {
   "cell_type": "code",
   "execution_count": null,
   "id": "1fd8ea8f-ed45-44bf-afe4-f7dc04909eea",
   "metadata": {},
   "outputs": [],
   "source": [
    "img_list = list(zip(atomIDs, attributes))\n",
    "df = pd.DataFrame(img_list).rename(columns={0: 'atomID', 1: 'url'})\n",
    "df"
   ]
  },
  {
   "cell_type": "markdown",
   "id": "af744733-eefe-40e4-b917-e1bad8a918c4",
   "metadata": {},
   "source": [
    "bei else: continue .. 12406 rows\n",
    "\n",
    "bei else: attribute = \"\" .. 12405 rows"
   ]
  },
  {
   "cell_type": "code",
   "execution_count": null,
   "id": "05e7b4f8-868b-4be7-a241-5f623ee2d28a",
   "metadata": {},
   "outputs": [],
   "source": [
    "pathname = PurePath(directoryPath).name\n",
    "df.to_csv(f'../data/output/{pathname}.csv', index=False)\n",
    "\n",
    "df_noURLs = df[df['url'].astype(bool)]\n",
    "\n",
    "df_noURLs.to_csv(f'../data/output/{pathname}_nourls.csv'\n",
    "    f'{pathname}_noURLs.csv', index=False)"
   ]
  },
  {
   "cell_type": "markdown",
   "id": "cc566458-6faa-4346-8b81-1192deb95cff",
   "metadata": {},
   "source": [
    "# filter by image at monasterium"
   ]
  },
  {
   "cell_type": "code",
   "execution_count": null,
   "id": "988095af-610e-45fd-ac24-86ada2bda515",
   "metadata": {},
   "outputs": [],
   "source": [
    "import pandas as pd\n",
    "\n",
    "#df_links = df[df['url'].str.contains(\"http://\")]\n",
    "#df_links.to_csv(f'links_{pathname}.csv', index=False)"
   ]
  },
  {
   "cell_type": "code",
   "execution_count": null,
   "id": "e6e21700-70b9-4078-8b0c-212f0d78f8c6",
   "metadata": {},
   "outputs": [],
   "source": [
    "df = pd.read_csv('../data/output/metadata.charter.public.csv')"
   ]
  },
  {
   "cell_type": "code",
   "execution_count": null,
   "id": "b47119de-9f0e-4fdc-98c3-d949f064f020",
   "metadata": {},
   "outputs": [],
   "source": [
    "df"
   ]
  },
  {
   "cell_type": "code",
   "execution_count": null,
   "id": "ab6b8935-47fd-471b-86ef-dbbbf75d42cd",
   "metadata": {},
   "outputs": [],
   "source": [
    "df_withMomLinks = df[df['url'].str.contains(\"images.monasterium.net\", na=False)]\n",
    "df_withMomLinks.to_csv(f'../data/output/df_withMomLinks.csv', index=False)"
   ]
  },
  {
   "cell_type": "code",
   "execution_count": null,
   "id": "fdc7f5e3-7990-4338-9fbf-ec344d5f1dcb",
   "metadata": {},
   "outputs": [],
   "source": [
    "df_withMomLinks"
   ]
  },
  {
   "cell_type": "markdown",
   "id": "2436c36b-7187-4d4b-bb5b-b43e52231fc7",
   "metadata": {},
   "source": [
    "# transform transcriptions-ref using lxml\n",
    "\n",
    "## to do\n",
    "- maybe when using xpath make them more concrete (with subdirectories) (fix redundancies in iteration; use iterator and maybe memory clearing)\n",
    "- discuss distinction between pTenor and Tenor (so either there are multiple ptenors to be concatenated or there is one single tenor)\n",
    "- normalize (with regex) years based on multiple date tags given in the data dump\n",
    "- write dynamic code that distinguishes between tags and attributes (using dynamic list creation, making it easier to choose elements that are desired; see https://stackoverflow.com/questions/23999801/creating-multiple-lists)\n",
    "- create somewhat normalized and performant mapping between element names in cei and csv/dict (e.g. tenor_content for cei:tenor/ptenor etc.)"
   ]
  },
  {
   "cell_type": "markdown",
   "id": "326232ee-8351-4c14-bd60-6b3d3415c187",
   "metadata": {},
   "source": [
    "## collection (to optimize)"
   ]
  },
  {
   "cell_type": "markdown",
   "id": "3e1dc8e0-e6c7-4b2a-8223-fc6dcf262dad",
   "metadata": {},
   "source": []
  },
  {
   "cell_type": "code",
   "execution_count": 41,
   "id": "a3c9c44c-bf6d-445b-9422-ca7fa5f68406",
   "metadata": {},
   "outputs": [],
   "source": [
    "from pathlib import PurePath\n",
    "from pathlib import Path\n",
    "from lxml import etree\n",
    "import pandas as pd"
   ]
  },
  {
   "cell_type": "code",
   "execution_count": 42,
   "id": "2071efd0-5438-432b-b899-f9bde136a740",
   "metadata": {},
   "outputs": [],
   "source": [
    "namespaces = {'atom': 'http://www.w3.org/2005/Atom', 'cei': 'http://www.monasterium.net/NS/cei'}\n",
    "#directoryPath = '\\\\\\?/'+'C://Users/atzenhof/playground/GitHub/didip/data/db_subset_for_test/transcriptions-ref'# escape needed for subdirectory paths longer than system allows for\n",
    "directoryPath = '\\\\\\?/'+'C://Users/atzenhof/playground/GitHub/didip/data/db_subset_for_test/transcriptions-ref/AFM/'# escape needed for subdirectory paths longer than system allows for\n",
    "#directoryPath = '\\\\\\?/'+'C://Users/atzenhof/playground/GitHub/didip/data/db/mom-data/metadata.charter.public'# escape needed for subdirectory paths longer than system allows forfileExtension = ('*.cei.xml')\n",
    "fileExtension = ('*.cei.xml')"
   ]
  },
  {
   "cell_type": "code",
   "execution_count": 43,
   "id": "b097d6b3-fecc-463b-a12e-0a6859a8f94f",
   "metadata": {},
   "outputs": [],
   "source": [
    "atom_IDs = []\n",
    "tenor_contents = []\n",
    "pTenor_contents = []\n",
    "places = []\n",
    "languages = []\n",
    "\n",
    "# tags_of_interest = [\"hello\", \"test\", \"wow\"]\n",
    "# attributes_of_interest = []"
   ]
  },
  {
   "cell_type": "code",
   "execution_count": 44,
   "id": "2acef9d8-8aef-4c0b-8561-6544d06427a5",
   "metadata": {},
   "outputs": [],
   "source": [
    "#xpath lxml\n",
    "for file in Path(directoryPath).rglob(fileExtension):\n",
    "    tree = etree.parse(str(file))\n",
    "    atom_IDs.append(tree.xpath(\"//atom:id/text()\", namespaces = namespaces))\n",
    "    places.append(tree.xpath(\".//cei:placeName/text()\", namespaces = namespaces))\n",
    "    languages.append(tree.xpath(\".//cei:lang_MOM/text()\", namespaces = namespaces))\n",
    "    tenor_contents.append(tree.xpath(\"//cei:tenor/text()\", namespaces = namespaces))\n",
    "    pTenor_contents.append(tree.xpath(\"//cei:pTenor/text()\", namespaces = namespaces))"
   ]
  },
  {
   "cell_type": "code",
   "execution_count": 45,
   "id": "b88968fb-df27-476c-a549-14912c29ebe9",
   "metadata": {},
   "outputs": [],
   "source": [
    "tenor_list = list(zip(atom_IDs, places, languages, tenor_contents, pTenor_contents))\n",
    "df = pd.DataFrame(tenor_list).rename(columns={0: \"atom_IDs\", 1: \"places\", 2: \"languages\", 3:\"tenor_contents\", 4: \"pTenor_contents\"})"
   ]
  },
  {
   "cell_type": "code",
   "execution_count": 46,
   "id": "14e2c9c9-1644-4689-be9d-f6097fa6d196",
   "metadata": {},
   "outputs": [
    {
     "data": {
      "text/html": [
       "<div>\n",
       "<style scoped>\n",
       "    .dataframe tbody tr th:only-of-type {\n",
       "        vertical-align: middle;\n",
       "    }\n",
       "\n",
       "    .dataframe tbody tr th {\n",
       "        vertical-align: top;\n",
       "    }\n",
       "\n",
       "    .dataframe thead th {\n",
       "        text-align: right;\n",
       "    }\n",
       "</style>\n",
       "<table border=\"1\" class=\"dataframe\">\n",
       "  <thead>\n",
       "    <tr style=\"text-align: right;\">\n",
       "      <th></th>\n",
       "      <th>atom_IDs</th>\n",
       "      <th>places</th>\n",
       "      <th>languages</th>\n",
       "      <th>tenor_contents</th>\n",
       "      <th>pTenor_contents</th>\n",
       "    </tr>\n",
       "  </thead>\n",
       "  <tbody>\n",
       "    <tr>\n",
       "      <th>0</th>\n",
       "      <td>[tag:www.monasterium.net,2011:/charter/AFM/1.1.1]</td>\n",
       "      <td>[]</td>\n",
       "      <td>[]</td>\n",
       "      <td>[]</td>\n",
       "      <td>[Anno domini millesimo trecentesimo nonagesimo...</td>\n",
       "    </tr>\n",
       "    <tr>\n",
       "      <th>1</th>\n",
       "      <td>[tag:www.monasterium.net,2011:/charter/AFM/1.1...</td>\n",
       "      <td>[]</td>\n",
       "      <td>[]</td>\n",
       "      <td>[]</td>\n",
       "      <td>[Placuit doctoribus nostris omnibus et singuli...</td>\n",
       "    </tr>\n",
       "    <tr>\n",
       "      <th>2</th>\n",
       "      <td>[tag:www.monasterium.net,2011:/charter/AFM/1.1...</td>\n",
       "      <td>[]</td>\n",
       "      <td>[]</td>\n",
       "      <td>[]</td>\n",
       "      <td>[In vigilia Corporis Christi hora 6,  post cen...</td>\n",
       "    </tr>\n",
       "    <tr>\n",
       "      <th>3</th>\n",
       "      <td>[tag:www.monasterium.net,2011:/charter/AFM/1.1...</td>\n",
       "      <td>[]</td>\n",
       "      <td>[]</td>\n",
       "      <td>[]</td>\n",
       "      <td>[In die autem Corporis Christi convenerunt sim...</td>\n",
       "    </tr>\n",
       "    <tr>\n",
       "      <th>4</th>\n",
       "      <td>[tag:www.monasterium.net,2011:/charter/AFM/1.1...</td>\n",
       "      <td>[]</td>\n",
       "      <td>[]</td>\n",
       "      <td>[]</td>\n",
       "      <td>[Die 13,  Augusti fuit\\n                congre...</td>\n",
       "    </tr>\n",
       "    <tr>\n",
       "      <th>...</th>\n",
       "      <td>...</td>\n",
       "      <td>...</td>\n",
       "      <td>...</td>\n",
       "      <td>...</td>\n",
       "      <td>...</td>\n",
       "    </tr>\n",
       "    <tr>\n",
       "      <th>6032</th>\n",
       "      <td>[tag:www.monasterium.net,2011:/charter/AFM/1.9...</td>\n",
       "      <td>[]</td>\n",
       "      <td>[]</td>\n",
       "      <td>[]</td>\n",
       "      <td>[Die 31. Januarij: Caecilia Sch#bachin, obstet...</td>\n",
       "    </tr>\n",
       "    <tr>\n",
       "      <th>6033</th>\n",
       "      <td>[tag:www.monasterium.net,2011:/charter/AFM/1.9...</td>\n",
       "      <td>[]</td>\n",
       "      <td>[]</td>\n",
       "      <td>[]</td>\n",
       "      <td>[Die 1. Februarij: Examinata est Theresia Cath...</td>\n",
       "    </tr>\n",
       "    <tr>\n",
       "      <th>6034</th>\n",
       "      <td>[tag:www.monasterium.net,2011:/charter/AFM/1.9...</td>\n",
       "      <td>[]</td>\n",
       "      <td>[]</td>\n",
       "      <td>[]</td>\n",
       "      <td>[Die 13. Februarij: Maria Elisabetha Pernwarti...</td>\n",
       "    </tr>\n",
       "    <tr>\n",
       "      <th>6035</th>\n",
       "      <td>[tag:www.monasterium.net,2011:/charter/AFM/1.9...</td>\n",
       "      <td>[]</td>\n",
       "      <td>[]</td>\n",
       "      <td>[]</td>\n",
       "      <td>[Die 1. Martij: Francisca Englhartin praesenta...</td>\n",
       "    </tr>\n",
       "    <tr>\n",
       "      <th>6036</th>\n",
       "      <td>[tag:www.monasterium.net,2011:/charter/AFM/1.9...</td>\n",
       "      <td>[]</td>\n",
       "      <td>[]</td>\n",
       "      <td>[]</td>\n",
       "      <td>[Die 7. Martij: Maria Salome Kesslerin, obstet...</td>\n",
       "    </tr>\n",
       "  </tbody>\n",
       "</table>\n",
       "<p>6037 rows × 5 columns</p>\n",
       "</div>"
      ],
      "text/plain": [
       "                                               atom_IDs places languages  \\\n",
       "0     [tag:www.monasterium.net,2011:/charter/AFM/1.1.1]     []        []   \n",
       "1     [tag:www.monasterium.net,2011:/charter/AFM/1.1...     []        []   \n",
       "2     [tag:www.monasterium.net,2011:/charter/AFM/1.1...     []        []   \n",
       "3     [tag:www.monasterium.net,2011:/charter/AFM/1.1...     []        []   \n",
       "4     [tag:www.monasterium.net,2011:/charter/AFM/1.1...     []        []   \n",
       "...                                                 ...    ...       ...   \n",
       "6032  [tag:www.monasterium.net,2011:/charter/AFM/1.9...     []        []   \n",
       "6033  [tag:www.monasterium.net,2011:/charter/AFM/1.9...     []        []   \n",
       "6034  [tag:www.monasterium.net,2011:/charter/AFM/1.9...     []        []   \n",
       "6035  [tag:www.monasterium.net,2011:/charter/AFM/1.9...     []        []   \n",
       "6036  [tag:www.monasterium.net,2011:/charter/AFM/1.9...     []        []   \n",
       "\n",
       "     tenor_contents                                    pTenor_contents  \n",
       "0                []  [Anno domini millesimo trecentesimo nonagesimo...  \n",
       "1                []  [Placuit doctoribus nostris omnibus et singuli...  \n",
       "2                []  [In vigilia Corporis Christi hora 6,  post cen...  \n",
       "3                []  [In die autem Corporis Christi convenerunt sim...  \n",
       "4                []  [Die 13,  Augusti fuit\\n                congre...  \n",
       "...             ...                                                ...  \n",
       "6032             []  [Die 31. Januarij: Caecilia Sch#bachin, obstet...  \n",
       "6033             []  [Die 1. Februarij: Examinata est Theresia Cath...  \n",
       "6034             []  [Die 13. Februarij: Maria Elisabetha Pernwarti...  \n",
       "6035             []  [Die 1. Martij: Francisca Englhartin praesenta...  \n",
       "6036             []  [Die 7. Martij: Maria Salome Kesslerin, obstet...  \n",
       "\n",
       "[6037 rows x 5 columns]"
      ]
     },
     "execution_count": 46,
     "metadata": {},
     "output_type": "execute_result"
    }
   ],
   "source": [
    "df"
   ]
  },
  {
   "cell_type": "code",
   "execution_count": 47,
   "id": "25ea7bb2-f829-43a4-890c-52ea634a171c",
   "metadata": {},
   "outputs": [],
   "source": [
    "df_explode = df.explode('atom_IDs').explode('places').explode('languages').explode('tenor_contents').explode('pTenor_contents')"
   ]
  },
  {
   "cell_type": "code",
   "execution_count": 48,
   "id": "96052a2e-e907-4d80-9e98-13cd942b21b2",
   "metadata": {},
   "outputs": [
    {
     "data": {
      "text/plain": [
       "0    Anno domini millesimo trecentesimo nonagesimo ...\n",
       "1       quidam pro actis facultatis medicine comparari\n",
       "2    deberet, in quem omnes doctores, licentiati, b...\n",
       "3     predicto libro inscriptos prefate\\n          ...\n",
       "4                                                 Item\n",
       "5     in eadem congregatione\\n                concl...\n",
       "6     antequam ad eandem per decanum facultatis pre...\n",
       "Name: pTenor_contents, dtype: object"
      ]
     },
     "execution_count": 48,
     "metadata": {},
     "output_type": "execute_result"
    }
   ],
   "source": [
    "df_explode_new = df_explode.loc[df_explode['atom_IDs'] == 'tag:www.monasterium.net,2011:/charter/AFM/1.1.1']\n",
    "df_explode_new.reset_index(drop=True, inplace=True)\n",
    "df_explode_new['pTenor_contents']"
   ]
  },
  {
   "cell_type": "code",
   "execution_count": 28,
   "id": "bc90dee1-cc1f-4f77-bc4c-ee0ea14a9102",
   "metadata": {},
   "outputs": [],
   "source": [
    "pathname = PurePath(directoryPath).name\n",
    "df_explode.to_csv(f'../data/output/tenor_test_explode_{pathname}.csv', index=False)"
   ]
  },
  {
   "cell_type": "code",
   "execution_count": null,
   "id": "dda03564-29ab-4e73-9668-a1a67e8c0ca1",
   "metadata": {},
   "outputs": [],
   "source": []
  },
  {
   "cell_type": "code",
   "execution_count": null,
   "id": "338f98fd-a381-4ff5-a358-04c26df02880",
   "metadata": {},
   "outputs": [],
   "source": []
  },
  {
   "cell_type": "code",
   "execution_count": null,
   "id": "e5efcfec-136f-4857-94de-ed1019871b13",
   "metadata": {},
   "outputs": [],
   "source": []
  },
  {
   "cell_type": "code",
   "execution_count": null,
   "id": "6a6dbeac-5ecd-4547-813a-6cf5f9e151ec",
   "metadata": {},
   "outputs": [],
   "source": [
    "atomIDs = []\n",
    "tenor_contents = []\n",
    "places = []\n",
    "languages = []\n",
    "dates_custom = []\n",
    "dates_normalized = []\n",
    "dates_range = []\n",
    "dates_from = []\n",
    "dates_to = []\n",
    "\n",
    "for file in Path(directoryPath).rglob(fileExtension):\n",
    "    tree = etree.parse(str(file)) # requires conversion to str since lxml does not vibe with windowspath\n",
    "    root = tree.getroot()\n",
    "    for tenor in root.findall('.//cei:tenor', namespaces):\n",
    "        atomIDs.append(root[0].text)\n",
    "        tenor_contents.append(etree.tostring(tenor).decode('utf-8'))\n",
    "        if root.find('.//cei:placeName', namespaces) is not None:\n",
    "            places.append(root.find('.//cei:placeName', namespaces).text)\n",
    "        elif root.find('.//cei:placeName', namespaces) is None:\n",
    "            places.append(None)\n",
    "        if root.find('.//cei:lang_MOM', namespaces) is not None:\n",
    "            languages.append(root.find('.//cei:lang_MOM', namespaces).text)\n",
    "        elif root.find('.//cei:lang_MOM', namespaces) is None:\n",
    "            languages.append(None)\n",
    "        if root.find('.//cei:date', namespaces) is not None:\n",
    "            dates_custom.append(root.find('.//cei:date', namespaces).text)# OMG CUSTOM CEI:date IS HORRIBLE, have fun resolving VI. Kal. April. Anno dominice incarnationis M... or anno Domini Mo. CCCo. XLIIII. Ipsa die beati J...\n",
    "        elif root.find('.//cei:date', namespaces) is None:\n",
    "            dates_custom.append(None)\n",
    "        # if root.find('.//cei:date[@value]', namespaces) is not None:\n",
    "        #     dates_normalized.append(root.find('.//cei:date', namespaces).attrib['value'])\n",
    "        # elif root.find('.//cei:date[@value]', namespaces) is None:\n",
    "        #     dates_normalized.append(None)\n",
    "        if root.find('.//cei:dateRange', namespaces) is not None:\n",
    "            dates_range.append(root.find('.//cei:dateRange', namespaces).text)\n",
    "        elif root.find('.//cei:dateRange', namespaces) is None:\n",
    "            dates_range.append(None)\n",
    "        # if root.find('.//cei:dateRange[@from]', namespaces) is not None:\n",
    "        #     dates_from.append(root.find('.//cei:dateRange', namespaces).attrib['from'])\n",
    "        # elif root.find('.//cei:dateRange[@from]', namespaces) is None:\n",
    "        #     dates_from.append(None)\n",
    "        # if root.find('.//cei:dateRange[@to]', namespaces) is not None:\n",
    "        #     dates_to.append(root.find('.//cei:dateRange', namespaces).attrib['to'])\n",
    "        # elif root.find('.//cei:dateRange[@to]', namespaces) is None:\n",
    "        #     dates_to.append(None)"
   ]
  },
  {
   "cell_type": "code",
   "execution_count": null,
   "id": "f3667c88-4014-42c4-b212-a0108ab8621d",
   "metadata": {},
   "outputs": [],
   "source": [
    "tenor_list = list(zip(atomIDs, tenor_contents, places, languages, dates_custom, dates_range))\n",
    "df = pd.DataFrame(tenor_list).rename(columns={0: 'atomID', 1: 'tenor_content', 2: 'place', 3: 'language', 4: 'dates_custom', 5: 'dates_normalized', 6: 'dates_range', 7: 'dates_from', 8: 'dates_to'})\n",
    "df"
   ]
  },
  {
   "cell_type": "markdown",
   "id": "4179dbda-f006-44b0-8a8b-1cafa6599ae9",
   "metadata": {},
   "source": [
    "## collection ✔"
   ]
  },
  {
   "cell_type": "code",
   "execution_count": 2,
   "id": "3e6118a5-17eb-48d9-960b-fd1d78389e62",
   "metadata": {},
   "outputs": [],
   "source": [
    "from pathlib import PurePath\n",
    "from pathlib import Path\n",
    "from lxml import etree #lxml since xml.etree.ElementTree does not have full xpath support (no getparent() after using find/findall())\n",
    "import pandas as pd"
   ]
  },
  {
   "cell_type": "code",
   "execution_count": null,
   "id": "0430a62f-45b7-413c-817f-c5863fbb6593",
   "metadata": {},
   "outputs": [],
   "source": [
    "namespaces = {'atom': 'http://www.w3.org/2005/Atom', 'cei': 'http://www.monasterium.net/NS/cei'}\n",
    "#directoryPath = '\\\\\\?/'+'C://Users/atzenhof/playground/GitHub/didip/data/db_subset_for_test/transcriptions-ref'# escape needed for subdirectory paths longer than system allows for\n",
    "directoryPath = '\\\\\\?/'+'C://Users/atzenhof/playground/GitHub/didip/data/db/mom-data/metadata.charter.public'# escape needed for subdirectory paths longer than system allows forfileExtension = ('*.cei.xml')\n",
    "fileExtension = ('*.cei.xml')"
   ]
  },
  {
   "cell_type": "code",
   "execution_count": null,
   "id": "bf34bc50-44e4-459c-a475-2cb8e121cff4",
   "metadata": {},
   "outputs": [],
   "source": [
    "# takes 10min+\n",
    "atomIDs = []\n",
    "tenor_contents = []\n",
    "places = []\n",
    "languages = []\n",
    "dates_custom = []\n",
    "dates_normalized = []\n",
    "dates_range = []\n",
    "dates_from = []\n",
    "dates_to = []\n",
    "\n",
    "for file in Path(directoryPath).rglob(fileExtension):\n",
    "    tree = etree.parse(str(file)) # requires conversion to str since lxml does not vibe with windowspath\n",
    "    root = tree.getroot()\n",
    "    for tenor in root.findall('.//cei:tenor', namespaces):\n",
    "        atomIDs.append(root[0].text)\n",
    "        tenor_contents.append(etree.tostring(tenor).decode('utf-8'))\n",
    "        if root.find('.//cei:placeName', namespaces) is not None:\n",
    "            places.append(root.find('.//cei:placeName', namespaces).text)\n",
    "        elif root.find('.//cei:placeName', namespaces) is None:\n",
    "            places.append(None)\n",
    "        if root.find('.//cei:lang_MOM', namespaces) is not None:\n",
    "            languages.append(root.find('.//cei:lang_MOM', namespaces).text)\n",
    "        elif root.find('.//cei:lang_MOM', namespaces) is None:\n",
    "            languages.append(None)\n",
    "        if root.find('.//cei:date', namespaces) is not None:\n",
    "            dates_custom.append(root.find('.//cei:date', namespaces).text)# OMG CUSTOM CEI:date IS HORRIBLE, have fun resolving VI. Kal. April. Anno dominice incarnationis M... or anno Domini Mo. CCCo. XLIIII. Ipsa die beati J...\n",
    "        elif root.find('.//cei:date', namespaces) is None:\n",
    "            dates_custom.append(None)\n",
    "        # if root.find('.//cei:date[@value]', namespaces) is not None:\n",
    "        #     dates_normalized.append(root.find('.//cei:date', namespaces).attrib['value'])\n",
    "        # elif root.find('.//cei:date[@value]', namespaces) is None:\n",
    "        #     dates_normalized.append(None)\n",
    "        if root.find('.//cei:dateRange', namespaces) is not None:\n",
    "            dates_range.append(root.find('.//cei:dateRange', namespaces).text)\n",
    "        elif root.find('.//cei:dateRange', namespaces) is None:\n",
    "            dates_range.append(None)\n",
    "        # if root.find('.//cei:dateRange[@from]', namespaces) is not None:\n",
    "        #     dates_from.append(root.find('.//cei:dateRange', namespaces).attrib['from'])\n",
    "        # elif root.find('.//cei:dateRange[@from]', namespaces) is None:\n",
    "        #     dates_from.append(None)\n",
    "        # if root.find('.//cei:dateRange[@to]', namespaces) is not None:\n",
    "        #     dates_to.append(root.find('.//cei:dateRange', namespaces).attrib['to'])\n",
    "        # elif root.find('.//cei:dateRange[@to]', namespaces) is None:\n",
    "        #     dates_to.append(None)"
   ]
  },
  {
   "cell_type": "code",
   "execution_count": null,
   "id": "cd0f9a4b-604a-47ce-8f7d-12e46b4340e3",
   "metadata": {},
   "outputs": [],
   "source": [
    "#error für date value attribut ab AT-KLA\n",
    "#error für dateRange from attribut ab AT-StiAR\n",
    "#error für dateRange to attribut ab AT-StiAR"
   ]
  },
  {
   "cell_type": "code",
   "execution_count": null,
   "id": "c3168155-4dfb-4c97-98f3-8832f724371e",
   "metadata": {},
   "outputs": [],
   "source": [
    "tenor_list = list(zip(atomIDs, tenor_contents, places, languages, dates_custom, dates_range))\n",
    "df = pd.DataFrame(tenor_list).rename(columns={0: 'atomID', 1: 'tenor_content', 2: 'place', 3: 'language', 4: 'dates_custom', 5: 'dates_normalized', 6: 'dates_range', 7: 'dates_from', 8: 'dates_to'})\n",
    "df"
   ]
  },
  {
   "cell_type": "code",
   "execution_count": null,
   "id": "53072c1e-b107-4dac-bc1e-ad1e97979008",
   "metadata": {},
   "outputs": [],
   "source": [
    "pathname = PurePath(directoryPath).name\n",
    "df.to_csv(f'../data/output/transcriptions_{pathname}.csv', index=False)"
   ]
  },
  {
   "cell_type": "code",
   "execution_count": 3,
   "id": "b55bf5e6-0c4d-4651-9a5d-eba8e3636c8e",
   "metadata": {},
   "outputs": [],
   "source": [
    "df = pd.read_csv('../data/output/transcriptions_metadata.charter.public.csv')"
   ]
  },
  {
   "cell_type": "code",
   "execution_count": 121,
   "id": "eda189ec-c1cc-4c6e-9070-a96060dc8c7a",
   "metadata": {},
   "outputs": [
    {
     "ename": "NameError",
     "evalue": "name 'df_new' is not defined",
     "output_type": "error",
     "traceback": [
      "\u001b[1;31m---------------------------------------------------------------------------\u001b[0m",
      "\u001b[1;31mNameError\u001b[0m                                 Traceback (most recent call last)",
      "\u001b[1;32m~\\AppData\\Local\\Temp/ipykernel_14024/2478190377.py\u001b[0m in \u001b[0;36m<module>\u001b[1;34m\u001b[0m\n\u001b[1;32m----> 1\u001b[1;33m \u001b[0mdf_language\u001b[0m \u001b[1;33m=\u001b[0m \u001b[0mdf_new\u001b[0m\u001b[1;33m.\u001b[0m\u001b[0mloc\u001b[0m\u001b[1;33m[\u001b[0m\u001b[0mdf\u001b[0m\u001b[1;33m[\u001b[0m\u001b[1;34m'language'\u001b[0m\u001b[1;33m]\u001b[0m \u001b[1;33m==\u001b[0m \u001b[1;34m'Latein'\u001b[0m\u001b[1;33m]\u001b[0m\u001b[1;33m\u001b[0m\u001b[1;33m\u001b[0m\u001b[0m\n\u001b[0m\u001b[0;32m      2\u001b[0m \u001b[0mdf_language\u001b[0m\u001b[1;33m.\u001b[0m\u001b[0mreset_index\u001b[0m\u001b[1;33m(\u001b[0m\u001b[0mdrop\u001b[0m\u001b[1;33m=\u001b[0m\u001b[1;32mTrue\u001b[0m\u001b[1;33m,\u001b[0m \u001b[0minplace\u001b[0m\u001b[1;33m=\u001b[0m\u001b[1;32mTrue\u001b[0m\u001b[1;33m)\u001b[0m\u001b[1;33m\u001b[0m\u001b[1;33m\u001b[0m\u001b[0m\n\u001b[0;32m      3\u001b[0m \u001b[0mdf_language\u001b[0m\u001b[1;33m\u001b[0m\u001b[1;33m\u001b[0m\u001b[0m\n",
      "\u001b[1;31mNameError\u001b[0m: name 'df_new' is not defined"
     ]
    }
   ],
   "source": [
    "df_language = df_new.loc[df['language'] == 'Latein']\n",
    "df_language.reset_index(drop=True, inplace=True)\n",
    "df_language"
   ]
  },
  {
   "cell_type": "code",
   "execution_count": 8,
   "id": "d491e3ad-e6de-4872-879b-65cac9f9b907",
   "metadata": {},
   "outputs": [
    {
     "data": {
      "text/html": [
       "<div>\n",
       "<style scoped>\n",
       "    .dataframe tbody tr th:only-of-type {\n",
       "        vertical-align: middle;\n",
       "    }\n",
       "\n",
       "    .dataframe tbody tr th {\n",
       "        vertical-align: top;\n",
       "    }\n",
       "\n",
       "    .dataframe thead th {\n",
       "        text-align: right;\n",
       "    }\n",
       "</style>\n",
       "<table border=\"1\" class=\"dataframe\">\n",
       "  <thead>\n",
       "    <tr style=\"text-align: right;\">\n",
       "      <th></th>\n",
       "      <th>atomID</th>\n",
       "      <th>tenor_content</th>\n",
       "      <th>place</th>\n",
       "      <th>language</th>\n",
       "      <th>dates_custom</th>\n",
       "      <th>dates_normalized</th>\n",
       "    </tr>\n",
       "  </thead>\n",
       "  <tbody>\n",
       "    <tr>\n",
       "      <th>0</th>\n",
       "      <td>tag:www.monasterium.net,2011:/charter/069622fc...</td>\n",
       "      <td>&lt;cei:tenor xmlns:cei=\"http://www.monasterium.n...</td>\n",
       "      <td>Napoli</td>\n",
       "      <td>NaN</td>\n",
       "      <td>NaN</td>\n",
       "      <td>1578 agosto 29</td>\n",
       "    </tr>\n",
       "    <tr>\n",
       "      <th>1</th>\n",
       "      <td>tag:www.monasterium.net,2011:/charter/069622fc...</td>\n",
       "      <td>&lt;cei:tenor xmlns:cei=\"http://www.monasterium.n...</td>\n",
       "      <td>Napoli</td>\n",
       "      <td>NaN</td>\n",
       "      <td>NaN</td>\n",
       "      <td>1268 ottobre 23</td>\n",
       "    </tr>\n",
       "    <tr>\n",
       "      <th>2</th>\n",
       "      <td>tag:www.monasterium.net,2011:/charter/069622fc...</td>\n",
       "      <td>&lt;cei:tenor xmlns:cei=\"http://www.monasterium.n...</td>\n",
       "      <td>Napoli</td>\n",
       "      <td>NaN</td>\n",
       "      <td>NaN</td>\n",
       "      <td>1127 febbraio 16</td>\n",
       "    </tr>\n",
       "    <tr>\n",
       "      <th>3</th>\n",
       "      <td>tag:www.monasterium.net,2011:/charter/069622fc...</td>\n",
       "      <td>&lt;cei:tenor xmlns:cei=\"http://www.monasterium.n...</td>\n",
       "      <td>Napoli</td>\n",
       "      <td>NaN</td>\n",
       "      <td>NaN</td>\n",
       "      <td>1518 marzo 3</td>\n",
       "    </tr>\n",
       "    <tr>\n",
       "      <th>4</th>\n",
       "      <td>tag:www.monasterium.net,2011:/charter/069622fc...</td>\n",
       "      <td>&lt;cei:tenor xmlns:cei=\"http://www.monasterium.n...</td>\n",
       "      <td>Napoli</td>\n",
       "      <td>NaN</td>\n",
       "      <td>NaN</td>\n",
       "      <td>1559 settembre 11</td>\n",
       "    </tr>\n",
       "    <tr>\n",
       "      <th>...</th>\n",
       "      <td>...</td>\n",
       "      <td>...</td>\n",
       "      <td>...</td>\n",
       "      <td>...</td>\n",
       "      <td>...</td>\n",
       "      <td>...</td>\n",
       "    </tr>\n",
       "    <tr>\n",
       "      <th>89528</th>\n",
       "      <td>tag:www.monasterium.net,2011:/charter/Wirtembe...</td>\n",
       "      <td>&lt;cei:tenor xmlns:cei=\"http://www.monasterium.n...</td>\n",
       "      <td>NaN</td>\n",
       "      <td>NaN</td>\n",
       "      <td>99999999</td>\n",
       "      <td>NaN</td>\n",
       "    </tr>\n",
       "    <tr>\n",
       "      <th>89529</th>\n",
       "      <td>tag:www.monasterium.net,2011:/charter/Wirtembe...</td>\n",
       "      <td>&lt;cei:tenor xmlns:cei=\"http://www.monasterium.n...</td>\n",
       "      <td>NaN</td>\n",
       "      <td>NaN</td>\n",
       "      <td>99999999</td>\n",
       "      <td>NaN</td>\n",
       "    </tr>\n",
       "    <tr>\n",
       "      <th>89530</th>\n",
       "      <td>tag:www.monasterium.net,2011:/charter/Wirtembe...</td>\n",
       "      <td>&lt;cei:tenor xmlns:cei=\"http://www.monasterium.n...</td>\n",
       "      <td>NaN</td>\n",
       "      <td>NaN</td>\n",
       "      <td>99999999</td>\n",
       "      <td>NaN</td>\n",
       "    </tr>\n",
       "    <tr>\n",
       "      <th>89531</th>\n",
       "      <td>tag:www.monasterium.net,2011:/charter/Wirtembe...</td>\n",
       "      <td>&lt;cei:tenor xmlns:cei=\"http://www.monasterium.n...</td>\n",
       "      <td>NaN</td>\n",
       "      <td>NaN</td>\n",
       "      <td>99999999</td>\n",
       "      <td>NaN</td>\n",
       "    </tr>\n",
       "    <tr>\n",
       "      <th>89532</th>\n",
       "      <td>tag:www.monasterium.net,2011:/charter/Wirtembe...</td>\n",
       "      <td>&lt;cei:tenor xmlns:cei=\"http://www.monasterium.n...</td>\n",
       "      <td>NaN</td>\n",
       "      <td>NaN</td>\n",
       "      <td>99999999</td>\n",
       "      <td>NaN</td>\n",
       "    </tr>\n",
       "  </tbody>\n",
       "</table>\n",
       "<p>89533 rows × 6 columns</p>\n",
       "</div>"
      ],
      "text/plain": [
       "                                                  atomID  \\\n",
       "0      tag:www.monasterium.net,2011:/charter/069622fc...   \n",
       "1      tag:www.monasterium.net,2011:/charter/069622fc...   \n",
       "2      tag:www.monasterium.net,2011:/charter/069622fc...   \n",
       "3      tag:www.monasterium.net,2011:/charter/069622fc...   \n",
       "4      tag:www.monasterium.net,2011:/charter/069622fc...   \n",
       "...                                                  ...   \n",
       "89528  tag:www.monasterium.net,2011:/charter/Wirtembe...   \n",
       "89529  tag:www.monasterium.net,2011:/charter/Wirtembe...   \n",
       "89530  tag:www.monasterium.net,2011:/charter/Wirtembe...   \n",
       "89531  tag:www.monasterium.net,2011:/charter/Wirtembe...   \n",
       "89532  tag:www.monasterium.net,2011:/charter/Wirtembe...   \n",
       "\n",
       "                                           tenor_content   place language  \\\n",
       "0      <cei:tenor xmlns:cei=\"http://www.monasterium.n...  Napoli      NaN   \n",
       "1      <cei:tenor xmlns:cei=\"http://www.monasterium.n...  Napoli      NaN   \n",
       "2      <cei:tenor xmlns:cei=\"http://www.monasterium.n...  Napoli      NaN   \n",
       "3      <cei:tenor xmlns:cei=\"http://www.monasterium.n...  Napoli      NaN   \n",
       "4      <cei:tenor xmlns:cei=\"http://www.monasterium.n...  Napoli      NaN   \n",
       "...                                                  ...     ...      ...   \n",
       "89528  <cei:tenor xmlns:cei=\"http://www.monasterium.n...     NaN      NaN   \n",
       "89529  <cei:tenor xmlns:cei=\"http://www.monasterium.n...     NaN      NaN   \n",
       "89530  <cei:tenor xmlns:cei=\"http://www.monasterium.n...     NaN      NaN   \n",
       "89531  <cei:tenor xmlns:cei=\"http://www.monasterium.n...     NaN      NaN   \n",
       "89532  <cei:tenor xmlns:cei=\"http://www.monasterium.n...     NaN      NaN   \n",
       "\n",
       "      dates_custom   dates_normalized  \n",
       "0              NaN     1578 agosto 29  \n",
       "1              NaN    1268 ottobre 23  \n",
       "2              NaN   1127 febbraio 16  \n",
       "3              NaN       1518 marzo 3  \n",
       "4              NaN  1559 settembre 11  \n",
       "...            ...                ...  \n",
       "89528     99999999                NaN  \n",
       "89529     99999999                NaN  \n",
       "89530     99999999                NaN  \n",
       "89531     99999999                NaN  \n",
       "89532     99999999                NaN  \n",
       "\n",
       "[89533 rows x 6 columns]"
      ]
     },
     "execution_count": 8,
     "metadata": {},
     "output_type": "execute_result"
    }
   ],
   "source": [
    "df"
   ]
  },
  {
   "cell_type": "code",
   "execution_count": 5,
   "id": "1c699ed1-d225-4fd2-94c5-9dfcb07c06d6",
   "metadata": {},
   "outputs": [],
   "source": [
    "charter_by_language = df.groupby(\"language\")[\"atomID\"].count()\n",
    "charter_by_place = df.groupby(\"place\")[\"atomID\"].count()"
   ]
  },
  {
   "cell_type": "code",
   "execution_count": 7,
   "id": "e2577773-bb7e-413b-882e-d53322bcc921",
   "metadata": {},
   "outputs": [
    {
     "data": {
      "text/plain": [
       "place\n",
       "Wien                     2188\n",
       "o. O.                    1517\n",
       "St. Gallen               1026\n",
       "Konstanz                  582\n",
       "Rom                       469\n",
       "                         ... \n",
       "Kolín (Colonia)             1\n",
       "Kolín                       1\n",
       "Kojetín                     1\n",
       "Koetweig                    1\n",
       "„apud Briderichingen“       1\n",
       "Name: atomID, Length: 5847, dtype: int64"
      ]
     },
     "execution_count": 7,
     "metadata": {},
     "output_type": "execute_result"
    }
   ],
   "source": [
    "charter_by_place.sort_values(ascending=False)\n",
    "#print(...to_string())"
   ]
  },
  {
   "cell_type": "code",
   "execution_count": 6,
   "id": "43cd9c00-5b71-4242-9e9c-849cfcbe1be2",
   "metadata": {},
   "outputs": [
    {
     "data": {
      "text/plain": [
       "language\n",
       "Deutsch                12425\n",
       "Latein                  7856\n",
       "lat.                    2932\n",
       "deutsch                  190\n",
       "Niederdeutsch            163\n",
       "                       ...  \n",
       "Latein, deutsch            1\n",
       "Latein, Deutsch            1\n",
       "Latein+Deutsch             1\n",
       "Latein und Deutsch.        1\n",
       "Nieder-/Oberdeutsch        1\n",
       "Name: atomID, Length: 91, dtype: int64"
      ]
     },
     "execution_count": 6,
     "metadata": {},
     "output_type": "execute_result"
    }
   ],
   "source": [
    "charter_by_language.sort_values(ascending=False)"
   ]
  },
  {
   "cell_type": "code",
   "execution_count": null,
   "id": "6363a051-2742-4bce-9f6e-1f5a584270bd",
   "metadata": {},
   "outputs": [],
   "source": []
  },
  {
   "cell_type": "markdown",
   "id": "e43e5d5b-9d7b-433f-b930-739a7daf1a9b",
   "metadata": {},
   "source": []
  }
 ],
 "metadata": {
  "kernelspec": {
   "display_name": "Python 3 (ipykernel)",
   "language": "python",
   "name": "python3"
  },
  "language_info": {
   "codemirror_mode": {
    "name": "ipython",
    "version": 3
   },
   "file_extension": ".py",
   "mimetype": "text/x-python",
   "name": "python",
   "nbconvert_exporter": "python",
   "pygments_lexer": "ipython3",
   "version": "3.9.7"
  }
 },
 "nbformat": 4,
 "nbformat_minor": 5
}
