{
 "cells": [
  {
   "cell_type": "markdown",
   "id": "f7b15542-f253-494e-836e-3472ae77756a",
   "metadata": {
    "tags": []
   },
   "source": [
    "# .xml (cei) to csv [charters for now]\n",
    "### info\n",
    "\n",
    "✔ means tested and working\n",
    "\n",
    "👑 means most worthy and purposeful script in given context\n",
    "\n",
    "### still to do:\n",
    "\n",
    "- check dependencies for individual code parts\n",
    "- consider that atomID should be saved regardless of whether there is an image\n",
    "- use timeit to check performance (barely of importance now); https://lxml.de/performance.html"
   ]
  },
  {
   "cell_type": "markdown",
   "id": "941c2f3c-a4eb-4c33-81c1-e42a0b9ab4ed",
   "metadata": {},
   "source": [
    "# import xml and set tree+root (using etree, is fastest)"
   ]
  },
  {
   "cell_type": "code",
   "execution_count": null,
   "id": "dfdb8296",
   "metadata": {},
   "outputs": [],
   "source": [
    "import xml.etree.ElementTree as ET \n",
    "tree = ET.parse('0632d68f-f907-4113-886d-d7afd25339ef.cei.xml')\n",
    "root = tree.getroot()"
   ]
  },
  {
   "cell_type": "markdown",
   "id": "2303ad2e-f9df-453e-8fd9-d48e5b7d5c87",
   "metadata": {
    "tags": []
   },
   "source": [
    "# get all xml tags used in 1 file ✔"
   ]
  },
  {
   "cell_type": "code",
   "execution_count": null,
   "id": "f0e355ba-02c8-4983-936f-f37a0bfeaf52",
   "metadata": {},
   "outputs": [],
   "source": [
    "from pprint import pprint\n",
    "\n",
    "elemList = []\n",
    "\n",
    "for elem in tree.iter():\n",
    "    elemList.append(elem.tag)\n",
    "\n",
    "elemList = list(set(elemList))\n",
    "pprint(elemList)"
   ]
  },
  {
   "cell_type": "markdown",
   "id": "15461b8d-b390-4827-8375-9938becc1a78",
   "metadata": {},
   "source": [
    "# get ALL graphic urls from 1 file ✔"
   ]
  },
  {
   "cell_type": "code",
   "execution_count": null,
   "id": "cc7b07d1-250c-42ef-bed3-88aad89412d2",
   "metadata": {},
   "outputs": [],
   "source": [
    "import xml.etree.ElementTree as ET"
   ]
  },
  {
   "cell_type": "code",
   "execution_count": null,
   "id": "3b4e47fc-27a1-4c02-99bc-a463391f64ce",
   "metadata": {},
   "outputs": [],
   "source": [
    "namespaces = {'atom': 'http://www.w3.org/2005/Atom', 'cei': 'http://www.monasterium.net/NS/cei'}"
   ]
  },
  {
   "cell_type": "code",
   "execution_count": null,
   "id": "e0dfd9bd-823c-4a96-91c9-81b905d8f963",
   "metadata": {},
   "outputs": [],
   "source": [
    "tree = ET.parse('0632d68f-f907-4113-886d-d7afd25339ef.cei.xml')\n",
    "root = tree.getroot()"
   ]
  },
  {
   "cell_type": "code",
   "execution_count": null,
   "id": "17ce252f-09df-44c9-b5c7-70ca13eac517",
   "metadata": {},
   "outputs": [],
   "source": [
    "for tag in root.findall('.//cei:graphic', namespaces):\n",
    "    attribute = tag.attrib\n",
    "    print(attribute)"
   ]
  },
  {
   "cell_type": "markdown",
   "id": "bd0bc20d-480e-45e0-afe2-23d6bd49879a",
   "metadata": {},
   "source": [
    "# get atomID and graphicURL into pandas df from 1 file ✔"
   ]
  },
  {
   "cell_type": "code",
   "execution_count": null,
   "id": "bd51c623-8f0e-4733-ac44-f8d03eedf816",
   "metadata": {},
   "outputs": [],
   "source": [
    "import xml.etree.ElementTree as ET\n",
    "import pandas as pd"
   ]
  },
  {
   "cell_type": "code",
   "execution_count": null,
   "id": "42a33fc9-22c2-4bf8-9e19-18e316263e4c",
   "metadata": {},
   "outputs": [],
   "source": [
    "namespaces = {'atom': 'http://www.w3.org/2005/Atom', 'cei': 'http://www.monasterium.net/NS/cei'}"
   ]
  },
  {
   "cell_type": "code",
   "execution_count": null,
   "id": "ae883351-3ad2-4615-b3f4-d52dc40a57f5",
   "metadata": {},
   "outputs": [],
   "source": [
    "tree = ET.parse('0632d68f-f907-4113-886d-d7afd25339ef.cei.xml')\n",
    "root = tree.getroot()"
   ]
  },
  {
   "cell_type": "code",
   "execution_count": null,
   "id": "0e190ebe-921b-451a-a3fc-226424205b8a",
   "metadata": {},
   "outputs": [],
   "source": [
    "atomIDs = []\n",
    "attributes = []\n",
    "\n",
    "for tag in root.findall('.//cei:graphic', namespaces):\n",
    "    atomID = root[0].text\n",
    "    atomIDs.append(atomID)\n",
    "    attribute = tag.attrib['url'] \n",
    "    attributes.append(attribute)"
   ]
  },
  {
   "cell_type": "code",
   "execution_count": null,
   "id": "ef070f91-63fa-4b9a-a936-757a17bf0300",
   "metadata": {},
   "outputs": [],
   "source": [
    "img_list = list(zip(atomIDs, attributes))"
   ]
  },
  {
   "cell_type": "code",
   "execution_count": null,
   "id": "87252f07-ebb2-4a25-82d3-9fa84eb1c29d",
   "metadata": {},
   "outputs": [],
   "source": [
    "df = pd.DataFrame(img_list).rename(columns={0: 'atom', 1: 'url'})\n",
    "df"
   ]
  },
  {
   "cell_type": "markdown",
   "id": "0d410720-fb1b-4cf6-a9c5-d38993409b80",
   "metadata": {},
   "source": [
    "# get atomID and graphicURL into pandas df from 1 collection using os (without subdirs) ✔"
   ]
  },
  {
   "cell_type": "code",
   "execution_count": null,
   "id": "3a343e28-78ea-4d9c-a836-9895c0f54da7",
   "metadata": {},
   "outputs": [],
   "source": [
    "import os\n",
    "import xml.etree.ElementTree as ET\n",
    "import pandas as pd"
   ]
  },
  {
   "cell_type": "code",
   "execution_count": null,
   "id": "98915957-90c9-4a64-b677-b6ea746ac973",
   "metadata": {},
   "outputs": [],
   "source": [
    "namespaces = {'atom': 'http://www.w3.org/2005/Atom', 'cei': 'http://www.monasterium.net/NS/cei'}\n",
    "directoryPath = '../../data/monasterium/MOM-data/db/mom-data/metadata.charter.public/DE-StaAWuerzburg/Buergerspital'\n",
    "extension = ('.cei.xml')"
   ]
  },
  {
   "cell_type": "code",
   "execution_count": null,
   "id": "cebabe95-bb29-47a5-b37f-a38bf9f60215",
   "metadata": {},
   "outputs": [],
   "source": [
    "atomIDs = []\n",
    "attributes = []\n",
    "\n",
    "with os.scandir(directoryPath) as it:\n",
    "    for entry in it:\n",
    "        if entry.name.endswith(extension) and entry.is_file():\n",
    "            tree = ET.parse(entry.path)\n",
    "            root = tree.getroot()\n",
    "            for tag in root.findall('.//cei:graphic', namespaces):\n",
    "                atomID = root[0].text\n",
    "                atomIDs.append(atomID)\n",
    "                attribute = tag.attrib['url'] \n",
    "                attributes.append(attribute)"
   ]
  },
  {
   "cell_type": "code",
   "execution_count": null,
   "id": "5a5e4e82-ca08-422b-aea5-037c9a11aa44",
   "metadata": {},
   "outputs": [],
   "source": [
    "img_list = list(zip(atomIDs, attributes))\n",
    "df = pd.DataFrame(img_list).rename(columns={0: 'atomID', 1: 'url'})\n",
    "df"
   ]
  },
  {
   "cell_type": "code",
   "execution_count": null,
   "id": "091bb06c-2b6e-4b5c-b9fa-c48b58a77be2",
   "metadata": {},
   "outputs": [],
   "source": [
    "import pathlib\n",
    "path = pathlib.PurePath(directoryPath)\n",
    "pathname = path.name"
   ]
  },
  {
   "cell_type": "code",
   "execution_count": null,
   "id": "b247ce36-95c5-4c90-9b4c-df75dea335a0",
   "metadata": {},
   "outputs": [],
   "source": [
    "df.to_csv(f'{pathname}.csv', index=False)"
   ]
  },
  {
   "cell_type": "markdown",
   "id": "791962b3-072a-424f-8038-70c3ae7a9a42",
   "metadata": {},
   "source": [
    "# 👑 get atomID and graphicURL into pandas df from collection(s) using rglob (pathlib; works for subdirectories) ✔\n",
    "fastest method tested (still takes several minutes for whole batch)"
   ]
  },
  {
   "cell_type": "code",
   "execution_count": null,
   "id": "1fa98a6e-2fef-4f49-8a4e-915b01f17de4",
   "metadata": {},
   "outputs": [],
   "source": [
    "from pathlib import Path\n",
    "import xml.etree.ElementTree as ET\n",
    "import pandas as pd"
   ]
  },
  {
   "cell_type": "code",
   "execution_count": null,
   "id": "c27e5ca6-71c7-4457-92c4-4419f3b3288d",
   "metadata": {},
   "outputs": [],
   "source": [
    "namespaces = {'atom': 'http://www.w3.org/2005/Atom', 'cei': 'http://www.monasterium.net/NS/cei'}\n",
    "directoryPath = '\\\\\\?/'+'C://Users/atzenhof/playground/data/monasterium/MOM-data/db/mom-data/metadata.charter.public/'\n",
    "fileExtension = ('*.cei.xml')"
   ]
  },
  {
   "cell_type": "code",
   "execution_count": null,
   "id": "99cbdd7f-54ef-465c-93f5-7f70150b84c3",
   "metadata": {},
   "outputs": [],
   "source": [
    "atomIDs = []\n",
    "attributes = []\n",
    "\n",
    "for file in Path(directoryPath).rglob(fileExtension):\n",
    "    tree = ET.parse(file) # parsing does not consider utf-8 specific symbols (such as long dash); needs postcorrection\n",
    "    root = tree.getroot()\n",
    "    for tag in root.findall('.//cei:graphic', namespaces):\n",
    "        atomID = root[0].text\n",
    "        atomIDs.append(atomID)\n",
    "        if 'url' in tag.attrib:\n",
    "            attribute = tag.attrib['url'] \n",
    "            attributes.append(attribute)\n",
    "        else:\n",
    "            continue"
   ]
  },
  {
   "cell_type": "code",
   "execution_count": null,
   "id": "a911bc20-858e-4b77-afa0-3fd70de334ee",
   "metadata": {},
   "outputs": [],
   "source": [
    "img_list = list(zip(atomIDs, attributes))\n",
    "df = pd.DataFrame(img_list).rename(columns={0: 'atom', 1: 'url'})\n",
    "df"
   ]
  },
  {
   "cell_type": "code",
   "execution_count": null,
   "id": "6c852bab-4681-42b0-9571-3560afe5637b",
   "metadata": {},
   "outputs": [],
   "source": [
    "import pathlib\n",
    "path = pathlib.PurePath(directoryPath)\n",
    "pathname = path.name"
   ]
  },
  {
   "cell_type": "code",
   "execution_count": null,
   "id": "3261f306-ebed-49a7-ab0d-3a4207ab926c",
   "metadata": {},
   "outputs": [],
   "source": [
    "df.to_csv(f'{pathname}.csv', index=False)"
   ]
  },
  {
   "cell_type": "code",
   "execution_count": null,
   "id": "6700b80e-55d4-4b47-929c-37c727c00383",
   "metadata": {},
   "outputs": [],
   "source": [
    "#df_links.to_csv(f'links_{pathname}.csv', index=False)"
   ]
  },
  {
   "cell_type": "code",
   "execution_count": null,
   "id": "25d85c8a-81a3-4e0b-9e46-fb3616bca93e",
   "metadata": {},
   "outputs": [],
   "source": [
    "#df_links = df[df['url'].str.contains(\"http://\")]"
   ]
  },
  {
   "cell_type": "code",
   "execution_count": null,
   "id": "bc980681-f427-43f4-a47a-1c7da1125ee1",
   "metadata": {},
   "outputs": [],
   "source": [
    "#print(df.to_string())"
   ]
  },
  {
   "cell_type": "markdown",
   "id": "4be378b1-2805-4023-967f-2f934459152c",
   "metadata": {},
   "source": [
    "## redundant?\n",
    "get atomID and graphicURL into pandas df from multiple collections (and subfolders) using rglob (pathlib)"
   ]
  },
  {
   "cell_type": "code",
   "execution_count": null,
   "id": "03b7f01b-930c-4cf3-ace4-ae7a2c818ab5",
   "metadata": {},
   "outputs": [],
   "source": [
    "from pathlib import Path\n",
    "import xml.etree.ElementTree as ET\n",
    "import pandas as pd"
   ]
  },
  {
   "cell_type": "code",
   "execution_count": null,
   "id": "7f8d1bd9-5899-42b3-bc60-f7d5213e082c",
   "metadata": {},
   "outputs": [],
   "source": [
    "namespaces = {'atom': 'http://www.w3.org/2005/Atom', 'cei': 'http://www.monasterium.net/NS/cei'}\n",
    "directoryPath = '../../data/monasterium/MOM-data/db/mom-data/metadata.charter.public/DE-StaAWuerzburg/Buergerspital'\n",
    "fileExtension = ('*.cei.xml')"
   ]
  },
  {
   "cell_type": "code",
   "execution_count": null,
   "id": "f56305ac-2651-4ef5-9a4d-d574cccad42f",
   "metadata": {},
   "outputs": [],
   "source": [
    "atomIDs = []\n",
    "attributes = []\n",
    "\n",
    "for file in Path(directoryPath).rglob(fileExtension):\n",
    "    tree = ET.parse(file)\n",
    "    root = tree.getroot()\n",
    "    for tag in root.findall('.//cei:graphic', namespaces):\n",
    "        atomID = root[0].text\n",
    "        atomIDs.append(atomID)\n",
    "        if 'url' in tag.attrib:\n",
    "            attribute = tag.attrib['url'] \n",
    "            attributes.append(attribute)\n",
    "        else:\n",
    "            continue"
   ]
  },
  {
   "cell_type": "code",
   "execution_count": null,
   "id": "69de1ebd-0cbe-44b9-a777-d041f08aea81",
   "metadata": {},
   "outputs": [],
   "source": [
    "img_list = list(zip(atomIDs, attributes))\n",
    "df = pd.DataFrame(img_list).rename(columns={0: 'atom', 1: 'url'})\n",
    "df"
   ]
  },
  {
   "cell_type": "code",
   "execution_count": null,
   "id": "ee689866-9a8b-4ef3-93e2-9e48c580d561",
   "metadata": {},
   "outputs": [],
   "source": [
    "import pathlib\n",
    "path = pathlib.PurePath(directoryPath)\n",
    "pathname = path.name"
   ]
  },
  {
   "cell_type": "code",
   "execution_count": null,
   "id": "69dcb1ff-1ce6-4dc0-87b6-b559296c4a53",
   "metadata": {},
   "outputs": [],
   "source": [
    "df.to_csv(f'{pathname}.csv', index=False)"
   ]
  },
  {
   "cell_type": "markdown",
   "id": "2f2c4521-f1fd-4038-81fc-e097869e15de",
   "metadata": {
    "tags": []
   },
   "source": [
    "# transform referential img-.xml file into csv using lxml (relatively fast) ✔\n",
    "requires lxml since etree does not have full xpath support (no getparent after using find)"
   ]
  },
  {
   "cell_type": "code",
   "execution_count": null,
   "id": "19e26243-05c7-4b12-8752-0a15cfd5b21e",
   "metadata": {},
   "outputs": [],
   "source": [
    "from pathlib import Path\n",
    "from lxml import etree\n",
    "import pandas as pd"
   ]
  },
  {
   "cell_type": "code",
   "execution_count": null,
   "id": "5ac7f028-d66a-4e7a-b4fd-a7723c3fb8e8",
   "metadata": {},
   "outputs": [],
   "source": [
    "file = '\\\\\\?/'+'C://Users/atzenhof/playground/data/monasterium/MOM-data/image_xmls/images_5.xml'"
   ]
  },
  {
   "cell_type": "code",
   "execution_count": null,
   "id": "0c9af448-bb0a-4dcc-aca7-071462187550",
   "metadata": {},
   "outputs": [],
   "source": [
    "tree = etree.parse(file)\n",
    "root = tree.getroot()"
   ]
  },
  {
   "cell_type": "code",
   "execution_count": null,
   "id": "62a9e4e2-f2ae-4196-84dc-c9ebebeeb00c",
   "metadata": {},
   "outputs": [],
   "source": [
    "atomIDs = []\n",
    "image_links = []\n",
    "for img in root.findall('.//img', namespaces):\n",
    "    atomID = img.getparent().attrib['id']\n",
    "    atomIDs.append(atomID)\n",
    "    image_link = img.attrib['src']\n",
    "    image_links.append(image_link)"
   ]
  },
  {
   "cell_type": "code",
   "execution_count": null,
   "id": "e3cc1212-9fbe-4cd1-99d3-9642502dd755",
   "metadata": {},
   "outputs": [],
   "source": [
    "img_list = list(zip(atomIDs, image_links))\n",
    "df = pd.DataFrame(img_list).rename(columns={0: 'atom', 1: 'url'})\n",
    "df"
   ]
  },
  {
   "cell_type": "code",
   "execution_count": null,
   "id": "acdca2e2-fa4f-4638-9ced-6008ea215bcc",
   "metadata": {},
   "outputs": [],
   "source": [
    "df.to_csv('links.csv', index=False)"
   ]
  },
  {
   "cell_type": "markdown",
   "id": "71ff29f8-6078-4740-82c7-cbe2d211d90d",
   "metadata": {},
   "source": [
    "# 👑 transform referential img-.xml files (plural!) into csv using lxml (relatively fast) ✔"
   ]
  },
  {
   "cell_type": "code",
   "execution_count": 1,
   "id": "25c73a72-217d-4aa8-807f-596554c2b845",
   "metadata": {},
   "outputs": [],
   "source": [
    "from pathlib import PurePath\n",
    "from pathlib import Path\n",
    "from lxml import etree\n",
    "import pandas as pd"
   ]
  },
  {
   "cell_type": "code",
   "execution_count": 2,
   "id": "d48398b5-5cc4-4d3f-a9c0-72a1a4d7d5ea",
   "metadata": {},
   "outputs": [],
   "source": [
    "namespaces = {'atom': 'http://www.w3.org/2005/Atom', 'cei': 'http://www.monasterium.net/NS/cei'}\n",
    "directoryPath = '\\\\\\?/'+'C://Users/atzenhof/playground/data/monasterium/MOM-data/image_xmls' # path escape due to long path\n",
    "fileExtension = ('*.xml')"
   ]
  },
  {
   "cell_type": "code",
   "execution_count": 3,
   "id": "f6a91c6a-f1da-4198-96d4-dcac0dc73dd4",
   "metadata": {},
   "outputs": [],
   "source": [
    "atomIDs = []\n",
    "image_links = []\n",
    "\n",
    "for file in Path(directoryPath).rglob(fileExtension):\n",
    "    tree = etree.parse(str(file)) # requres conversion to str since lxml does not vibe with windowspath\n",
    "    root = tree.getroot()\n",
    "    for img in root.findall('.//img', namespaces):\n",
    "        atomID = img.getparent().attrib['id']\n",
    "        atomIDs.append(atomID)\n",
    "        image_link = img.attrib['src']\n",
    "        image_links.append(image_link)"
   ]
  },
  {
   "cell_type": "code",
   "execution_count": 4,
   "id": "424c2fd2-72df-4566-a7d5-b5378d0d0c1f",
   "metadata": {},
   "outputs": [
    {
     "data": {
      "text/html": [
       "<div>\n",
       "<style scoped>\n",
       "    .dataframe tbody tr th:only-of-type {\n",
       "        vertical-align: middle;\n",
       "    }\n",
       "\n",
       "    .dataframe tbody tr th {\n",
       "        vertical-align: top;\n",
       "    }\n",
       "\n",
       "    .dataframe thead th {\n",
       "        text-align: right;\n",
       "    }\n",
       "</style>\n",
       "<table border=\"1\" class=\"dataframe\">\n",
       "  <thead>\n",
       "    <tr style=\"text-align: right;\">\n",
       "      <th></th>\n",
       "      <th>atom</th>\n",
       "      <th>url</th>\n",
       "    </tr>\n",
       "  </thead>\n",
       "  <tbody>\n",
       "    <tr>\n",
       "      <th>0</th>\n",
       "      <td>tag:www.monasterium.net,2011:/charter/AT-HHStA...</td>\n",
       "      <td>http://images.monasterium.net/img/AT-OeStA-HHS...</td>\n",
       "    </tr>\n",
       "    <tr>\n",
       "      <th>1</th>\n",
       "      <td>tag:www.monasterium.net,2011:/charter/AT-HHStA...</td>\n",
       "      <td>http://images.monasterium.net/img/AT-OeStA-HHS...</td>\n",
       "    </tr>\n",
       "    <tr>\n",
       "      <th>2</th>\n",
       "      <td>tag:www.monasterium.net,2011:/charter/AT-HHStA...</td>\n",
       "      <td>http://images.monasterium.net/img/AT-OeStA-HHS...</td>\n",
       "    </tr>\n",
       "    <tr>\n",
       "      <th>3</th>\n",
       "      <td>tag:www.monasterium.net,2011:/charter/AT-HHStA...</td>\n",
       "      <td>http://images.monasterium.net/img/AT-OeStA-HHS...</td>\n",
       "    </tr>\n",
       "    <tr>\n",
       "      <th>4</th>\n",
       "      <td>tag:www.monasterium.net,2011:/charter/AT-HHStA...</td>\n",
       "      <td>http://images.monasterium.net/img/AT-OeStA-HHS...</td>\n",
       "    </tr>\n",
       "    <tr>\n",
       "      <th>...</th>\n",
       "      <td>...</td>\n",
       "      <td>...</td>\n",
       "    </tr>\n",
       "    <tr>\n",
       "      <th>815787</th>\n",
       "      <td>tag:www.monasterium.net,2011:/charter/BISANU/1...</td>\n",
       "      <td>https://images.monasterium.net/pics/858/132702...</td>\n",
       "    </tr>\n",
       "    <tr>\n",
       "      <th>815788</th>\n",
       "      <td>tag:www.monasterium.net,2011:/charter/BISANU/1...</td>\n",
       "      <td>https://images.monasterium.net/pics/858/132702...</td>\n",
       "    </tr>\n",
       "    <tr>\n",
       "      <th>815789</th>\n",
       "      <td>tag:www.monasterium.net,2011:/charter/BISANU/1...</td>\n",
       "      <td>https://images.monasterium.net/pics/858/132702...</td>\n",
       "    </tr>\n",
       "    <tr>\n",
       "      <th>815790</th>\n",
       "      <td>tag:www.monasterium.net,2011:/charter/BISANU/1...</td>\n",
       "      <td>https://images.monasterium.net/pics/858/I.._IE...</td>\n",
       "    </tr>\n",
       "    <tr>\n",
       "      <th>815791</th>\n",
       "      <td>tag:www.monasterium.net,2011:/charter/BISANU/1...</td>\n",
       "      <td>https://images.monasterium.net/pics/858/09_Jan...</td>\n",
       "    </tr>\n",
       "  </tbody>\n",
       "</table>\n",
       "<p>815792 rows × 2 columns</p>\n",
       "</div>"
      ],
      "text/plain": [
       "                                                     atom  \\\n",
       "0       tag:www.monasterium.net,2011:/charter/AT-HHStA...   \n",
       "1       tag:www.monasterium.net,2011:/charter/AT-HHStA...   \n",
       "2       tag:www.monasterium.net,2011:/charter/AT-HHStA...   \n",
       "3       tag:www.monasterium.net,2011:/charter/AT-HHStA...   \n",
       "4       tag:www.monasterium.net,2011:/charter/AT-HHStA...   \n",
       "...                                                   ...   \n",
       "815787  tag:www.monasterium.net,2011:/charter/BISANU/1...   \n",
       "815788  tag:www.monasterium.net,2011:/charter/BISANU/1...   \n",
       "815789  tag:www.monasterium.net,2011:/charter/BISANU/1...   \n",
       "815790  tag:www.monasterium.net,2011:/charter/BISANU/1...   \n",
       "815791  tag:www.monasterium.net,2011:/charter/BISANU/1...   \n",
       "\n",
       "                                                      url  \n",
       "0       http://images.monasterium.net/img/AT-OeStA-HHS...  \n",
       "1       http://images.monasterium.net/img/AT-OeStA-HHS...  \n",
       "2       http://images.monasterium.net/img/AT-OeStA-HHS...  \n",
       "3       http://images.monasterium.net/img/AT-OeStA-HHS...  \n",
       "4       http://images.monasterium.net/img/AT-OeStA-HHS...  \n",
       "...                                                   ...  \n",
       "815787  https://images.monasterium.net/pics/858/132702...  \n",
       "815788  https://images.monasterium.net/pics/858/132702...  \n",
       "815789  https://images.monasterium.net/pics/858/132702...  \n",
       "815790  https://images.monasterium.net/pics/858/I.._IE...  \n",
       "815791  https://images.monasterium.net/pics/858/09_Jan...  \n",
       "\n",
       "[815792 rows x 2 columns]"
      ]
     },
     "execution_count": 4,
     "metadata": {},
     "output_type": "execute_result"
    }
   ],
   "source": [
    "img_list = list(zip(atomIDs, image_links))\n",
    "df = pd.DataFrame(img_list).rename(columns={0: 'atom', 1: 'url'})\n",
    "df"
   ]
  },
  {
   "cell_type": "code",
   "execution_count": null,
   "id": "00ea9888-3620-41d5-9b07-71c6207876a9",
   "metadata": {},
   "outputs": [],
   "source": [
    "#path = pathlib.PurePath(directoryPath)\n",
    "path = PurePath(directoryPath)\n",
    "pathname = path.name"
   ]
  },
  {
   "cell_type": "code",
   "execution_count": null,
   "id": "2318d580-302d-4fba-bc19-e3f0340c3484",
   "metadata": {},
   "outputs": [],
   "source": [
    "df.to_csv(f'{pathname}.csv', index=False)"
   ]
  },
  {
   "cell_type": "markdown",
   "id": "7ca6613c-46cd-442e-9f7d-dfb56123b0e0",
   "metadata": {},
   "source": [
    "# index-based xml scrape (clunky, not recommended)\n",
    "This is bad because it is rigid and depend on the .xml not changing the structure. No index may change - all .xml-tags must be placed in the same way, each time.\n",
    "One possible error visible: [6] not always the case for first level after root since copied charters have to be positioned at [7], 6 is taken by atom:link"
   ]
  },
  {
   "cell_type": "markdown",
   "id": "00ca1a64-0c05-4dd3-a9db-26220bec61bc",
   "metadata": {
    "tags": []
   },
   "source": [
    "## get atom_Id ✔"
   ]
  },
  {
   "cell_type": "code",
   "execution_count": null,
   "id": "b29673ad",
   "metadata": {},
   "outputs": [],
   "source": [
    "root[0].text"
   ]
  },
  {
   "cell_type": "markdown",
   "id": "bf9ed28d-8876-4286-9b50-5e416f070c99",
   "metadata": {
    "tags": []
   },
   "source": [
    "## get idno ✔"
   ]
  },
  {
   "cell_type": "code",
   "execution_count": null,
   "id": "7277f0a8-dd64-486e-ba1b-d8ba81f58216",
   "metadata": {},
   "outputs": [],
   "source": [
    "(root[6][0][1][0].attrib).get('id')"
   ]
  },
  {
   "cell_type": "markdown",
   "id": "77629cb6-9d23-46e5-8825-4146461eba84",
   "metadata": {
    "tags": []
   },
   "source": [
    "## get specific img_link ✔"
   ]
  },
  {
   "cell_type": "code",
   "execution_count": null,
   "id": "bf035c54-e674-419a-9102-81ba14a0a6cd",
   "metadata": {},
   "outputs": [],
   "source": [
    "(root[6][0][1][1][2][1][0].attrib).get('url')"
   ]
  },
  {
   "cell_type": "markdown",
   "id": "1556aa53-5708-4abf-b2f9-f0f63cb502fe",
   "metadata": {
    "tags": []
   },
   "source": [
    "## get all img_links from 1 xml ✔"
   ]
  },
  {
   "cell_type": "code",
   "execution_count": null,
   "id": "a57f7b21-8f26-4884-85e2-a549a713bb25",
   "metadata": {},
   "outputs": [],
   "source": [
    "level_witnessOrig = root[6][0][1][1][2]\n",
    "for child in level_witnessOrig:\n",
    "    if child.tag == '{http://www.monasterium.net/NS/cei}figure':\n",
    "        print((child[0].attrib).get('url'))\n",
    "    else:\n",
    "        pass"
   ]
  }
 ],
 "metadata": {
  "kernelspec": {
   "display_name": "Python 3 (ipykernel)",
   "language": "python",
   "name": "python3"
  },
  "language_info": {
   "codemirror_mode": {
    "name": "ipython",
    "version": 3
   },
   "file_extension": ".py",
   "mimetype": "text/x-python",
   "name": "python",
   "nbconvert_exporter": "python",
   "pygments_lexer": "ipython3",
   "version": "3.9.7"
  }
 },
 "nbformat": 4,
 "nbformat_minor": 5
}
