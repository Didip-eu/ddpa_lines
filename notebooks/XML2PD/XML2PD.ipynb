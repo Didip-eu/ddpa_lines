{
 "cells": [
  {
   "attachments": {},
   "cell_type": "markdown",
   "metadata": {},
   "source": [
    "# General"
   ]
  },
  {
   "attachments": {},
   "cell_type": "markdown",
   "metadata": {},
   "source": [
    "TODO\n",
    "- add double unnest of xpath result\n",
    "- fix order"
   ]
  },
  {
   "attachments": {},
   "cell_type": "markdown",
   "metadata": {},
   "source": [
    "## Imports"
   ]
  },
  {
   "cell_type": "code",
   "execution_count": null,
   "metadata": {},
   "outputs": [],
   "source": [
    "from lxml import etree\n",
    "from pathlib import Path\n",
    "from pathlib import PurePosixPath\n",
    "from datetime import datetime\n",
    "import os\n",
    "import pandas as pd\n",
    "import numpy as np\n",
    "import pickle\n",
    "import re\n",
    "from pprint import pprint\n",
    "from random import sample\n",
    "from tqdm import tqdm"
   ]
  },
  {
   "attachments": {},
   "cell_type": "markdown",
   "metadata": {},
   "source": [
    "## Parameters"
   ]
  },
  {
   "cell_type": "code",
   "execution_count": null,
   "metadata": {},
   "outputs": [],
   "source": [
    "pd.set_option('display.max_colwidth', 100)"
   ]
  },
  {
   "cell_type": "code",
   "execution_count": null,
   "metadata": {},
   "outputs": [],
   "source": [
    "namespaces = {'atom': 'http://www.w3.org/2005/Atom', 'cei': 'http://www.monasterium.net/NS/cei'}\n",
    "directoryPath = \"../../data/db/mom-data/metadata.charter.public\"\n",
    "#directoryPath = \"../../data/in/selected_charters/\"\n",
    "fileExtension = \".cei.xml\""
   ]
  },
  {
   "attachments": {},
   "cell_type": "markdown",
   "metadata": {},
   "source": [
    "# Load .xml mapping"
   ]
  },
  {
   "cell_type": "code",
   "execution_count": null,
   "metadata": {},
   "outputs": [],
   "source": [
    "with open(\"../../data/mapping/CEI2CSV.pkl\", \"rb\") as f:\n",
    "    mapping = pickle.load(f)\n",
    "\n",
    "pprint(mapping)"
   ]
  },
  {
   "attachments": {},
   "cell_type": "markdown",
   "metadata": {},
   "source": [
    "# Scan directory and create paths"
   ]
  },
  {
   "cell_type": "code",
   "execution_count": null,
   "metadata": {},
   "outputs": [],
   "source": [
    "def get_file_paths(directory):\n",
    "    for entry in os.scandir(directory):\n",
    "        if entry.is_file() and entry.name.endswith(fileExtension):\n",
    "            yield Path(entry.path)\n",
    "        elif entry.is_dir():\n",
    "            yield from get_file_paths(entry.path)\n",
    "        else:\n",
    "            continue"
   ]
  },
  {
   "cell_type": "code",
   "execution_count": null,
   "metadata": {},
   "outputs": [],
   "source": [
    "paths = [f\"{PurePosixPath(path)}\" for path in get_file_paths(directoryPath)]\n",
    "#paths = sample(paths, 1000)"
   ]
  },
  {
   "attachments": {},
   "cell_type": "markdown",
   "metadata": {},
   "source": [
    "# Create deques, query paths, and fill deques"
   ]
  },
  {
   "cell_type": "code",
   "execution_count": null,
   "metadata": {},
   "outputs": [],
   "source": [
    "def get_xpath_result(xpath_mapping):\n",
    "    return tree.xpath(xpath_mapping, namespaces = namespaces, smart_strings = False)"
   ]
  },
  {
   "cell_type": "code",
   "execution_count": null,
   "metadata": {},
   "outputs": [],
   "source": [
    "lists = [\"atom_id\", \"cei_abstract_joined\", \"cei_abstract_foreign\", \"cei_tenor\", \"cei_pTenor\", \"cei_placeName\", \"cei_lang_MOM\", \"cei_date\", \"cei_dateRange\", \"cei_date_ATTRIBUTE_value\", \"cei_dateRange_ATTRIBUTE_from\", \"cei_dateRange_ATTRIBUTE_to\", \"cei_graphic_ATTRIBUTE_url_orig\", \"cei_graphic_ATTRIBUTE_url_copy\"]\n",
    "atom_id, cei_abstract_joined, cei_abstract_foreign, cei_tenor, cei_pTenor, cei_placeName, cei_lang_MOM, cei_date, cei_dateRange, cei_date_ATTRIBUTE_value, cei_dateRange_ATTRIBUTE_from, cei_dateRange_ATTRIBUTE_to, cei_graphic_ATTRIBUTE_url_orig, cei_graphic_ATTRIBUTE_url_copy = ([] for i in range(len(lists)))"
   ]
  },
  {
   "cell_type": "code",
   "execution_count": null,
   "metadata": {},
   "outputs": [],
   "source": [
    "for file in tqdm(paths):\n",
    "    with open(file, \"r\", encoding=\"utf-8\") as f:\n",
    "        tree = etree.parse(f)\n",
    "        atom_id.append(get_xpath_result(f\"{mapping['atom:id']}/text()\"))\n",
    "        cei_abstract_joined.append(\"\".join(get_xpath_result(f\"{mapping['cei:abstract']}/descendant-or-self::node()[not(name()='cei:sup')]/text()\")))\n",
    "        cei_abstract_foreign.append(get_xpath_result(f\"{mapping['cei:foreign']}/text()\"))\n",
    "        #cei_tenor_joined.append(\"\".join(get_xpath_result(f\"{mapping['cei:tenor']}/descendant-or-self::node()[not(name()='cei:sup')]/text()\")))\n",
    "        cei_tenor.append(\"\".join(get_xpath_result(f\"{mapping['cei:tenor']}/descendant-or-self::*/text()\"))) #TODO: change to ::*\n",
    "        cei_pTenor.append(get_xpath_result(f\"{mapping['cei:pTenor']}/text()[not(self::cei:sup)]\"))\n",
    "        cei_placeName.append(get_xpath_result(f\"{mapping['cei:issued/cei:placeName']}/text()\"))\n",
    "        cei_lang_MOM.append(get_xpath_result(f\"{mapping['cei:lang_MOM']}/text()\"))\n",
    "        cei_date.append(get_xpath_result(f\"{mapping['cei:date']}/text()\"))\n",
    "        cei_dateRange.append(get_xpath_result(f\"{mapping['cei:dateRange']}/text()\"))\n",
    "        cei_date_ATTRIBUTE_value.append(get_xpath_result(f\"{mapping['cei:date']}/@value\"))\n",
    "        cei_dateRange_ATTRIBUTE_from.append(get_xpath_result(f\"{mapping['cei:dateRange']}/@from\"))\n",
    "        cei_dateRange_ATTRIBUTE_to.append(get_xpath_result(f\"{mapping['cei:dateRange']}/@to\"))\n",
    "        cei_graphic_ATTRIBUTE_url_orig.append(get_xpath_result(f\"{mapping['@url']}\"))\n",
    "        cei_graphic_ATTRIBUTE_url_copy.append(get_xpath_result(f\"{mapping['cei:graphic/@url']}\"))"
   ]
  },
  {
   "attachments": {},
   "cell_type": "markdown",
   "metadata": {},
   "source": [
    "### just atomid parse"
   ]
  },
  {
   "cell_type": "code",
   "execution_count": null,
   "metadata": {},
   "outputs": [],
   "source": [
    "atom_id = []"
   ]
  },
  {
   "cell_type": "code",
   "execution_count": null,
   "metadata": {},
   "outputs": [],
   "source": [
    "for file in tqdm(paths):\n",
    "    with open(file, \"r\", encoding=\"utf-8\") as f:\n",
    "        tree = etree.parse(f)\n",
    "        atom_id.append(get_xpath_result(f\"{mapping['atom:id']}/text()\"))"
   ]
  },
  {
   "cell_type": "code",
   "execution_count": null,
   "metadata": {},
   "outputs": [],
   "source": [
    "atom_id"
   ]
  },
  {
   "cell_type": "code",
   "execution_count": null,
   "metadata": {},
   "outputs": [],
   "source": [
    "from itertools import chain\n",
    "\n",
    "atom_id_list = list(chain.from_iterable(atom_id))\n",
    "atom_id_list"
   ]
  },
  {
   "attachments": {},
   "cell_type": "markdown",
   "metadata": {},
   "source": []
  },
  {
   "cell_type": "code",
   "execution_count": null,
   "metadata": {},
   "outputs": [],
   "source": [
    "with open(\"../../data_windows/out/atomids.txt\", mode=\"w\") as f:\n",
    "    for i in atom_id:\n",
    "        f.write(f\"{i}\\n\")"
   ]
  },
  {
   "cell_type": "code",
   "execution_count": null,
   "metadata": {},
   "outputs": [],
   "source": [
    "with open('data.json', 'w') as file:\n",
    "    json.dump(python_obj, file)"
   ]
  },
  {
   "cell_type": "code",
   "execution_count": null,
   "metadata": {},
   "outputs": [],
   "source": [
    "import json\n",
    "with open(\"../../data_windows/out/atomid\")\n",
    "json.dumps(\"../../data/test.json\")"
   ]
  },
  {
   "attachments": {},
   "cell_type": "markdown",
   "metadata": {},
   "source": [
    "# Merge deques to dataframe"
   ]
  },
  {
   "cell_type": "code",
   "execution_count": null,
   "metadata": {},
   "outputs": [],
   "source": [
    "column_dict = {}\n",
    "for i, item in enumerate(lists):\n",
    "    column_dict[i] = item\n",
    "\n",
    "contents = list(zip(atom_id, cei_abstract_joined, cei_abstract_foreign, cei_tenor, cei_pTenor, cei_placeName, cei_lang_MOM, cei_date, cei_dateRange, cei_date_ATTRIBUTE_value, cei_dateRange_ATTRIBUTE_from, cei_dateRange_ATTRIBUTE_to, cei_graphic_ATTRIBUTE_url_orig, cei_graphic_ATTRIBUTE_url_copy))\n",
    "contents_full = pd.DataFrame(contents).rename(columns = column_dict)"
   ]
  },
  {
   "cell_type": "code",
   "execution_count": null,
   "metadata": {},
   "outputs": [],
   "source": [
    "contents_full"
   ]
  },
  {
   "cell_type": "code",
   "execution_count": null,
   "metadata": {},
   "outputs": [],
   "source": [
    "def save_df_to_nljson(df, location, timemarker, chunk_size=30000):\n",
    "    df_size=len(df)\n",
    "    for i, start in enumerate(range(0, df_size, chunk_size)):\n",
    "        df[start:start+chunk_size].to_json(f\"{location}/df_name_{timemarker}_{i}.json\", orient=\"records\", lines=True)"
   ]
  },
  {
   "attachments": {},
   "cell_type": "markdown",
   "metadata": {},
   "source": [
    "# Export whole dataframe"
   ]
  },
  {
   "cell_type": "code",
   "execution_count": null,
   "metadata": {},
   "outputs": [],
   "source": [
    "location = \"../../data/out/chunked_full/\"\n",
    "timemarker = datetime.today().strftime('%Y-%m-%d-%H%M')"
   ]
  },
  {
   "cell_type": "code",
   "execution_count": null,
   "metadata": {},
   "outputs": [],
   "source": [
    "#save_df_to_csv(contents_full, location=location, timemarker=timemarker)"
   ]
  },
  {
   "cell_type": "code",
   "execution_count": null,
   "metadata": {},
   "outputs": [],
   "source": [
    "save_df_to_nljson(contents_full, location=location, timemarker=timemarker)"
   ]
  },
  {
   "cell_type": "code",
   "execution_count": null,
   "metadata": {},
   "outputs": [],
   "source": [
    "#contents_full.to_json(f\"../../data/output/charters_full_{timemarker}.json\")"
   ]
  },
  {
   "attachments": {},
   "cell_type": "markdown",
   "metadata": {},
   "source": [
    "---"
   ]
  },
  {
   "attachments": {},
   "cell_type": "markdown",
   "metadata": {},
   "source": [
    "# Import generated data as dataframe"
   ]
  },
  {
   "cell_type": "code",
   "execution_count": null,
   "metadata": {},
   "outputs": [],
   "source": [
    "#df = pd.read_json(\"../../data/output/charters_full_2022-11-22-1044.json\")"
   ]
  },
  {
   "cell_type": "code",
   "execution_count": null,
   "metadata": {},
   "outputs": [],
   "source": [
    "# contents_full_json.sample(n=10)"
   ]
  },
  {
   "cell_type": "code",
   "execution_count": null,
   "metadata": {},
   "outputs": [],
   "source": [
    "# with pd.option_context('display.max_rows', None, 'display.max_columns', None):  # more options can be specified also\n",
    "#     print(contents_full_parquet.iloc[1].to_string)"
   ]
  },
  {
   "attachments": {},
   "cell_type": "markdown",
   "metadata": {},
   "source": [
    "# Misc"
   ]
  }
 ],
 "metadata": {
  "kernelspec": {
   "display_name": "Python 3.8.10 ('didipcv')",
   "language": "python",
   "name": "python3"
  },
  "language_info": {
   "codemirror_mode": {
    "name": "ipython",
    "version": 3
   },
   "file_extension": ".py",
   "mimetype": "text/x-python",
   "name": "python",
   "nbconvert_exporter": "python",
   "pygments_lexer": "ipython3",
   "version": "3.8.10"
  },
  "orig_nbformat": 4,
  "vscode": {
   "interpreter": {
    "hash": "51de90f0d358e009ce9df81fe88f979b0f6e2c5f2b81c54b9ff289164d1b3424"
   }
  }
 },
 "nbformat": 4,
 "nbformat_minor": 2
}
