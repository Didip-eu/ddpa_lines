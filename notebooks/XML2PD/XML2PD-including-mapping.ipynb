{
 "cells": [
  {
   "cell_type": "code",
   "execution_count": null,
   "metadata": {},
   "outputs": [],
   "source": [
    "import json\n",
    "import tqdm\n",
    "from lxml import etree\n",
    "from pathlib import Path\n",
    "from pprint import pprint\n",
    "import pandas as pd\n",
    "\n",
    "from ddp_util import get_path_list\n",
    "\n",
    "\n",
    "#fsdb_dir =  \"../../data/db/mom-data/metadata.charter.public/AT-AWMK\"\n",
    "fsdb_dir =  \"../../data/db/mom-data/metadata.charter.public\"\n",
    "cei_filename =  \"cei.xml\"\n",
    "\n",
    "\n",
    "namespaces = {\"atom\": \"http://www.w3.org/2005/Atom\", \"cei\": \"http://www.monasterium.net/NS/cei\"}\n",
    "\n",
    "\"\"\"\n",
    "TODO: make module for this: xpath_expressions could just be a json that is filled before\n",
    "mapping_file_dir = \"../../data/mapping/xpath_selection.json\"\n",
    "with open(mapping_file_dir, mode=\"r\") as mapping_file:\n",
    "    xpath_expressions = json.load(mapping_file)\n",
    "\"\"\"\n",
    "\n",
    "xpath_expressions = {\n",
    "    \"atom_entry\": \"/atom:entry/atom:id/text()\",\n",
    "    \"weird_c\": \"//cei:c/text()\",\n",
    "    \"cei_sigillant\": \"//cei:sigillant/text()\",\n",
    "    \"cei_seal_ATTRIBUTE_place\": \"//cei:seal/@place\",\n",
    "    \"cei_legend_ATTRIBUTE_place\": \"//cei:legend/@place\",\n",
    "    \"cei_listBibl\": \"//cei:listBibl/text()\",\n",
    "    \"cei_bibl\": \"//cei:bibl/text()\",\n",
    "    \"cei_pTenor\": \"//cei:pTenor/text()\",\n",
    "    \"cei_tenor\": \"//cei:tenor/text()\",\n",
    "    \"cei_tenor_desc\": \"//cei:tenor/descendant-or-self::*/text()\",\n",
    "    \"cei_tenor_node\": \"//cei:tenor/node()\",\n",
    "    \"cei_mod_type\": \"//cei:mod/@type\",\n",
    "    \"cei_supplied_lang\": \"//cei:supplied/@lang\"\n",
    "}\n",
    "\n",
    "\n",
    "def parse_cei(cei_path):\n",
    "    with open(cei_path, \"rb\") as f:\n",
    "        root = etree.parse(f).getroot()\n",
    "        data = {}\n",
    "        for key, xpath_expr in xpath_expressions.items():\n",
    "            result = root.xpath(xpath_expr, namespaces=namespaces, smart_strings=False)\n",
    "            if len(result) == 1:\n",
    "                data[key] = result[0] or None\n",
    "            else:\n",
    "                data[key] = result or None\n",
    "        return data"
   ]
  },
  {
   "cell_type": "code",
   "execution_count": null,
   "metadata": {},
   "outputs": [],
   "source": [
    "charter_paths = get_path_list(fsdb_dir, cei_filename)\n",
    "\n",
    "newList = []\n",
    "\n",
    "for charter_path in tqdm.tqdm(charter_paths):\n",
    "    data = parse_cei(charter_path)\n",
    "    newList.append(data)"
   ]
  },
  {
   "cell_type": "code",
   "execution_count": null,
   "metadata": {},
   "outputs": [],
   "source": [
    "df = pd.DataFrame.from_records(newList)"
   ]
  },
  {
   "cell_type": "code",
   "execution_count": null,
   "metadata": {},
   "outputs": [],
   "source": [
    "df"
   ]
  }
 ],
 "metadata": {
  "kernelspec": {
   "display_name": ".venv",
   "language": "python",
   "name": "python3"
  },
  "language_info": {
   "codemirror_mode": {
    "name": "ipython",
    "version": 3
   },
   "file_extension": ".py",
   "mimetype": "text/x-python",
   "name": "python",
   "nbconvert_exporter": "python",
   "pygments_lexer": "ipython3",
   "version": "3.8.10"
  },
  "orig_nbformat": 4
 },
 "nbformat": 4,
 "nbformat_minor": 2
}
