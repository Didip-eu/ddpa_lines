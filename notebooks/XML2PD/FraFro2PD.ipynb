{
 "cells": [
  {
   "cell_type": "markdown",
   "metadata": {},
   "source": [
    "# PALAFRAFRO-V2-2\n",
    "from http://txm.ish-lyon.cnrs.fr/bfm/"
   ]
  },
  {
   "cell_type": "code",
   "execution_count": 1,
   "metadata": {},
   "outputs": [],
   "source": [
    "from lxml import etree\n",
    "from pathlib import Path\n",
    "from pathlib import PurePosixPath\n",
    "from datetime import datetime\n",
    "import os\n",
    "import pandas as pd\n",
    "import re\n",
    "from random import sample\n",
    "from pprint import pprint"
   ]
  },
  {
   "cell_type": "code",
   "execution_count": 2,
   "metadata": {},
   "outputs": [],
   "source": [
    "pd.set_option('display.max_colwidth', 0)"
   ]
  },
  {
   "cell_type": "code",
   "execution_count": 3,
   "metadata": {},
   "outputs": [],
   "source": [
    "corpus_name = \"FraFro2PD2-2\" #only used for export file name\n",
    "directoryPath = \"../data/in/PaLaFraFro2-2_TEI/\"\n",
    "targetPath = \"../data/in/PaLaFraFro2-2_TEI_enriched/\"\n",
    "fileExtension = \".xml\"\n",
    "namespaces = {'tei': 'http://www.tei-c.org/ns/1.0', 'me': 'http://www.menota.org/ns/1.0', 'bfm': 'http://bfm.ens-lsh.fr/ns/1.0'}"
   ]
  },
  {
   "cell_type": "code",
   "execution_count": 4,
   "metadata": {},
   "outputs": [],
   "source": [
    "def get_cei_files(base_dir):\n",
    "    for entry in os.scandir(base_dir):\n",
    "        if entry.is_file() and entry.name.endswith(fileExtension):\n",
    "            yield Path(entry.path)\n",
    "        elif entry.is_dir():\n",
    "            yield from get_cei_files(entry.path)\n",
    "        else:\n",
    "            continue"
   ]
  },
  {
   "cell_type": "code",
   "execution_count": 44,
   "metadata": {},
   "outputs": [],
   "source": [
    "paths = [f\"{PurePosixPath(path)}\" for path in get_cei_files(directoryPath)]"
   ]
  },
  {
   "cell_type": "code",
   "execution_count": 45,
   "metadata": {},
   "outputs": [],
   "source": [
    "# enrich/correct existing namespaces in tei-xml since annotators forgot namespace markup\n",
    "for file in paths:\n",
    "    with open(file, \"r\", encoding=\"utf-8\") as file_in:\n",
    "        filename = Path(file).name\n",
    "        rf = file_in.read()\n",
    "        new_file = rf.replace(\"<TEI xmlns\", \"<TEI xmlns:tei\")\n",
    "        with open(f\"{targetPath}{filename}\", \"x\") as file_out:\n",
    "            file_out.write(new_file)"
   ]
  },
  {
   "cell_type": "code",
   "execution_count": 5,
   "metadata": {},
   "outputs": [],
   "source": [
    "# generate corrected paths\n",
    "paths = [f\"{PurePosixPath(path)}\" for path in get_cei_files(targetPath)]"
   ]
  },
  {
   "cell_type": "code",
   "execution_count": 67,
   "metadata": {},
   "outputs": [],
   "source": [
    "lists = [\"name_main\", \"name_formal\", \"date_comp_when\", \"date_comp_notBefore\", \"date_comp_notAfter\", \"date_ms_when\", \"date_ms_notBefore\", \"date_ms_notAfter\", \"region\", \"domain\", \"genre\", \"words\"]\n",
    "name_main, name_formal, date_comp_when, date_comp_notBefore, date_comp_notAfter, date_ms_when, date_ms_notBefore, date_ms_notAfter, region, domain, genre, words = ([] for i in range(len(lists)))"
   ]
  },
  {
   "cell_type": "code",
   "execution_count": 68,
   "metadata": {},
   "outputs": [],
   "source": [
    "for file in paths:\n",
    "    with open(file, \"r\", encoding=\"utf-8\") as f:\n",
    "        tree = etree.parse(f)\n",
    "        name_main.append(tree.xpath(\"//titleStmt/title[@type='main']/text()\"))\n",
    "        name_formal.append(tree.xpath(\"//titleStmt/title[@type='formal']/text()\"))\n",
    "        date_comp_when.append(tree.xpath(\"//creation/date[@type='compo']/@when\"))\n",
    "        date_comp_notBefore.append(tree.xpath(\"//creation/date[@type='compo']/@notBefore\"))\n",
    "        date_comp_notAfter.append(tree.xpath(\"//creation/date[@type='compo']/@notAfter\"))\n",
    "        date_ms_when.append(tree.xpath(\"//creation/date[@type='ms']/@when\"))\n",
    "        date_ms_notBefore.append(tree.xpath(\"//creation/date[@type='ms']/@notBefore\"))\n",
    "        date_ms_notAfter.append(tree.xpath(\"//creation/date[@type='ms']/@notAfter\"))\n",
    "        region.append(tree.xpath(\"//creation/region/text()\"))\n",
    "        domain.append(tree.xpath(\"//keywords/term[@type='domaine']/text()\"))\n",
    "        genre.append(tree.xpath(\"//keywords/term[@type='genre']/text()\"))\n",
    "        words.append(tree.xpath(\"//ab/*/w/text()\"))\n"
   ]
  },
  {
   "cell_type": "code",
   "execution_count": 69,
   "metadata": {},
   "outputs": [],
   "source": [
    "contents = list(zip(name_main, name_formal, date_comp_when, date_comp_notBefore, date_comp_notAfter, date_ms_when, date_ms_notBefore, date_ms_notAfter, region, domain, genre, words))\n",
    "contents_full = pd.DataFrame(contents).rename(columns={0: \"name_main\", 1: \"name_formal\", 2: \"date_comp_when\", 3: \"date_comp_notBefore\", 4: \"date_comp_notAfter\", 5: \"date_ms_when\", 6: \"date_ms_notBefore\", 7: \"date_ms_notAfter\", 8: \"region\", 9: \"domain\", 10: \"genre\", 11: \"words\"})"
   ]
  },
  {
   "cell_type": "code",
   "execution_count": 71,
   "metadata": {},
   "outputs": [],
   "source": [
    "contents_full[\"string\"] = contents_full[\"words\"].str.join(sep=\" \")\n",
    "contents_full[\"string\"] = [re.sub(r' . ', '. ', str(x)) for x in contents_full[\"string\"]]"
   ]
  },
  {
   "cell_type": "code",
   "execution_count": 73,
   "metadata": {},
   "outputs": [],
   "source": [
    "# name output according to subcorpus\n",
    "\n",
    "timemarker = datetime.today().strftime('%Y-%m-%d-%H%M')\n",
    "contents_full.to_json(f\"../data/out/{corpus_name}_{timemarker}.json\")\n",
    "contents_full.to_parquet(f\"../data/out/{corpus_name}_{timemarker}.parquet\")"
   ]
  }
 ],
 "metadata": {
  "kernelspec": {
   "display_name": "Python 3.8.10 ('didipcv')",
   "language": "python",
   "name": "python3"
  },
  "language_info": {
   "codemirror_mode": {
    "name": "ipython",
    "version": 3
   },
   "file_extension": ".py",
   "mimetype": "text/x-python",
   "name": "python",
   "nbconvert_exporter": "python",
   "pygments_lexer": "ipython3",
   "version": "3.8.10"
  },
  "orig_nbformat": 4,
  "vscode": {
   "interpreter": {
    "hash": "51de90f0d358e009ce9df81fe88f979b0f6e2c5f2b81c54b9ff289164d1b3424"
   }
  }
 },
 "nbformat": 4,
 "nbformat_minor": 2
}
