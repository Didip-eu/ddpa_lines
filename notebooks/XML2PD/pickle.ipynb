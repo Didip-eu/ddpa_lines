{
 "cells": [
  {
   "cell_type": "code",
   "execution_count": null,
   "metadata": {},
   "outputs": [],
   "source": [
    "import pickle\n",
    "from pprint import pprint\n",
    "\n",
    "pickle_path = \"data/helpers/CEI2CSV.pkl\"\n",
    "with open(pickle_path, mode=\"rb\") as f:\n",
    "    x = pickle.load(f)\n",
    "    \n",
    "pprint(x)"
   ]
  }
 ],
 "metadata": {
  "language_info": {
   "name": "python"
  },
  "orig_nbformat": 4
 },
 "nbformat": 4,
 "nbformat_minor": 2
}
