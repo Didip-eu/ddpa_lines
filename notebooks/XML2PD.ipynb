{
 "cells": [
  {
   "cell_type": "markdown",
   "metadata": {},
   "source": [
    "# General"
   ]
  },
  {
   "cell_type": "markdown",
   "metadata": {},
   "source": [
    "## Imports"
   ]
  },
  {
   "cell_type": "code",
   "execution_count": null,
   "metadata": {},
   "outputs": [],
   "source": [
    "from collections import deque\n",
    "from lxml import etree\n",
    "from pathlib import Path\n",
    "from pathlib import PurePosixPath\n",
    "from datetime import datetime\n",
    "import os\n",
    "import pandas as pd\n",
    "import pickle\n",
    "import pprint\n",
    "import random"
   ]
  },
  {
   "cell_type": "markdown",
   "metadata": {},
   "source": [
    "## Parameters"
   ]
  },
  {
   "cell_type": "code",
   "execution_count": null,
   "metadata": {},
   "outputs": [],
   "source": [
    "pd.set_option('display.max_colwidth', 100)"
   ]
  },
  {
   "cell_type": "code",
   "execution_count": null,
   "metadata": {},
   "outputs": [],
   "source": [
    "namespaces = {'atom': 'http://www.w3.org/2005/Atom', 'cei': 'http://www.monasterium.net/NS/cei'}\n",
    "directoryPath = \"../data/db/mom-data/metadata.charter.public\"\n",
    "#directoryPath = \"../data/db/mom-data/metadata.charter.public/AT-WStLA/HAUrk\"\n",
    "fileExtension = \".cei.xml\""
   ]
  },
  {
   "cell_type": "markdown",
   "metadata": {},
   "source": [
    "# Create .xml mapping"
   ]
  },
  {
   "cell_type": "code",
   "execution_count": null,
   "metadata": {},
   "outputs": [],
   "source": [
    "# to do, see mapping.ipynb"
   ]
  },
  {
   "cell_type": "markdown",
   "metadata": {},
   "source": [
    "# Load .xml mapping"
   ]
  },
  {
   "cell_type": "code",
   "execution_count": null,
   "metadata": {},
   "outputs": [],
   "source": [
    "with open('../data/mapping/CEI2CSV.pkl', 'rb') as f:\n",
    "    mapping = pickle.load(f)\n",
    "\n",
    "pprint.pprint(mapping)"
   ]
  },
  {
   "cell_type": "markdown",
   "metadata": {},
   "source": [
    "# Scan directory and create paths"
   ]
  },
  {
   "cell_type": "code",
   "execution_count": null,
   "metadata": {},
   "outputs": [],
   "source": [
    "def get_file_paths(directory):\n",
    "    for entry in os.scandir(directory):\n",
    "        if entry.is_file() and entry.name.endswith(fileExtension):\n",
    "            yield Path(entry.path)\n",
    "        elif entry.is_dir():\n",
    "            yield from get_file_paths(entry.path)\n",
    "        else:\n",
    "            continue"
   ]
  },
  {
   "cell_type": "code",
   "execution_count": null,
   "metadata": {},
   "outputs": [],
   "source": [
    "paths = [f\"{PurePosixPath(path)}\" for path in get_file_paths(directoryPath)]"
   ]
  },
  {
   "cell_type": "code",
   "execution_count": null,
   "metadata": {},
   "outputs": [],
   "source": [
    "paths_sample = random.sample(paths, 100)"
   ]
  },
  {
   "cell_type": "markdown",
   "metadata": {},
   "source": [
    "# Create deques"
   ]
  },
  {
   "cell_type": "code",
   "execution_count": null,
   "metadata": {},
   "outputs": [],
   "source": [
    "deques = deque([\"atom_id\", \"cei_placeName\", \"cei_lang_MOM\", \"cei_tenor\", \"cei_date\", \"cei_date_ATTRIBUTE_value\", \"cei_dateRange\", \"cei_dateRange_ATTRIBUTE_from\", \"cei_dateRange_ATTRIBUTE_to\", \"cei_abstract\", \"cei_abstract_foreign\", \"cei_graphic_ATTRIBUTE_url_orig\", \"cei_graphic_ATTRIBUTE_url_copy\"])\n",
    "atom_id, cei_placeName, cei_lang_MOM, cei_tenor, cei_date, cei_date_ATTRIBUTE_value, cei_dateRange, cei_dateRange_ATTRIBUTE_from, cei_dateRange_ATTRIBUTE_to, cei_abstract, cei_abstract_foreign, cei_graphic_ATTRIBUTE_url_orig, cei_graphic_ATTRIBUTE_url_copy = ([] for i in range(len(deques)))"
   ]
  },
  {
   "cell_type": "markdown",
   "metadata": {},
   "source": [
    "# Query paths and fill deques"
   ]
  },
  {
   "cell_type": "code",
   "execution_count": null,
   "metadata": {},
   "outputs": [],
   "source": [
    "def get_xpath_result(xpath_mapping):\n",
    "    return tree.xpath(xpath_mapping, namespaces = namespaces, smart_strings = False)\n",
    "\n",
    "for file in paths_sample:\n",
    "    with open(file, \"r\", encoding=\"utf-8\") as f:\n",
    "        tree = etree.parse(file)\n",
    "        atom_id.append(get_xpath_result(f\"{mapping['atom:id']}/text()\"))\n",
    "        cei_abstract.append(\"\".join(get_xpath_result(f\"{mapping['cei:abstract']}/descendant-or-self::text()[not(self::cei:sup)]\")))\n",
    "        cei_abstract_foreign.append(get_xpath_result(f\"{mapping['cei:foreign']}/text()\"))\n",
    "        cei_tenor.append(\"\".join(get_xpath_result(f\"{mapping['cei:tenor']}/descendant-or-self::text()[not(self::cei:sup)]\")))\n",
    "        cei_placeName.append(get_xpath_result(f\"{mapping['cei:issued/cei:placeName']}/text()\"))\n",
    "        cei_lang_MOM.append(get_xpath_result(f\"{mapping['cei:lang_MOM']}/text()\"))\n",
    "        cei_date.append(get_xpath_result(f\"{mapping['cei:date']}/text()\"))\n",
    "        cei_dateRange.append(get_xpath_result(f\"{mapping['cei:dateRange']}/text()\"))\n",
    "        cei_date_ATTRIBUTE_value.append(get_xpath_result(f\"{mapping['cei:date']}/@value\"))\n",
    "        cei_dateRange_ATTRIBUTE_from.append(get_xpath_result(f\"{mapping['cei:dateRange']}/@from\"))\n",
    "        cei_dateRange_ATTRIBUTE_to.append(get_xpath_result(f\"{mapping['cei:dateRange']}/@to\"))\n",
    "        cei_graphic_ATTRIBUTE_url_orig.append(get_xpath_result(f\"{mapping['@url']}\"))\n",
    "        cei_graphic_ATTRIBUTE_url_copy.append(get_xpath_result(f\"{mapping['cei:graphic/@url']}\"))\n",
    "\n"
   ]
  },
  {
   "cell_type": "markdown",
   "metadata": {},
   "source": [
    "# Merge deques to dataframe"
   ]
  },
  {
   "cell_type": "code",
   "execution_count": null,
   "metadata": {},
   "outputs": [],
   "source": [
    "# generate code part for renaming frames\n",
    "for i, item in enumerate(deques):\n",
    "    print(f\"{i}:'{item}',\")\n",
    "    i =+ 1"
   ]
  },
  {
   "cell_type": "code",
   "execution_count": null,
   "metadata": {},
   "outputs": [],
   "source": [
    "contents = list(zip(atom_id, cei_placeName, cei_lang_MOM, cei_tenor, cei_date, cei_date_ATTRIBUTE_value, cei_dateRange, cei_dateRange_ATTRIBUTE_from, cei_dateRange_ATTRIBUTE_to, cei_abstract, cei_abstract_foreign, cei_graphic_ATTRIBUTE_url_orig, cei_graphic_ATTRIBUTE_url_copy))\n",
    "contents_full = pd.DataFrame(contents).rename(\n",
    "    columns={ 0:'atom_id',\n",
    "1:'cei_placeName',\n",
    "2:'cei_lang_MOM',\n",
    "3:'cei_tenor',\n",
    "4:'cei_date',\n",
    "5:'cei_date_ATTRIBUTE_value',\n",
    "6:'cei_dateRange',\n",
    "7:'cei_dateRange_ATTRIBUTE_from',\n",
    "8:'cei_dateRange_ATTRIBUTE_to',\n",
    "9:'cei_abstract',\n",
    "10:'cei_abstract_foreign',\n",
    "11:'cei_graphic_ATTRIBUTE_url_orig',\n",
    "12:'cei_graphic_ATTRIBUTE_url_copy' })"
   ]
  },
  {
   "cell_type": "code",
   "execution_count": null,
   "metadata": {},
   "outputs": [],
   "source": [
    "contents_full"
   ]
  },
  {
   "cell_type": "markdown",
   "metadata": {},
   "source": [
    "# Export dataframe"
   ]
  },
  {
   "cell_type": "code",
   "execution_count": null,
   "metadata": {},
   "outputs": [],
   "source": [
    "timemarker = datetime.today().strftime('%Y-%m-%d-%H%M')\n",
    "contents_full.to_json(f\"../data/output/charters_{timemarker}.json\")\n",
    "contents_full.to_parquet(f\"../data/output/charters_{timemarker}.parquet\")"
   ]
  },
  {
   "cell_type": "markdown",
   "metadata": {},
   "source": [
    "# Import generated data as dataframe"
   ]
  },
  {
   "cell_type": "code",
   "execution_count": null,
   "metadata": {},
   "outputs": [],
   "source": [
    "contents_full_json = pd.read_json(\"../data/output/x.json\")\n",
    "contents_full_parquet = pd.read_parquet('../data/output/x.parquet', engine='pyarrow')"
   ]
  }
 ],
 "metadata": {
  "kernelspec": {
   "display_name": "Python 3.10.5 ('didip')",
   "language": "python",
   "name": "python3"
  },
  "language_info": {
   "codemirror_mode": {
    "name": "ipython",
    "version": 3
   },
   "file_extension": ".py",
   "mimetype": "text/x-python",
   "name": "python",
   "nbconvert_exporter": "python",
   "pygments_lexer": "ipython3",
   "version": "3.10.5"
  },
  "orig_nbformat": 4,
  "vscode": {
   "interpreter": {
    "hash": "1630ff8b1d0ef61a156f83efc8887c6988c096bb09158731ce1d0a82979501ad"
   }
  }
 },
 "nbformat": 4,
 "nbformat_minor": 2
}
