{
 "cells": [
  {
   "cell_type": "code",
   "execution_count": 9,
   "metadata": {},
   "outputs": [],
   "source": [
    "import pandas as pd\n",
    "from ddp_util import chatomid_to_url\n",
    "import random\n",
    "import csv"
   ]
  },
  {
   "cell_type": "markdown",
   "metadata": {},
   "source": [
    "# import data + make lists"
   ]
  },
  {
   "cell_type": "code",
   "execution_count": 2,
   "metadata": {},
   "outputs": [],
   "source": [
    "# load json file generated on the respective date by parsing a Monasterium db dump (\"full20220125-1710\") using /notebooks/XML2PD/XML2PD.ipynyb\n",
    "all_df_full = pd.read_json(\"../../data/in/sampling/charters_2022-09-18-2211.json\")\n",
    "all_atomids = all_df_full.explode(\"atom_id\")[\"atom_id\"].rename(\"atomid\").to_list()\n",
    "all_atomids_with_tenor = (all_df_full[all_df_full[\"cei_tenor_joined\"].astype(str) != \"\"])[\"atom_id\"].explode(\"atom_id\").to_list()"
   ]
  },
  {
   "cell_type": "code",
   "execution_count": 3,
   "metadata": {},
   "outputs": [],
   "source": [
    "# load 1000 charter project sample, downloaded from GSheets\n",
    "cv_atomids = pd.read_csv(\"../../data/in/sampling/1000charters_gsheet.csv\", encoding=\"utf-8\")\n",
    "cv_atomids[\"atomid\"] = cv_atomids[\"URL \"].apply(lambda x : url_to_chatomid(x))\n",
    "cv_atomids = cv_atomids[\"atomid\"].to_list()"
   ]
  },
  {
   "cell_type": "code",
   "execution_count": 4,
   "metadata": {},
   "outputs": [],
   "source": [
    "# load 1000 charter NLP sample, downloaded from Unicloud\n",
    "nlp_atomids = pd.read_parquet(\"../../data/in/sampling/1000charters_nlp.parquet\", engine=\"pyarrow\")\n",
    "nlp_atomids = (nlp_atomids.explode(\"atom_id\")[\"atom_id\"].reset_index(drop=True)).to_list()"
   ]
  },
  {
   "cell_type": "markdown",
   "metadata": {},
   "source": [
    "# generate new nlp sample from charters with texts"
   ]
  },
  {
   "cell_type": "code",
   "execution_count": 7,
   "metadata": {},
   "outputs": [],
   "source": [
    "random.seed(1337)\n",
    "random.shuffle(all_atomids_with_text_less_cv_nlp)\n",
    "nlp2_atomids = sorted(all_atomids_with_text_less_cv_nlp[:1000])"
   ]
  },
  {
   "cell_type": "markdown",
   "metadata": {},
   "source": [
    "# make reduced lists"
   ]
  },
  {
   "cell_type": "code",
   "execution_count": 8,
   "metadata": {},
   "outputs": [],
   "source": [
    "all_atomids_with_text_less_cv_nlp = list(sorted(set(all_atomids_with_tenor) - set(cv_atomids + nlp_atomids)))\n",
    "all_atomids_less_cv_nlp_nlp2 = list(sorted(set(all_atomids) - set(cv_atomids + nlp_atomids + nlp2_atomids)))"
   ]
  },
  {
   "cell_type": "markdown",
   "metadata": {},
   "source": [
    "# generate new 3k from all (minus 'used' atomids))"
   ]
  },
  {
   "cell_type": "code",
   "execution_count": null,
   "metadata": {},
   "outputs": [],
   "source": [
    "assert len(set(nlp_atomids)) == len(set(cv_atomids)) == len(set(nlp2_atomids))\n",
    "assert len(set(nlp_atomids + cv_atomids + nlp2_atomids)) == 3000"
   ]
  },
  {
   "cell_type": "code",
   "execution_count": null,
   "metadata": {},
   "outputs": [],
   "source": [
    "random.seed(2448)\n",
    "random.shuffle(all_atomids_less_cv_nlp_nlp2)\n",
    "newsample_atomids = sorted(all_atomids_less_cv_nlp_nlp2[:3000])"
   ]
  },
  {
   "cell_type": "markdown",
   "metadata": {},
   "source": [
    "# export"
   ]
  },
  {
   "cell_type": "code",
   "execution_count": null,
   "metadata": {},
   "outputs": [],
   "source": [
    "with open(\"../../misc/1000_NLPCharters2/1k_urls.tsv\",\"w\") as f:\n",
    "    w = csv.writer(f, delimiter=\"\\t\", dialect='unix', quoting=csv.QUOTE_NONE)\n",
    "    for n, atomid in enumerate(nlp2_atomids):\n",
    "        w.writerow([n,atomid,chatomid_to_url(atomid=atomid)])"
   ]
  },
  {
   "cell_type": "code",
   "execution_count": null,
   "metadata": {},
   "outputs": [],
   "source": [
    "with open(\"../../misc/3000_rndCharters/3k_urls.tsv\",\"w\") as f:\n",
    "    w = csv.writer(f, delimiter=\"\\t\", dialect='unix', quoting=csv.QUOTE_NONE)\n",
    "    for n, atomid in enumerate(newsample_atomids):\n",
    "        w.writerow([2000+n,atomid,chatomid_to_url(atomid=atomid)])"
   ]
  },
  {
   "cell_type": "markdown",
   "metadata": {},
   "source": [
    "## all charters"
   ]
  },
  {
   "cell_type": "code",
   "execution_count": 12,
   "metadata": {},
   "outputs": [],
   "source": [
    "with open(\"../../misc/all_charters/all_charters.tsv\", \"w\") as f:\n",
    "    w = csv.writer(f, delimiter=\"\\t\", dialect='unix', quoting=csv.QUOTE_NONE)\n",
    "    for n, atomid in enumerate(all_atomids):\n",
    "        try:\n",
    "            w.writerow([n,atomid,chatomid_to_url(atomid=atomid)])\n",
    "        except ValueError:\n",
    "            continue"
   ]
  },
  {
   "cell_type": "code",
   "execution_count": null,
   "metadata": {},
   "outputs": [],
   "source": [
    "# sample3k = pd.read_table(\"../../misc/3000_rndCharters/3k_urls.tsv\")"
   ]
  }
 ],
 "metadata": {
  "kernelspec": {
   "display_name": "Python 3.8.10 ('didipcv')",
   "language": "python",
   "name": "python3"
  },
  "language_info": {
   "codemirror_mode": {
    "name": "ipython",
    "version": 3
   },
   "file_extension": ".py",
   "mimetype": "text/x-python",
   "name": "python",
   "nbconvert_exporter": "python",
   "pygments_lexer": "ipython3",
   "version": "3.8.10"
  },
  "orig_nbformat": 4,
  "vscode": {
   "interpreter": {
    "hash": "51de90f0d358e009ce9df81fe88f979b0f6e2c5f2b81c54b9ff289164d1b3424"
   }
  }
 },
 "nbformat": 4,
 "nbformat_minor": 2
}
