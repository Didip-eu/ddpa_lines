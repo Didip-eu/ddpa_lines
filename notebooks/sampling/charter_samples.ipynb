{
 "cells": [
  {
   "cell_type": "markdown",
   "metadata": {},
   "source": [
    "# imports"
   ]
  },
  {
   "cell_type": "code",
   "execution_count": 115,
   "metadata": {},
   "outputs": [],
   "source": [
    "from lxml import etree\n",
    "from pathlib import Path\n",
    "from pathlib import PurePosixPath\n",
    "from datetime import datetime\n",
    "import os\n",
    "import csv \n",
    "import pandas as pd\n",
    "import numpy as np\n",
    "import pickle\n",
    "import re\n",
    "from pprint import pprint\n",
    "import random\n",
    "from itertools import chain\n",
    "\n",
    "from ddp_util import chatomid_to_url, url_to_chatomid"
   ]
  },
  {
   "cell_type": "markdown",
   "metadata": {},
   "source": [
    "# load datasets, make clean dfs and lists"
   ]
  },
  {
   "cell_type": "code",
   "execution_count": 57,
   "metadata": {},
   "outputs": [
    {
     "name": "stdout",
     "output_type": "stream",
     "text": [
      "0         tag:www.monasterium.net,2011:/charter/069622fc...\n",
      "1         tag:www.monasterium.net,2011:/charter/069622fc...\n",
      "2         tag:www.monasterium.net,2011:/charter/069622fc...\n",
      "3         tag:www.monasterium.net,2011:/charter/069622fc...\n",
      "4         tag:www.monasterium.net,2011:/charter/069622fc...\n",
      "                                ...                        \n",
      "659165    tag:www.monasterium.net,2011:/charter/Wirtembe...\n",
      "659166    tag:www.monasterium.net,2011:/charter/Wirtembe...\n",
      "659167    tag:www.monasterium.net,2011:/charter/Wirtembe...\n",
      "659168    tag:www.monasterium.net,2011:/charter/Wirtembe...\n",
      "659169    tag:www.monasterium.net,2011:/charter/Wirtembe...\n",
      "Name: atomid, Length: 659170, dtype: object\n"
     ]
    }
   ],
   "source": [
    "# load json file generated on the respective date by parsing a Monasterium db dump (\"full20220125-1710\") using /notebooks/XML2PD/XML2PD.ipynyb\n",
    "all_df_full = pd.read_json(\"../../data/in/sampling/charters_2022-09-18-2211.json\")\n",
    "all_df = all_df_full.explode(\"atom_id\")[\"atom_id\"].rename(\"atomid\")\n",
    "print(all_df)\n",
    "all_list = all_df.to_list()"
   ]
  },
  {
   "cell_type": "code",
   "execution_count": 58,
   "metadata": {},
   "outputs": [
    {
     "name": "stdout",
     "output_type": "stream",
     "text": [
      "0      tag:www.monasterium.net,2011:/charter/HU-MNL-D...\n",
      "1      tag:www.monasterium.net,2011:/charter/DE-BayHS...\n",
      "2      tag:www.monasterium.net,2011:/charter/AT-StiAS...\n",
      "3      tag:www.monasterium.net,2011:/charter/HU-MNL-D...\n",
      "4      tag:www.monasterium.net,2011:/charter/DE-HStAM...\n",
      "                             ...                        \n",
      "995    tag:www.monasterium.net,2011:/charter/AT-DOZA/...\n",
      "996    tag:www.monasterium.net,2011:/charter/HU-MNL-D...\n",
      "997    tag:www.monasterium.net,2011:/charter/DE-HStAM...\n",
      "998    tag:www.monasterium.net,2011:/charter/DE-BayHS...\n",
      "999    tag:www.monasterium.net,2011:/charter/AT-StiAG...\n",
      "Name: atomid, Length: 1000, dtype: object\n"
     ]
    }
   ],
   "source": [
    "# load 1000 charter project sample, downloaded from GSheets\n",
    "m_cv_df = pd.read_csv(\"../../data/in/sampling/1000charters_gsheet.csv\", encoding=\"utf-8\")\n",
    "m_cv_df[\"atomid\"] = m_cv_df[\"URL \"].apply(lambda x : url_to_chatomid(x))\n",
    "m_cv_df = m_cv_df[\"atomid\"]\n",
    "print(m_cv_df)\n",
    "m_cv_list = m_cv_df.to_list()"
   ]
  },
  {
   "cell_type": "code",
   "execution_count": 59,
   "metadata": {},
   "outputs": [
    {
     "name": "stdout",
     "output_type": "stream",
     "text": [
      "0      tag:www.monasterium.net,2011:/charter/AT-ADG/A...\n",
      "1      tag:www.monasterium.net,2011:/charter/AT-ADG/A...\n",
      "2      tag:www.monasterium.net,2011:/charter/AT-ADG/A...\n",
      "3      tag:www.monasterium.net,2011:/charter/AT-ADG/A...\n",
      "4      tag:www.monasterium.net,2011:/charter/AT-AES/U...\n",
      "                             ...                        \n",
      "995    tag:www.monasterium.net,2011:/charter/SK-SNA/4...\n",
      "996    tag:www.monasterium.net,2011:/charter/SK-SNA/4...\n",
      "997    tag:www.monasterium.net,2011:/charter/SK-SNA/4...\n",
      "998    tag:www.monasterium.net,2011:/charter/SK-SNA/4...\n",
      "999    tag:www.monasterium.net,2011:/charter/SK-SNA/4...\n",
      "Name: atomid, Length: 1000, dtype: object\n"
     ]
    }
   ],
   "source": [
    "# load 1000 charter project sample from leech ?\n",
    "#WSL ~/data/didip/tmp/data/leech/1000_Charters ... once copied, unclear where from\n",
    "m_cv_leech_df = pd.read_fwf(\"../../data/in/sampling/atomid_list.txt\", header=None)\n",
    "m_cv_leech_df = m_cv_leech_df.squeeze().rename(\"atomid\")\n",
    "print(m_cv_leech_df)\n",
    "m_cv_leech_list = m_cv_leech_df.to_list()"
   ]
  },
  {
   "cell_type": "code",
   "execution_count": 60,
   "metadata": {},
   "outputs": [
    {
     "name": "stdout",
     "output_type": "stream",
     "text": [
      "0      tag:www.monasterium.net,2011:/charter/AT-ADG/A...\n",
      "1      tag:www.monasterium.net,2011:/charter/AT-ADG/A...\n",
      "2      tag:www.monasterium.net,2011:/charter/AT-ADG/A...\n",
      "3      tag:www.monasterium.net,2011:/charter/AT-ADG/A...\n",
      "4      tag:www.monasterium.net,2011:/charter/AT-AES/U...\n",
      "                             ...                        \n",
      "995    tag:www.monasterium.net,2011:/charter/SK-SNA/4...\n",
      "996    tag:www.monasterium.net,2011:/charter/SK-SNA/4...\n",
      "997    tag:www.monasterium.net,2011:/charter/SK-SNA/4...\n",
      "998    tag:www.monasterium.net,2011:/charter/SK-SNA/4...\n",
      "999    tag:www.monasterium.net,2011:/charter/SK-SNA/4...\n",
      "Name: atomid, Length: 1000, dtype: object\n"
     ]
    }
   ],
   "source": [
    "# load 1000 charter project sample from other leechdump\n",
    "#atzenhofer@21-PX010:/data/anguelos/monasterium/tmp/data/leech$ \n",
    "m_cv_leech_2nd_df = pd.read_fwf(\"../../data/in/sampling/atomid_list_second.txt\", header=None)\n",
    "m_cv_leech_2nd_df = m_cv_leech_2nd_df.squeeze().rename(\"atomid\")\n",
    "print(m_cv_leech_2nd_df)\n",
    "m_cv_leech_2nd_list = m_cv_leech_2nd_df.to_list()"
   ]
  },
  {
   "cell_type": "code",
   "execution_count": 61,
   "metadata": {},
   "outputs": [
    {
     "name": "stdout",
     "output_type": "stream",
     "text": [
      "0      tag:www.monasterium.net,2011:/charter/AFM/1.2.140\n",
      "1      tag:www.monasterium.net,2011:/charter/StPCanRe...\n",
      "2      tag:www.monasterium.net,2011:/charter/DEEDS/00...\n",
      "3      tag:www.monasterium.net,2011:/charter/Bischoef...\n",
      "4      tag:www.monasterium.net,2011:/charter/AFM/1.4....\n",
      "                             ...                        \n",
      "995    tag:www.monasterium.net,2011:/charter/Benedict...\n",
      "996    tag:www.monasterium.net,2011:/charter/AFM/1.4....\n",
      "997    tag:www.monasterium.net,2011:/charter/KlosterJ...\n",
      "998    tag:www.monasterium.net,2011:/charter/Merkwuer...\n",
      "999    tag:www.monasterium.net,2011:/charter/Lauresha...\n",
      "Name: atom_id, Length: 1000, dtype: object\n"
     ]
    }
   ],
   "source": [
    "# load 1000 charter NLP sample, downloaded from Unicloud\n",
    "m_nlp_df = pd.read_parquet(\"../../data/in/sampling/1000charters_nlp.parquet\", engine=\"pyarrow\")\n",
    "m_nlp_df = m_nlp_df.explode(\"atom_id\")[\"atom_id\"].reset_index(drop=True)\n",
    "print(m_nlp_df)\n",
    "m_nlp_list = m_nlp_df.to_list()"
   ]
  },
  {
   "cell_type": "markdown",
   "metadata": {},
   "source": [
    "# make list of lists for contingency"
   ]
  },
  {
   "cell_type": "code",
   "execution_count": 62,
   "metadata": {},
   "outputs": [],
   "source": [
    "lists_list = [m_nlp_list, m_cv_list, m_cv_leech_list, m_cv_leech_2nd_list]"
   ]
  },
  {
   "cell_type": "markdown",
   "metadata": {},
   "source": [
    "# check differences"
   ]
  },
  {
   "cell_type": "code",
   "execution_count": 63,
   "metadata": {},
   "outputs": [],
   "source": [
    "def get_var_name(variable):\n",
    "    globals_dict = globals()\n",
    "    return [var_name for var_name in globals_dict if globals_dict[var_name] is variable]\n",
    "\n",
    "\n",
    "def isect(list1, list2):\n",
    "    isect = list(set(list1).intersection(set(list2)))\n",
    "    return isect\n",
    "\n",
    "def diff(list1, list2):\n",
    "    diff = list(set(list1).difference(set(list2)))\n",
    "    return diff"
   ]
  },
  {
   "cell_type": "code",
   "execution_count": 64,
   "metadata": {},
   "outputs": [
    {
     "name": "stdout",
     "output_type": "stream",
     "text": [
      "m_nlp_list has a length of 1000\n",
      "m_cv_leech_list has a length of 1000\n",
      "m_cv_leech_2nd_list has a length of 1000\n",
      "m_cv_list has a length of 1000\n",
      "\n",
      "\n",
      "m_cv_leech_list \t and \t m_nlp_list \t -> intersection of 0 and a difference of 989.\n",
      "m_cv_leech_2nd_list \t and \t m_nlp_list \t -> intersection of 0 and a difference of 989.\n",
      "m_cv_leech_2nd_list \t and \t m_cv_leech_list \t -> intersection of 989 and a difference of 0.\n",
      "m_cv_list \t and \t m_nlp_list \t -> intersection of 0 and a difference of 1000.\n",
      "m_cv_list \t and \t m_cv_leech_list \t -> intersection of 953 and a difference of 47.\n",
      "m_cv_list \t and \t m_cv_leech_2nd_list \t -> intersection of 953 and a difference of 47.\n"
     ]
    }
   ],
   "source": [
    "tab = \"\\t\"\n",
    "nl = \"\\n\"\n",
    "sorted_list = sorted(lists_list)\n",
    "\n",
    "for i in sorted_list:\n",
    "    print(f\"{(get_var_name(i))[0]} has a length of {len(i)}\") #question to self: why is get-var-name inconsistent as to the order\n",
    "\n",
    "print(nl)\n",
    "\n",
    "for i in sorted_list:\n",
    "    for j in sorted_list:\n",
    "        intersection = isect(i, j)\n",
    "        difference = diff(i, j)\n",
    "        if i == j:\n",
    "            break\n",
    "        else:\n",
    "          print(f\"{(get_var_name(i))[0]} {tab} and {tab} {(get_var_name(j)[-2])} {tab} -> intersection of {len(intersection)} and a difference of {len(difference)}.\")"
   ]
  },
  {
   "cell_type": "code",
   "execution_count": 65,
   "metadata": {},
   "outputs": [
    {
     "name": "stdout",
     "output_type": "stream",
     "text": [
      "https://www.monasterium.net/mom/AT-StaAR/UrkDominikanerkloster/StA_Retz%7CD%7CU1%7C1303/charter\n",
      "https://www.monasterium.net/mom/AT-StaAR/UrkDominikanerkloster/StA_Retz%7CD/charter\n"
     ]
    }
   ],
   "source": [
    "print(chatomid_to_url(\"tag:www.monasterium.net,2011:/charter/AT-StaAR/UrkDominikanerkloster/StA_Retz%7CD%7CU1%7C1303\"))\n",
    "print(chatomid_to_url(\"tag:www.monasterium.net,2011:/charter/AT-StaAR/UrkDominikanerkloster/StA_Retz%7CD\"))"
   ]
  },
  {
   "cell_type": "code",
   "execution_count": 66,
   "metadata": {},
   "outputs": [
    {
     "data": {
      "text/plain": [
       "'tag:www.monasterium.net,2011:/charter/SK-SNA/4156-SukromnyArchivBratislavskejKapi'"
      ]
     },
     "execution_count": 66,
     "metadata": {},
     "output_type": "execute_result"
    }
   ],
   "source": [
    "\"tag:www.monasterium.net,2011:/charter/SK-SNA/4156-SukromnyArchivBratislavskejKapituly/636\"\n",
    "\"tag:www.monasterium.net,2011:/charter/SK-SNA/4156-SukromnyArchivBratislavskejKapi\""
   ]
  },
  {
   "cell_type": "code",
   "execution_count": 67,
   "metadata": {},
   "outputs": [
    {
     "data": {
      "text/plain": [
       "'tag:www.monasterium.net,2011:/charter/SK-SNA/4156-SukromnyArchivBratislavskejKapi'"
      ]
     },
     "execution_count": 67,
     "metadata": {},
     "output_type": "execute_result"
    }
   ],
   "source": [
    "#80 lengths cutoff?\n",
    "\"tag:www.monasterium.net,2011:/charter/AT-NOeLA/HA_Seefeld-HardeggerUrk/Hardegger_\"\n",
    "\"tag:www.monasterium.net,2011:/charter/SK-SNA/4156-SukromnyArchivBratislavskejKapi\""
   ]
  },
  {
   "cell_type": "markdown",
   "metadata": {},
   "source": [
    "## check set of sample atomids\n",
    "conclusion: buggy urls -> buggy atomids -> uneven number"
   ]
  },
  {
   "cell_type": "code",
   "execution_count": 68,
   "metadata": {},
   "outputs": [],
   "source": [
    "union_list = m_nlp_list + m_cv_list + m_cv_leech_list + m_cv_leech_2nd_list"
   ]
  },
  {
   "cell_type": "code",
   "execution_count": 69,
   "metadata": {},
   "outputs": [
    {
     "data": {
      "text/plain": [
       "2036"
      ]
     },
     "execution_count": 69,
     "metadata": {},
     "output_type": "execute_result"
    }
   ],
   "source": [
    "len(union_list)\n",
    "len(set(union_list))"
   ]
  },
  {
   "cell_type": "markdown",
   "metadata": {},
   "source": [
    "# reduce by previous nlp and cv sample"
   ]
  },
  {
   "cell_type": "code",
   "execution_count": 70,
   "metadata": {},
   "outputs": [],
   "source": [
    "all_less_nlp = all_df[~all_df.isin(m_nlp_list)]\n",
    "all_less_cv = all_df[~all_df.isin(m_cv_list)]\n",
    "all_less_nlp_cv = all_df[~all_df.isin(m_nlp_list)][~all_df.isin(m_cv_list)]"
   ]
  },
  {
   "cell_type": "markdown",
   "metadata": {},
   "source": [
    "# get charters with tenor"
   ]
  },
  {
   "cell_type": "code",
   "execution_count": 71,
   "metadata": {},
   "outputs": [
    {
     "data": {
      "text/plain": [
       "0        tag:www.monasterium.net,2011:/charter/069622fc...\n",
       "1        tag:www.monasterium.net,2011:/charter/672f41e1...\n",
       "2        tag:www.monasterium.net,2011:/charter/672f41e1...\n",
       "3        tag:www.monasterium.net,2011:/charter/672f41e1...\n",
       "4        tag:www.monasterium.net,2011:/charter/672f41e1...\n",
       "                               ...                        \n",
       "72297    tag:www.monasterium.net,2011:/charter/Wirtembe...\n",
       "72298    tag:www.monasterium.net,2011:/charter/Wirtembe...\n",
       "72299    tag:www.monasterium.net,2011:/charter/Wirtembe...\n",
       "72300    tag:www.monasterium.net,2011:/charter/Wirtembe...\n",
       "72301    tag:www.monasterium.net,2011:/charter/Wirtembe...\n",
       "Name: atom_id, Length: 72302, dtype: object"
      ]
     },
     "execution_count": 71,
     "metadata": {},
     "output_type": "execute_result"
    }
   ],
   "source": [
    "all_w_tenor = (all_df_full[all_df_full[\"cei_tenor_joined\"].astype(str) != \"\"])[\"atom_id\"].explode(\"atom_id\")\n",
    "all_w_tenor"
   ]
  },
  {
   "cell_type": "markdown",
   "metadata": {},
   "source": [
    "# deduce previous nlp sample from all tenors"
   ]
  },
  {
   "cell_type": "code",
   "execution_count": 72,
   "metadata": {},
   "outputs": [
    {
     "data": {
      "text/plain": [
       "0        tag:www.monasterium.net,2011:/charter/069622fc...\n",
       "1        tag:www.monasterium.net,2011:/charter/672f41e1...\n",
       "2        tag:www.monasterium.net,2011:/charter/672f41e1...\n",
       "3        tag:www.monasterium.net,2011:/charter/672f41e1...\n",
       "4        tag:www.monasterium.net,2011:/charter/672f41e1...\n",
       "                               ...                        \n",
       "72297    tag:www.monasterium.net,2011:/charter/Wirtembe...\n",
       "72298    tag:www.monasterium.net,2011:/charter/Wirtembe...\n",
       "72299    tag:www.monasterium.net,2011:/charter/Wirtembe...\n",
       "72300    tag:www.monasterium.net,2011:/charter/Wirtembe...\n",
       "72301    tag:www.monasterium.net,2011:/charter/Wirtembe...\n",
       "Name: atom_id, Length: 71265, dtype: object"
      ]
     },
     "execution_count": 72,
     "metadata": {},
     "output_type": "execute_result"
    }
   ],
   "source": [
    "all_w_tenor_reduced = all_w_tenor[~all_w_tenor.isin(m_nlp_list)][~all_w_tenor.isin(m_cv_list)]\n",
    "all_w_tenor_reduced"
   ]
  },
  {
   "cell_type": "markdown",
   "metadata": {},
   "source": [
    "# generate new 1k nlp sample"
   ]
  },
  {
   "cell_type": "code",
   "execution_count": 73,
   "metadata": {},
   "outputs": [
    {
     "data": {
      "text/plain": [
       "48351    tag:www.monasterium.net,2011:/charter/KlosterJ...\n",
       "29133    tag:www.monasterium.net,2011:/charter/CSGVI/13...\n",
       "6102     tag:www.monasterium.net,2011:/charter/AFM/1.7.647\n",
       "11901    tag:www.monasterium.net,2011:/charter/AT-StiAK...\n",
       "71673    tag:www.monasterium.net,2011:/charter/WhalleyA...\n",
       "                               ...                        \n",
       "23919    tag:www.monasterium.net,2011:/charter/CodexDip...\n",
       "21294    tag:www.monasterium.net,2011:/charter/Chronico...\n",
       "921      tag:www.monasterium.net,2011:/charter/AbteiSan...\n",
       "70296    tag:www.monasterium.net,2011:/charter/UrkVonZo...\n",
       "35172    tag:www.monasterium.net,2011:/charter/DEEDS/00...\n",
       "Name: atom_id, Length: 1000, dtype: object"
      ]
     },
     "execution_count": 73,
     "metadata": {},
     "output_type": "execute_result"
    }
   ],
   "source": [
    "new_nlp_sample = all_w_tenor_reduced.sample(n=1000, random_state=50)\n",
    "new_nlp_sample"
   ]
  },
  {
   "cell_type": "markdown",
   "metadata": {},
   "source": [
    "# deduce new nlp sample from all"
   ]
  },
  {
   "cell_type": "code",
   "execution_count": 74,
   "metadata": {},
   "outputs": [
    {
     "data": {
      "text/plain": [
       "0         tag:www.monasterium.net,2011:/charter/069622fc...\n",
       "1         tag:www.monasterium.net,2011:/charter/069622fc...\n",
       "2         tag:www.monasterium.net,2011:/charter/069622fc...\n",
       "3         tag:www.monasterium.net,2011:/charter/069622fc...\n",
       "4         tag:www.monasterium.net,2011:/charter/069622fc...\n",
       "                                ...                        \n",
       "656165    tag:www.monasterium.net,2011:/charter/Wirtembe...\n",
       "656166    tag:www.monasterium.net,2011:/charter/Wirtembe...\n",
       "656167    tag:www.monasterium.net,2011:/charter/Wirtembe...\n",
       "656168    tag:www.monasterium.net,2011:/charter/Wirtembe...\n",
       "656169    tag:www.monasterium.net,2011:/charter/Wirtembe...\n",
       "Name: atomid, Length: 656170, dtype: object"
      ]
     },
     "execution_count": 74,
     "metadata": {},
     "output_type": "execute_result"
    }
   ],
   "source": [
    "all_less_nlp_cv_nlp2 = all_less_nlp_cv[~all_less_nlp_cv.isin(new_nlp_sample)].reset_index(drop=True)\n",
    "all_less_nlp_cv_nlp2"
   ]
  },
  {
   "cell_type": "markdown",
   "metadata": {},
   "source": [
    "# generate new 3k sample"
   ]
  },
  {
   "cell_type": "code",
   "execution_count": 75,
   "metadata": {},
   "outputs": [
    {
     "data": {
      "text/plain": [
       "626651    tag:www.monasterium.net,2011:/charter/RIXIii/1...\n",
       "652177    tag:www.monasterium.net,2011:/charter/Urkunden...\n",
       "233008    tag:www.monasterium.net,2011:/charter/DE-BayHS...\n",
       "501344    tag:www.monasterium.net,2011:/charter/Illumini...\n",
       "349079    tag:www.monasterium.net,2011:/charter/HU-MNL-D...\n",
       "                                ...                        \n",
       "470024    tag:www.monasterium.net,2011:/charter/HU-MNL-D...\n",
       "234764    tag:www.monasterium.net,2011:/charter/DE-BayHS...\n",
       "23541     tag:www.monasterium.net,2011:/charter/AT-DOZA/...\n",
       "253939    tag:www.monasterium.net,2011:/charter/DE-BayHS...\n",
       "409778    tag:www.monasterium.net,2011:/charter/HU-MNL-D...\n",
       "Name: atomid, Length: 3000, dtype: object"
      ]
     },
     "execution_count": 75,
     "metadata": {},
     "output_type": "execute_result"
    }
   ],
   "source": [
    "sample_3k = all_less_nlp_cv_nlp2.sample(n=3000, random_state=50)\n",
    "sample_3k"
   ]
  },
  {
   "cell_type": "markdown",
   "metadata": {},
   "source": [
    "# deduce 3k sample"
   ]
  },
  {
   "cell_type": "code",
   "execution_count": 76,
   "metadata": {},
   "outputs": [
    {
     "data": {
      "text/plain": [
       "0         tag:www.monasterium.net,2011:/charter/069622fc...\n",
       "1         tag:www.monasterium.net,2011:/charter/069622fc...\n",
       "2         tag:www.monasterium.net,2011:/charter/069622fc...\n",
       "3         tag:www.monasterium.net,2011:/charter/069622fc...\n",
       "4         tag:www.monasterium.net,2011:/charter/069622fc...\n",
       "                                ...                        \n",
       "653165    tag:www.monasterium.net,2011:/charter/Wirtembe...\n",
       "653166    tag:www.monasterium.net,2011:/charter/Wirtembe...\n",
       "653167    tag:www.monasterium.net,2011:/charter/Wirtembe...\n",
       "653168    tag:www.monasterium.net,2011:/charter/Wirtembe...\n",
       "653169    tag:www.monasterium.net,2011:/charter/Wirtembe...\n",
       "Name: atomid, Length: 653170, dtype: object"
      ]
     },
     "execution_count": 76,
     "metadata": {},
     "output_type": "execute_result"
    }
   ],
   "source": [
    "all_less_samples = all_less_nlp_cv_nlp2[~all_less_nlp_cv_nlp2.isin(sample_3k)].reset_index(drop=True)\n",
    "all_less_samples"
   ]
  },
  {
   "cell_type": "markdown",
   "metadata": {},
   "source": [
    "# check lengths"
   ]
  },
  {
   "cell_type": "code",
   "execution_count": 77,
   "metadata": {},
   "outputs": [
    {
     "name": "stdout",
     "output_type": "stream",
     "text": [
      "659170\n",
      "658170\n",
      "658170\n",
      "657170\n",
      "656170\n",
      "653170\n"
     ]
    }
   ],
   "source": [
    "print(len(all_df))\n",
    "print(len(all_less_nlp))\n",
    "print(len(all_less_cv))\n",
    "print(len(all_less_nlp_cv))\n",
    "print(len(all_less_nlp_cv_nlp2))\n",
    "print(len(all_less_samples))"
   ]
  },
  {
   "cell_type": "markdown",
   "metadata": {},
   "source": [
    "# extend atomids of 1k charters by 3k charters; +list of new nlp"
   ]
  },
  {
   "cell_type": "code",
   "execution_count": 106,
   "metadata": {},
   "outputs": [],
   "source": [
    "atomids_3k = sample_3k.to_list()\n",
    "atomids_4k = list(chain(m_cv_list, sample_3k.to_list()))\n",
    "atomids_1k_nlp_new = new_nlp_sample.to_list()"
   ]
  },
  {
   "cell_type": "markdown",
   "metadata": {},
   "source": [
    "# urls"
   ]
  },
  {
   "cell_type": "code",
   "execution_count": 107,
   "metadata": {},
   "outputs": [],
   "source": [
    "urls_3k = [chatomid_to_url(i) for i in atomids_3k]\n",
    "urls_4k = [chatomid_to_url(i) for i in atomids_4k]\n",
    "urls_1k_nlp_new = [chatomid_to_url(i) for i in atomids_1k_nlp_new]"
   ]
  },
  {
   "cell_type": "code",
   "execution_count": 125,
   "metadata": {},
   "outputs": [],
   "source": [
    "# random.seed(a=50)\n",
    "# for i in random.sample(urls_4k, 10):\n",
    "#     print(i)\n",
    "# random.getstate()"
   ]
  },
  {
   "cell_type": "markdown",
   "metadata": {},
   "source": [
    "# export "
   ]
  },
  {
   "cell_type": "code",
   "execution_count": null,
   "metadata": {},
   "outputs": [],
   "source": [
    "with open(f\"../../data/out/samples/urls_5k.csv\", \"w\", newline=\"\") as file:\n",
    "    writer = csv.writer(file, delimiter = \"\\n\")\n",
    "    writer.writerow(urls_5k)\n",
    "\n",
    "with open(f\"../../data/out/samples/urls_4k.csv\", \"w\", newline=\"\") as file:\n",
    "    writer = csv.writer(file, delimiter = \"\\n\")\n",
    "    writer.writerow(urls_4k)\n",
    "\n",
    "with open(f\"../../data/out/samples/atomids_5k.csv\", \"w\", newline=\"\") as file:\n",
    "    writer = csv.writer(file, delimiter = \"\\n\")\n",
    "    writer.writerow(atomids_5k)"
   ]
  },
  {
   "cell_type": "markdown",
   "metadata": {},
   "source": [
    "# Misc"
   ]
  },
  {
   "cell_type": "code",
   "execution_count": 167,
   "metadata": {},
   "outputs": [
    {
     "name": "stdout",
     "output_type": "stream",
     "text": [
      "In the 1k charters project, the amount of /HU- charters was 38.5%; in the new 3k one, it is 25.33%.\n"
     ]
    }
   ],
   "source": [
    "# check amount of /HU- in samples\n",
    "\n",
    "exploded = all_df_full.explode(\"atom_id\")\n",
    "test = exploded[exploded[\"atom_id\"].isin(m_cv_list)]\n",
    "m_cv_HU = test[test[\"atom_id\"].astype(str).str.contains(\"/HU-\")]\n",
    "\n",
    "exploded = all_df_full.explode(\"atom_id\")\n",
    "test = exploded[exploded[\"atom_id\"].isin(atomids_3k)]\n",
    "sample_3k_HU = test[test[\"atom_id\"].astype(str).str.contains(\"/HU-\")]\n",
    "\n",
    "#[all_df_full.atom_id.isin(m_cv_df)]\n",
    "#m_cv_HU = m_cv_df[m_cv_df[\"atomid\"].astype(str).str.contains(\"/HU-\")]\n",
    "#sample_3k_HU = sample_3k[sample_3k[\"atomid\"].astype(str).str.contains(\"/HU-\")]\n",
    "\n",
    "# difference of HU % in samples\n",
    "print(f\"In the 1k charters project, the amount of /HU- charters was {round((len(m_cv_HU))/1000*100,2)}%; in the new 3k one, it is {round((len(sample_3k_HU))/3000*100,2)}%.\")"
   ]
  },
  {
   "cell_type": "code",
   "execution_count": 149,
   "metadata": {},
   "outputs": [
    {
     "data": {
      "text/html": [
       "<div>\n",
       "<style scoped>\n",
       "    .dataframe tbody tr th:only-of-type {\n",
       "        vertical-align: middle;\n",
       "    }\n",
       "\n",
       "    .dataframe tbody tr th {\n",
       "        vertical-align: top;\n",
       "    }\n",
       "\n",
       "    .dataframe thead th {\n",
       "        text-align: right;\n",
       "    }\n",
       "</style>\n",
       "<table border=\"1\" class=\"dataframe\">\n",
       "  <thead>\n",
       "    <tr style=\"text-align: right;\">\n",
       "      <th></th>\n",
       "      <th>atom_id</th>\n",
       "      <th>cei_abstract_joined</th>\n",
       "      <th>cei_abstract_foreign</th>\n",
       "      <th>cei_tenor_joined</th>\n",
       "      <th>cei_pTenor</th>\n",
       "      <th>cei_placeName</th>\n",
       "      <th>cei_lang_MOM</th>\n",
       "      <th>cei_date</th>\n",
       "      <th>cei_dateRange</th>\n",
       "      <th>cei_date_ATTRIBUTE_value</th>\n",
       "      <th>cei_dateRange_ATTRIBUTE_from</th>\n",
       "      <th>cei_dateRange_ATTRIBUTE_to</th>\n",
       "      <th>cei_graphic_ATTRIBUTE_url_orig</th>\n",
       "      <th>cei_graphic_ATTRIBUTE_url_copy</th>\n",
       "    </tr>\n",
       "  </thead>\n",
       "  <tbody>\n",
       "    <tr>\n",
       "      <th>335652</th>\n",
       "      <td>tag:www.monasterium.net,2011:/charter/HU-MNL-D...</td>\n",
       "      <td>Mátyás király a leleszi konventnek. A szepesi ...</td>\n",
       "      <td>[]</td>\n",
       "      <td></td>\n",
       "      <td>[]</td>\n",
       "      <td>[]</td>\n",
       "      <td>[Latin]</td>\n",
       "      <td>[1467-03-11]</td>\n",
       "      <td>[]</td>\n",
       "      <td>[14670311]</td>\n",
       "      <td>[]</td>\n",
       "      <td>[]</td>\n",
       "      <td>[http://archives.hungaricana.hu/tile/thumb/cha...</td>\n",
       "      <td>[]</td>\n",
       "    </tr>\n",
       "    <tr>\n",
       "      <th>335893</th>\n",
       "      <td>tag:www.monasterium.net,2011:/charter/HU-MNL-D...</td>\n",
       "      <td>Beatrix királyné Pál presbitert (natus Thome l...</td>\n",
       "      <td>[]</td>\n",
       "      <td></td>\n",
       "      <td>[]</td>\n",
       "      <td>[]</td>\n",
       "      <td>[Latin]</td>\n",
       "      <td>[1491-02-20]</td>\n",
       "      <td>[]</td>\n",
       "      <td>[14910220]</td>\n",
       "      <td>[]</td>\n",
       "      <td>[]</td>\n",
       "      <td>[http://archives.hungaricana.hu/tile/thumb/cha...</td>\n",
       "      <td>[]</td>\n",
       "    </tr>\n",
       "    <tr>\n",
       "      <th>336545</th>\n",
       "      <td>tag:www.monasterium.net,2011:/charter/HU-MNL-D...</td>\n",
       "      <td>Visegrád. 12. d. oct. Nat. Joh. Bapt. Szécsi M...</td>\n",
       "      <td>[]</td>\n",
       "      <td></td>\n",
       "      <td>[]</td>\n",
       "      <td>[]</td>\n",
       "      <td>[]</td>\n",
       "      <td>[1381-07-12]</td>\n",
       "      <td>[]</td>\n",
       "      <td>[13810712]</td>\n",
       "      <td>[]</td>\n",
       "      <td>[]</td>\n",
       "      <td>[http://archives.hungaricana.hu/tile/thumb/cha...</td>\n",
       "      <td>[]</td>\n",
       "    </tr>\n",
       "    <tr>\n",
       "      <th>336631</th>\n",
       "      <td>tag:www.monasterium.net,2011:/charter/HU-MNL-D...</td>\n",
       "      <td>JÁSZÓI KONVENT</td>\n",
       "      <td>[]</td>\n",
       "      <td></td>\n",
       "      <td>[]</td>\n",
       "      <td>[]</td>\n",
       "      <td>[]</td>\n",
       "      <td>[1393-01-02]</td>\n",
       "      <td>[]</td>\n",
       "      <td>[13930102]</td>\n",
       "      <td>[]</td>\n",
       "      <td>[]</td>\n",
       "      <td>[http://archives.hungaricana.hu/tile/thumb/cha...</td>\n",
       "      <td>[]</td>\n",
       "    </tr>\n",
       "    <tr>\n",
       "      <th>336795</th>\n",
       "      <td>tag:www.monasterium.net,2011:/charter/HU-MNL-D...</td>\n",
       "      <td>JÁSZÓI KONVENT</td>\n",
       "      <td>[]</td>\n",
       "      <td></td>\n",
       "      <td>[]</td>\n",
       "      <td>[]</td>\n",
       "      <td>[]</td>\n",
       "      <td>[1413-03-10]</td>\n",
       "      <td>[]</td>\n",
       "      <td>[14130310]</td>\n",
       "      <td>[]</td>\n",
       "      <td>[]</td>\n",
       "      <td>[http://archives.hungaricana.hu/tile/thumb/cha...</td>\n",
       "      <td>[]</td>\n",
       "    </tr>\n",
       "    <tr>\n",
       "      <th>...</th>\n",
       "      <td>...</td>\n",
       "      <td>...</td>\n",
       "      <td>...</td>\n",
       "      <td>...</td>\n",
       "      <td>...</td>\n",
       "      <td>...</td>\n",
       "      <td>...</td>\n",
       "      <td>...</td>\n",
       "      <td>...</td>\n",
       "      <td>...</td>\n",
       "      <td>...</td>\n",
       "      <td>...</td>\n",
       "      <td>...</td>\n",
       "      <td>...</td>\n",
       "    </tr>\n",
       "    <tr>\n",
       "      <th>496200</th>\n",
       "      <td>tag:www.monasterium.net,2011:/charter/HU-MNL-D...</td>\n",
       "      <td>A pannonhalmi konvent jelenti László királynak...</td>\n",
       "      <td>[]</td>\n",
       "      <td></td>\n",
       "      <td>[]</td>\n",
       "      <td>[]</td>\n",
       "      <td>[Latin]</td>\n",
       "      <td>[1454-04-20]</td>\n",
       "      <td>[]</td>\n",
       "      <td>[14540420]</td>\n",
       "      <td>[]</td>\n",
       "      <td>[]</td>\n",
       "      <td>[http://archives.hungaricana.hu/tile/thumb/cha...</td>\n",
       "      <td>[]</td>\n",
       "    </tr>\n",
       "    <tr>\n",
       "      <th>496218</th>\n",
       "      <td>tag:www.monasterium.net,2011:/charter/HU-MNL-D...</td>\n",
       "      <td>ÚJLAKI MIKLÓS ERDÉLYI VAJDAÚJLAKI MIKLÓS MACSÓ...</td>\n",
       "      <td>[]</td>\n",
       "      <td></td>\n",
       "      <td>[]</td>\n",
       "      <td>[]</td>\n",
       "      <td>[]</td>\n",
       "      <td>[1454-05-20]</td>\n",
       "      <td>[]</td>\n",
       "      <td>[14540520]</td>\n",
       "      <td>[]</td>\n",
       "      <td>[]</td>\n",
       "      <td>[http://archives.hungaricana.hu/tile/thumb/cha...</td>\n",
       "      <td>[]</td>\n",
       "    </tr>\n",
       "    <tr>\n",
       "      <th>496514</th>\n",
       "      <td>tag:www.monasterium.net,2011:/charter/HU-MNL-D...</td>\n",
       "      <td>A leleszi konvent (Balázs prépost és a konvent...</td>\n",
       "      <td>[]</td>\n",
       "      <td></td>\n",
       "      <td>[]</td>\n",
       "      <td>[]</td>\n",
       "      <td>[Latin]</td>\n",
       "      <td>[1461-12-20]</td>\n",
       "      <td>[]</td>\n",
       "      <td>[14611220]</td>\n",
       "      <td>[]</td>\n",
       "      <td>[]</td>\n",
       "      <td>[http://archives.hungaricana.hu/tile/thumb/cha...</td>\n",
       "      <td>[]</td>\n",
       "    </tr>\n",
       "    <tr>\n",
       "      <th>499542</th>\n",
       "      <td>tag:www.monasterium.net,2011:/charter/HU-VFL/K...</td>\n",
       "      <td>Aussteller: ISTVÁN IFJABB KIRÁLY</td>\n",
       "      <td>[]</td>\n",
       "      <td></td>\n",
       "      <td>[]</td>\n",
       "      <td>[]</td>\n",
       "      <td>[]</td>\n",
       "      <td>[]</td>\n",
       "      <td>[]</td>\n",
       "      <td>[12599999]</td>\n",
       "      <td>[]</td>\n",
       "      <td>[]</td>\n",
       "      <td>[VeL_Cap_1259_200657.jpg, VeL_Cap_1259_200657v...</td>\n",
       "      <td>[]</td>\n",
       "    </tr>\n",
       "    <tr>\n",
       "      <th>500737</th>\n",
       "      <td>tag:www.monasterium.net,2011:/charter/HU-VFL/K...</td>\n",
       "      <td>Aussteller: VESZPRÉMI KÁPTALAN</td>\n",
       "      <td>[]</td>\n",
       "      <td></td>\n",
       "      <td>[]</td>\n",
       "      <td>[]</td>\n",
       "      <td>[]</td>\n",
       "      <td>[]</td>\n",
       "      <td>[]</td>\n",
       "      <td>[14300725]</td>\n",
       "      <td>[]</td>\n",
       "      <td>[]</td>\n",
       "      <td>[VeL_Cap_1430_201252.jpg, VeL_Cap_1430_201252v...</td>\n",
       "      <td>[]</td>\n",
       "    </tr>\n",
       "  </tbody>\n",
       "</table>\n",
       "<p>385 rows × 14 columns</p>\n",
       "</div>"
      ],
      "text/plain": [
       "                                                  atom_id  \\\n",
       "335652  tag:www.monasterium.net,2011:/charter/HU-MNL-D...   \n",
       "335893  tag:www.monasterium.net,2011:/charter/HU-MNL-D...   \n",
       "336545  tag:www.monasterium.net,2011:/charter/HU-MNL-D...   \n",
       "336631  tag:www.monasterium.net,2011:/charter/HU-MNL-D...   \n",
       "336795  tag:www.monasterium.net,2011:/charter/HU-MNL-D...   \n",
       "...                                                   ...   \n",
       "496200  tag:www.monasterium.net,2011:/charter/HU-MNL-D...   \n",
       "496218  tag:www.monasterium.net,2011:/charter/HU-MNL-D...   \n",
       "496514  tag:www.monasterium.net,2011:/charter/HU-MNL-D...   \n",
       "499542  tag:www.monasterium.net,2011:/charter/HU-VFL/K...   \n",
       "500737  tag:www.monasterium.net,2011:/charter/HU-VFL/K...   \n",
       "\n",
       "                                      cei_abstract_joined  \\\n",
       "335652  Mátyás király a leleszi konventnek. A szepesi ...   \n",
       "335893  Beatrix királyné Pál presbitert (natus Thome l...   \n",
       "336545  Visegrád. 12. d. oct. Nat. Joh. Bapt. Szécsi M...   \n",
       "336631                                     JÁSZÓI KONVENT   \n",
       "336795                                     JÁSZÓI KONVENT   \n",
       "...                                                   ...   \n",
       "496200  A pannonhalmi konvent jelenti László királynak...   \n",
       "496218  ÚJLAKI MIKLÓS ERDÉLYI VAJDAÚJLAKI MIKLÓS MACSÓ...   \n",
       "496514  A leleszi konvent (Balázs prépost és a konvent...   \n",
       "499542                   Aussteller: ISTVÁN IFJABB KIRÁLY   \n",
       "500737                     Aussteller: VESZPRÉMI KÁPTALAN   \n",
       "\n",
       "       cei_abstract_foreign cei_tenor_joined cei_pTenor cei_placeName  \\\n",
       "335652                   []                          []            []   \n",
       "335893                   []                          []            []   \n",
       "336545                   []                          []            []   \n",
       "336631                   []                          []            []   \n",
       "336795                   []                          []            []   \n",
       "...                     ...              ...        ...           ...   \n",
       "496200                   []                          []            []   \n",
       "496218                   []                          []            []   \n",
       "496514                   []                          []            []   \n",
       "499542                   []                          []            []   \n",
       "500737                   []                          []            []   \n",
       "\n",
       "       cei_lang_MOM      cei_date cei_dateRange cei_date_ATTRIBUTE_value  \\\n",
       "335652      [Latin]  [1467-03-11]            []               [14670311]   \n",
       "335893      [Latin]  [1491-02-20]            []               [14910220]   \n",
       "336545           []  [1381-07-12]            []               [13810712]   \n",
       "336631           []  [1393-01-02]            []               [13930102]   \n",
       "336795           []  [1413-03-10]            []               [14130310]   \n",
       "...             ...           ...           ...                      ...   \n",
       "496200      [Latin]  [1454-04-20]            []               [14540420]   \n",
       "496218           []  [1454-05-20]            []               [14540520]   \n",
       "496514      [Latin]  [1461-12-20]            []               [14611220]   \n",
       "499542           []            []            []               [12599999]   \n",
       "500737           []            []            []               [14300725]   \n",
       "\n",
       "       cei_dateRange_ATTRIBUTE_from cei_dateRange_ATTRIBUTE_to  \\\n",
       "335652                           []                         []   \n",
       "335893                           []                         []   \n",
       "336545                           []                         []   \n",
       "336631                           []                         []   \n",
       "336795                           []                         []   \n",
       "...                             ...                        ...   \n",
       "496200                           []                         []   \n",
       "496218                           []                         []   \n",
       "496514                           []                         []   \n",
       "499542                           []                         []   \n",
       "500737                           []                         []   \n",
       "\n",
       "                           cei_graphic_ATTRIBUTE_url_orig  \\\n",
       "335652  [http://archives.hungaricana.hu/tile/thumb/cha...   \n",
       "335893  [http://archives.hungaricana.hu/tile/thumb/cha...   \n",
       "336545  [http://archives.hungaricana.hu/tile/thumb/cha...   \n",
       "336631  [http://archives.hungaricana.hu/tile/thumb/cha...   \n",
       "336795  [http://archives.hungaricana.hu/tile/thumb/cha...   \n",
       "...                                                   ...   \n",
       "496200  [http://archives.hungaricana.hu/tile/thumb/cha...   \n",
       "496218  [http://archives.hungaricana.hu/tile/thumb/cha...   \n",
       "496514  [http://archives.hungaricana.hu/tile/thumb/cha...   \n",
       "499542  [VeL_Cap_1259_200657.jpg, VeL_Cap_1259_200657v...   \n",
       "500737  [VeL_Cap_1430_201252.jpg, VeL_Cap_1430_201252v...   \n",
       "\n",
       "       cei_graphic_ATTRIBUTE_url_copy  \n",
       "335652                             []  \n",
       "335893                             []  \n",
       "336545                             []  \n",
       "336631                             []  \n",
       "336795                             []  \n",
       "...                               ...  \n",
       "496200                             []  \n",
       "496218                             []  \n",
       "496514                             []  \n",
       "499542                             []  \n",
       "500737                             []  \n",
       "\n",
       "[385 rows x 14 columns]"
      ]
     },
     "execution_count": 149,
     "metadata": {},
     "output_type": "execute_result"
    }
   ],
   "source": [
    "m_cv_HU"
   ]
  },
  {
   "cell_type": "code",
   "execution_count": 132,
   "metadata": {},
   "outputs": [
    {
     "data": {
      "text/html": [
       "<div>\n",
       "<style scoped>\n",
       "    .dataframe tbody tr th:only-of-type {\n",
       "        vertical-align: middle;\n",
       "    }\n",
       "\n",
       "    .dataframe tbody tr th {\n",
       "        vertical-align: top;\n",
       "    }\n",
       "\n",
       "    .dataframe thead th {\n",
       "        text-align: right;\n",
       "    }\n",
       "</style>\n",
       "<table border=\"1\" class=\"dataframe\">\n",
       "  <thead>\n",
       "    <tr style=\"text-align: right;\">\n",
       "      <th></th>\n",
       "      <th>atom_id</th>\n",
       "      <th>cei_abstract_joined</th>\n",
       "      <th>cei_abstract_foreign</th>\n",
       "      <th>cei_tenor_joined</th>\n",
       "      <th>cei_pTenor</th>\n",
       "      <th>cei_placeName</th>\n",
       "      <th>cei_lang_MOM</th>\n",
       "      <th>cei_date</th>\n",
       "      <th>cei_dateRange</th>\n",
       "      <th>cei_date_ATTRIBUTE_value</th>\n",
       "      <th>cei_dateRange_ATTRIBUTE_from</th>\n",
       "      <th>cei_dateRange_ATTRIBUTE_to</th>\n",
       "      <th>cei_graphic_ATTRIBUTE_url_orig</th>\n",
       "      <th>cei_graphic_ATTRIBUTE_url_copy</th>\n",
       "    </tr>\n",
       "  </thead>\n",
       "  <tbody>\n",
       "  </tbody>\n",
       "</table>\n",
       "</div>"
      ],
      "text/plain": [
       "Empty DataFrame\n",
       "Columns: [atom_id, cei_abstract_joined, cei_abstract_foreign, cei_tenor_joined, cei_pTenor, cei_placeName, cei_lang_MOM, cei_date, cei_dateRange, cei_date_ATTRIBUTE_value, cei_dateRange_ATTRIBUTE_from, cei_dateRange_ATTRIBUTE_to, cei_graphic_ATTRIBUTE_url_orig, cei_graphic_ATTRIBUTE_url_copy]\n",
       "Index: []"
      ]
     },
     "execution_count": 132,
     "metadata": {},
     "output_type": "execute_result"
    }
   ],
   "source": [
    "m_cv_HU"
   ]
  }
 ],
 "metadata": {
  "kernelspec": {
   "display_name": "Python 3.8.10 ('didipcv')",
   "language": "python",
   "name": "python3"
  },
  "language_info": {
   "codemirror_mode": {
    "name": "ipython",
    "version": 3
   },
   "file_extension": ".py",
   "mimetype": "text/x-python",
   "name": "python",
   "nbconvert_exporter": "python",
   "pygments_lexer": "ipython3",
   "version": "3.8.10"
  },
  "orig_nbformat": 4,
  "vscode": {
   "interpreter": {
    "hash": "51de90f0d358e009ce9df81fe88f979b0f6e2c5f2b81c54b9ff289164d1b3424"
   }
  }
 },
 "nbformat": 4,
 "nbformat_minor": 2
}
